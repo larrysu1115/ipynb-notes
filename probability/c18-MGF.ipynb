{
 "cells": [
  {
   "cell_type": "markdown",
   "metadata": {},
   "source": [
    "## MGF of Expo\n",
    "\n",
    "start with Expo(1)\n",
    "\n",
    "$ X \\sim Expo(1) $, find MGF and Moments.\n",
    "\n",
    "$$\n",
    "\\begin{align}\n",
    "M(t) & = E \\big( e^{tX} \\big) \\\\\n",
    "& = \\int_0^{\\infty} e^{tx} \\big( \\lambda e^{-\\lambda x} \\big) dx \\\\\n",
    "& = \\int_0^{\\infty} e^{tx} e^{- x} dx \\\\\n",
    "& = \\int_0^{\\infty} e^{-x (1-t)} dx \\\\\n",
    "& = \\frac{1}{1-t}, \\text{ for } t \\lt 1\n",
    "\\end{align}\n",
    "$$\n",
    "\n",
    "2 ways to solve this integral:\n",
    "\n",
    "W1: treat as PDF, PDF should integral to 1.\n",
    "\n",
    "$$\n",
    "\\frac{1}{1-t} \\underbrace{ \\int_0^{\\infty} ( 1 - t ) e^{-x (1-t)} dx }_{\\text{ PDF of Expo(1-t), = 1 }}\n",
    "$$\n",
    "\n",
    "W2: Solve integral\n",
    "\n",
    "$$\n",
    "\\frac{- 1}{1-t} \\cdot e^{-x (1-t)} \\Big|_0^{\\infty}\n",
    "$$"
   ]
  },
  {
   "cell_type": "markdown",
   "metadata": {},
   "source": [
    "### Moments of Expo(1)\n",
    "\n",
    "$\n",
    "M'(0) = EX\n",
    "M''(0) = E(X^2)\n",
    "M'''(0) = E(X^3)\n",
    "$\n",
    "\n",
    "看到 $ \\frac{1}{1-t} $ 可以聯想到 Geometric Series, for $ |t| \\ \\le 1 $:\n",
    "\n",
    "$\n",
    "\\frac{1}{1-t} = \\sum_{n=0}^{\\infty} t^n = \\sum_{n=0}^{\\infty} n! \\frac{ t^n }{n!} \\\\\n",
    "= 1 + 1! t + 2! \\frac{t^2}{2!} + 3! \\frac{t^3}{3!} + \\cdots\n",
    "$\n",
    "\n",
    "So the moments of Expo(1), $ E(X^n) = n! $\n",
    "\n",
    "使用 MGF 來獲得 moments 的好處是 : \"使用微分，而非積分\"。  \n",
    "若用 LOTUS 來做 $ E(X^n) $, 將要處理比較困難的積分問題。"
   ]
  },
  {
   "cell_type": "markdown",
   "metadata": {},
   "source": [
    "## MGF for $ Y \\sim Expo(\\lambda) $\n",
    "\n",
    "Let $ X = \\lambda Y \\sim Expo(1) $\n",
    "\n",
    "So $ Y = \\frac{X}{\\lambda} \\ \\to \\ Y^n = \\frac{X^n}{\\lambda^n} $\n",
    "\n",
    "$$\n",
    "E \\big( Y^n \\big) = \\frac{n!}{ \\lambda^n }\n",
    "$$"
   ]
  },
  {
   "cell_type": "markdown",
   "metadata": {},
   "source": [
    "## MGF for Normal Dist.\n",
    "\n",
    "Let $ Z \\sim N(0,1) $, find all its moments.\n",
    "\n",
    "$ E(Z^n) = 0 $, for odd n, by symmetry.\n",
    "\n",
    "MGF : $ M(t) = e^{t^2/2} $\n",
    "\n",
    "用 LOTUS 積分運算複雜；$ M(t) $ 的多次微分，再取0值，也麻煩。\n",
    "\n",
    "簡易的辦法是使用 Taylor Series\n",
    "\n",
    "$$\n",
    "M(t) = e^{t^2/2} \\\\\n",
    "= \\sum_{n=0}^{\\infty} \\frac{(t^2/2)^n}{n!} \\\\\n",
    "= \\sum_{n=0}^{\\infty} \\frac{t^{2n}}{2^n n!} \\\\\n",
    "= \\sum_{n=0}^{\\infty} \\frac{t^{2n} (2n)!}{2^n n! (2n)!} \\\\\n",
    "\\to E\\big( Z^{2n} \\big) = \\frac{(2n)!}{2^n n!} \\\\\n",
    "\\\\\n",
    "\\begin{align}\n",
    "n = 1 & \\to E(Z^2) = 1 & \\\\\n",
    "n = 2 & \\to E(Z^4) = 3 & = 1 \\times 3 \\\\\n",
    "n = 3 & \\to E(Z^6) = 15 & = 1 \\times 3 \\times 5\n",
    "\\end{align}\n",
    "$$"
   ]
  },
  {
   "cell_type": "markdown",
   "metadata": {},
   "source": [
    "## MGF for Poisson\n",
    "\n",
    "$$\n",
    "X \\sim Pois \\big( \\lambda \\big) \\\\\n",
    "PDF : e^{-\\lambda} \\frac{\\lambda^k}{k!} \\\\\n",
    "EX = Var(X) = \\lambda\n",
    "$$"
   ]
  },
  {
   "cell_type": "markdown",
   "metadata": {},
   "source": [
    "$$\n",
    "\\begin{align}\n",
    "M(t) & = E \\big( e^{tk} \\big) \\\\\n",
    "& = \\sum_{k=0}^{\\infty} e^{tk} e^{-\\lambda} \\frac{\\lambda^k}{k!} \\\\\n",
    "& = e^{-\\lambda} \\sum_{k=0}^{\\infty} \\frac{e^{tk} \\lambda^k}{k!} \\\\\n",
    "& = e^{-\\lambda} \\underbrace{ \\sum_{k=0}^{\\infty} \\frac{ \\big(\\lambda e^{t} \\big)^k }{k!} }_{\\text{Taylor Series}} \\\\\n",
    "& = e^{-\\lambda} e^{\\lambda e^{t}} = e^{\\lambda e^{t} - \\lambda} = e^{\\lambda (e^t - 1)}\n",
    "\\end{align}\n",
    "$$"
   ]
  },
  {
   "cell_type": "markdown",
   "metadata": {},
   "source": [
    "### Property of Pois\n",
    "\n",
    "Let $ X \\sim Pois(\\lambda), \\ Y \\sim Pois(\\mu) $, X is indep. of Y.  \n",
    "Find distribution of X+Y. (X+Y also called conclusion)\n",
    "\n",
    "MGF of X+Y:\n",
    "\n",
    "$$\n",
    "M_{X+Y}(t) = E \\big( e^{t(X+Y)} \\big) = E \\big( e^{tX} \\big) E \\big( e^{tY} \\big) \n",
    "= e^{\\lambda (e^t - 1)} \\times e^{\\mu (e^t - 1)} =  e^{(\\lambda + \\mu) (e^t - 1)} \\\\\n",
    "\\to X + Y \\sim Pois \\Big( \\lambda + \\mu \\Big)\n",
    "$$"
   ]
  }
 ],
 "metadata": {
  "kernelspec": {
   "display_name": "p3lab",
   "language": "python",
   "name": "p3lab"
  },
  "language_info": {
   "codemirror_mode": {
    "name": "ipython",
    "version": 3
   },
   "file_extension": ".py",
   "mimetype": "text/x-python",
   "name": "python",
   "nbconvert_exporter": "python",
   "pygments_lexer": "ipython3",
   "version": "3.6.1"
  }
 },
 "nbformat": 4,
 "nbformat_minor": 2
}
