{
 "cells": [
  {
   "cell_type": "markdown",
   "metadata": {},
   "source": [
    "# Poisson Distribution : $ X \\sim Pois(\\lambda) $\n",
    "\n",
    "### PMF\n",
    "\n",
    "$$\n",
    "P \\big( X=k \\big) = e^{- \\lambda} \\frac{\\lambda^k}{k!}, \\ k \\in \\big\\{ 0, 1, 2, 3, \\cdots \\big\\}\n",
    "$$\n",
    "\n",
    "parameter $ \\lambda $ : rate parameter, $ \\lambda \\gt 0 $"
   ]
  },
  {
   "cell_type": "markdown",
   "metadata": {},
   "source": [
    "### PMD Validation\n",
    "\n",
    "tip: use Taylor Series\n",
    "\n",
    "$$\n",
    "\\sum_{k=0}^{\\infty} e^{- \\lambda} \\frac{\\lambda^k}{k!} = \n",
    "e^{- \\lambda} \\times \\sum_{k=1}^{\\infty} \\frac{\\lambda^k}{k!} = e^{- \\lambda} \\times e^{\\lambda} = 1\n",
    "$$"
   ]
  },
  {
   "cell_type": "markdown",
   "metadata": {},
   "source": [
    "### E(X)\n",
    "\n",
    "$\n",
    "\\sum_{k=0}^{\\infty} k \\times e^{- \\lambda} \\frac{\\lambda^k}{k!} \\\\\n",
    "= e^{- \\lambda} \\times \\sum_{k=1}^{\\infty} k \\frac{\\lambda^k}{k!} \\\\\n",
    "= \\lambda e^{- \\lambda} \\times \\sum_{k-1=0}^{\\infty} \\frac{\\lambda^k}{(k-1)!} \\\\\n",
    "= \\lambda e^{- \\lambda} \\times e^{\\lambda} = \\lambda\n",
    "$"
   ]
  },
  {
   "cell_type": "markdown",
   "metadata": {},
   "source": [
    "# Poisson Paradigm - Poisson Approximation\n",
    "\n",
    "用途: counting # of success where n is large, p is small\n",
    "\n",
    "Events $ A_1, A_2, A_3, ..., A_n, p(A_j) = p_j $, n is large, pj is small.\n",
    "\n",
    "Events are indep. or \"weakly dependent\"\n",
    "\n",
    "\\# of Aj's that occur is approximately $ Pois(\\lambda), \\ \\ \\lambda = n \\times p $"
   ]
  },
  {
   "cell_type": "markdown",
   "metadata": {},
   "source": [
    "## Binomial converges to Poisson\n",
    "\n",
    "Note: $ \\exp(x) = \\lim_{n \\to \\infty} (1 + \\frac{x}{n})^n \\to e^x $\n",
    "\n",
    "Note: $ \\binom{n}{k} = \\frac{n (n-1) (n-2) \\cdots (n-k+1)}{k!} $, n 人中取 k 位代表，可以一個一個取，第一個代表有 n 種選擇，第二個代表有 n-1 種選擇；選出 k 位代表後，這些代表誰先選出後選出都相同，於是再除以 k!\n",
    "\n",
    "$$\n",
    "X \\sim Bin(n,p), \\ let \\  n \\to \\infty, p \\to 0 \\\\\n",
    "\\lambda = np \\text{ is constant }, \\ p=\\frac{\\lambda}{n} \\\\\n",
    "P(X=k) = \\binom{n}{k} \\ p^k \\ (1-p)^{n-k} \\\\\n",
    "= \\frac{n (n-1) (n-2) \\cdots (n-k+1)}{k!} \\times\n",
    "\\big( \\frac{\\lambda}{n} \\big)^k \\times\n",
    "\\big( 1 - \\frac{\\lambda}{n} \\big)^n \\times \n",
    "\\big( 1 - \\frac{\\lambda}{n} \\big)^{-k}\n",
    "$$\n",
    "\n",
    "如果 $ n \\to \\infty, p \\to 0 $,\n",
    "\n",
    "$$\n",
    "\\begin{align}\n",
    "P(X=k) & = lim_{n \\to \\infty, p \\to 0} \\Big(\n",
    "\\frac{n (n-1) (n-2) \\cdots (n-k+1)}{k!} \\times\n",
    "\\big( \\frac{\\lambda}{n} \\big)^k \\times\n",
    "\\big( 1 - \\frac{\\lambda}{n} \\big)^n \\times \n",
    "\\big( 1 - \\frac{\\lambda}{n} \\big)^{-k}\n",
    "\\Big) \\\\\n",
    "& = \n",
    "\\frac{\\lambda^k}{k!} \\times lim_{n \\to \\infty, p \\to 0} \\Big(\n",
    "\\underbrace{\\frac{n (n-1) (n-2) \\cdots (n-k+1)}{n \\times n \\times \\cdots \\times n}}_{\\to 1 \\times 1 \\times \\cdots  \\times 1 } \\times\n",
    "\\underbrace{\\big( 1 + \\frac{-\\lambda}{n} \\big)^n \\times}_{e^{-\\lambda}}\n",
    "\\underbrace{\\big( 1 - \\frac{\\lambda}{n} \\big)^{-k}}_{\\to 1}\n",
    "\\Big) \\\\\n",
    "& = \\frac{\\lambda^k}{k!} e^{-\\lambda} \\\\\n",
    "\\end{align}\n",
    "$$"
   ]
  },
  {
   "cell_type": "markdown",
   "metadata": {},
   "source": [
    "# Example : Birthday Problem\n",
    "\n",
    "n people, find \"approximate\" prob. that 3 people with the same birthday.\n",
    "\n",
    "$ \\binom{n}{3} $ triplet of people,\n",
    "\n",
    "indicator r.v. for each triplet $ I_{ijk}, \\ i \\lt j \\lt k $\n",
    "\n",
    "一個三人小組中，三人生日相同 的 機率是 1/(365^2)\n",
    "\n",
    "let X = number of triplet matches. We can calculate the EXACT EX by symmetry, linearity:\n",
    "\n",
    "$$\n",
    "E(X) = \n",
    "\\underbrace{\\binom{n}{3}}_{ \\text{number of triplets} } \\times\n",
    "\\underbrace{\\frac{1}{365^2}}_{ \\text{ probability three people have the same birthday in a triplet} }\n",
    "$$"
   ]
  },
  {
   "cell_type": "markdown",
   "metadata": {},
   "source": [
    "### Using Poisson Approx. to estimate \"At Least 1 triplet matches in n people\"\n",
    "\n",
    "I<sub>ijk</sub> are not indep., it's weakly dependent. I<sub>123</sub> is dependent to I<sub>234</sub> since we already know #2 and #3 people having the same birthday.\n",
    "\n",
    "We can use Poisson Paradigm to estimate the reasonalbe Prob. of $ P(X \\ge 1) $\n",
    "\n",
    "$\n",
    "\\text{ Approx } Pois(\\lambda) = n p = \\binom{n}{3} \\times \\frac{1}{365^2} = \\lambda \\\\\n",
    "P(X \\ge 1) = 1 - P(X=0) = 1 - e^{-\\lambda} \\frac{\\lambda^0}{0!} = 1 - e^{-\\lambda}\n",
    "$"
   ]
  }
 ],
 "metadata": {
  "kernelspec": {
   "display_name": "Python 3",
   "language": "python",
   "name": "python3"
  },
  "language_info": {
   "codemirror_mode": {
    "name": "ipython",
    "version": 3
   },
   "file_extension": ".py",
   "mimetype": "text/x-python",
   "name": "python",
   "nbconvert_exporter": "python",
   "pygments_lexer": "ipython3",
   "version": "3.6.1"
  }
 },
 "nbformat": 4,
 "nbformat_minor": 2
}
