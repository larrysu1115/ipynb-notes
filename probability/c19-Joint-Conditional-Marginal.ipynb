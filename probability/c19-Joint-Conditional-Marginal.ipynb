{
 "cells": [
  {
   "cell_type": "markdown",
   "metadata": {},
   "source": [
    "# Joint, Conditional, Marginal Distribution"
   ]
  },
  {
   "cell_type": "markdown",
   "metadata": {},
   "source": [
    "Slogan: independence means multiply\n",
    "\n",
    "Let $ X, Y \\sim Bernoulli $\n",
    "\n",
    "|     | Y=0 | Y=1 | . | Margin X |\n",
    "| -   | -   | -   | - | -   |\n",
    "| X=0 | 2/6 | 1/6 | . | 3/6 |\n",
    "| X=1 | 2/6 | 1/6 | . | 3/6 |\n",
    "|  .  |  .  |  .  | . |     |\n",
    "| Margin Y | 4/6 | 2/6 | . |     |\n",
    "\n",
    "檢驗是否 indep. : 對應格子中的 Joint Prob. 是 margin 相乘，就是 indep. (上例是 indep., 下面 NOT indep.)\n",
    "\n",
    "|     | Y=0 | Y=1 | . | Margin X |\n",
    "| -   | -   | -   | - | -   |\n",
    "| X=0 | 1/2 | 0   | . | 1/2 |\n",
    "| X=1 | 1/4 | 1/4 | . | 2/4 |\n",
    "|  .  |  .  |  .  | . |     |\n",
    "| Margin Y | 3/4 | 1/4 | . |     |"
   ]
  },
  {
   "cell_type": "markdown",
   "metadata": {},
   "source": [
    "---\n",
    "\n",
    "Let X, Y be r.v.s\n",
    "\n",
    "### Joint CDF:\n",
    "\n",
    "$$\n",
    "F \\Big( x,y \\Big) = P \\Big( X \\le x, Y \\le y \\Big)\n",
    "$$\n",
    "\n",
    "### Joint PMF:\n",
    "\n",
    "$$\n",
    "P \\Big( X=x, Y=y \\Big)\n",
    "$$\n",
    "\n",
    "### Joint PDF\n",
    "\n",
    "$$\n",
    "f(x, y) \\\\\n",
    "P \\Big( (X,Y) \\in B \\Big) = \\iint_B f(x,y) dx dy\n",
    "$$\n",
    "\n",
    "B: some area / region in a plane.\n",
    "\n",
    "### Marginal CDF\n",
    "\n",
    "$$\n",
    "P \\Big( X \\le x \\Big)\n",
    "$$\n"
   ]
  },
  {
   "cell_type": "markdown",
   "metadata": {},
   "source": [
    "### Independence\n",
    "\n",
    "X, Y are indep. if and only if :\n",
    "\n",
    "$\n",
    "F(x,y) = F_X (x) F_Y (y) \\\\\n",
    "\\equiv P \\big( X = x, Y = y \\big) = P \\big( X = x \\big) P \\big( Y = y \\big) \n",
    "\\text{ ... discrete case } \\\\\n",
    "\\equiv f \\big( x, y \\big) = f_X (x) f_Y (y)\n",
    "\\text{ ... continuous case }\n",
    "$\n",
    "\n",
    "for all x and y."
   ]
  },
  {
   "cell_type": "markdown",
   "metadata": {},
   "source": [
    "### Getting Marginal Dist.\n",
    "\n",
    "$$\n",
    "P \\big( X = x \\big) = \\sum_y P \\big( X=x, Y=y \\big) \n",
    "\\text{ ... discrete case} \\\\\n",
    "f_Y(y) = \\int_{-\\infty}^{\\infty} f_{X,Y} (x,y) dx\n",
    "\\text{ ... continuous case} \n",
    "$$"
   ]
  },
  {
   "cell_type": "markdown",
   "metadata": {},
   "source": [
    "### Example\n",
    "\n",
    "Uniform on square { (x,y) : x,y &in; [0,1] }\n",
    "\n",
    "joint PDF is constant on the square, zero outside.\n",
    "\n",
    "$$\n",
    "\\begin{cases}\n",
    "c, & if \\ \\ 0 \\le x \\le 1, \\ 0 \\le y \\le 1 \\\\\n",
    "0, & otherwise\n",
    "\\end{cases}\n",
    "$$\n",
    "\n",
    "在一維空間，對 1 積分 獲得 區間的長度 length of interval  \n",
    "在二維空間，對 常數c 積分 獲得 平面的面積 area of region\n",
    "\n",
    "integral is area, $ c = \\frac{1}{area} = 1 $\n",
    "\n",
    "marginally X,Y are independent $ Unif(0,1) $"
   ]
  },
  {
   "cell_type": "markdown",
   "metadata": {},
   "source": [
    "### Example\n",
    "\n",
    "Uniform on disc circle $ x^2 + y^2 \\le 1 $\n",
    "\n",
    "joint PDF:\n",
    "\n",
    "$$\n",
    "\\begin{cases}\n",
    "\\frac{1}{\\pi}, & x^2 + y^2 \\le 1 \\\\\n",
    "0, & otherwise\n",
    "\\end{cases}\n",
    "$$\n",
    "\n",
    "X, Y are dependent!\n",
    "\n",
    "given X=x, y must : $ - \\sqrt{ 1-x^2} \\le y \\le \\sqrt{ 1-x^2} $ "
   ]
  }
 ],
 "metadata": {
  "kernelspec": {
   "display_name": "p3lab",
   "language": "python",
   "name": "p3lab"
  },
  "language_info": {
   "codemirror_mode": {
    "name": "ipython",
    "version": 3
   },
   "file_extension": ".py",
   "mimetype": "text/x-python",
   "name": "python",
   "nbconvert_exporter": "python",
   "pygments_lexer": "ipython3",
   "version": "3.6.1"
  }
 },
 "nbformat": 4,
 "nbformat_minor": 2
}
