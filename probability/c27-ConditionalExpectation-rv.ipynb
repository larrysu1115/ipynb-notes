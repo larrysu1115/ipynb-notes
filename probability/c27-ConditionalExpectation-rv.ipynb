{
 "cells": [
  {
   "cell_type": "markdown",
   "metadata": {},
   "source": [
    "# Conditional Expectation"
   ]
  },
  {
   "cell_type": "markdown",
   "metadata": {},
   "source": [
    "### Example\n",
    "\n",
    "Let $ X \\sim N(0,1), \\ \\ Y = X^2 $, then \n",
    "\n",
    "$$\n",
    "E\\big( Y\\ \\big| \\ X \\big) = E\\big( X^2 \\ \\big| \\ X \\big) = X^2 = Y\n",
    "$$\n",
    "\n",
    "$ E\\big( X\\ \\big| \\ Y \\big) = E\\big( X\\ \\big| \\ X^2 \\big) = 0 $, \n",
    "since if observe $ X^2 = a \\ \\ \\to \\ \\ X = \\pm \\sqrt{a} $, Normal is symmetric."
   ]
  },
  {
   "cell_type": "markdown",
   "metadata": {},
   "source": [
    "### Example\n",
    "\n",
    "```\n",
    "|------------------|------|-------------------------|\n",
    "                   ^      ^\n",
    "                   Y      X\n",
    "```\n",
    "\n",
    "suppose having a stick, break off random piece at x, break off another piece (Y).\n",
    "\n",
    "$ X \\sim Unif(0,1) $\n",
    "\n",
    "$ Y\\ \\big|\\ X \\ \\ \\sim Unif(0,X) $\n",
    "\n",
    "$ E\\big( Y\\ \\big|\\ X=x \\big) = \\frac{x}{2} $, so $ E\\big( Y\\ \\big|\\ X \\big) = \\frac{X}{2} $\n",
    "\n",
    "$ E\\Big( E\\big( \\ Y\\ \\big|\\ X \\big) \\ \\Big) = \\frac{1}{4} = E(Y) $"
   ]
  },
  {
   "cell_type": "markdown",
   "metadata": {},
   "source": [
    "### Useful Properties\n",
    "\n",
    "(1) Taking out what's known.\n",
    "\n",
    "$ E \\big( h(x)\\ Y \\ \\big| \\ X \\big) = \\ \\  h(x) \\ E \\big( Y \\ \\big| \\ X \\big) $\n",
    "\n",
    "(2) If X,Y are independent:\n",
    "\n",
    "$ E \\big( Y \\ \\big| \\ X \\big) = E \\big( Y  \\big) $\n",
    "\n",
    "(3) Iterated Expectation / Adam's Law\n",
    "\n",
    "$ E\\Big( E\\big( \\ Y\\ \\big|\\ X \\big) \\ \\Big) = E(Y) $\n",
    "\n",
    "(4) \n",
    "\n",
    "Y 為一點  \n",
    "X 為一面(Vector Space)  \n",
    "E(Y|X) 為 Y點投射到 X面上最近的點。  \n",
    "h(x) 與 E( Y - E(Y|X) ) 這兩條線垂直，相積為0\n",
    "\n",
    "$ E\\Big( Y - E\\big( \\ Y\\ \\big|\\ X \\big) \\ \\Big) \\ h(x) = 0 $  \n",
    "ie. $ Y - E( Y | X) $ (residual) is uncorrelated to h(x)\n",
    "\n",
    "$ Cor\\big(Y - E(Y|X)\\big) h(x) =\n",
    "E\\big( Y - E(Y|X) h(x) \\big) - E\\big( Y - E(Y) \\big) h(y) $\n",
    "\n",
    "(5) EVE's Law\n",
    "\n",
    "$ Var(Y) = E\\big( Var(Y|X) \\big) + Var\\big( E(Y|X) \\big) $"
   ]
  },
  {
   "cell_type": "markdown",
   "metadata": {},
   "source": [
    "Proof of (4)\n",
    "\n",
    "$\n",
    "E\\Big( Y \\Big) h(X) - \n",
    "E \\Big( E\\big( \\ Y\\ \\big|\\ X \\big) \\ h(x) \\Big) \\\\\n",
    "= E\\Big( Y \\Big) h(X) - \n",
    "E \\Big( E\\big( \\ h(x) \\  Y\\ \\big|\\ X \\big) \\Big)  \\\\\n",
    "= E\\Big( Y h(X) \\Big) - E\\Big( Y h(X) \\Big) = 0  \\\\\n",
    "$  "
   ]
  },
  {
   "cell_type": "markdown",
   "metadata": {},
   "source": [
    "Proof of (3), descrete location\n",
    "\n",
    "let $ E \\big( Y|X \\big) = g(x) $"
   ]
  },
  {
   "cell_type": "markdown",
   "metadata": {},
   "source": [
    "$\n",
    "E \\Big( g(x) \\Big) \n",
    "= \\sum_x \\big( Y \\ \\big| \\ X = x \\big) \\ P \\big( X=x \\big) \\\\\n",
    "= \\sum_x \\Big( \\sum_y y P\\big( Y=y \\ \\big| \\ X = x \\big) \\Big) \\ P \\big( X=x \\big) \\\\\n",
    "= \\sum_y \\sum_x y \\ P\\big( Y=y, X=x \\big) \\\\\n",
    "= \\sum_y y \\ P\\big( Y=y \\big) = E\\big(Y\\big)\n",
    "$"
   ]
  },
  {
   "cell_type": "markdown",
   "metadata": {},
   "source": [
    "## Conditional Variance\n",
    "\n",
    "Definition\n",
    "\n",
    "$\n",
    "Var\\big( Y\\ \\big|\\ X\\big) \\\\\n",
    "= E\\big( Y^2 \\big| X \\big) - \\big( E(Y|X) \\big)^2 \\\\\n",
    "= E \\Big( \\big( Y - E(Y|X) \\big)^2 \\Big| \\ X \\Big)\n",
    "$"
   ]
  },
  {
   "cell_type": "markdown",
   "metadata": {},
   "source": [
    "### Example\n",
    "\n",
    "pick random city, then pick random n people of that city. Test if these people have disease.\n",
    "\n",
    "X = # of people with disease.\n",
    "\n",
    "Q = proportion of people in the random city with disease.\n",
    "\n",
    "Find E(X) and Var(X), assuming Q~Beta(a,b), X|Q ~ Bin(n,Q)\n",
    "\n",
    "$$\n",
    "E \\big(X\\big) = E\\big( \\ E(\\ X|Q \\ ) \\ \\big)\n",
    "= E\\big( \\ nQ \\ \\big)\n",
    "= n E\\big( Q \\big)\n",
    "= n \\frac{a}{a+b}\n",
    "$$"
   ]
  },
  {
   "cell_type": "markdown",
   "metadata": {},
   "source": [
    "$$\n",
    "Var(X) = E\\big( Var(X|Q) \\big) + Var\\big( E(X|Q) \\big) \\\\\n",
    "= E\\big( n Q (1-Q) \\big) + Var\\big( nQ \\big) \\\\\n",
    "= n \\ E\\big( Q (1-Q) \\big) + n^2 \\ Var\\big( Q \\big)\n",
    "$$"
   ]
  },
  {
   "cell_type": "markdown",
   "metadata": {},
   "source": [
    "note:\n",
    "\n",
    "$ \\Gamma(x+1) = x \\Gamma(x) $\n",
    "\n",
    "$\n",
    "E\\big( Q (1-Q) \\big) = \\frac{\\Gamma(a+b)}{\\Gamma(a)\\Gamma(b)} \\int_{0}^{1} q^a (1-q)^b dq \\\\\n",
    "= \\frac{\\Gamma(a+b)}{\\Gamma(a)\\Gamma(b)} \\times \\frac{\\Gamma(a+1)\\Gamma(b+1)}{\\Gamma(a+b+2)} \\\\\n",
    "= \\frac{\\Gamma(a+b)}{\\Gamma(a)\\Gamma(b)} \\times \\frac{(a)\\Gamma(a)(b)\\Gamma(b)}{(a+b+2)(a+b+1)\\Gamma(a+b)} \\\\\n",
    "= \\frac{(a)(b)}{(a+b+1)(a+b)}\n",
    "$\n",
    "\n",
    "$\n",
    "Var(Q) = \\frac{\\mu(1-\\mu)}{a+b+1}, \\ \\ \\mu = \\frac{a}{a+b}\n",
    "$"
   ]
  },
  {
   "cell_type": "markdown",
   "metadata": {},
   "source": [
    "### Example\n",
    "\n",
    "Store with random # of customers,\n",
    "\n",
    "N : # of customers\n",
    "\n",
    "$ X_j $ : amount of j<sup>th</sup> customer spend. Assuming $ X_j $ has mean $ \\mu $, variance $ \\sigma^2 $, and $ N,X_1,X_2,\\cdots $ are independent.\n",
    "\n",
    "Find the mean, var of $ X = \\sum_{j=1}^N X_j $"
   ]
  },
  {
   "cell_type": "markdown",
   "metadata": {},
   "source": [
    "Using Law of Total Prob.\n",
    "\n",
    "$\n",
    "E\\big(X\\big) = \\sum_{n=0}^{\\infty} E\\big( X\\ \\big|\\ X=n \\big) P\\big(N=n\\big) \n",
    "= \\sum_{n=0}^{\\infty} n \\mu P\\big(N=n\\big)\n",
    "= \\mu \\sum_{n=0}^{\\infty} n P\\big(N=n\\big)\n",
    "= \\mu E(N)\n",
    "$"
   ]
  },
  {
   "cell_type": "markdown",
   "metadata": {},
   "source": [
    "Using Adam's Law\n",
    "\n",
    "$\n",
    "E\\big(X\\big) = E \\big( E(X|N) \\big) = E \\big( \\mu N \\big) = \\mu E(N)\n",
    "$"
   ]
  },
  {
   "cell_type": "markdown",
   "metadata": {},
   "source": [
    "Using EVE's Law\n",
    "\n",
    "$\n",
    "Var(Y) = E\\big( Var(X|N) \\big) + Var\\big( E(X|N) \\big) \\\\\n",
    "= E\\big( N \\sigma^2 \\big) + Var\\big( \\mu N \\big) \\\\\n",
    "= \\sigma^2 \\ E(N) + \\mu^2 \\ Var(N)\n",
    "$"
   ]
  }
 ],
 "metadata": {
  "kernelspec": {
   "display_name": "p3lab",
   "language": "python",
   "name": "p3lab"
  },
  "language_info": {
   "codemirror_mode": {
    "name": "ipython",
    "version": 3
   },
   "file_extension": ".py",
   "mimetype": "text/x-python",
   "name": "python",
   "nbconvert_exporter": "python",
   "pygments_lexer": "ipython3",
   "version": "3.6.1"
  }
 },
 "nbformat": 4,
 "nbformat_minor": 2
}
