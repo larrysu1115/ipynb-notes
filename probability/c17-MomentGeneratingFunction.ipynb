{
 "cells": [
  {
   "cell_type": "markdown",
   "metadata": {},
   "source": [
    "# Moment"
   ]
  },
  {
   "cell_type": "markdown",
   "metadata": {},
   "source": [
    "### Memoryless\n",
    "\n",
    "- continuous : Exponential Dist\n",
    "- discrete : Geometric Dist\n",
    "\n",
    "Memoryless is a property of distribution. not property for r.v..\n",
    "\n",
    "### Exponential is the only memoryless continuous distribution\n",
    "\n",
    "平均預期壽命(例如80歲)，當已經活到70歲時，可以預期活到比80歲更久。T: 壽命\n",
    "\n",
    "$ E \\big( T \\ \\big| \\ T \\ge 20 \\big) > E \\big( T \\big) $\n",
    "\n",
    "如果壽命是 memoryless, 那麼活到70歲的人，還是可以預期再活80年，不合理。壽命不是 memoryless 的。\n",
    "\n",
    "如果是 memoryless, 可以滿足如下的公式:\n",
    "\n",
    "$ E \\big( T \\ \\big| \\ T \\ge 20 \\big) = 20 + E \\big( T \\big) $"
   ]
  },
  {
   "cell_type": "markdown",
   "metadata": {},
   "source": [
    "Theorem : If $ X $ is a positive continuous r.v. with memoryless property,  \n",
    "Then $ X \\sim Expo(\\lambda) $ for some $ \\lambda $\n",
    "\n",
    "Proof.\n",
    "\n",
    "Let F be the CDF of X, $ G(x) = 1 - F(x) = P \\big( X \\ge x \\big) $\n",
    "\n",
    "Memoryless Property is : \n",
    "$\n",
    "P \\big( X \\gt s + t \\ \\Big| \\ X \\gt s \\big) \n",
    "= \\frac{P \\big( X \\gt s + t \\ \\cap \\ X \\gt s \\big)}{P \\big( X \\gt s \\big)} \n",
    "= \\frac{P \\big( X \\gt s + t \\big)}{P \\big( X \\gt s \\big)} \n",
    "= P \\big( X \\gt t \\big) \\\\\n",
    "P \\big( A \\ \\big| \\  B \\big) = \\frac{ P ( A \\cap B ) }{P(B)} \\\\\n",
    "\\to G(s + t) = G(s) G(t)\n",
    "$\n",
    "\n",
    "無論經過多少時間，每一次仍然是新的，與過去無關的開始。如同等待電話鈴響，無論等多久，下一秒鈴響的機會仍然是一樣的。  \n",
    "s: 等待過的時間\n",
    "\n",
    "觀察幾種狀況: Let s = t,\n",
    "\n",
    "$\n",
    "G(2t) = G(t + t) = G(t) G(t) = G^2(t) \\\\\n",
    "G(3t) = G(2t + t) = G^2(t) G(t) = G^3(t) \\\\\n",
    "G(kt) = G^k(t)\n",
    "$\n",
    "\n",
    "$\n",
    "G(\\frac{t}{k}) = G^{1}{k}(t) \\\\\n",
    "G(2 \\frac{t}{2}) = G^2(\\frac{t}{2}) \\\\\n",
    "\\sqrt{G(t)} = G(\\frac{t}{2}) = G^{\\frac{1}{2}}(t) \n",
    "$\n",
    "\n",
    "for any rational number:\n",
    "\n",
    "$ G \\big( \\frac{m}{n} \\big) = G^{n/m}(t) $\n",
    "\n",
    "So, for all real x &gt; 0,\n",
    "\n",
    "$ G(xt) = G^x(t) $\n",
    "\n",
    "Let t = 1,\n",
    "\n",
    "$\n",
    "G(x) = G^x(1) \\\\\n",
    "G(x) = e^{x \\ln G(1)} \\\\\n",
    "G^x(1) = \\big( e^{1 \\ln G(1)} \\big)^x = e^{x \\ln G(1)}\n",
    "$\n",
    "\n",
    "$ G(1) $ is probability, 1 - F(x), so G(1) is between interval (0,1)  \n",
    "$ \\ln G(1) $ is negative number. Let $ \\lambda $ be a positive number, $ \\ln G(1) = -\\lambda $\n",
    "\n",
    "Then $ G(x) = e^{- x \\lambda} = 1 - F(x) $, this is the CDF of Exponential Dist.\n",
    "\n",
    "So Expo is the only memoryless continuous Dist."
   ]
  },
  {
   "cell_type": "markdown",
   "metadata": {},
   "source": [
    "# Moment Generating Function (MGF)\n",
    "\n",
    "Def:\n",
    "\n",
    "A r.v. X has MGF $ M(t) = E \\big(e^{tx} \\big) $ as a function of t,  \n",
    "if this is finite on some interval (-a, a) for a &gt; 0.\n",
    "\n",
    "t: dummy variable"
   ]
  },
  {
   "cell_type": "markdown",
   "metadata": {},
   "source": [
    "note: function of r.v. is also a r.v., so we can find Expected Value of $ e^{tX} = E(e^{tX}) $\n",
    "\n",
    "Why call this moment generating?\n",
    "\n",
    "Taylor Series:\n",
    "\n",
    "$$\n",
    "e^x = \\sum_{n=0}^{\\infty} \\frac{x^n}{n!} = \n",
    "\\frac{x^0}{0!} + \\frac{x^1}{1!} + \\frac{x^2}{2!} + \\frac{x^3}{3!} + \\cdots\n",
    "$$\n",
    "\n",
    "Using Taylor Series to expand $ e^{tx} $\n",
    "\n",
    "$$\n",
    "e^{tX} = \\sum_{n=0}^{\\infty} \\frac{(tX)^n}{n!} = \\sum_{n=0}^{\\infty} \\frac{X^n \\ t^n}{n!} \\\\\n",
    "\\to E \\big( e^{tX} \\big)\n",
    "= E \\Big( \\sum_{n=0}^{\\infty} \\frac{X^n \\ t^n}{n!} \\Big)\n",
    "\\underbrace{ = }_{\\text{swap sum and E}}\n",
    "\\sum_{n=0}^{\\infty} E \\big( \\frac{X^n \\ t^n}{n!} \\big)\n",
    "= \\sum_{n=0}^{\\infty} \\frac{E \\big(X^n\\big)\\ t^n}{n!} \\\\\n",
    "= 1 + E(X) \\ t + \\frac{E(X^2) t^2}{2!} + \\frac{E(X^3) \\ t^3}{3!} + \\cdots \\\\\n",
    "= 1 + m_1 t + \\frac{m_2 t^2}{2!} + \\frac{m_3 t^3}{3!} + \\cdots\n",
    "$$\n",
    "\n",
    "where $ m_n $ is the n<sup>th</sup> moment."
   ]
  },
  {
   "cell_type": "markdown",
   "metadata": {},
   "source": [
    "## Why MGF is important? 3 reasons.\n",
    "\n",
    "Let X have MGF M(t)\n",
    "\n",
    "FACT ONE : The n<sup>th</sup> moment $ E(X^n) $ is the coefficient of $ \\frac{t^n}{n!} $ in Taylor Series of M.  \n",
    "i.e. $ M^{(n)}(0) $ take n<sup>th</sup> derivative evaluate at 0.\n",
    "\n",
    "FACT TWO : MGF determines the distribution. If X,Y have the same MGF, then X,Y share the same CDF. They are identical dist.\n",
    "\n",
    "FACT THREE : If X has MGF $ M_X $, Y has MGF $ M_Y $, X is indep. of Y, then the MGF of X+Y is :\n",
    "\n",
    "$$\n",
    "E \\big( e^{t(X+Y)} \\big) = E \\big( e^{tX} \\big) E \\big( e^{tY} \\big)\n",
    "$$"
   ]
  },
  {
   "cell_type": "markdown",
   "metadata": {},
   "source": [
    "---\n",
    "\n",
    "### Find MGF of Bern(p)\n",
    "\n",
    "$\n",
    "\\begin{align}\n",
    "M(t) & = E \\big(e^{tX} \\big) \\\\\n",
    "     &= p \\cdot E \\big(e^{t\\ 1} \\big) + q \\cdot E \\big(e^{t\\ 0} \\big) \\\\\n",
    "     &= p \\cdot E \\big(e^{t} \\big) + q \\cdot E \\big(e^{0} \\big) \\\\\n",
    "     & = p e^t + q\n",
    "\\end{align}\n",
    "$\n",
    "\n",
    "### Find MGF of Bin( n,p )\n",
    "\n",
    "using FACT THREE : $ E \\big( e^{t(X+Y)} \\big) = E \\big( e^{tX} \\big) E \\big( e^{tY} \\big) $\n",
    "\n",
    "MGF of Bin(n,p) = $ \\big( p e^t + q \\big)^n $"
   ]
  },
  {
   "cell_type": "markdown",
   "metadata": {},
   "source": [
    "### Find MGF of $ Z \\sim N(0,1) $\n",
    "\n",
    "by LOTUS,\n",
    "\n",
    "$$\n",
    "M(t) = E( e^{tZ } ) \\\\\n",
    "= \\frac{1}{\\sqrt{2 \\pi}} \\int_{-\\infty}^{\\infty} e^{tz} e^{-z^2 /2} dz \\\\\n",
    "= \\frac{1}{\\sqrt{2 \\pi}} \\int_{-\\infty}^{\\infty} e^{tz - \\frac{z^2}{2}} dz \\\\\n",
    "= \\frac{1}{\\sqrt{2 \\pi}} \\int_{-\\infty}^{\\infty} e^{\\frac{t^2}{2} - \\frac{1}{2}(z-t)^2} dz \\\\\n",
    "= \\frac{e^{\\frac{t^2}{2}}}{\\sqrt{2 \\pi}} \n",
    "\\underbrace{\\int_{-\\infty}^{\\infty} e^{- \\frac{1}{2}(z-t)^2} dz}_{\\text{N(0,1) shift location:t},  = \\sqrt{2 \\pi}} \\\\\n",
    "= e^{\\frac{t^2}{2}}\n",
    "$$"
   ]
  },
  {
   "cell_type": "markdown",
   "metadata": {},
   "source": [
    "### Laplace Rule of Succession\n",
    "\n",
    "[WIKI](https://en.wikipedia.org/wiki/Rule_of_succession)"
   ]
  }
 ],
 "metadata": {
  "kernelspec": {
   "display_name": "p3lab",
   "language": "python",
   "name": "p3lab"
  },
  "language_info": {
   "codemirror_mode": {
    "name": "ipython",
    "version": 3
   },
   "file_extension": ".py",
   "mimetype": "text/x-python",
   "name": "python",
   "nbconvert_exporter": "python",
   "pygments_lexer": "ipython3",
   "version": "3.6.1"
  }
 },
 "nbformat": 4,
 "nbformat_minor": 2
}
