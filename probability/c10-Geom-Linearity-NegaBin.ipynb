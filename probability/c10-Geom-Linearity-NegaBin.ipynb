{
 "cells": [
  {
   "cell_type": "markdown",
   "metadata": {},
   "source": [
    "# Geometric Distribution\n",
    "\n",
    "## $ X \\sim Geom(p) $\n",
    "\n",
    "Story: indep. Bern(p) trials, count # of failures before 1st success.\n",
    "\n",
    "parameter:\n",
    "  - p : probability of success in Bern(p)\n",
    "\n",
    "```\n",
    "P(X=3)  >>  FFFS\n",
    "P(X=5)  >>  FFFFFS\n",
    "```"
   ]
  },
  {
   "cell_type": "markdown",
   "metadata": {},
   "source": [
    "## PMF\n",
    "\n",
    "$$\n",
    "P\\big(X=k\\big) = q^k \\ p\n",
    "$$\n",
    "\n",
    "Validation of PMF:\n",
    "\n",
    "$\n",
    "\\begin{align}\n",
    "\\sum_{k=0}^\\infty p q^k & = p \\ \\sum_{k=1}^\\infty q^k \\\\\n",
    "& = p \\ \\frac{1}{1-q} \\\\\n",
    "& = p \\ \\frac{1}{p} = 1 \\\\\n",
    "\\end{align}\n",
    "$"
   ]
  },
  {
   "cell_type": "markdown",
   "metadata": {},
   "source": [
    "### Geometric Series\n",
    "\n",
    "$\n",
    "\\begin{align}\n",
    "\\sum_{k=0}^{n-1} = & S & = a + ar + ar^2 + \\cdots + ar^{n-1} \\\\\n",
    "& rS     = & ar + ar^2 + ar^3 + \\cdots + ar^n \\\\\n",
    "& S - rS = & a - ar^n \\\\\n",
    "& S      = & a \\ \\frac{1-r^n}{1-r} \\\\\n",
    "\\end{align}\n",
    "$\n",
    "\n",
    "let $ 0 \\gt r \\gt 1, n \\to \\infty, \\lim \\frac{1-r^n}{1-r} = \\frac{1}{1-r} $"
   ]
  },
  {
   "cell_type": "markdown",
   "metadata": {},
   "source": [
    "### E(X)\n",
    "\n",
    "$$\n",
    "\\begin{align}\n",
    "E(X) & = \\sum_{k=0}^{\\infty} k \\times q^k p \\\\\n",
    "& = p \\sum_{k=0}^{\\infty} k \\times q^k = p q \\sum_{k=0}^{\\infty} k \\times q^{k-1} \\\\\n",
    "& = p q (1-q)^{-2} = p q p^{-2} = \\frac{q}{p} \\\\\n",
    "\\end{align}\n",
    "$$"
   ]
  },
  {
   "cell_type": "markdown",
   "metadata": {},
   "source": [
    "Note:\n",
    "\n",
    "$\n",
    "\\sum_{k=0}^{\\infty} q^k = \\frac{1}{1-q} \\\\\n",
    "\\frac{\\partial}{\\partial q} \\Big( \\sum_{k=0}^{\\infty} q^k \\Big) = \n",
    "\\frac{\\partial}{\\partial q} \\Big( \\frac{1}{1-q} \\Big) \n",
    ", \\ \\ \\text{let 1-q=y} \\\\\n",
    "\\sum_{k=0}^{\\infty} k q^{k-1} = \\frac{\\partial}{\\partial y} \\frac{\\partial y}{\\partial q} y^{-1} \\\\\n",
    "= \\frac{\\partial y}{\\partial q} - y^{-2}\n",
    "= \\Big( \\frac{\\partial}{\\partial q} (1-q) \\Big) -(1-q)^{-2} \\\\\n",
    "= (1-q)^{-2}\n",
    "$"
   ]
  },
  {
   "cell_type": "markdown",
   "metadata": {},
   "source": [
    "### Story Proof of EX\n",
    "\n",
    "```\n",
    "Let C=E(X),  \n",
    "E(X) = 第一次成功的值 x 第一次成功的機率 + 第一次失敗的值 x 第一次失敗的機率\n",
    "  C  =           0  x p             + (1+C)       x q\n",
    "  C - qC = q\n",
    "  C = q / (1-q) = q / p\n",
    "```"
   ]
  },
  {
   "cell_type": "markdown",
   "metadata": {},
   "source": [
    "# Proof of Linearity\n",
    "\n",
    "$$\n",
    "Let \\  T = X + Y, \\  show \\  E(T) = E(X) + E(Y)\n",
    "$$"
   ]
  },
  {
   "cell_type": "markdown",
   "metadata": {},
   "source": [
    "-----\n",
    "\n",
    "# Negative Binomial Distribution\n",
    "\n",
    "## $ X \\sim NB(r,p) $\n",
    "\n",
    "generalization of Geom\n",
    "\n",
    "Story: indep. Bern(p) trials, count # of failures before the r<sub>th</sub> success.\n",
    "\n",
    "\n",
    "```\n",
    "r=4,k=7  >>  S FFF S FF S FF S\n",
    "```"
   ]
  },
  {
   "cell_type": "markdown",
   "metadata": {},
   "source": [
    "## PMF\n",
    "\n",
    "成功r次，失敗n次，除了最後一次成功，其他的成敗次數可以有 $ \\binom{n+r-1}{r-1} $ 種排列方式。\n",
    "\n",
    "$$\n",
    "P(X=n) = \\binom{n+r-1}{r-1} p^r q^n\n",
    "$$"
   ]
  },
  {
   "cell_type": "markdown",
   "metadata": {},
   "source": [
    "## EX\n",
    "\n",
    "如果 r=1, 是 Geom(p)；所以計算 EX, 可以看成 Geom 等到第一個成功，再等第二個成功，知道第 r 個成功。\n",
    "\n",
    "Let $ X_j $ = # failures between (j-1)<sup>st</sup> and j<sup>th</sup> success.  \n",
    "\n",
    "$\n",
    "X_j \\sim Geom(p) \\\\\n",
    "E(X) = E(X_1 + X_2 + \\cdots + X_r) \\\\\n",
    "= E(X_1) + E(X_2) + \\cdots + E(X_r) \\\\\n",
    "= r \\times \\frac{q}{p}\n",
    "$"
   ]
  },
  {
   "cell_type": "markdown",
   "metadata": {},
   "source": [
    "# FS : First Success\n",
    "\n",
    "如果 Geom 的定義包含 失敗次數 + 最後成功的一次，爲 X ~ FS(p)。  \n",
    "\n",
    "如何在 Geom(p) 與 FS(p) 之間轉換？\n",
    "\n",
    "$\n",
    "X \\sim FS(p) \\\\\n",
    "Y \\sim Geom(p) \\\\\n",
    "Y = X - 1 \\\\\n",
    "EX = EY + 1 = \\frac{q}{p} + 1 = \\frac{1}{p}\n",
    "$\n",
    "\n",
    "含義就是 如果成功機率是 10分之一，那麼平均投擲10次，才會有一次成功。"
   ]
  },
  {
   "cell_type": "markdown",
   "metadata": {},
   "source": [
    "---\n",
    "\n",
    "# Putnam Exam Question\n",
    "\n",
    "Given a random permutation of 1, 2, ..., n; where n &ge; 2.  \n",
    "Find the expected # of local maximum.\n",
    "\n",
    "```\n",
    "Local Maximum:\n",
    "\n",
    "sample: 3 2 1 4 7 5 6\n",
    "is LM?  ^       ^   ^\n",
    "```\n",
    "\n",
    "Use indicator r.v.  \n",
    "Let $ I_j $ be the indicator of r.v. of position j have a local max., 1 &le; j &le; n\n",
    "\n",
    "$$\n",
    "E \\Big( I_1 + I_2 + \\cdots + I_n \\Big) = E(I_1) + E(I_2) + \\cdots + E(I_n) \\\\\n",
    "= 2 \\times \\frac{1}{2} + (n-2) \\times \\frac{1}{3} \\\\\n",
    "= \\frac{n+1}{3}\n",
    "$$\n",
    "\n",
    "2: 第一個，和最後一個 數字，相鄰只有一個數字； 1/2 的機會  \n",
    "(n-2): 其他中間的數字，相鄰有兩個數字； 1/3 的機會"
   ]
  },
  {
   "cell_type": "markdown",
   "metadata": {},
   "source": [
    "---\n",
    "\n",
    "# St. Petersburg Paradox\n",
    "\n",
    "Game:  \n",
    "x = # of flips of a fair coin until the first \"Head\" (including).  \n",
    "Earn $ 2^x $ dollars.\n",
    "\n",
    "How mush dollor is worth for play this game for one time? (Expected Value)\n",
    "\n",
    "$\n",
    "Y = 2^x \\\\\n",
    "E(Y) = \\sum_{k=1}^{\\infty} 2^k \\times \\frac{1}{2^k} \\\\\n",
    "= \\sum_{k=1}^{\\infty} 1 \\\\\n",
    "= 1 + 1 + 1 + \\cdots = \\infty\n",
    "$\n",
    "\n",
    "如此期望值是無限大，但是否真的願意付出非常高的金額來玩？  \n",
    "真實世界沒有無限多的錢，如 2^30 已經超過 100 兆元，但是期望值只是30元。  \n",
    "意即 如果遊戲金額上限爲百兆元，如果能夠投擲到第三十次才獲得第一個HEAD，就可以贏得。\n",
    "但這樣的機率非常之小，小到期望值只剩30元，只值得花 30元 玩一次。\n",
    "\n",
    "$\n",
    "EY = \\sum_{k=1}^{30} 1 = 30\n",
    "$"
   ]
  }
 ],
 "metadata": {
  "kernelspec": {
   "display_name": "Python 3",
   "language": "python",
   "name": "python3"
  },
  "language_info": {
   "codemirror_mode": {
    "name": "ipython",
    "version": 3
   },
   "file_extension": ".py",
   "mimetype": "text/x-python",
   "name": "python",
   "nbconvert_exporter": "python",
   "pygments_lexer": "ipython3",
   "version": "3.5.2"
  }
 },
 "nbformat": 4,
 "nbformat_minor": 2
}
