{
 "cells": [
  {
   "cell_type": "markdown",
   "metadata": {},
   "source": [
    "# Markov Chain\n",
    "\n",
    "若 A代表現在使用商品A；A'代表不使用，transition matrix 代表 \n",
    "\n",
    "現在用 A，過了一段事件後仍然用 A  的人: 有 0.8 可能性  \n",
    "現在用 A，過了一段事件後轉換用 A' 的人: 有 0.2 可能性\n",
    "\n",
    "現在用 A'，過了一段事件後轉換用 A 的人: 有 0.6 可能性  \n",
    "現在用 A'，過了一段事件後仍然用 A' 的人: 有 0.4 可能性\n",
    "\n",
    "$$\n",
    "\\begin{bmatrix}\n",
    "  &  A & A' \\\\\n",
    "A & .8 & .2 \\\\\n",
    "A' & .6 & .4\n",
    "\\end{bmatrix}\n",
    "$$\n",
    "\n",
    "$$\n",
    "Q = \\begin{bmatrix}\n",
    ".8 & .2 \\\\\n",
    ".6 & .4\n",
    "\\end{bmatrix}\n",
    "$$\n",
    "\n",
    "若一開始 使用 和 不使用 的比例是 $ \\vec{s_0} = \\begin{bmatrix} .1 & .9 \\end{bmatrix} $\n",
    "\n",
    "經過一段時間，一次轉換 $ \\vec{s_1} = \\vec{s_0} Q $  \n",
    "經過兩段時間，兩次轉換 $ \\vec{s_2} = \\vec{s_0} Q^2 $  \n",
    "經過三段時間，三次轉換 $ \\vec{s_3} = \\vec{s_0} Q^3 $  \n",
    "\n",
    "可以發現 $ s_n $ 逐漸往 $ \\begin{bmatrix} .75 & .25 \\end{bmatrix} $ 靠近，如果用 [.75 .25] x Q,  \n",
    "結果還是 [.75, .25], 這就是 stationary matrix.\n",
    "\n"
   ]
  },
  {
   "cell_type": "code",
   "execution_count": 10,
   "metadata": {},
   "outputs": [
    {
     "name": "stdout",
     "output_type": "stream",
     "text": [
      "Q  = [[ 0.8  0.2]\n",
      " [ 0.6  0.4]]\n",
      "s0 = [[ 0.1  0.9]]\n",
      "s1 = s Q^1 = [[ 0.62  0.38]]\n",
      "s2 = s Q^2 = [[ 0.724  0.276]]\n",
      "s3 = s Q^3 = [[ 0.7448  0.2552]]\n",
      "s4 = s Q^4 = [[ 0.74896  0.25104]]\n",
      "sn is approaching [ .75, .25] \n",
      "s_n Q = [[ 0.75  0.25]]\n"
     ]
    }
   ],
   "source": [
    "import numpy as np\n",
    "Q = np.array([[.8,.2],[.6,.4]])\n",
    "\n",
    "s0 = np.array([.1, .9]).reshape(1,2)\n",
    "print('Q  = %s' % Q)\n",
    "print('s0 = %s' % s0)\n",
    "\n",
    "print('s1 = s Q^1 = %s' % s0.dot(np.linalg.matrix_power(Q, 1)))\n",
    "print('s2 = s Q^2 = %s' % s0.dot(np.linalg.matrix_power(Q, 2)))\n",
    "print('s3 = s Q^3 = %s' % s0.dot(np.linalg.matrix_power(Q, 3)))\n",
    "print('s4 = s Q^4 = %s' % s0.dot(np.linalg.matrix_power(Q, 4)));\n",
    "\n",
    "print('sn is approaching [ .75, .25] ')\n",
    "\n",
    "sn = np.array([.75, .25]).reshape(1,2)\n",
    "print('s_n Q = %s' % sn.dot(np.linalg.matrix_power(Q, 1)))"
   ]
  },
  {
   "cell_type": "markdown",
   "metadata": {},
   "source": [
    "### Questions\n",
    "\n",
    "- Does every Markov chain have a unique stationary matrix?\n",
    "\n",
    "- If a Markov chain has a unique stationary matrix, will the successive state matrices always approach this stationary matrix?\n",
    "\n",
    "NO for both questions.\n",
    "\n",
    "YES for both questions if the Markov chain is regular."
   ]
  },
  {
   "cell_type": "markdown",
   "metadata": {},
   "source": [
    "### Regular Markov Chain\n",
    "\n",
    "A transition matrix Q is regular if some power of P has only positive entries.\n",
    "\n",
    "A Markov Chain is regular is its transition matrix is regular."
   ]
  },
  {
   "cell_type": "code",
   "execution_count": 9,
   "metadata": {},
   "outputs": [
    {
     "name": "stdout",
     "output_type": "stream",
     "text": [
      "P^2 = [[ 0.84  0.16]\n",
      " [ 0.2   0.8 ]]\n"
     ]
    }
   ],
   "source": [
    "# YES, regular\n",
    "P = np.array([[.3, .7],\n",
    "              [.1, .9]])\n",
    "\n",
    "# NO \n",
    "P = np.array([[0, 1],\n",
    "              [1, 0]])\n",
    "\n",
    "# YES, regular\n",
    "P = np.array([[.2, .8],\n",
    "              [1.0, 0.0]])\n",
    "\n",
    "print('P^2 = %s' % np.linalg.matrix_power(P,2))"
   ]
  },
  {
   "cell_type": "markdown",
   "metadata": {},
   "source": [
    "## Properties of Regular Markov Chain\n",
    "\n",
    "Let P be the transition matrix for a REGULAR markov chain.\n",
    "\n",
    "(A). There is a unique stationary matrix S that can be found by solving the equation : $ S \\cdot P = S $\n",
    "\n",
    "(B). Given any initial-state matrix $ S_0 $, the state matrix $ S_k $ approach the stationary matrix S.\n",
    "\n",
    "(C). The matrices $ p^k $ approach a limiting matrix $ \\bar{p} $, where each row of $ \\bar{p} $ is equal to the stationary martix."
   ]
  },
  {
   "cell_type": "markdown",
   "metadata": {},
   "source": [
    "## Absorbing Markov Chain\n",
    "\n",
    "* A state in a Markov chain is called an absorbing state if once the state is entered, it is impossible to leave.\n",
    "\n",
    "* Like regular markov chain, absorbing Markov chain have the property that the powers of the transition martix approach a limiting matrix."
   ]
  },
  {
   "cell_type": "markdown",
   "metadata": {},
   "source": [
    "$\n",
    "\\begin{bmatrix}\n",
    "&   A & B & C \\\\\n",
    "A & 1 & 0 & 0 \\\\\n",
    "B & .3 & .7 & 0 \\\\\n",
    "C & 0 & .2 & .8\n",
    "\\end{bmatrix}\n",
    "$\n",
    "\n",
    "A is absorbing state. 一旦進入 A state, 100% 機率停留在 A state."
   ]
  },
  {
   "cell_type": "markdown",
   "metadata": {},
   "source": [
    "### Absorbing Markov Chain - conditions :\n",
    "\n",
    "A Markov chain is an absorbing chain if :\n",
    "\n",
    "* : There is at least one absorbing state.\n",
    "\n",
    "* : It is possible to go from any non absorbing state to at least one absorbing state in a finite number of states.\n",
    "\n",
    "Definition:\n",
    "\n",
    "A transition matrix for an absorbing Markov chain is a standard form if  \n",
    "the rows and columns are labeled so that all the absorbing states precede  \n",
    "all non-absorbing states. (There may be more than one standard form!)\n",
    "\n",
    "Any standard form can be partitioned into 4 sub-martices:\n",
    "\n",
    "$\n",
    "\\begin{bmatrix}\n",
    "  & A & N \\\\\n",
    "A & I & O \\\\\n",
    "N & R & Q\n",
    "\\end{bmatrix}\n",
    "$\n",
    "\n",
    "A: Absorbing states  \n",
    "N: Non-absorbing states  \n",
    "I: Identity matrix\n",
    "O: zero matrix"
   ]
  },
  {
   "cell_type": "markdown",
   "metadata": {},
   "source": [
    "### Example\n",
    "\n",
    "Find the standard form for the given absorbing Markov chain with the indicated transition matrix.\n",
    "\n",
    "$\n",
    "P = \\begin{bmatrix}\n",
    " 0 & .3 & .3 & .4 \\\\\n",
    " 0 &  1 &  0 &  0 \\\\\n",
    " 0 &  0 &  1 &  0 \\\\\n",
    ".8 & .1 & .1 &  0\n",
    "\\end{bmatrix}\n",
    "$\n",
    "\n",
    "Absorbing states: B, C  \n",
    "re-arrange by order: B, C, A, D\n",
    "\n",
    "$\n",
    "P = \\begin{bmatrix}\n",
    " 1 &  0 &  0 &  0 \\\\\n",
    " 0 &  1 &  0 &  0 \\\\\n",
    ".3 & .3 &  0 & .4 \\\\\n",
    ".1 & .1 & .8 &  0\n",
    "\\end{bmatrix}\n",
    "$\n",
    "\n",
    "$\n",
    "R = \\begin{bmatrix}\n",
    ".3 & .3 \\\\\n",
    ".1 & .1 \n",
    "\\end{bmatrix}\n",
    "$\n",
    "\n",
    "$\n",
    "Q = \\begin{bmatrix}\n",
    " 0 & .4 \\\\\n",
    ".8 &  0 \n",
    "\\end{bmatrix}\n",
    "$"
   ]
  },
  {
   "cell_type": "markdown",
   "metadata": {},
   "source": [
    "### Limiting Matrices for Absorbing Markov chain\n",
    "\n",
    "If a standard form P for an absorbing Markov chain is partitioned as: (standard form)\n",
    "\n",
    "$\n",
    "P = \\begin{bmatrix}\n",
    "I & O \\\\\n",
    "R & Q\n",
    "\\end{bmatrix}\n",
    "$\n",
    "\n",
    "then $ P^k $ approaches a limiting matrix $ \\bar{P} $ as k increases, where\n",
    "\n",
    "$\n",
    "\\bar{P} = \\begin{bmatrix}\n",
    "I & O \\\\\n",
    "FR & O\n",
    "\\end{bmatrix}, \\ \\ \\ F = \\big( I - Q \\big)^{-1}\n",
    "$\n",
    "\n",
    "F is called the fundamental matrix for P\n",
    "\n",
    "Properties of the limiting matrix $ \\bar{P} $ :\n",
    "\n",
    "If P is a transition matrix in standard form for an absorbing Markov chain,  \n",
    "F is the fundamental matrix, and $ \\bar{P} $ is the limiting matrix, then:\n",
    "\n",
    "[1]. The entry in Row i and Column j of $\\bar{P}$ is the long run probability of going from state i to state j.  \n",
    "For the non-absorbing states, these probabilities are also the entries in the matrix FR used for form $\\bar{P}$\n",
    "\n",
    "[2]. The sum of the entries in each row of the fundamental matrix F is the average number of trials it will take to go from each non-absorbing state to some absorbing state."
   ]
  },
  {
   "cell_type": "markdown",
   "metadata": {},
   "source": [
    "### Example\n",
    "\n",
    "- (F) : loan paid in Full\n",
    "- (G) : the account is in Good standing with payments up to date.\n",
    "- (A) : the account is in Arrears with 1 or more missing payments.\n",
    "- (B) : been classified as a Bad debt and sold to a collection agency.\n",
    "\n",
    "$$\n",
    "P = \\begin{bmatrix}\n",
    "  &  F &  G &  A &  B \\\\\n",
    "F & 1.0 &   &    &    \\\\\n",
    "G & .1 & .8 & .1 &    \\\\\n",
    "A & .1 & .4 & .4 & .1 \\\\\n",
    "B &    &    &    & 1.0\n",
    "\\end{bmatrix}\n",
    "$$\n"
   ]
  },
  {
   "cell_type": "markdown",
   "metadata": {},
   "source": [
    "#### Question 1: Draw a transition diagram to model this situation.\n",
    "\n",
    "#### Question 2: In the long run, what percentage of the accounts in arrears will pay their loan in full ?\n",
    "\n",
    "Ans: 0.75\n",
    "\n",
    "#### Question 3: In the long run, what percentage of the accounts in good standing will become bad debt?\n",
    "\n",
    "Ans: 0.125\n",
    "\n",
    "#### Question 4: What is the average number of months an account in arrears will remain in this system before it is either paid in full of classified as a bad debt?\n",
    "\n",
    "Ans: 7.5 monthes. (5+2.5)"
   ]
  },
  {
   "cell_type": "markdown",
   "metadata": {},
   "source": [
    "Standard Form: F B G A\n",
    "\n",
    "$$\n",
    "P = \\begin{bmatrix}\n",
    "1 & 0 & 0 & 0 \\\\\n",
    "0 & 1 & 0 & 0 \\\\\n",
    ".1 & 0 & .8 & .1 \\\\\n",
    ".1 & .1 & .4 & .4 \\\\\n",
    "\\end{bmatrix}\n",
    "$$"
   ]
  },
  {
   "cell_type": "markdown",
   "metadata": {},
   "source": [
    "$\n",
    "Q = \\begin{bmatrix} .8 & .1 \\\\ .4 & .4 \\end{bmatrix},  \\\\\n",
    "F = \\big( I - Q \\big)^{-1} = \\begin{bmatrix} 7.5 & 1.25 \\\\ 5 & 2.5 \\end{bmatrix} \\\\\n",
    "FR = \\begin{bmatrix} .875 & .125 \\\\ .75 & .25 \\end{bmatrix} \\\\\n",
    "$\n",
    "\n",
    "Limiting Martrix: F B G A\n",
    "\n",
    "$$\n",
    "\\bar{P} = \\begin{bmatrix} \n",
    "1 & 0 & 0 & 0 \\\\\n",
    "0 & 1 & 0 & 0 \\\\\n",
    ".875 & .125 & 0 & 0 \\\\\n",
    ".75  &  .25 & 0 & 0 \n",
    "\\end{bmatrix}\n",
    "$$\n"
   ]
  },
  {
   "cell_type": "code",
   "execution_count": 6,
   "metadata": {},
   "outputs": [
    {
     "name": "stdout",
     "output_type": "stream",
     "text": [
      "Q = [[ 0.8  0.1]\n",
      " [ 0.4  0.4]]\n",
      "I = [[ 1.  0.]\n",
      " [ 0.  1.]]\n",
      "F = [[ 7.5   1.25]\n",
      " [ 5.    2.5 ]]\n",
      "FR = [[ 0.875  0.125]\n",
      " [ 0.75   0.25 ]]\n"
     ]
    }
   ],
   "source": [
    "import numpy as np\n",
    "Q = np.array([[.8, .1], [.4, .4]])\n",
    "print('Q = %s' % Q)\n",
    "I = np.eye(2)\n",
    "F = np.linalg.inv(I-Q)\n",
    "R = np.array([[.1, 0], [.1, .1]])\n",
    "print('I = %s' % I)\n",
    "print('F = %s' % F)\n",
    "\n",
    "FR = F.dot(R)\n",
    "print('FR = %s' % FR)"
   ]
  }
 ],
 "metadata": {
  "kernelspec": {
   "display_name": "p3lab",
   "language": "python",
   "name": "p3lab"
  },
  "language_info": {
   "codemirror_mode": {
    "name": "ipython",
    "version": 3
   },
   "file_extension": ".py",
   "mimetype": "text/x-python",
   "name": "python",
   "nbconvert_exporter": "python",
   "pygments_lexer": "ipython3",
   "version": "3.6.1"
  }
 },
 "nbformat": 4,
 "nbformat_minor": 2
}
