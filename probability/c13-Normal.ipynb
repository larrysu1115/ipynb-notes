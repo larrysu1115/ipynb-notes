{
 "cells": [
  {
   "cell_type": "markdown",
   "metadata": {},
   "source": [
    "# Normal (Gaussian) Distribution\n",
    "\n",
    "[CLT (Central Limit Theorem)](https://en.wikipedia.org/wiki/Central_limit_theorem): \n",
    "Sum of a lot of i.i.d. r.v. looks like a Normal Distribution\n",
    "\n",
    "$ N(0,1) $ : Notation means MEAN is 0, and VARIANCE is 1."
   ]
  },
  {
   "cell_type": "markdown",
   "metadata": {},
   "source": [
    "### PDF\n",
    "\n",
    "$ N(0,1) $ has PDF:\n",
    "$$\n",
    "f(z) = c \\  e^{\\frac{-z^2}{2}}\n",
    "$$\n",
    "\n",
    "- z: using z as convention for Normal\n",
    "- c: normalizing constant to make the area 1\n",
    "\n",
    "_Question: c = ?_\n",
    "\n",
    "\n",
    "$$\n",
    "\\int_{-\\infty}^{\\infty} e^{\\frac{-z^2}{2}} d_z = ?\n",
    "$$\n",
    "\n",
    "$$\n",
    "\\begin{align}\n",
    " \\int_{-\\infty}^{\\infty} e^{\\frac{-z^2}{2}} d_z \\int_{-\\infty}^{\\infty} e^{\\frac{-z^2}{2}} d_z\n",
    " & = \\int_{-\\infty}^{\\infty} e^{\\frac{-x^2}{2}} d_x \\int_{-\\infty}^{\\infty} e^{\\frac{-y^2}{2}} d_y \\\\\n",
    " & = \\int_{-\\infty}^{\\infty} \\int_{-\\infty}^{\\infty} e^{\\frac{-(x^2+y^2)}{2}} d_x \\  d_y \\\\\n",
    " & = \\int_{0}^{2\\pi} \\int_{0}^{\\infty} e^{\\frac{-r^2}{2}} \\  r \\  d_r \\  d_\\theta \\\\\n",
    " & = \\int_{0}^{2\\pi} \\left( \\int_{0}^{\\infty} e^{-u} \\  d_u \\right)  d_\\theta \\\\ \n",
    " & = \\int_{0}^{2\\pi} \\left( 1 \\right)  d_\\theta \\\\  \n",
    " & = 2\\pi\n",
    "\\end{align}\n",
    "$$\n",
    "\n",
    "$$\n",
    "\\int_{-\\infty}^{\\infty} e^{\\frac{-z^2}{2}} d_z = \\sqrt{2\\pi} \\\\\n",
    "c = \\frac{1}{\\sqrt{2\\pi}}\n",
    "$$\n",
    "\n",
    "過程:\n",
    "\n",
    "\n",
    "$ r^2 = x^2 + y^2 $\n",
    "![Pythagorean theorem](imgs/c13_x2_y2_r2.png)\n",
    "\n",
    "multiply by _jacobian_ ?  \n",
    "let $ u=r^2/2, du=rdr $\n"
   ]
  },
  {
   "cell_type": "markdown",
   "metadata": {},
   "source": [
    "### Mean : EX\n",
    "\n",
    "_Mean_ :\n",
    "\n",
    "$$\n",
    "E \\sim N(0,1),\\\\\n",
    "EZ = \\frac{1}{\\sqrt{2\\pi}} \\int_{-\\infty}^{\\infty} z \\  e^{\\frac{-z^2}{2}} d_z = 0\n",
    "$$\n",
    "\n",
    "> by symmetry\n",
    "> if g(x) is an odd function, i.e., g(-x) = - g(x)\n",
    "> then $$ \\int_{-a}^{a} g(x) d_x = 0 $$\n",
    "> ![Odd function](https://upload.wikimedia.org/wikipedia/commons/thumb/f/f5/Function_x%5E3.svg/220px-Function_x%5E3.svg.png)\n"
   ]
  },
  {
   "cell_type": "markdown",
   "metadata": {},
   "source": [
    "### Var (Z)\n",
    "\n",
    "_Variance_\n",
    "\n",
    "using Integral by Parts: $ u dv = uv - v du $\n",
    "\n",
    "$$\n",
    "Var(Z) = E(Z^2) - (EZ)^2 = E(Z^2) \\\\\n",
    "= \\frac{1}{\\sqrt{2\\pi}} \\int_{-\\infty}^{\\infty} Z^2 \\  e^{\\frac{-z^2}{2}} d_z \\\\\n",
    "= \\frac{2}{\\sqrt{2\\pi}} \\int_{0}^{\\infty} \n",
    "\\underbrace{Z}_{u} \\ \n",
    "\\underbrace{Z \\ e^{\\frac{-z^2}{2}} d_z}_{dv} \\\\\n",
    "= \\frac{2}{\\sqrt{2\\pi}} \\left( \n",
    "\\underbrace{(uv)\\big|_0^\\infty}_{\\text{zero, by limit}} + \n",
    "\\underbrace{\\int_0^\\infty e^{-Z^2/2} d_z}_{\\sqrt{2 \\pi} / 2}\n",
    "\\right)\n",
    "= 1\n",
    "$$\n",
    "\n",
    "部分積分解法:\n",
    "\n",
    "$$\n",
    "u = z, \\ \\ \\to \\ du = dz \\\\\n",
    "dv = z e^{-z^2/2}, \\ \\ \\to v = -e^{-z^2/2}\n",
    "$$\n",
    "\n",
    "$\n",
    "\\frac{d}{dz} \\big( -e^{-z^2/2} \\big)\n",
    "= \\frac{dy}{dz} \\ \\frac{d}{dy} \\big( -e^{y} \\big) \\\\\n",
    "= \\frac{d}{dz} \\ y \\ \\big( -e^{y} \\big)\n",
    "= \\big( \\frac{d}{dz} \\ -z^2/2 \\big) \\ \\big( -e^{y} \\big) \\\\\n",
    "= \\big( -z \\big) \\ \\big( -e^{-z^2/2} \\big)\n",
    "= z e^{-z^2/2}\n",
    "$"
   ]
  },
  {
   "cell_type": "markdown",
   "metadata": {},
   "source": [
    "### Notation\n",
    "\n",
    "$ \\Phi $ is the standard Normal CDF\n",
    "\n",
    "$$\n",
    "\\Phi(z) = \\frac{1}{\\sqrt{2 \\pi}} \\int_{-\\infty}^z e^{-t^2/2} dt\n",
    "$$\n",
    "\n",
    "### Note\n",
    "\n",
    "by symmetry:\n",
    "\n",
    "$$\n",
    "\\Phi(-z) = 1 - \\Phi(z)\n",
    "$$"
   ]
  }
 ],
 "metadata": {
  "kernelspec": {
   "display_name": "Python 3",
   "language": "python",
   "name": "python3"
  },
  "language_info": {
   "codemirror_mode": {
    "name": "ipython",
    "version": 3
   },
   "file_extension": ".py",
   "mimetype": "text/x-python",
   "name": "python",
   "nbconvert_exporter": "python",
   "pygments_lexer": "ipython3",
   "version": "3.6.1"
  }
 },
 "nbformat": 4,
 "nbformat_minor": 2
}
