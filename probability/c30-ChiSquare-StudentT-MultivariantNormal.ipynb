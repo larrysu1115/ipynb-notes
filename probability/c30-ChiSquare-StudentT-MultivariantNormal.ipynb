{
 "cells": [
  {
   "cell_type": "markdown",
   "metadata": {},
   "source": [
    "# Chi-Square\n",
    "\n",
    "$$\n",
    "\\chi^2 \\big(n\\big)\n",
    "$$\n",
    "\n",
    "parameter n : degree of freedom"
   ]
  },
  {
   "cell_type": "markdown",
   "metadata": {},
   "source": [
    "Let $ V = Z_1^2 + Z_2^2 + \\cdots +  Z_n^2, \\ \\ \\ \\text{ where } Z_j $ are iid $ N \\big( 0, 1\\big) $\n",
    "\n",
    "Then By delfinition $ V \\sim \\chi^2(n) $"
   ]
  },
  {
   "cell_type": "markdown",
   "metadata": {},
   "source": [
    "### Facts\n",
    "\n",
    "$ \\chi^2 \\big( 1 \\big) $ is $ Gamma \\big( \\frac{1}{2}, \\frac{1}{2} \\big) $\n",
    "\n",
    "So $ \\chi^2 \\big( n \\big) $ is $ Gamma \\big( \\frac{n}{2}, \\frac{1}{2} \\big) $"
   ]
  },
  {
   "cell_type": "markdown",
   "metadata": {},
   "source": [
    "# Student-t\n",
    "\n",
    "Let $ T = \\frac{Z}{\\sqrt{V/n}} $,  \n",
    "$ Z \\sim N(0,1) $  \n",
    "$ V \\sim \\chi \\big( n \\big)$  \n",
    "Z,V are both i.i.d\n",
    "\n",
    "Then $ T \\sim t_n $\n",
    "\n",
    "n: degree of freedom"
   ]
  },
  {
   "cell_type": "markdown",
   "metadata": {},
   "source": [
    "### Properties\n",
    "\n",
    "1. symmetric, i.e. $ - T \\sim t_n $\n",
    "2. $ n=1 \\to $ Cauchy, mean des not sxist,\n",
    "3. $ n \\ge 2 \\to \\ E(T) = E(Z) \\ E( \\frac{1}{\\sqrt{}t n} ) = 0 $\n",
    "4. Heavier-Tailed. More extreme values are more likely than Normal Dist.\n",
    "5. For n large, $ t_n $ looks very much like $ N\\big(0,1\\big) $"
   ]
  },
  {
   "cell_type": "markdown",
   "metadata": {},
   "source": [
    "### Note A\n",
    "\n",
    "之前曾經用 MGF 證明過: \n",
    "\n",
    "$ E \\big( Z^2 \\big) = 1, E \\big( Z^4 \\big) = 3, E \\big( Z^6 \\big) = 3.5, \\cdots$\n",
    "\n",
    "另一個方法是將這個問題連接到 Gamma\n",
    "\n",
    "$\n",
    "E \\Big( Z^{2n} \\Big) = E \\Big( \\big( Z^2 \\big)^n \\Big) \\\\\n",
    "Z^2 = \\chi^2(1) \\sim Gamma(\\frac{1}{2}, \\frac{1}{2})\n",
    "$\n",
    "\n",
    "then use LOTUS"
   ]
  },
  {
   "cell_type": "markdown",
   "metadata": {},
   "source": [
    "### Note B\n",
    "\n",
    "When n goes to infinity, T is like N(0,1)\n",
    "\n",
    "Let $ T_n = \\frac{Z}{\\sqrt{V_n / n}}$ with $ Z_1, Z_2, \\cdots $ i.i.d \n",
    "$ N\\big( 0,1 \\big) $\n",
    "\n",
    "$ V_n = Z_1^2 + \\cdots + Z_n^2 $\n",
    "\n",
    "As $ n \\to \\infty, \\frac{V_n}{n} \\to 1 $ with prob. 1 by L.L.N. since\n",
    "$ E Z^2 = 1 $\n",
    "\n",
    "$ \\sqrt{\\frac{V_n}{n}} \\to 1 $ with prob. 1.\n",
    "\n",
    "So $ T_n \\to Z $ with prob. 1.\n",
    "\n",
    "So $ t_n $ converges to $ N \\big( 0, 1 \\big) $"
   ]
  },
  {
   "cell_type": "markdown",
   "metadata": {},
   "source": [
    "# Multivariant Normal - MVN\n",
    "\n",
    "Definition:\n",
    "\n",
    "Random vector $ \\big( X_1, X_2, \\cdots, X_k \\big) = \\vec{X} $ \n",
    "is Multivariant Normal if  \n",
    "every linear combination $ t_1 X_1 + t_2 X_2 + \\cdots + t_k X_k $ is Normal."
   ]
  },
  {
   "cell_type": "markdown",
   "metadata": {},
   "source": [
    "### Example A\n",
    "\n",
    "Let Z,W be iid N(0,1). Then ( Z+2W, 3Z+5W ) is MVN.\n",
    "\n",
    "$\n",
    "s \\big( Z + 2W \\big) + t \\big( 3Z + 5W \\big) =\n",
    "\\big( s + 3t \\big) Z + \\big( 2s + 5t \\big) W\n",
    "\\ \\ \\to \\ \\ $ is Normal\n",
    "\n",
    "### Example B (not)\n",
    "\n",
    "Let $ Z \\sim N\\big(0,1\\big),  $ Let S be random sign indep. of Z.\n",
    "\n",
    "Then Z, SZ are marginally N(0,1)  \n",
    "But (Z, SZ) is not MVN."
   ]
  },
  {
   "cell_type": "markdown",
   "metadata": {},
   "source": [
    "## MGF of MVN\n",
    "\n",
    "MGF of \n",
    "$ \n",
    "\\vec{X} \\sim MVN $ is $ E \\big( e^{\\vec{t} \\cdot \\vec{X} } \\big) \n",
    "= E \\Big( e^{t_1 X_1 + \\cdots + t_k X_k }  \\Big) \\\\\n",
    "= exp\\Big({\\big(t_1 \\mu_1 + \\cdots + t_k \\mu_k\\big) + \\frac{1}{2} Var\\big(t_1 \\mu_1 + \\cdots + t_k \\mu_k\\big)} \\Big)\n",
    "$\n",
    "\n",
    "let $ EX = \\mu $\n",
    "\n",
    "remember:\n",
    "\n",
    "$$\n",
    "X \\sim N \\big( \\mu, \\sigma^2 \\big) \\\\\n",
    "E \\Big( e^{tX} \\Big) = e^{tu} + \\frac{1}{2} t^2 \\sigma^2\n",
    "$$"
   ]
  },
  {
   "cell_type": "markdown",
   "metadata": {},
   "source": [
    "### Theorem\n",
    "\n",
    "一般來說: independent implies uncorrelated, 反之不成立。\n",
    "\n",
    "但在 MVN 的個案上 : uncorrelated implies independent!"
   ]
  },
  {
   "cell_type": "markdown",
   "metadata": {},
   "source": [
    "$$\n",
    "\\text{having MVN: } \\vec{X} = \n",
    "\\begin{bmatrix}\n",
    "\\vec{X_1} \\\\\n",
    "\\vec{X_2}\n",
    "\\end{bmatrix}\n",
    "$$\n",
    "\n",
    "if every component of $ \\vec{X_1} $ is uncorrelated \n",
    "with every component of $ \\vec{X_2} $,  \n",
    "then $ \\vec{X_1} $ is independent of $ \\vec{X_2} $."
   ]
  },
  {
   "cell_type": "markdown",
   "metadata": {},
   "source": [
    "### Example\n",
    "\n",
    "Let X, Y be iid N(0,1). Then (X+Y, X-Y) is MVN.  \n",
    "and Cor(X+Y, X-Y) = Var(X) + Cor(X,Y) - Cor(X,Y) - Var(Y) = 0\n",
    "\n",
    "So X+Y, X-Y are uncorrelated, thus independent."
   ]
  }
 ],
 "metadata": {
  "kernelspec": {
   "display_name": "p3lab",
   "language": "python",
   "name": "p3lab"
  },
  "language_info": {
   "codemirror_mode": {
    "name": "ipython",
    "version": 3
   },
   "file_extension": ".py",
   "mimetype": "text/x-python",
   "name": "python",
   "nbconvert_exporter": "python",
   "pygments_lexer": "ipython3",
   "version": "3.6.1"
  }
 },
 "nbformat": 4,
 "nbformat_minor": 2
}
