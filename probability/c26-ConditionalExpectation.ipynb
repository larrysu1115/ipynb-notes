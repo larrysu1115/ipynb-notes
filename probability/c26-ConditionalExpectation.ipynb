{
 "cells": [
  {
   "cell_type": "markdown",
   "metadata": {},
   "source": [
    "# Conditional Expectation"
   ]
  },
  {
   "cell_type": "markdown",
   "metadata": {},
   "source": [
    "$ E \\Big( \\ X \\ \\big| \\ A \\ \\Big) $\n",
    "\n",
    "A: event\n",
    "\n",
    "$\n",
    "E(X) = E(X\\ |\\ A) \\times P(A) + E(X\\ |\\ A^c) \\times P(A^c)\n",
    "$"
   ]
  },
  {
   "cell_type": "markdown",
   "metadata": {},
   "source": [
    "### Two Envelope Paradox\n",
    "\n",
    "兩個相同的信封，其中裝著鈔票。已經知道一個信封的鈔票面額是另一個的兩倍。  \n",
    "如一個裝著面額 X 的錢，另一個可能裝著面額 0.5X 或 2X 的鈔票。\n",
    "\n",
    "當拿了一個信封打開 發現是 X， (100)\n",
    "要不要選擇換一個信封呢？另一個信封可能是 0.5X 或 2X  (50 或 200)，  \n",
    "期望平均值是 1.25X (125)，所以一定要換比較好？"
   ]
  }
 ],
 "metadata": {
  "kernelspec": {
   "display_name": "p3lab",
   "language": "python",
   "name": "p3lab"
  },
  "language_info": {
   "codemirror_mode": {
    "name": "ipython",
    "version": 3
   },
   "file_extension": ".py",
   "mimetype": "text/x-python",
   "name": "python",
   "nbconvert_exporter": "python",
   "pygments_lexer": "ipython3",
   "version": "3.6.1"
  }
 },
 "nbformat": 4,
 "nbformat_minor": 2
}
