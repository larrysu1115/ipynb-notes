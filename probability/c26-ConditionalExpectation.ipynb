{
 "cells": [
  {
   "cell_type": "markdown",
   "metadata": {},
   "source": [
    "# Conditional Expectation"
   ]
  },
  {
   "cell_type": "markdown",
   "metadata": {},
   "source": [
    "$ E \\Big( \\ X \\ \\big| \\ A \\ \\Big) $\n",
    "\n",
    "A: event\n",
    "\n",
    "$\n",
    "E(X) = E(X\\ |\\ A) \\times P(A) + E(X\\ |\\ A^c) \\times P(A^c)\n",
    "$"
   ]
  },
  {
   "cell_type": "markdown",
   "metadata": {},
   "source": [
    "### Two Envelope Paradox\n",
    "\n",
    "兩個相同的信封，其中裝著鈔票。已經知道一個信封的鈔票面額是另一個的兩倍。  \n",
    "如一個裝著面額 X 的錢，另一個可能裝著面額 0.5X 或 2X 的鈔票。\n",
    "\n",
    "當拿了一個信封打開 發現是 X， (100)  \n",
    "要不要選擇換一個信封呢？另一個信封可能是 0.5X 或 2X  (50 或 200)，  \n",
    "期望平均值是 1.25X (125)，所以一定要換比較好？\n",
    "\n",
    "令一個信封是 X 面額，另一個 Y\n",
    "\n",
    "argument A: $ E\\big(Y\\big) = E\\big(X\\big) $ , by symmetry\n",
    "\n",
    "argument B: $ E\\big(Y\\big) = E\\big(Y\\ \\big|\\ Y=2X\\big) \\ P(Y=2X) + \n",
    "E\\big(Y\\ \\big|\\ Y=\\frac{X}{2}\\big) \\ P(Y=\\frac{X}{2}) $\n",
    "\n",
    "注意 argument B 不等於: \n",
    "$ E\\big(Y\\big) \\ne E\\big(2X) \\ \\frac{1}{2} + \n",
    "E\\big(\\frac{X}{2}\\big) \\ \\frac{1}{2} = \\frac{5}{4} E(X) $\n",
    "\n",
    "argument B 等於 : $ E\\big(Y\\big) = E\\big(Y\\ \\big|\\ Y=2X\\big) \\ \\frac{1}{2} + \n",
    "E\\big(Y\\ \\big|\\ Y=\\frac{X}{2}\\big) \\ \\frac{1}{2} $\n",
    "\n",
    "\n",
    "因為 $ E\\big(Y\\ \\big|\\ Y=2X\\big) \\ne E\\big( 2X \\big) $\n",
    "\n",
    "Let I be indicator r.v. of Y=2X, then X,I are dependent."
   ]
  },
  {
   "cell_type": "markdown",
   "metadata": {},
   "source": [
    "### Patterns in coin flips\n",
    "\n",
    "repeated fair coin flips,  \n",
    "$ W_{HT} $ : how many flips until HT (Head follows by Tail) ?  \n",
    "$ W_{HH} $ : how many flips until HH (Head follows by Head) ?  \n",
    "(including)\n",
    "\n",
    "$ E\\big(W_{HT}\\big) = 4 $\n",
    "\n",
    "$ E\\big(W_{HH}\\big) = 6 $\n",
    "\n",
    "```\n",
    "TTTTHHHT\n",
    "```\n",
    "\n",
    "令 $ W_1 $ ： 第一次翻到正面 Head  的次數。  \n",
    "令 $ W_2 $ ： $ W_1 $ 後，第一次翻到反面 Tail  的次數。\n",
    "\n",
    "$ W - 1 \\sim Geom(\\frac{1}{2}) $\n",
    "\n",
    "$ E\\big(W_{HT}\\big) = E(W_1) + E(W_2) = 2+2 = 4 $\n",
    "\n",
    "```\n",
    "TTTTHTTH\n",
    "```\n",
    "\n",
    "$\n",
    "\\\\\n",
    "E \\big( W_{HH} \\big) \\\\\n",
    "= E \\big( W_{HH} \\big| \\text{ 1st toss is H} \\big) \\frac{1}{2} \n",
    "+ E \\big( W_{TH} \\big| \\text{ 1st toss is T} \\big) \\frac{1}{2} \\\\\n",
    "= \\Big( 2 \\times \\frac{1}{2} + \\big( 2 + EW_{HH} \\big) \\frac{1}{2} \\Big) \\frac{1}{2} + \\big( 1 + EW_{HH} \\big) \\frac{1}{2} \\\\\n",
    "\\to E \\big( W_{HH} \\big) = 6\n",
    "$"
   ]
  },
  {
   "cell_type": "markdown",
   "metadata": {},
   "source": [
    "## Conditional Expectation\n",
    "\n",
    "discrete case:\n",
    "\n",
    "$$\n",
    "E \\Big( Y \\ \\big| \\ X = x \\Big) = \\sum_y y \\ P\\big( Y=y \\ \\big| \\ X=x \\big)\n",
    "$$\n",
    "\n",
    "continuous case:\n",
    "\n",
    "$$\n",
    "E \\Big( Y \\ \\big| \\ X = x \\Big) = \\int_{-\\infty}^{\\infty} y \\times \\ f_{Y|X}( y\\ |\\ x)\\ dy \\\\\n",
    "= \\int_{-\\infty}^{\\infty} y \\times \\ \\frac{f_{X,Y}(x,y)}{f_X(x)} dy\n",
    "$$\n"
   ]
  },
  {
   "cell_type": "markdown",
   "metadata": {},
   "source": [
    "### Example\n",
    "\n",
    "X,Y i.i.d. Pois(&lambda;)\n",
    "\n",
    "E( X+Y | X ) = E(X|X) + E(Y|X) = X + E(Y) = X + &lambda;\n",
    "\n",
    "E(X|X) = X\n",
    "\n",
    "E(Y|X) = E(Y) because X,Y indep."
   ]
  },
  {
   "cell_type": "markdown",
   "metadata": {},
   "source": [
    "### Example\n",
    "\n",
    "X,Y i.i.d. Pois(&lambda;)\n",
    "\n",
    "E(X | X+Y) = ?\n",
    "\n",
    "Let T=X+Y, find conditional PMF.\n",
    "\n",
    "$\n",
    "P \\big( X=k \\ \\big| \\ T=n \\big) \n",
    "= \\frac{P \\big( T=n \\ \\big| \\ X=k \\big) \\ P(X=k)}{ P(T=n) } \\\\\n",
    "= \\frac{P \\big( Y=n-k \\big) \\ P(X=k)}{ P(T=n) } \\\\\n",
    "= \\frac{e^{-\\lambda} \\lambda^{n-k} / (n-k)! \\ \\ \\times \\ \\ e^{-\\lambda} \\lambda^k / k!}{e^{-2\\lambda} (2\\lambda)^n / n!} \\\\\n",
    "= \\binom{n}{k} \\frac{1}{2^n} \\\\\n",
    "\\\\\n",
    "\\to X \\ \\big| \\ T=n \\ \\ \\sim Bin\\big( n, \\frac{1}{2} \\big)\n",
    "$"
   ]
  },
  {
   "cell_type": "markdown",
   "metadata": {},
   "source": [
    "$\n",
    "E \\big( X \\ \\big| \\ T=n \\big) = \\frac{n}{2} \\\\\n",
    "\\to E(X|T) = \\frac{T}{2}\n",
    "$"
   ]
  },
  {
   "cell_type": "markdown",
   "metadata": {},
   "source": [
    "另一個作法:\n",
    "\n",
    "E(X|X+Y) = E(Y|X+Y) by symmetry.\n",
    "\n",
    "E(X|X+Y) + E(Y|X+Y) = E(X+Y|X+Y) = X + Y\n",
    "\n",
    "so E(X|T) = T/2"
   ]
  },
  {
   "cell_type": "markdown",
   "metadata": {},
   "source": [
    "### Iterated Expectation (Adam's Law)\n",
    "\n",
    "$$\n",
    "E \\Big( \\ E\\big( Y \\ \\big| \\ X \\big) \\  \\Big) = E\\big( Y \\big)\n",
    "$$"
   ]
  }
 ],
 "metadata": {
  "kernelspec": {
   "display_name": "p3lab",
   "language": "python",
   "name": "p3lab"
  },
  "language_info": {
   "codemirror_mode": {
    "name": "ipython",
    "version": 3
   },
   "file_extension": ".py",
   "mimetype": "text/x-python",
   "name": "python",
   "nbconvert_exporter": "python",
   "pygments_lexer": "ipython3",
   "version": "3.6.1"
  }
 },
 "nbformat": 4,
 "nbformat_minor": 2
}
