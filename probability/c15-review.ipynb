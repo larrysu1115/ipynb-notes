{
 "cells": [
  {
   "cell_type": "markdown",
   "metadata": {},
   "source": [
    "# Review"
   ]
  },
  {
   "cell_type": "markdown",
   "metadata": {},
   "source": [
    "## Example : Coupon Collector ( Toy Collector )\n",
    "\n",
    "不同種的 toy，蒐集全套。\n",
    "\n",
    "n toy types, assume equally likely.  \n",
    "Find the expected time (i.e. # of toys) until have complete toy set.\n",
    "\n",
    "Let T = # of toys collected.  \n",
    "$ T_j $ = time until get j<sup>th</sup> new toy type.\n",
    "\n",
    "$ T_1 $ = time until 1<sup>st</sup> new toy type = 1  \n",
    "$ T_2 $ = time until 2<sup>nd</sup> new toy type = 1  \n",
    "...\n",
    "\n",
    "probability of success $ p = \\frac{n-1}{n} $\n",
    "\n",
    "$\n",
    "T_1 = 1 \\\\\n",
    "T_2 - 1 \\sim Geom \\big( \\frac{n-1}{n} \\big) \\\\\n",
    "\\vdots \\\\\n",
    "T_j - 1 \\sim Geom \\big( \\frac{n-(j-1)}{n} \\big) \\\\\n",
    "$\n",
    "\n",
    "$\n",
    "E(T) = E(T_1) + E(T_2) + \\cdots + E(T_n) \\\\\n",
    "= 1 + \\frac{n}{n-1} + \\cdots + \\frac{n}{1} = n ( 1 + \\frac{1}{2} + \\frac{1}{2} + \\cdots + \\frac{1}{n} ) \\\\\n",
    "\\approx n \\log n \\text{ , note: for large n }\n",
    "$\n",
    "\n",
    "---"
   ]
  },
  {
   "cell_type": "markdown",
   "metadata": {},
   "source": [
    "## Example\n",
    "\n",
    "Let X, Y, Z be i.i.d. positive r.v.s.\n",
    "\n",
    "Find $ E \\big( \\frac{X}{X+Y+Z} \\big) = ? $\n",
    "\n",
    "by symmetry : $ E \\big( \\frac{X}{X+Y+Z} \\big) = \n",
    "E \\big( \\frac{Y}{X+Y+Z} \\big) = \n",
    "E \\big( \\frac{Z}{X+Y+Z} \\big) $\n",
    "\n",
    "by linearity : $ E \\big( \\frac{X}{X+Y+Z} \\big) +\n",
    "E \\big( \\frac{Y}{X+Y+Z} \\big) + \n",
    "E \\big( \\frac{Z}{X+Y+Z} \\big) = E \\big( \\frac{X+Y+Z}{X+Y+Z} \\big) = 1 $\n",
    "\n",
    "$ 3 \\times E \\big( \\frac{X}{X+Y+Z} \\big) = 1 $\n",
    "\n",
    "Answer: $ E \\big( \\frac{X}{X+Y+Z} \\big) = \\frac{1}{3} $"
   ]
  },
  {
   "cell_type": "markdown",
   "metadata": {},
   "source": [
    "---\n",
    "\n",
    "### Example : LOTUS\n",
    "\n",
    "Let $ U \\sim Unif(0,1), \\ \\ X = U^2, \\ \\ Y = e^X $\n",
    "\n",
    "Find $ E(Y) $ as an integral.\n",
    "\n",
    "$\n",
    "E \\big( Y \\big) = \\int_0^1 e^x \\underbrace{f(x)}_{\\text{ PDF of X }} dx\n",
    "$\n",
    "\n",
    "CDF of X:\n",
    "\n",
    "$\n",
    "P \\big( x \\le X \\big) = P \\big( u^2 \\le X \\big) = P \\big( u \\le \\sqrt{X} \\big) \\\\\n",
    "\\sqrt{x}, \\ \\ if \\ \\ 0 \\le x \\le 1 \\\\\n",
    "f(x) = F'(x) = \\frac{1}{2} x^{-1/2}, \\ \\ x \\in (0,1)\n",
    "$\n",
    "\n",
    "Another way, using LOTUS\n",
    "\n",
    "$\n",
    "Y = e^X = e^{u^2} \\\\\n",
    "E \\big( Y \\big) = \\int_0^1 e^{u^2} du\n",
    "$"
   ]
  },
  {
   "cell_type": "markdown",
   "metadata": {},
   "source": [
    "---\n",
    "\n",
    "### Example\n",
    "\n",
    "$ X \\sim Bin(n, p) $, find distribution of n - X\n",
    "\n",
    "PMF of n-X = $ p ( n - X = k) = P(X=n-k) = \\binom{n}{n-k} p^{n-k} q^k = \\binom{n}{k} q^k p^{n-k} $\n",
    "\n",
    "Another way, by using story, switch success and failure.\n",
    "\n",
    "$ n - X \\sim Bin(n,q) $"
   ]
  },
  {
   "cell_type": "markdown",
   "metadata": {},
   "source": [
    "---\n",
    "\n",
    "### Example Pois\n",
    "\n",
    "suppose # of emails I get in time t is $ Pois(\\lambda t) $ (discrete)\n",
    "\n",
    "Find the PDF of T, time of 1<sup>st</sup> email. (continuous)\n",
    "\n",
    "Easier to find by complement: $ P \\big( T \\gt t \\big) = P \\big( N_t = 0 \\big) $, with $ N_t $ = ( # emails in interval [0,t] )\n",
    "\n",
    "```\n",
    "|-------------------|--------x-----------\n",
    " <-- No new mail -->         ^\n",
    "                             T\n",
    "```\n",
    "\n",
    "$ e^{ - \\lambda t } \\big( \\lambda t \\big)^0 / 0! = e^{ - \\lambda t } $"
   ]
  }
 ],
 "metadata": {
  "kernelspec": {
   "display_name": "p3lab",
   "language": "python",
   "name": "p3lab"
  },
  "language_info": {
   "codemirror_mode": {
    "name": "ipython",
    "version": 3
   },
   "file_extension": ".py",
   "mimetype": "text/x-python",
   "name": "python",
   "nbconvert_exporter": "python",
   "pygments_lexer": "ipython3",
   "version": "3.6.1"
  }
 },
 "nbformat": 4,
 "nbformat_minor": 2
}
