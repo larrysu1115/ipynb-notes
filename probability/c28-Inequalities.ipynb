{
 "cells": [
  {
   "cell_type": "markdown",
   "metadata": {},
   "source": [
    "# Stat : Inequalities"
   ]
  },
  {
   "cell_type": "markdown",
   "metadata": {},
   "source": [
    "## 1. Cauchy-Schwarz\n",
    "\n",
    "$$\n",
    "\\Big| \\ E\\big( XY \\big)  \\ \\Big| \\le \\sqrt{E\\big(X^2\\big) \\ E\\big(Y^2\\big)  }\n",
    "$$\n",
    "\n",
    "If X,Y are uncorrelated, E(XY) = (EX) (EY)\n",
    "\n",
    "If X,Y have mean 0, then\n",
    "\n",
    "$$\n",
    "\\Big| \\ Corr\\big(X,Y\\big) \\  \\Big|\n",
    "= \\Big| \\ \\frac{E(XY)}{(EX^2\\ EY^2)^{1/2}}  \\ \\Big| \\le 1\n",
    "$$"
   ]
  },
  {
   "cell_type": "markdown",
   "metadata": {},
   "source": [
    "## 2. Jensen's inequality\n",
    "\n",
    "<img src=\"imgs/c28-jensons.svg\" style=\"width:350px;float:right;\" />\n",
    "\n",
    "if g is convex function, then\n",
    "\n",
    "$$\n",
    "E \\ g(x) \\ge g \\big( EX \\big)\n",
    "$$\n",
    "\n",
    "convex function: second derivatif &ge; 0. $ g''(x) \\ge 0 $  \n",
    "在 convex function 線段上任意取兩點，連成一線，這一線必定在 function 線段之上。\n",
    "\n",
    "if h is concave function, then\n",
    "\n",
    "$$\n",
    "E \\ h(x) \\ge h \\big( EX \\big)\n",
    "$$"
   ]
  },
  {
   "cell_type": "markdown",
   "metadata": {},
   "source": [
    "### Example\n",
    "\n",
    "X be positive.\n",
    "\n",
    "Evaluate $ E(\\frac{1}{X}) $, \n",
    "\n",
    "$\n",
    "(X^{-1})' = - X^{-2} \\\\\n",
    "(X^{-1})'' = + X^{-3} \\gt 0\n",
    "\\to E(\\frac{1}{X}) \\ge \\frac{1}{E(X)}\n",
    "$\n",
    "\n",
    "Evaluate $ E( \\ln X) $, \n",
    "\n",
    "$\n",
    "(\\ln X)' = X^{-1} \\\\\n",
    "(\\ln X)'' = - X^{-2} \\lt 0\n",
    "\\to E(\\ln X) \\le \\ln \\ E(X)\n",
    "$"
   ]
  },
  {
   "cell_type": "markdown",
   "metadata": {},
   "source": [
    "Proof\n",
    "\n",
    "convex curve: g(x) 畫出切邊線 tangent line: y=a+bx\n",
    "\n",
    "convex curve 永遠在 tangent line 之上，所以\n",
    "\n",
    "$ g(x) \\ge a + bx $, for every point x. 所以可換成 X  \n",
    "$ g(X) \\ge a + bX $, 加上 Expectation  \n",
    "$ E\\big( g(X) \\big)  \\ge E( a + bX ) $  \n",
    "$ \\to E\\big( g(X) \\big)  \\ge a + b \\ E(X) $  \n",
    "$ \\to E\\big( g(X) \\big)  \\ge a + b \\mu $\n",
    "$ \\to E\\big( g(X) \\big)  \\ge g(\\mu) $  \n",
    "$ \\to E\\big( g(X) \\big)  \\ge g( EX ) $\n",
    "\n",
    "當 x=$\\mu$ 的時候，$ y=g(x) = a + bx = g(\\mu) $\n",
    "\n"
   ]
  },
  {
   "cell_type": "markdown",
   "metadata": {},
   "source": [
    "## 3. Markov\n",
    "\n",
    "<img src=\"imgs/c28-markov_inequality.svg\" style=\"float:right;width:350px;\" />\n",
    "\n",
    "for any a &gt; 0\n",
    "\n",
    "$$\n",
    "P\\Big( \\big| \\ X \\  \\big| \\ge a \\Big) \\ \\ \\le \\frac{E\\ \\big|\\ X\\ \\big|}{a}\n",
    "$$"
   ]
  },
  {
   "cell_type": "markdown",
   "metadata": {},
   "source": [
    "proof:\n",
    "\n",
    "$$ \n",
    "I_{|X| \\ge a} : \\text{ indicator r.v., 1 if greater or equal than a, 0 otherwise }\n",
    "$$\n",
    "\n",
    "fundamental bridge: $ P\\Big( \\big| \\ X \\  \\big| \\ge a \\Big) \\ \\ = \\ \\ E \\ I_{|X| \\ge a} $\n",
    "\n",
    "如果 |X| &ge; a, 則 I=1, aI = a, 成立；另外如果 |X| &lt; a, 則 aI = 0, 不等式也成立: \n",
    "\n",
    "$ a \\ I_{|X| \\ge a} \\le \\big| \\ X \\ \\big| $\n",
    "\n",
    "$ a \\ E \\ I_{|X| \\ge a} \\le E \\ \\big| \\ X \\ \\big| $"
   ]
  },
  {
   "cell_type": "markdown",
   "metadata": {},
   "source": [
    "### Example\n",
    "\n",
    "100 人的群組中，可能 95% 的人 都比整個群組的平均年齡小嗎？   \n",
    "Ans: YES, 如果有幾個人年齡特別大，就會發生。\n",
    "\n",
    "100 人的群組中，可能至少 50% 的人 都比整個群組的平均年齡的兩倍大嗎？  \n",
    "Ans: NO, 如果成立的話，單就 50% 的人的年齡總合就超過平均年齡乘以人數了。"
   ]
  },
  {
   "cell_type": "markdown",
   "metadata": {},
   "source": [
    "## 4. Chebyshev inequality\n",
    "\n",
    "for $ \\mu = EX, a \\gt 0 $\n",
    "\n",
    "$$\n",
    "P \\Big( \\big| \\ X - \\mu \\  \\big| \\gt a \\Big) \\le \\frac{Var\\ (X)}{a^2}\n",
    "$$\n",
    "\n",
    "或另一種形式, for $ c \\gt 0, a = c \\ SD(X) $\n",
    "\n",
    "$$\n",
    "P \\Big( \\big| \\ X - \\mu \\  \\big| \\gt c \\ SD(X) \\Big) \\le \\frac{1}{c^2}\n",
    "$$"
   ]
  },
  {
   "cell_type": "markdown",
   "metadata": {},
   "source": [
    "proof.\n",
    "\n",
    "$\n",
    "P \\Big( \\big| \\ X - \\mu \\  \\big| \\ge a \\Big) =\n",
    "P \\Big( \\big(X - \\mu \\big)^2 \\ge a^2 \\Big) \\le\n",
    "\\frac{E\\big( X - \\mu \\big)^2}{a^2} = \n",
    "\\frac{Var( X )}{a^2}\n",
    "$"
   ]
  }
 ],
 "metadata": {
  "kernelspec": {
   "display_name": "p3lab",
   "language": "python",
   "name": "p3lab"
  },
  "language_info": {
   "codemirror_mode": {
    "name": "ipython",
    "version": 3
   },
   "file_extension": ".py",
   "mimetype": "text/x-python",
   "name": "python",
   "nbconvert_exporter": "python",
   "pygments_lexer": "ipython3",
   "version": "3.6.1"
  }
 },
 "nbformat": 4,
 "nbformat_minor": 2
}
