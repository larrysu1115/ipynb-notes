{
 "cells": [
  {
   "cell_type": "markdown",
   "metadata": {},
   "source": [
    "# Markov Chain"
   ]
  },
  {
   "cell_type": "markdown",
   "metadata": {},
   "source": [
    "## Stochastic Process\n",
    "\n",
    "<img src=\"imgs/c31-markov-chain.svg\" style=\"width:350px;float:right;\" />\n",
    "\n",
    "$ X_1, X_2, X_3, X_4, X_5, \\cdots $\n",
    "\n",
    "Think of $ X_n $ as state of system at time \"n\". (discrete)\n",
    "\n",
    "### Markov Property:\n",
    "\n",
    "$\n",
    "\\begin{align}\n",
    "  & P \\Big( X_{n+1} = j \\ \\Big| \\ X_n = i_n,\\ \\ X_{n-1} = i_{n-1},\\ \\ X_{n-2} = i_{n-2},\\ \\ \\cdots \\ \\ , X_0 = i_0 \\Big) \\\\\n",
    "= & P \\Big( X_{n+1} = j \\ \\Big| \\ X_n = i_n \\Big) \\\\\n",
    "= & q_{ij}\n",
    "\\end{align}\n",
    "$\n",
    "\n",
    "將 $ X_n $ 看作現在的系統狀態，為 j  \n",
    "given $ X_n, X_{n-1}, X_{n-2} $ 等所有已知的過去狀態。\n",
    "\n",
    "上式說明 未來的系統狀態 $ X_{n+1} $，可以只給定 $ X_n $ 即可，不需要給定所有的 $ X_{n-1}, X_{n-2}, \\cdots $\n",
    "\n",
    "$ q_{ij} $ : transition probability. (homogenious Markov's chain)\n",
    "\n",
    "Past and Future are conditionalliy independent given the Present.\n",
    "\n",
    "將來 (下一個state) 的機率只與 現在的 state 有關。"
   ]
  },
  {
   "cell_type": "markdown",
   "metadata": {},
   "source": [
    "## Transition Matrix Q\n",
    "\n",
    "$$\n",
    "Q = \\Big( q_{ij} \\Big)\n",
    "$$\n",
    "\n",
    "every row --> sums to 1."
   ]
  },
  {
   "cell_type": "markdown",
   "metadata": {},
   "source": [
    "### Markov Chain Monty Carlo - MCMC\n",
    "\n",
    "運算出一個 Markov Chain, 可以利用來模擬某個 distribution."
   ]
  },
  {
   "cell_type": "markdown",
   "metadata": {},
   "source": [
    "### Usage\n",
    "\n",
    "Suppose at time n, $ X_n $ has distribution $ \\vec{S}_{1 \\times M} $ (row vector, PMF listed out)\n",
    "\n",
    "$$\n",
    "\\begin{align}\n",
    "P \\Big( X_{n+1} = j \\Big) \n",
    "& = \\sum_i P \\Big( X_{n+1} = j \\ \\Big| \\ X_n = i \\Big) \\ P\\big( X_n = i \\big) \\\\\n",
    "& = \\sum_i s_i \\ q_{ij} \\\\\n",
    "& = \\text{jth entry of: } \\vec{S}_{1 \\times M} \\ \\  Q_{M \\times M}\n",
    "\\end{align}\n",
    "$$\n",
    "\n",
    "So at time n+1, the distribution is : $ \\vec{S} \\ Q $\n",
    "\n",
    "So at time n+2, the distribution is : $ \\vec{S} \\ Q^2 $"
   ]
  },
  {
   "cell_type": "markdown",
   "metadata": {},
   "source": [
    "$$\n",
    "\\begin{align}\n",
    "P \\big( X_{n+1} = j \\ \\big| \\ X_n = i \\big) \n",
    "& = q_{ij} \\\\\n",
    "P \\big( X_{n+2} = j \\ \\big| \\ X_{n+1} = k, X_n = i \\big)\n",
    "& = \\sum_k P \\big( X_{n+2} = j \\ \\big| \\ X_{n+1} = k, X_n = i \\big) \\ P \\big( X_{n+1} = k \\ \\big| \\ X_n = i \\big) \\\\\n",
    "& = \\sum_k P \\big( X_{n+2} = j \\ \\big| \\ X_{n+1} = k \\big) \\ P \\big( X_{n+1} = k \\ \\big| \\ X_n = i \\big) \\\\\n",
    "& = \\sum_k q_{ik} \\ q_{kj} \\\\\n",
    "& = \\text{ (i,j) entry of } Q^2 \\\\\n",
    "\\\\\n",
    "P \\big( X_{n+m} = j \\ \\big| \\ X_n = i \\big) & = \\text{ (i,j) entry of } Q^m\n",
    "\\end{align}\n",
    "$$"
   ]
  },
  {
   "cell_type": "markdown",
   "metadata": {},
   "source": [
    "## Stationary Distribution\n",
    "\n",
    "$ \\vec{s} $ : probability vector 1 x M, PMF written as a row.\n",
    "\n",
    "is stationary for the chain if :  $ \\vec{s} \\ Q = \\vec{s} $"
   ]
  },
  {
   "cell_type": "markdown",
   "metadata": {},
   "source": [
    "### Questions\n",
    "\n",
    "- Does a stationary dist. exists?\n",
    "- Is it unique?\n",
    "- Does the chain converge to $ \\vec{s} $ ?\n",
    "- How to compute it?"
   ]
  },
  {
   "cell_type": "markdown",
   "metadata": {},
   "source": [
    "### Definitions\n",
    "\n",
    "- Irreducible : Chain is \"irreducible\" if possible to get from anywhere to anywhere.\n",
    "- Recurrent : A \"state\" is recurrent if starting there, chain has prob. 1 to return to that state.\n",
    "- Transient : A \"state\" not recurrent.\n",
    "- Absorbing : A \"state\" that once get in, never comes out."
   ]
  },
  {
   "cell_type": "markdown",
   "metadata": {},
   "source": [
    "$ \\vec{s} $ (probability row vector) is stationary for a chain with transition matrix Q if :\n",
    "\n",
    "$ \\vec{s} \\times Q = \\vec{s} $"
   ]
  },
  {
   "cell_type": "markdown",
   "metadata": {},
   "source": [
    "### Theorem\n",
    "\n",
    "for any irreducible Markov Chain (with finitely many states),\n",
    "\n",
    "*1 -  A stationary $ \\vec{s} $ exists.\n",
    "\n",
    "*2 - It is unique.\n",
    "\n",
    "*3 - $ s_i = 1 / r_i $, where $ r_i $ is the average return time to i, if starting at i.\n",
    "\n",
    "*4 - If $ Q^m $ is strictly positif for some m (矩陣中每個元素都大於零，代表不是迴圈),  \n",
    "then $ P \\big( X_n = i \\big) \\to s_i $ ,  \n",
    "which means P(...) converges to $ s_i $ as $ n \\to \\infty $\n",
    "\n",
    "$ \\vec{t} $ : any probability vector.  \n",
    "$ \\vec{t} Q^n \\to \\vec{s} $ as $ n \\to \\infty $"
   ]
  },
  {
   "cell_type": "markdown",
   "metadata": {},
   "source": [
    "### Compute $ \\vec{s} $ of reversible Q\n",
    "\n",
    "definition: \n",
    "\n",
    "Markov Chain with transition matrix $ Q = \\Big( q_{ij} \\Big) $,  \n",
    "is reversible if there is a probability vector $ \\vec{s} $ such that:\n",
    "\n",
    "$ s_i \\ q_{ij} = s_j \\ q_{ji} $\n",
    "\n",
    "for all states i, j.\n",
    "\n",
    "### Theorem\n",
    "\n",
    "If reversible with respect to $ \\vec{s} $, then $ \\vec{s} $ is stationary."
   ]
  },
  {
   "cell_type": "markdown",
   "metadata": {},
   "source": [
    "#### Prove\n",
    "\n",
    "Let $ s_i \\ q_{ij} = s_j \\ q_{ji} $ for all i, j. show $ \\vec{s} Q = \\vec{s} $\n",
    "\n",
    "$\n",
    "s_i \\ q_{ij} = s_j \\ q_{ji} \\\\\n",
    "\\to \\sum_i s_i \\ q_{ij} = \\sum_i s_j \\ q_{ji} \\\\\n",
    "\\to \\sum_i s_i \\ q_{ij} = s_j \\sum_i \\ q_{ji} = s_j \\\\\n",
    "$\n",
    "\n",
    "So,  $ \\vec{s} Q = \\vec{s} $"
   ]
  },
  {
   "cell_type": "markdown",
   "metadata": {},
   "source": [
    "### Example : Random Walk on an Undirected Network.\n",
    "\n",
    "```\n",
    "1----2\n",
    "|   /\n",
    "|  /\n",
    "| /\n",
    "|/ \n",
    "3----4\n",
    "```\n",
    "\n",
    "Let $ d_i $ be degree of i, for example : $\n",
    "\\begin{bmatrix} \n",
    "d_1 = 2 & d_2=2 \\\\\n",
    "d_3 = 3 & d_4 = 1 \n",
    "\\end{bmatrix}\n",
    "$\n",
    "\n",
    "then 證明 目標公式: $ d_i \\ q_{ij} = d_j \\ q_{ji} $\n",
    "\n",
    "Let $ i \\ne j, \\ \\  q_{ij}, q_{ji} $ are both 0 or both not 0.  \n",
    "如果是 0，則目標公式成立。\n",
    "如果非 0，是在一個 edge 上。\n",
    "\n",
    "if {i,j} is an edge, then $ q_{ij} = \\frac{1}{d_i} $, 套回 目標公式，可得 1=1.\n",
    "\n",
    "So if with M nodes: 1,2,3,...,M.  degree $ d_i $.\n",
    "\n",
    "Then $ \\vec{s} $ with $ s_i = \\frac{d_i}{\\sum_j d_j} $ is stationary. "
   ]
  }
 ],
 "metadata": {
  "kernelspec": {
   "display_name": "p3lab",
   "language": "python",
   "name": "p3lab"
  },
  "language_info": {
   "codemirror_mode": {
    "name": "ipython",
    "version": 3
   },
   "file_extension": ".py",
   "mimetype": "text/x-python",
   "name": "python",
   "nbconvert_exporter": "python",
   "pygments_lexer": "ipython3",
   "version": "3.6.1"
  }
 },
 "nbformat": 4,
 "nbformat_minor": 2
}
