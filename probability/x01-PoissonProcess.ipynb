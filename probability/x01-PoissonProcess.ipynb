{
 "cells": [
  {
   "cell_type": "markdown",
   "metadata": {},
   "source": [
    "Poisson Process"
   ]
  },
  {
   "cell_type": "markdown",
   "metadata": {},
   "source": [
    "## 從 Binomial 到 Poisson\n",
    "\n",
    "X ~ 一小時經過的汽車數量。\n",
    "\n",
    "如果讓 X 的平均期望值 EX = &lambda;, 則可以知道:\n",
    "\n",
    "$\n",
    "E(X) = \\lambda \\frac{\\text{cars}}{\\text{per hour}} = n \\times p = \n",
    "60 \\times \\frac{\\lambda}{60}\n",
    "$\n",
    "\n",
    "上面將 &lambda; [一小時] 經過的車數，分成了 [每分鐘] 經過的車數；  \n",
    "如果每小時經過車數是3輛車，於是每分鐘預期經過車數就應該是 $ \\frac{3}{60} = \\frac{\\lambda}{60} = p $  \n",
    "\n",
    "從 binomial 我們知道，分成 n=60 個一分鐘的區段，每一分鐘可能有車子經過的機率是 $ p = \\frac{\\lambda}{60} $  \n",
    "那麼 binomial 的期望值是 $ n \\times p $\n",
    "\n",
    "但是這裏有個問題，如果某一小時經過的車數是 &gt; 1,   \n",
    "比方說某一分鐘經過了 9 輛車，那麼就無法簡單使用 Binomial 成功/失敗 的二元分類。  \n",
    "不過如果我們再細分到秒，就更難出現某一秒鐘經過了超過一台車子 的狀況。\n",
    "\n",
    "$\n",
    "E(X) = \\lambda \\frac{\\text{cars}}{\\text{per second}} = n \\times p = \n",
    "3600 \\times \\frac{\\lambda}{3600}\n",
    "$\n"
   ]
  },
  {
   "cell_type": "markdown",
   "metadata": {},
   "source": [
    "這樣子去計算 binomial，一小時經過了 k 台車的機率是:\n",
    "\n",
    "$$\n",
    "P \\Big( X = k \\Big) = \\binom{60}{k} \\big( \\frac{\\lambda}{60} \\big)^k \\times \\big( 1 - \\frac{\\lambda}{60} \\big)^{60-k}\n",
    "$$"
   ]
  },
  {
   "cell_type": "markdown",
   "metadata": {},
   "source": [
    "利用 Poisson Approximation\n",
    "\n",
    "$$\n",
    "P \\Big( X = k \\Big) = \\binom{60}{k} \\big( \\frac{\\lambda}{60} \\big)^k \\times \\big( 1 - \\frac{\\lambda}{60} \\big)^{60-k}\n",
    "= \\frac{\\lambda^k}{k!} e^{-\\lambda}\n",
    "$$"
   ]
  },
  {
   "cell_type": "markdown",
   "metadata": {},
   "source": [
    "如果 &lambda; = 9, 每小時經過9輛車。想問接下來一個小時只會經過 2輛車 的機率，利用上述公式:\n",
    "\n",
    "$$\n",
    "P \\big( X = 2 \\big) = \\frac{9^2}{2!} e^{-9} = 0.4998 \\%\n",
    "$$"
   ]
  },
  {
   "cell_type": "code",
   "execution_count": 2,
   "metadata": {},
   "outputs": [
    {
     "data": {
      "image/png": "[encoded data removed]",
      "text/plain": [
       "<matplotlib.figure.Figure at 0x1132d5b00>"
      ]
     },
     "metadata": {},
     "output_type": "display_data"
    }
   ],
   "source": [
    "import numpy as np\n",
    "import matplotlib.pyplot as plt\n",
    "from matplotlib import mlab\n",
    "\n",
    "p_lambda = 9\n",
    "x = range(1,17)\n",
    "y = []\n",
    "for ix in x:\n",
    "    iy = np.power(p_lambda, ix) / np.math.factorial(ix) * np.exp(-p_lambda)\n",
    "    y.append(iy)\n",
    "\n",
    "fig, ax = plt.subplots(figsize=(8, 4))\n",
    "ax.bar(x, y, color=\"blue\", alpha=.2)\n",
    "ax.plot(x, y, 'k--', linewidth=1.5, color='r')\n",
    "ax.set_title(r'Pois( $\\lambda = $ %d )' % (p_lambda))\n",
    "ax.set_xlabel('number of cars in an hour : k')\n",
    "ax.set_ylabel('Prob. k cars passed in an hour : P(X=k)')\n",
    "\n",
    "plt.show();"
   ]
  },
  {
   "cell_type": "markdown",
   "metadata": {},
   "source": [
    "### Random Process / Stochastic Process\n",
    "\n",
    "[隨機過程] 的定義:  \n",
    "\n",
    "給定任意一個時間 t, $ X(t) $ 是在時間 t 時候的一個 r.v., 則稱 : $ \\big\\{ X(t), \\ 0 \\le t \\lt \\infty \\ \\big\\} $\n",
    "為一個隨機過程。\n",
    "\n",
    "[Poisson Process] 的定義:\n",
    "\n",
    "當一個隨機過程滿足下列四個條件，稱為 Poisson Process.\n",
    "\n",
    "#### 1 : $ \\ \\ X(0) = 0 $\n",
    "\n",
    "\n",
    "#### 2 : 對於任何一串的時間序列 $ 0 \\le s_1 \\le t_1 \\le s_2 \\le t_2 \\le \\cdots \\le s_n \\le t_n $, n 為任意的整數。 \n",
    "\n",
    "則 : \n",
    "$ X(t_1) - X(s_1), \\\\ X(t_2) - X(s_2), \\\\ \\vdots \\  , \\\\ X(t_n) - X(s_n) $  \n",
    "are n independent r.v.s\n",
    "\n",
    "#### 3 : 對任何 $ t \\ge 0, \\ s \\ge 0 $\n",
    "\n",
    "$ X(t) - X(0) $ 與 $ X(t+s) - X(s) $ 有相同機率分佈。\n",
    "\n",
    "#### 4 : 對任何 t 和 k = 0,1,2,3,...\n",
    "\n",
    "$ P \\Big( X(t) = k \\Big) = \\frac{(\\lambda \\ t)^k}{k!} e^{-\\lambda t} $"
   ]
  }
 ],
 "metadata": {
  "kernelspec": {
   "display_name": "p3lab",
   "language": "python",
   "name": "p3lab"
  },
  "language_info": {
   "codemirror_mode": {
    "name": "ipython",
    "version": 3
   },
   "file_extension": ".py",
   "mimetype": "text/x-python",
   "name": "python",
   "nbconvert_exporter": "python",
   "pygments_lexer": "ipython3",
   "version": "3.6.1"
  }
 },
 "nbformat": 4,
 "nbformat_minor": 2
}
