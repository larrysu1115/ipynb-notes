{
 "cells": [
  {
   "cell_type": "markdown",
   "metadata": {},
   "source": [
    "# Multinomial\n",
    "\n",
    "$\n",
    "Mult \\Big(n, \\vec{p} \\Big) \\\\\n",
    "\\vec{p} = \\big( p_1, p_2, \\cdots, p_k \\big) \\\\\n",
    "\\sum_j p_j = 1, \\ p_j \\ge 0 \\\\\n",
    "\\\\\n",
    "\\vec{X} \\sim Mult \\big( n, \\vec{p} \\big) \\\\\n",
    "\\vec{X} = \\big( X_1, X_2, \\cdots, X_k \\big)\n",
    "$\n",
    "\n",
    "having n objects(trials), independently putting into k categories.\n",
    "\n",
    "$ p_j = P \\big( \\text{ in category j } \\big), X_j = $ number of objects in category j.\n",
    "\n",
    "## Joint PMF\n",
    "\n",
    "$$\n",
    "P \\Big( X_1 = n_1, X_2 = n_2, \\cdots, X_k = n_k \\Big) = \\frac{n!}{n_1! \\ n_2! \\ \\cdots \\ n_k!} \\ p_1^{n_1} \\ p_2^{n_2} \\ \\cdots \\  p_k^{n_k} \n",
    "\\begin{cases}\n",
    "if \\ \\ n_1 + n_2 + \\cdots + n_k = n, \\\\\n",
    "0 \\ \\ otherwise\n",
    "\\end{cases}\n",
    "$$"
   ]
  },
  {
   "cell_type": "markdown",
   "metadata": {},
   "source": [
    "### Marginal Dist.\n",
    "\n",
    "$ \\vec{X} \\sim Mult(n, \\vec{p}) $\n",
    "\n",
    "Find marginal dist of $ X_j $\n",
    "\n",
    "Then $ X_j \\sim Bin(n, p_j) $, either in j<sup>th</sup> category or not.\n",
    "\n",
    "$$\n",
    "E\\big(X_j\\big) = n p_j \\\\\n",
    "Var(X_j) = n p_j \\big( 1 - p_j \\big)\n",
    "$$"
   ]
  },
  {
   "cell_type": "markdown",
   "metadata": {},
   "source": [
    "### Lumping Property\n",
    "\n",
    "$\n",
    "\\vec{X} = \\big( X_1, X_2, \\cdots , X_10 \\big) \\sim Mult \\Big( n, \\begin{bmatrix} p_1 \\\\ p_2 \\\\ \\vdots \\\\ p_{10} \\end{bmatrix} \\Big)\n",
    "$\n",
    "\n",
    "Let $\n",
    "\\vec{Y} = \\big( X_1, X_2, x_3 + \\cdots + X_10 \\big) $ \n",
    "then \n",
    "\n",
    "$ \\vec{Y} \\sim Mult \\Big( n, \\begin{bmatrix} p_1 \\\\ p_2 \\\\ p_3 + \\cdots + p_{10} \\end{bmatrix} \\Big)\n",
    "$"
   ]
  },
  {
   "cell_type": "markdown",
   "metadata": {},
   "source": [
    "### Conditional\n",
    "\n",
    "$ \\vec{X} \\sim Mult\\big( n, \\vec{p} \\big) $, then given $ X_1 = n_1 $,\n",
    "\n",
    "$ \\big( X_2, X_3, \\cdots , X_k \\big) \\sim Mult_{k-1} \\big( n-n_1, \\begin{bmatrix} p_2' \\\\ p_3' \\\\ \\vdots \\\\ p_k' \\end{bmatrix} \\big) $\n",
    "\n",
    "with $ p_2' = P\\Big( \\text{a random obj being in Cat 2 } \\Big| \\text{Not in Cat 1} \\Big) = \\frac{p_2}{1-p_1} = \n",
    "\\frac{p_2}{p_2 + p_3 + \\cdots + p_k}\n",
    "$"
   ]
  },
  {
   "cell_type": "markdown",
   "metadata": {},
   "source": [
    "# Cauchy Problem\n",
    "\n",
    "Cauchy is distribution of $ \\frac{X}{Y} $ with i.i.d $ X,Y \\sim N(0,1) $\n",
    "\n",
    "Find PDF T of $ \\frac{X}{Y} $\n",
    "\n",
    "property: average of many iid Cauchy T dist still get Cauchy T distribution, no converge to mean.\n",
    "\n",
    "Two ways to solve this :\n",
    "\n",
    "#### 1.  Conditional\n",
    "\n",
    "Y could be negative, using symmetry of Norm(0,1)\n",
    "\n",
    "$\n",
    "P \\Big( \\frac{X}{Y} \\le t \\Big) = P \\Big( X \\le t \\ \\big| Y \\big| \\Big) \\\\\n",
    "= \\int_{-\\infty}^{\\infty} \\int_{-\\infty}^{t|y|} \\frac{1}{\\sqrt{2 \\pi}} e^{-x^2/2} \\cdot \n",
    "\\frac{1}{\\sqrt{2 \\pi}} e^{-y^2/2} \\ dx \\ dy \\\\\n",
    "= \\frac{1}{\\sqrt{2 \\pi}} \\int_{-\\infty}^{\\infty} \\ e^{-y^2/2} \\ \\int_{-\\infty}^{t|y|} \\frac{1}{\\sqrt{2 \\pi}} e^{-x^2/2} \\cdot \n",
    "  \\ dx \\ dy \\\\\n",
    "= \\frac{1}{\\sqrt{2 \\pi}} \\int_{-\\infty}^{\\infty} \\ \\underbrace{ e^{-y^2/2} \\ \\Phi\\big( t|y| \\big) }_{\\text{even function}} \\ dy \\\\\n",
    "= \\sqrt{\\frac{2}{\\pi}} \\int_0^{\\infty} \\  e^{-y^2/2} \\ \\Phi\\big( t y \\big) \\ dy \\ , \\text{ this is CDF of } \\frac{X}{Y}\n",
    "$\n",
    "\n",
    "$\n",
    "PDF = (CDF)' = \\frac{d}{dt} CDF \\\\\n",
    "= F'(t) = \\frac{d}{dt} \\sqrt{\\frac{2}{\\pi}} \\int_0^{\\infty} \\  e^{-y^2/2} \\ \\frac{1}{\\sqrt{2 \\pi}} e^{-t^2 y^2 /2} \\ dy \\\\\n",
    "= \\frac{1}{\\pi} \\int_0^{\\infty} y e^{-(1+t^2) y^2 /2} \\\\\n",
    "= \\frac{1}{\\pi (1 + t^2)}\n",
    "$\n",
    "\n",
    "#### 2. Law of Total Prob.\n",
    "\n",
    "$$\n",
    "P \\big( X \\le t | Y | \\big) = \\int_{-\\infty}^{\\infty} P \\big( X \\le t|Y| \\ \\big| \\ Y = y \\big) \\Phi(y) dy \\\\\n",
    "= \\int_{-\\infty}^{\\infty} \\Phi \\big( t\\ |y| \\big) \\Phi \\big( y \\big) \\ dy\n",
    "$$"
   ]
  }
 ],
 "metadata": {
  "kernelspec": {
   "display_name": "p3lab",
   "language": "python",
   "name": "p3lab"
  },
  "language_info": {
   "codemirror_mode": {
    "name": "ipython",
    "version": 3
   },
   "file_extension": ".py",
   "mimetype": "text/x-python",
   "name": "python",
   "nbconvert_exporter": "python",
   "pygments_lexer": "ipython3",
   "version": "3.6.1"
  }
 },
 "nbformat": 4,
 "nbformat_minor": 2
}
