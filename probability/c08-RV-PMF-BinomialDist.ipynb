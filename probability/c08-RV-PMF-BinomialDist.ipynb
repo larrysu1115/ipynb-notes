{
 "cells": [
  {
   "cell_type": "markdown",
   "metadata": {},
   "source": [
    "# Binomial Distribution"
   ]
  },
  {
   "cell_type": "code",
   "execution_count": 1,
   "metadata": {},
   "outputs": [
    {
     "name": "stdout",
     "output_type": "stream",
     "text": [
      "PMF P(X=0) = 0.0060\n",
      "PMF P(X=1) = 0.0403\n",
      "PMF P(X=2) = 0.1209\n",
      "PMF P(X=3) = 0.2150\n",
      "PMF P(X=4) = 0.2508\n",
      "PMF P(X=5) = 0.2007\n",
      "PMF P(X=6) = 0.1115\n",
      "PMF P(X=7) = 0.0425\n",
      "PMF P(X=8) = 0.0106\n",
      "PMF P(X=9) = 0.0016\n",
      "PMF P(X=10) = 0.0001\n"
     ]
    },
    {
     "data": {
      "image/png": "[encoded data removed]",
      "text/plain": [
       "<matplotlib.figure.Figure at 0x7efc688ac048>"
      ]
     },
     "metadata": {},
     "output_type": "display_data"
    }
   ],
   "source": [
    "import matplotlib\n",
    "import numpy as np\n",
    "import pandas as pd\n",
    "from scipy.misc import comb\n",
    "import matplotlib.pyplot as plt\n",
    "\n",
    "%matplotlib inline\n",
    "\n",
    "np.set_printoptions(precision=3)\n",
    "np.set_printoptions(suppress=True)\n",
    "\n",
    "n = 10\n",
    "p = 0.4\n",
    "size = 10000\n",
    "\n",
    "x = np.random.binomial(n=n, p=p, size=size)\n",
    "fig, (ax1, ax2) = plt.subplots(nrows=1, ncols=2, figsize=(10,5), sharey=True)\n",
    "fig.suptitle('Binomial Distribution: Bin(n=%d, p=%.2f)' % (n, p), fontsize=14)\n",
    "\n",
    "r_n, r_bins, r_patches = ax1.hist(x, facecolor='b', alpha=0.5, normed=1)\n",
    "ax1.set_xlabel('k')\n",
    "ax1.set_ylabel('Probability X = k')\n",
    "ax1.set_title('PMF')\n",
    "\n",
    "r_n, r_bins, r_patches = ax2.hist(x, facecolor='b', alpha=0.5, normed=1, cumulative=1)\n",
    "ax2.set_xlabel('k')\n",
    "ax2.set_ylabel('Probability X <= k')\n",
    "ax2.set_title('PDF')\n",
    "\n",
    "for k in range(n+1):\n",
    "    pmf_k = comb(n,k) * np.power(p,k) * np.power(1.0-p, n-k)\n",
    "    print(\"PMF P(X=%d) = %.4f\" % (k, pmf_k))\n",
    "    \n",
    "plt.show();"
   ]
  },
  {
   "cell_type": "markdown",
   "metadata": {},
   "source": [
    "$$\n",
    "PMF(X=k) = \\binom{n}{k} \\times p^k \\times q^{n-k}\n",
    "$$"
   ]
  }
 ],
 "metadata": {
  "kernelspec": {
   "display_name": "cv",
   "language": "python",
   "name": "cv"
  },
  "language_info": {
   "codemirror_mode": {
    "name": "ipython",
    "version": 3
   },
   "file_extension": ".py",
   "mimetype": "text/x-python",
   "name": "python",
   "nbconvert_exporter": "python",
   "pygments_lexer": "ipython3",
   "version": "3.5.2"
  }
 },
 "nbformat": 4,
 "nbformat_minor": 2
}
