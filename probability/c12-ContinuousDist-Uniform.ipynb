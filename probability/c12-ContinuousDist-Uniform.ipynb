{
 "cells": [
  {
   "cell_type": "markdown",
   "metadata": {},
   "source": [
    "# Continuous Distribution\n",
    "\n",
    "### PDF : Probability Density Function\n",
    "\n",
    "<img style=\"float:right;\" src=\"imgs/c12_prob_pdf.png\" />\n",
    "\n",
    "Probability per something, 每單位的密度。\n",
    "\n",
    "Def: r.v. X has PDF $ f(x) $ if  \n",
    "\n",
    "$$\n",
    "P \\big( a \\le X \\le b \\big) = \n",
    "\\int_a^b f(x) \\ dx \\text{ , for all a, b }\n",
    "$$\n",
    "\n",
    "Note : $ P \\big( a \\le X \\le a \\big) = \\int_a^a f(x) \\ dx = 0 $\n",
    "\n",
    "### To be valid PDF\n",
    "\n",
    "$$\n",
    "f(x) \\ge 0 \\ , \\ \\int_{-\\infty}^{\\infty} f(x) \\ dx = 1 \n",
    "$$\n",
    "\n",
    "sum of area under curve is 1.\n",
    "\n",
    "for $ \\epsilon \\gt 0$, very small,\n",
    "\n",
    "$$\n",
    "f \\big(x_0\\big) \\times \\epsilon \\approx P \\Big( X \\in ( x_0 - \\frac{\\epsilon}{2}, x_0 + \\frac{\\epsilon}{2} ) \\Big)\n",
    "$$\n",
    "\n",
    "### CDF : Cumulative Distribution Function\n",
    "\n",
    "If X has PDF: f, the CDF is :\n",
    "$$ \n",
    "F(x) = P \\big( X \\le x \\big) \n",
    "= \\int_{-\\infty}^{x} \\underbrace{f(t)}_{PDF} \\ dt \n",
    "$$"
   ]
  },
  {
   "cell_type": "markdown",
   "metadata": {},
   "source": [
    "## Comparison of Concrete and Continuous Distribution\n",
    "\n",
    "| . . . . . . . . . .Distribution. . . . . . . . . . | . . . . . . . . . .Concrete. . . . . . . . . . | . . . . . . . . . .Continuous. . . . . . . . . . |\n",
    "| - | - | - |\n",
    "| Random Variable | $ X $ | $ X $ |\n",
    "|   | PMF : $ P\\big(X=x\\big) $ | PDF : $ f_X \\big( x \\big) = F'_X \\big( x \\big) $ |\n",
    "| CDF | $ F_X \\big( x \\big) = P \\big( X \\le x \\big) $ | the same |\n",
    "| Expected Value | $ E \\big(X\\big) = \\sum_x x \\ P(X=x) $ | $ E \\big(X\\big) = \\int_{-\\infty}^{\\infty} x \\ f_X(x) dx $ |\n",
    "| Variation | $ Var\\big(X\\big) = E(X^2) - (EX)^2  $ | the same |"
   ]
  }
 ],
 "metadata": {
  "kernelspec": {
   "display_name": "Python 3",
   "language": "python",
   "name": "python3"
  },
  "language_info": {
   "codemirror_mode": {
    "name": "ipython",
    "version": 3
   },
   "file_extension": ".py",
   "mimetype": "text/x-python",
   "name": "python",
   "nbconvert_exporter": "python",
   "pygments_lexer": "ipython3",
   "version": "3.6.1"
  }
 },
 "nbformat": 4,
 "nbformat_minor": 2
}
