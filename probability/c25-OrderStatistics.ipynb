{
 "cells": [
  {
   "cell_type": "markdown",
   "metadata": {},
   "source": [
    "### Bank and Post Office example\n",
    "\n",
    "X: 在銀行排隊等待的時間。前面有 a 個人，每個人要 $ Expo(\\lambda) $ 的時間。  \n",
    "Y: 在郵局排隊等待的時間。前面有 b 個人，每個人要 $ Expo(\\lambda) $ 的時間。\n",
    "\n",
    "X, Y are indep.\n",
    "\n",
    "$ X \\sim Gamma\\big( a, \\lambda \\big)$\n",
    "\n",
    "$ Y \\sim Gamma\\big( b, \\lambda \\big)$\n",
    "\n",
    "(a). Find distribution of total waiting time: T = X + Y\n",
    "\n",
    "(b). Find distribution of fraction of waiting time spend in bank $ W = \\frac{X}{X+Y} $\n",
    "\n",
    "(c). Find the joint distribution of T, W.\n",
    "\n",
    "(d). Are T, W indep. ?\n",
    "\n",
    "因為 $ Gamma\\big( a, \\lambda \\big) $ 是 a 個 i.i.d 的 r.v. :$ Expo\\big(\\lambda \\big) $ 的總合。  \n",
    "所以 (a) $ T = X + Y \\sim Gamma\\big(a+b, \\lambda \\big)$"
   ]
  },
  {
   "cell_type": "markdown",
   "metadata": {},
   "source": [
    "Let &lambda; = 1, 因為 &lambda; 只是縮放的效果 scaling.\n",
    "\n",
    "Joint PDF:\n",
    "\n",
    "$\n",
    "f_{T,W} \\big( t, w \\big) = f_{X,Y} \\big( x, y \\big) \\ \\ \\Bigg| \\frac{d(x,y)}{d(t,w)} \\Bigg|\n",
    "$\n",
    "\n",
    "因為 X, Y are indep. Joined PDF 只需要相乘 $ f_X, \\ f_Y $，再乘上 Jacobian\n",
    "\n",
    "$\n",
    "f_{X,Y} \\big( x, y \\big) \\ \\ \\Bigg| \\frac{d(x,y)}{d(t,w)} \\Bigg|\n",
    "= \\frac{1}{\\Gamma(a) \\ \\Gamma(b)} x^a e^{-x} y^b e^{-y} \\frac{1}{xy}\n",
    "\\ \\ \\big| \\ -t \\ \\big|\n",
    "$"
   ]
  },
  {
   "cell_type": "markdown",
   "metadata": {},
   "source": [
    "將上式替換成用 t, w 表示 \n",
    "$$\n",
    "f_{X,Y} \\big( x, y \\big) \\ \\ \\Bigg| \\frac{d(x,y)}{d(t,w)} \\Bigg|\n",
    "\\ \\ = \\ \\  \\frac{1}{\\Gamma(a) \\ \\Gamma(b)} \n",
    "w^{a-1} (1-w)^{b-1} t^{a+b} e^{-t} \\frac{1}{t}\n",
    "$$"
   ]
  },
  {
   "cell_type": "markdown",
   "metadata": {},
   "source": [
    "因為上面的 Joint PDF 是 w, t 的 function 相乘，所以 (d):YES, W and T are indep.\n",
    "\n",
    "將上式替換成用 t, w 表示 \n",
    "$$\n",
    "f_{X,Y} \\big( x, y \\big) \\ \\ \\Bigg| \\frac{d(x,y)}{d(t,w)} \\Bigg|\n",
    "\\ \\ = \\ \\  \\frac{\\Gamma(a+b)}{\\Gamma(a) \\ \\Gamma(b)} \n",
    "w^{a-1} (1-w)^{b-1} \n",
    "\\underbrace{\\frac{1}{\\Gamma(a+b)} t^{a+b} e^{-t} \\frac{1}{t}}_{\\Gamma(a+b,1)}\n",
    "$$"
   ]
  },
  {
   "cell_type": "markdown",
   "metadata": {},
   "source": [
    "note: jacobian\n",
    "\n",
    "$\n",
    "x+y=t, \\ \\ \\frac{x}{x+y}=w \\\\\n",
    "\\to x = tw, \\\\ \n",
    "\\to y = t \\ (1-w)\n",
    "$\n",
    "\n",
    "$\n",
    "\\Bigg| \\frac{d(x,y)}{d(t,w)} \\Bigg| = \n",
    "\\begin{bmatrix}\n",
    "x \\frac{d}{dt} & x \\frac{d}{dw} \\\\\n",
    "y \\frac{d}{dt} & y \\frac{d}{dw}\n",
    "\\end{bmatrix} = \n",
    "\\begin{bmatrix}\n",
    "w & t \\\\\n",
    "1-w & -t\n",
    "\\end{bmatrix} \\to det = -t\n",
    "$"
   ]
  },
  {
   "cell_type": "markdown",
   "metadata": {},
   "source": [
    "獲得 Joint PDF: $ f_{T,W} $ 後，可以積分得到 marginal PDF of W : $ f_W $.\n",
    "\n",
    "$\n",
    "f_W(w) = \\int_{-\\infty}^{\\infty} f_{T,W} \\big( t, w \\big) dt \\\\\n",
    "=\n",
    "\\frac{\\Gamma(a+b)}{\\Gamma(a) \\ \\Gamma(b)} \n",
    "w^{a-1} (1-w)^{b-1} \n",
    "\\underbrace{\\int_{-\\infty}^{\\infty} \\frac{1}{\\Gamma(a+b)} t^{a+b} e^{-t} \\frac{1}{t}}_{\\int \\Gamma(a+b,1) \\ \\ = 1} \\\\\n",
    "= \\frac{\\Gamma(a+b)}{\\Gamma(a) \\ \\Gamma(b)} \n",
    "w^{a-1} (1-w)^{b-1} \n",
    "$"
   ]
  },
  {
   "cell_type": "markdown",
   "metadata": {},
   "source": [
    "上式就是 marginal PDF of W : $ f_W $,  \n",
    "也是 Beta : $ f_W \\sim Beta \\big(a,b\\big) $\n",
    "\n",
    "如此也得知: \n",
    "\n",
    "1. Beta distribution 的 Normalizing Constant c.\n",
    "2. T~Gamma(a+b, 1) , W~Beta(a,b), are indep.\n",
    "\n",
    "也有另外的定理證明，如果將 X,Y 設定為不是 Gamma，則 T,W 不會 indep."
   ]
  },
  {
   "cell_type": "markdown",
   "metadata": {},
   "source": [
    "## Example\n",
    "\n",
    "使用上面證明的定理\n",
    "\n",
    "Find E(W), W~Beta(a,b)\n",
    "\n",
    "because $ T \\sim X+Y $, $ W \\sim \\frac{X}{X+Y}$,  \n",
    "T and W are indep., implies T and W are uncorrelated.\n",
    "\n",
    "\n",
    "note: if A and B are uncorrelated: \n",
    "\n",
    "$$\n",
    "E\\big(A\\big) \\ \\ \\times \\ \\  E\\big(B\\big) = E\\big(A \\times B \\big)\n",
    "$$\n",
    "\n",
    "So, for W and T:\n",
    "\n",
    "$$\n",
    "E\\big(T\\big) \\times E\\big(W\\big) = E\\big( \\frac{X}{X+Y} \\big) \\times E\\big( X+Y \\big) \\\\\n",
    "= E\\big(\\frac{X}{X+Y} \\times X+Y \\big) \\\\\n",
    "= E\\big(X\\big) = \\frac{a}{a+b}\n",
    "$$"
   ]
  },
  {
   "cell_type": "markdown",
   "metadata": {},
   "source": [
    "---\n",
    "\n",
    "# Order Statistics\n",
    "\n",
    "Let $ X_1, X_2, \\cdots, X_n $ be i.i.d r.v.s  \n",
    "The Order Statistics is $ X_{(1)} \\le X_{(2)} \\le \\cdots \\le X_{(n)} $,  \n",
    "where $ X_{(1)} = MIN( \\ X_1, X_2, \\cdots, X_n \\ ) $  \n",
    "$ X_{(n)} = MAX( \\ X_1, X_2, \\cdots, X_n \\ ) $\n",
    "\n",
    "if n is odd, median is $ X_{(\\frac{n+1}{2})} $\n",
    "\n",
    "Get other quantiles"
   ]
  },
  {
   "cell_type": "markdown",
   "metadata": {},
   "source": [
    "- difficult since dependent : 知道第一個是a,第二個就必須比a大...\n",
    "- tricky in discrete case because of \"ties\" (兩個項一樣大)"
   ]
  },
  {
   "cell_type": "markdown",
   "metadata": {},
   "source": [
    "## Distribution\n",
    "\n",
    "Let $ X_1, \\cdots,  X_n $ be i.i.d. with PDF f, CDF F.  \n",
    "Find CDF, PDF of $ X_{(j)} $\n",
    "\n",
    "### CDF : $ P\\big( X_{(j)} \\le x \\big) $\n",
    "\n",
    "CDF : $ \n",
    "P \\Big( \\text{ at least } X_j \\text{ 's are } \\le x \\Big)\n",
    "= \\sum_{k=j}^n \\binom{n}{k} \\ F \\big(x\\big)^k \\Big( 1 - F(x)\\Big)^{n-k}\n",
    "$ "
   ]
  },
  {
   "cell_type": "markdown",
   "metadata": {},
   "source": [
    "```\n",
    "|----------|---------|----------|-----------\n",
    "X(1) ...  X(j-1)    X(j)  ...   x\n",
    "```"
   ]
  },
  {
   "cell_type": "markdown",
   "metadata": {},
   "source": [
    "計算在 小x 的左側有多少個 $ X_{(?)} $  \n",
    "假設有 k 個 $ X_{(?)} $ 在 小x 的左側，發生的機率是?  \n",
    "在左側視作成功，右側視作失敗，就是一個 binomial."
   ]
  },
  {
   "cell_type": "markdown",
   "metadata": {},
   "source": [
    "### PDF\n",
    "\n",
    "PDF : $ f_{X_{(j)}}(x) $"
   ]
  },
  {
   "cell_type": "markdown",
   "metadata": {},
   "source": [
    "```\n",
    "\n",
    "<- j-1 items->       <- n-j items->\n",
    "              <- dx->\n",
    "|-------------(--|--)--------------\n",
    "                 x\n",
    "```\n",
    "\n",
    "PDF 是 density, 可能大於一；如果將PDF乘以一段小距離 dx ，就是該段小距離發生的機率。\n",
    "\n",
    "假設 $ X_(j) $ 發生的機率就是這一小段 dx 的距離。"
   ]
  },
  {
   "cell_type": "markdown",
   "metadata": {},
   "source": [
    "$$\n",
    "f_{X_{(j)}} (x) \\ dx = \n",
    "n \\binom{n-1}{j-1} \\Big( f(x) \\ dx \\Big) \\ \\ \\big( F(x) \\big)^{j-1} \\ \\ \\big( 1 - F(x) \\big)^{n-j}\n",
    "$$\n",
    "\n",
    "n: 有 n 個 X，其中一定有一個在 dx 段上。有 n 個選擇。該選擇發生的機率是 $ f(x) dx $\n",
    "\n",
    "選了一個之後，剩下 n-1 個，需要選擇 j-1 個在 x 左側。\n",
    "\n",
    "整理一下，可得:\n",
    "\n",
    "$$\n",
    "f_{X_{(j)}} (x) = \n",
    "n \\binom{n-1}{j-1} \\ \\ \\big( F(x) \\big)^{j-1} \\ \\ \\big( 1 - F(x) \\big)^{n-j} f(x)\n",
    "$$"
   ]
  },
  {
   "cell_type": "markdown",
   "metadata": {},
   "source": [
    "### Example\n",
    "\n",
    "Let $ U_1, U_2, \\cdots, U_n $ be i.i.d $ Unif \\big(0,1\\big) $\n",
    "\n",
    "Find PDF of j<sup>th</sup> ordered statistics\n",
    "\n",
    "$$\n",
    "f_{U_{(j)}} (x) =\n",
    "n \\binom{n-1}{j-1} \\ \\ x^{j-1} \\ \\ \\big( 1 - x \\big)^{n-j} \\times 1 \\\\\n",
    "\\to \\ \\ U_{(j)} \\sim Beta \\big(\\ j, n-j+1 \\big)\n",
    "$$"
   ]
  },
  {
   "cell_type": "markdown",
   "metadata": {},
   "source": [
    "之前有討論過的 $ E \\big( | U_1 - U_2 | \\big) $\n",
    "\n",
    "$ \n",
    "E \\big( | U_1 - U_2 | \\big) = E\\big(max\\big) - E\\big(min\\big) \\\\\n",
    "= E \\Big( Beta(2,1) \\Big) - E \\Big( Beta(1,2) \\Big) \\\\\n",
    "= 2/3 - 1/3 = 1/3\n",
    "$"
   ]
  }
 ],
 "metadata": {
  "kernelspec": {
   "display_name": "p3lab",
   "language": "python",
   "name": "p3lab"
  },
  "language_info": {
   "codemirror_mode": {
    "name": "ipython",
    "version": 3
   },
   "file_extension": ".py",
   "mimetype": "text/x-python",
   "name": "python",
   "nbconvert_exporter": "python",
   "pygments_lexer": "ipython3",
   "version": "3.6.1"
  }
 },
 "nbformat": 4,
 "nbformat_minor": 2
}
