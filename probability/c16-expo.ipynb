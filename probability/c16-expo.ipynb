{
 "cells": [
  {
   "cell_type": "markdown",
   "metadata": {},
   "source": [
    "# Exponential Distribution\n",
    "\n",
    "rate parameter: $ \\lambda $"
   ]
  },
  {
   "cell_type": "markdown",
   "metadata": {},
   "source": [
    "### PDF\n",
    "\n",
    "$ X \\sim Expo(\\lambda) $ has PDF:\n",
    "\n",
    "$$\n",
    "PDF: f(x) = \\lambda e^{-\\lambda x}, x \\gt 0\n",
    "$$"
   ]
  },
  {
   "cell_type": "markdown",
   "metadata": {},
   "source": [
    "valid PDF:\n",
    "\n",
    "$\n",
    "y = -\\lambda x \\\\\n",
    "\\frac{d}{dx} e^{-\\lambda x} \n",
    "= \\frac{dy}{dx} \\frac{d}{dy} e^y \n",
    "= \\frac{d}{dx} y \\times e^y\n",
    "= \\big[ \\frac{d}{dx} (-\\lambda x) \\big] \\times e^{-\\lambda x}\n",
    "= -\\lambda e^{-\\lambda x} \\\\\n",
    "\\int -\\lambda e^{-\\lambda x} = \\int \\frac{d}{dx} e^{-\\lambda x} \n",
    "= e^{-\\lambda x}\n",
    "$\n",
    "\n",
    "$\n",
    "\\int_0^{\\infty} \\lambda e^{-\\lambda x} dx \n",
    "= - \\int_0^{\\infty} - \\lambda e^{-\\lambda x} dx \n",
    "= - e^{-\\lambda x} \\Bigg|_0^{\\infty}\n",
    "= - \\frac{1}{e^{\\lambda \\infty}} - ( - \\frac{1}{e^{\\lambda 0}}) = 1\n",
    "$"
   ]
  },
  {
   "cell_type": "markdown",
   "metadata": {},
   "source": [
    "### CDF\n",
    "\n",
    "$$\n",
    "CDF : F(x) \n",
    "= \\int_0^x \\lambda e^{- \\lambda t} dt \n",
    "= - e^{-\\lambda t} \\Bigg|_0^x = \\\\\n",
    "= - e^{-\\lambda x} - (- e^{-\\lambda 0}) \n",
    "= - e^{-\\lambda x} + \\frac{1}{1} \\\\\n",
    "= 1 - e^{-\\lambda x}, x \\gt 0\n",
    "$$\n",
    "\n",
    "this is a continuous, increasing to 1, valid CDF."
   ]
  },
  {
   "cell_type": "markdown",
   "metadata": {},
   "source": [
    "### EX of Expo(1)\n",
    "\n",
    "Let $ Y \\sim \\lambda X $, then $ Y \\sim Expo(1) $\n",
    "\n",
    "$ P(Y \\le y) = P(X \\le \\frac{y}{\\lambda}) = 1 - e^{-y} $\n",
    "\n",
    "Let $ Y \\sim Expo(1) $, find E(Y), Var(Y)\n",
    "\n",
    "$\n",
    "E(Y) = \\int_0^{\\infty} \\underbrace{y}_u \\overbrace{e^{-y} dy}^{dv} \\\\\n",
    "= \\int u dv = uv \\Bigg|_0^{\\infty} - \\int v du \\\\\n",
    "= - y e^{-y} \\Bigg|_0^{\\infty} - \\big( \\int - e^{-y} dy \\big) \\\\\n",
    "= \\underbrace{ - y e^{-y} \\Bigg|_0^{\\infty} }_{0} + \\underbrace{ \\int e^{-y} dy }_{\\text{integral PDF of Expo(1) = 1}} = 1\n",
    "$\n",
    "\n",
    "Note:\n",
    "\n",
    "$\n",
    "du = dy, v = -e^{-y}\n",
    "$"
   ]
  },
  {
   "cell_type": "markdown",
   "metadata": {},
   "source": [
    "### Var of Expo(1)\n",
    "\n",
    "$\n",
    "Var(Y) = E(Y^2) - (EY)^2 \\\\\n",
    "= \\int_0^{\\infty} y^2 e^{-y} dy - 1^2 = 1\n",
    "$"
   ]
  },
  {
   "cell_type": "markdown",
   "metadata": {},
   "source": [
    "### EX, VAR of $ Expo(\\lambda) $\n",
    "\n",
    "$ X = \\frac{Y}{\\lambda} $ has $ E(X) = \\frac{1}{\\lambda}, \\ \\ Var(X) = \\frac{1}{\\lambda^2} $"
   ]
  },
  {
   "cell_type": "markdown",
   "metadata": {},
   "source": [
    "## Memoryless Property\n",
    "\n",
    "無論經過多少時間，每一次仍然是新的，與過去無關的開始。如同等待電話鈴響，無論等多久，下一秒鈴響的機會仍然是一樣的。\n",
    "\n",
    "$$\n",
    "P \\Big( X \\ge s + t \\ \\Big| \\ X \\ge s \\Big) = P \\Big( X \\ge t \\Big)\n",
    "$$\n",
    "\n",
    "s: 等待過的時間\n",
    "\n",
    "### Survival Function\n",
    "\n",
    "Here $ P \\Big( X \\ge s \\Big) \n",
    "= 1 - P \\Big( X \\le t \\Big) \n",
    "= e^{-\\lambda s}\n",
    "$\n",
    "\n",
    "$\n",
    "P \\Big( X \\ge s + t \\ \\Bigg| \\ X \\ge s \\Big) \n",
    "= \\frac{P \\Big( X \\ge s+t,\\ \\  X \\ge s \\Big)}{P \\Big( X \\ge s \\Big)} \\\\\n",
    "= \\frac{e^{-\\lambda ( s + t )}}{e^{-\\lambda s}} \\\\\n",
    "= e^{-\\lambda t} = P \\big( X \\ge t \\big)\n",
    "$"
   ]
  },
  {
   "cell_type": "markdown",
   "metadata": {},
   "source": [
    "---\n",
    "\n",
    "$\n",
    "X \\sim Expo(\\lambda) \\\\\n",
    "E \\big( X \\ \\big| \\ X \\gt a \\big) \\\\\n",
    "= a + E \\big( X - a \\ \\big| \\ X \\gt a \\big) \\\\\n",
    "= a + \\frac{1}{\\lambda}, \\text{ by the memoryless property}\n",
    "$\n",
    "\n",
    "a: 等了至少 a 時間"
   ]
  }
 ],
 "metadata": {
  "kernelspec": {
   "display_name": "p3lab",
   "language": "python",
   "name": "p3lab"
  },
  "language_info": {
   "codemirror_mode": {
    "name": "ipython",
    "version": 3
   },
   "file_extension": ".py",
   "mimetype": "text/x-python",
   "name": "python",
   "nbconvert_exporter": "python",
   "pygments_lexer": "ipython3",
   "version": "3.6.1"
  }
 },
 "nbformat": 4,
 "nbformat_minor": 2
}
