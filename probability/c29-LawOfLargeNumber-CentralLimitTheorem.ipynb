{
 "cells": [
  {
   "cell_type": "markdown",
   "metadata": {},
   "source": [
    "Let $ X_1, X_2, \\cdots $ be iid with mean $ \\mu $, var $ \\sigma^2 $\n",
    "\n",
    "### Sample mean: $ \\overline{X_n} $\n",
    "\n",
    "average of first n rv: let $ \\overline{X_n} = \\frac{1}{n} \\sum_{j=1}^n X_j $\n",
    "\n",
    "如果 n 越來越大，可以觀察到 $ \\overline{X_n} $ 有什麼特性？"
   ]
  },
  {
   "cell_type": "markdown",
   "metadata": {},
   "source": [
    "# Law of Large Number\n",
    "\n",
    "<img src=\"imgs/c29-law-large-number.svg\" style=\"width:350px;float:right;\" />\n",
    "\n",
    "$$\n",
    "\\overline{X_n} \\to \\mu \\text{ as } n \\to \\infty \\text{ with probability 1.}\n",
    "$$\n",
    "\n",
    "### Example\n",
    "\n",
    "$ X_j \\sim Bern(p) $, then $ \\frac{X_1+\\cdots+X_n}{n} \\to p $ with probability 1.\n",
    "\n",
    "proof: Week Law\n",
    "\n",
    "for any c &gt; 0, as n goes to infinity,  \n",
    "$\n",
    "P\\big( \\ \\big| \\overline{X_n} - \\mu \\big| \\ \\ \\gt c \\big) \\to 0\n",
    "$\n",
    "\n",
    "By Chebyshev's inequality, \n",
    "\n",
    "$\n",
    "P\\big( \\ \\big| \\overline{X_n} - \\mu \\big| \\ \\ \\gt c \\big) \n",
    "\\le \\frac{Var \\big( \\overline{X_n} \\big)}{c^2}\n",
    "= \\frac{1/n^2 \\ n \\ \\sigma^2}{c^2} \n",
    "= \\frac{\\sigma^2}{n c^2} \\to 0\n",
    "$"
   ]
  },
  {
   "cell_type": "markdown",
   "metadata": {},
   "source": [
    "# Central Limit Theorem\n",
    "\n",
    "what does the distribution of $ \\overline{X_n} $ look like?\n",
    "\n",
    "$$\n",
    "n^{1/2} \\frac{ \\big( \\overline{X_n} - \\mu \\big)}{\\sigma} \\sim N \\big( 0, 1 \\big)\n",
    "$$\n",
    "\n",
    "the distribution converges to Normal Dist., not r.v. converges here.\n",
    "\n",
    "Equivalently:\n",
    "\n",
    "$$\n",
    "\\frac{\\sum_{j=1}^n X_j \\ - n \\ \\mu}{\\sqrt{n} \\ \\sigma} \n",
    "\\to N \\big( 0,1 \\big)\n",
    "$$"
   ]
  },
  {
   "cell_type": "markdown",
   "metadata": {},
   "source": [
    "Proof:\n",
    "\n",
    "assume MGF $ M\\big(t\\big) $ exists.\n",
    "\n",
    "since consider $ \\frac{1}{\\sqrt{n}} \\sum_{j=1}^n \\frac{\\big( X - \\mu \\big)}{\\sigma} $\n",
    "\n",
    "Let $ S_n = \\sum_{j=1}^n X_s $,  \n",
    "show MGF of $ \\frac{S_n}{\\sqrt{n}} $ goes to MGF of $ N \\big(0,1\\big) $\n",
    "\n",
    "$\n",
    "E\\Big( e^{t S_n / \\sqrt{n} } \\Big) \\\\\n",
    "= E\\big( e^{t X_1 / \\sqrt{n} } \\big) \\ \n",
    "E\\big( e^{t X_2 / \\sqrt{n} } \\big) \\ \\cdots \\ \n",
    "E\\big( e^{t X_n / \\sqrt{n} } \\big) \\\\\n",
    "= \\Big( M \\big( \\frac{t}{\\sqrt{n}} \\big) \\Big)^n\n",
    "$\n",
    "\n",
    "take logs\n",
    "\n",
    "$\n",
    "\\lim_{n \\to \\infty} n \\log M \\big( \\frac{t}{\\sqrt{n}} \\big) \n",
    "= \\lim_{n \\to \\infty} \\frac{\\log M \\big( \\frac{t}{\\sqrt{n}} \\big)}{\\frac{1}{n}}\n",
    "$\n",
    "\n",
    "let $ y = \\frac{1}{\\sqrt{n}} $, and let y be real  \n",
    "and use \"L'Hospital's Rule\"\n",
    "\n",
    "$\n",
    "\\lim_{y \\to \\infty} \\frac{\\log M \\big( ty \\big)}{y^2}\n",
    "= \\lim_{y \\to \\infty} \\frac{t M'(yt)}{2y \\underbrace{M(yt)}_{\\to 1}} \\\\\n",
    "= \\frac{t}{2} \\lim_{y \\to \\infty} \\frac{ M'(yt)}{y} \\\\\n",
    "= \\frac{t^2}{2} \\lim_{y \\to \\infty} \\frac{ M''(yt)}{1} = \\frac{t^2}{2}\n",
    "\\text{ which is the log of } \\underbrace{e^{t^2/2}}_{MGF \\ of \\ N(0,1)}\n",
    "$\n",
    "\n",
    "note: \n",
    "\n",
    "$\n",
    "M(t) = E \\big( e^{tX} \\big) \\\\\n",
    "M(0) = 1 \\\\\n",
    "M'(0) = 0 \\\\\n",
    "M''(0) = 1\n",
    "$"
   ]
  },
  {
   "cell_type": "markdown",
   "metadata": {},
   "source": [
    "### Example : Binomial approximated by Normal\n",
    "\n",
    "Let $ X \\sim Bin(n,p) $, think of $ X = \\sum_{j=1}^n X_j $,  \n",
    "$ X_j \\sim Bern(p) $ i.i.d\n",
    "\n",
    "$\n",
    "P\\big( a \\le X \\le b \\big) \n",
    "= P\\big( \\frac{a - np}{\\sqrt{npq}} \\big) \n",
    "\\le \\frac{X - np}{\\sqrt{npq}}\n",
    "\\le \\frac{b - np}{\\sqrt{npq}} \\big) \\\\\n",
    "\\approx \\Phi \\big( \\frac{b-np}{\\sqrt{npq}} \\big) \n",
    "- \\Phi \\big( \\frac{a-np}{\\sqrt{npq}} \\big)\n",
    "$\n",
    "\n",
    "上面是將兩個 CDF 相減得到機率"
   ]
  },
  {
   "cell_type": "markdown",
   "metadata": {},
   "source": [
    "contrast with Pois Approx. Pois n large, p small, &lambda; = np moderate.\n",
    "\n",
    "Normal n large, p close to 1/2"
   ]
  },
  {
   "cell_type": "markdown",
   "metadata": {},
   "source": [
    "### Continuous Correction\n",
    "\n",
    "using something continuous to approximate something discrete.\n",
    "\n",
    "$\n",
    "P \\big( X = a \\big) = P \\big( a-\\frac{1}{2} \\le X \\le a+\\frac{1}{2}  \\big)\n",
    "$"
   ]
  }
 ],
 "metadata": {
  "kernelspec": {
   "display_name": "p3lab",
   "language": "python",
   "name": "p3lab"
  },
  "language_info": {
   "codemirror_mode": {
    "name": "ipython",
    "version": 3
   },
   "file_extension": ".py",
   "mimetype": "text/x-python",
   "name": "python",
   "nbconvert_exporter": "python",
   "pygments_lexer": "ipython3",
   "version": "3.6.1"
  }
 },
 "nbformat": 4,
 "nbformat_minor": 2
}
