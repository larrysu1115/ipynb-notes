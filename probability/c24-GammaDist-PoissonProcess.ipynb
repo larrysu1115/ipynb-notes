{
 "cells": [
  {
   "cell_type": "markdown",
   "metadata": {},
   "source": [
    "# Gamma Distribution"
   ]
  },
  {
   "cell_type": "markdown",
   "metadata": {},
   "source": [
    "<img style=\"float:right;width:300px;\" src=\"imgs/c24_gamma_stirling.svg\" />\n",
    "\n",
    "### Stirling's Approximation\n",
    "\n",
    "number series: 0, 1, 2, ...\n",
    "\n",
    "could be : 0, 1!, 2!!, 3!!! = 0, 1, 2, 720!\n",
    "\n",
    "[Striling's formula](https://en.wikipedia.org/wiki/Stirling%27s_approximation):\n",
    "\n",
    "$$\n",
    "n! \\approx \\sqrt{2 \\pi n} \\big( \\frac{n}{e} \\big)^n\n",
    "$$\n",
    "\n",
    "如何連起 factorial (x,y): (0,0!), (1,1!), (2,2!), (3,3!), (4,4!),... 之間整數點的連續線段？"
   ]
  },
  {
   "cell_type": "markdown",
   "metadata": {},
   "source": [
    "### Gamma Function : $ \\Gamma $\n",
    "\n",
    "$$\n",
    "\\Gamma \\big( a \\big) = \\int_0^{\\infty} x^a e^{-x} \\frac{dx}{x}, \\text{ for any real } a \\gt 0.\n",
    "$$\n",
    "\n",
    "Properties:\n",
    "\n",
    "$\n",
    "\\Gamma \\big( n \\big) = \\big( n - 1\\big)!\\ \\ , \\text{ for any n is positive integer.} \\\\\n",
    "\\Gamma \\big( x+1 \\big) = x \\ \\Gamma \\big( x \\big)\n",
    "$\n",
    "\n",
    "列舉:\n",
    "\n",
    "$\n",
    "\\begin{align}\n",
    "x=0,\\ & \\Gamma \\big( 1 \\big) = 1 &     & & \\\\\n",
    "x=1,\\ & \\Gamma \\big( 2 \\big) = \\Gamma \\big( 1+1 \\big) & = 1 \\times \\Gamma \\big( 1 \\big) & = 1 \\times 0! = 1 \\\\\n",
    "x=2,\\ & \\Gamma \\big( 3 \\big) = \\Gamma \\big( 2+1 \\big) & = 2 \\times \\Gamma \\big( 2 \\big) & = 2 \\times 1! = 2 \\\\\n",
    "x=3,\\ & \\Gamma \\big( 4 \\big) = \\Gamma \\big( 3+1 \\big) & = 3 \\times \\Gamma \\big( 3 \\big) & = 3 \\times 2! = 6  \\\\\n",
    "\\end{align}\n",
    "$"
   ]
  },
  {
   "cell_type": "markdown",
   "metadata": {},
   "source": [
    "### Solve $ \\Gamma \\big( \\frac{1}{2} \\big) = ? $\n",
    "\n",
    "$\n",
    "\\Gamma \\big( \\frac{1}{2} \\big) = \\sqrt{\\pi} \\\\\n",
    "\\Gamma \\big( \\frac{3}{2} \\big) = \\Gamma \\big( \\frac{1}{2} + 1 \\big)\n",
    "= \\frac{1}{2} \\Gamma \\big( \\frac{1}{2} \\big) = \\frac{1}{2} \\sqrt{\\pi}\n",
    "$"
   ]
  },
  {
   "cell_type": "markdown",
   "metadata": {},
   "source": [
    "從 Gamma Function, 令其積分為 1，推出 PDF of Gamma distribution.\n",
    "\n",
    "$$\n",
    "\\Gamma \\big( a \\big) = \\int_0^{\\infty} x^a e^{-x} \\frac{dx}{x}, \\text{ for any real } a \\gt 0. \\\\\n",
    "\\\\\n",
    "1 = \\int_0^{\\infty} \\frac{1}{\\Gamma(a)} x^a e^{-x} \\frac{dx}{x}\n",
    "$$\n",
    "\n",
    "## PDF of Gamma :\n",
    "\n",
    "$$\n",
    "\\frac{1}{\\Gamma(a)}\\ x^a\\ e^{-x}\\ \\frac{1}{x}\n",
    "$$"
   ]
  },
  {
   "cell_type": "markdown",
   "metadata": {},
   "source": [
    "### Gamma related to Expo\n",
    "\n",
    "$\n",
    "Y \\sim Gamma \\big(a, \\lambda \\big), \\ x \\gt 0, \\ y \\gt 0 \\\\\n",
    "\\text{Let } Y = \\frac{X}{\\lambda}, X \\sim Gamma \\big( a, 1 \\big), \n",
    "\\ \\ \\lambda \\text{ is just a scale parameter.} \\\\\n",
    "y = \\frac{x}{\\lambda}, \\ \\ x = \\lambda y, \\ \\ \\frac{dx}{dy} = \\lambda \\\\\n",
    "f_Y\\big( y \\big) = f_X \\big(x\\big) \\frac{dx}{dy} \\\\\n",
    "= \\frac{1}{\\Gamma(a)} \\big( \\lambda y \\big)^a e^{-\\lambda y} \\frac{1}{\\lambda y} \\ \\lambda \\\\\n",
    "= \\frac{1}{\\Gamma(a)} \\big( \\lambda y \\big)^a e^{-\\lambda y} \\frac{1}{y}\n",
    "$"
   ]
  },
  {
   "cell_type": "markdown",
   "metadata": {},
   "source": [
    "## Poisson Process\n",
    "\n",
    "```\n",
    " < e^(-lambda t) > < e^(-lambda t) > < e^(-lambda t) > < e^(-lambda...\n",
    "|-----------------|-----------------|-----------------|------------...\n",
    " <      t        > <      t        > <      t        > <      t    ...\n",
    "                  T1                T2                T3           ...\n",
    "```\n",
    "\n",
    "inter arrival time are i.i.d $ Expo(\\lambda) $\n",
    "\n",
    "$ T_n = \\sum_{j=1}^n X_j \\sim Gamma \\big( n, \\lambda \\big) $ \n",
    "\n",
    "time of nth arrival"
   ]
  },
  {
   "cell_type": "markdown",
   "metadata": {},
   "source": [
    "```\n",
    "     T1\n",
    "      v\n",
    "|----------------|-----------\n",
    "                 ^\n",
    "                 t\n",
    "```\n",
    "\n",
    "$ N_t $ : # of emails to time t. $ \\sim Pois(\\ \\lambda t \\ ) $\n",
    "\n",
    "assumption: # of arrivals in disjoint intervals are indep.\n",
    "\n",
    "$ P \\big( T_1 \\gt t \\big) = P \\big( N_t = 0 \\big) = e^{\\lambda t} $"
   ]
  },
  {
   "cell_type": "markdown",
   "metadata": {},
   "source": [
    "to prove, 2 ways 1.convolution, 2.MGF\n",
    "\n",
    "Proof that $ T_n = \\sum_{j=1}^n X_j $ is $ Gamma \\big( n, 1 \\big) $  \n",
    "where $ X_j $ is i.i.d $ Expo(1) $\n",
    "\n",
    "MGF of $ X_1 : \\frac{1}{1-t}, t \\lt 1 $  \n",
    "MGF of $ X_n : \\big( \\frac{1}{1-t} \\big)^n , t \\lt 1 $\n",
    "\n",
    "Let $ Y \\sim Gamma \\big( n, 1 \\big) $ :\n",
    "\n",
    "$$\n",
    "E \\Big( e^{tY} \\Big) = \\frac{1}{\\Gamma(n)} \\int_0^{\\infty} e^{ty} y^n e^{-y} \\frac{dy}{y} \\\\\n",
    "= \\frac{1}{\\Gamma(n)} \\int_0^{\\infty} y^n e^{-(1-t) y} \\frac{dy}{y}\n",
    "$$"
   ]
  },
  {
   "cell_type": "markdown",
   "metadata": {},
   "source": [
    "let  \n",
    "$ x = (1-t) y $  \n",
    "$ dx = (1-t) dy $ \n",
    "\n",
    "$$\n",
    "= \\frac{(1-t)^{-n}}{\\Gamma(n)} \\int_0^{\\infty} x^n e^{-x} \\frac{dx}{x} = \\big( 1-t \\big)^{-n}\n",
    "$$"
   ]
  },
  {
   "cell_type": "markdown",
   "metadata": {},
   "source": [
    "### Find Moments\n",
    "\n",
    "Let $ X \\sim Gamma \\big(a,1\\big) $, find $ E(X^c) $\n",
    "\n",
    "with LOTUS\n",
    "\n",
    "$$\n",
    "\\frac{1}{\\Gamma(a)} \\int_0^{\\infty} x^c \\ x^a \\ e^{-x} \\frac{dx}{x} \\\\\n",
    "= \\frac{1}{\\Gamma(a)} \\int_0^{\\infty} x^{a+c} \\ e^{-x} \\frac{dx}{x} \\\\\n",
    "= \\frac{\\Gamma(a+c)}{\\Gamma(a)}, \\text{ if a+c is positive}\n",
    "$$\n",
    "\n",
    "$\n",
    "E(X) = \\frac{\\Gamma(a+1)}{\\Gamma(a)} = \\frac{a \\ \\Gamma(a)}{\\Gamma(a)} = a \\\\\n",
    "E(X^2) = \\frac{\\Gamma(a+2)}{\\Gamma(a)} = a^2 + a \\\\\n",
    "Var(X) = a\n",
    "$"
   ]
  },
  {
   "cell_type": "markdown",
   "metadata": {},
   "source": [
    "$$\n",
    "\\Gamma\\big( a, \\lambda \\big) : \\\\\n",
    "\\text{ mean : } \\frac{a}{\\lambda}\n",
    "\\text{ Var : } \\frac{a}{\\lambda^2}\n",
    "$$"
   ]
  }
 ],
 "metadata": {
  "kernelspec": {
   "display_name": "p3lab",
   "language": "python",
   "name": "p3lab"
  },
  "language_info": {
   "codemirror_mode": {
    "name": "ipython",
    "version": 3
   },
   "file_extension": ".py",
   "mimetype": "text/x-python",
   "name": "python",
   "nbconvert_exporter": "python",
   "pygments_lexer": "ipython3",
   "version": "3.6.1"
  }
 },
 "nbformat": 4,
 "nbformat_minor": 2
}
