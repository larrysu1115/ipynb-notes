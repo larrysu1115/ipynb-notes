{
 "cells": [
  {
   "cell_type": "markdown",
   "metadata": {},
   "source": [
    "# Three Learning Principles"
   ]
  },
  {
   "cell_type": "markdown",
   "metadata": {},
   "source": [
    "## 1. Occam's Razor 剃刀\n",
    "\n",
    "> An explanation of the data should be made as simple as possible, but no simpler.  -Albert Einstein?\n",
    "\n",
    "> Entities must not be multiplied beyond necessity -William of Occam\n",
    "\n",
    "Occam's razor for trimming down unnecessary explanation.\n",
    "\n",
    "The simplest model that fits the data is also the most plausible."
   ]
  },
  {
   "cell_type": "markdown",
   "metadata": {},
   "source": [
    "### Simple Model\n",
    "\n",
    "Simple hypothesis h:\n",
    "\n",
    "- small $ \\Omega(h) $ = 'looks' simple\n",
    "- specified by few parameters.\n",
    "\n",
    "Simple model H:\n",
    "\n",
    "- small $ \\Omega(h) $ = not many\n",
    "- contains small number of hypothesis\n",
    "\n",
    "簡單的 hypothesis:h 就會是 簡單的 model:H，表示 \"成長函數\" 小，長的比較慢\n",
    "\n",
    "例如 hypothesis:h 是由 L bits 組成, model:H 共有 |H| = $ 2^L $ 種變化  \n",
    "每個 bit 可以變換 0/1 組成\n",
    "\n",
    "所以 small $ \\Omega(h) \\iff \\text{ small } \\Omega(H) $\n",
    "\n",
    "從另一種角度看，由丟銅板產生的亂數資料應該是無規律，找不出模式讓 $ E_{out} = 0 $  \n",
    "但如果用很複雜的 model 去做，仍可能做到很低的 $ E_{in} $，  \n",
    "如此的 複雜 model 讓我們誤會以為有 pattern，因此複雜的 model 會誤導出錯誤的 pattern.\n",
    "\n",
    "![img](imgs/c15-simple-complex-model.png)\n",
    "\n",
    "> 先試試 線性模型\n",
    "\n",
    "> 看看有無 data over-modeled"
   ]
  },
  {
   "cell_type": "markdown",
   "metadata": {},
   "source": [
    "## 2. Sampling Bias\n",
    "\n",
    "抽樣的資料可能非 i.i.d., 如 194x 年的電話調查，有電話的人都屬於較富有的人。\n",
    "\n",
    "technical explanation: data from $ P_1(x,y) $ but test under $ P_2 \\ne P_1 $ : VC fails.\n",
    "\n",
    "philosophical explanation: study Math hard buy test English. No strong test quarantee.\n",
    "\n",
    "'minor' VC assumption: data and testing both i.i.d. from P.\n",
    "\n",
    "例如 Netflix 的用戶偏好電影預測上，拿 random example 做 validation,   \n",
    "但最後的測試 testing 卻規定了是用最新的N筆用戶資料，  \n",
    "就會造成 $ E_{val}(g) $ 偏離 $ E_{out}(g) $ 很多。\n",
    "\n",
    "例如 銀行信用卡發放的判斷，如果依據的是歷史信用卡刷卡紀錄，  \n",
    "有刷卡紀錄的人都是經過審核通過獲得信用卡的人，  \n",
    "刷卡紀錄無法表現出 審核被拒絕 的人的特徵，資料也有 sampling bias.\n",
    "\n",
    "> 盡可能讓 訓練/驗證，貼近最後的 測試 場景"
   ]
  },
  {
   "cell_type": "markdown",
   "metadata": {},
   "source": [
    "## 3. Visual Data Snooping\n",
    "\n",
    "for VC-safety, $ \\Phi $ shall be decided WITHOUT snooping data.\n",
    "\n",
    "If a data set has affected any step in the learning process, its ability to assess the outcome has been compromised.\n",
    "\n",
    "例如 做匯率走勢預測；有八年資料，六年 training, 兩年 testing；  \n",
    "將價格做了正規化 scaling 在 0~1 之間。\n",
    "藍線是六年 training，與兩年 testing 資料分開各自做正規化的結果，  \n",
    "紅線是把八年資料一起正規化後，拿六年 training, 兩年 testing 的結果。  \n",
    "因為紅線在用六年 training 資料時，偷看了未來兩年的資料 (如 max, min, std.) 貌似做出了很好的效果，  \n",
    "但如果要實際使用，根本無法知道未來兩年的 scaling result，是無用的 model.\n",
    "真的能做的只有藍線。\n",
    "\n",
    "![img](imgs/c15-data-snooping.png)\n",
    "\n",
    "> If you torture the data long enough, it will confess.\n",
    "\n",
    "- truth: very hard to avoid, unless being extremely honest.\n",
    "- extremely honest: lock test data in safe.\n",
    "- less honest: reserve validation and use cautiously\n",
    "\n",
    "- be blind: avoid making modeling decision by data; 如果要加入專業知識，不要在看完資料後才判斷要加入。專業知識應該是不看資料就可以加入。\n",
    "- be suspicious: interpret research results be proper feeling of contamination\n",
    "- careful balance between [data driven modeling - SNOOPING] and [validation - NO-SNOOPING]"
   ]
  }
 ],
 "metadata": {
  "anaconda-cloud": {},
  "kernelspec": {
   "display_name": "Python [default]",
   "language": "python",
   "name": "python3"
  },
  "language_info": {
   "codemirror_mode": {
    "name": "ipython",
    "version": 3
   },
   "file_extension": ".py",
   "mimetype": "text/x-python",
   "name": "python",
   "nbconvert_exporter": "python",
   "pygments_lexer": "ipython3",
   "version": "3.5.2"
  }
 },
 "nbformat": 4,
 "nbformat_minor": 2
}
