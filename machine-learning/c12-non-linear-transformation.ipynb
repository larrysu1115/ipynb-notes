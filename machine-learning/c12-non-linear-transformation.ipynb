{
 "cells": [
  {
   "cell_type": "markdown",
   "metadata": {},
   "source": [
    "# Non-Linear Transformation"
   ]
  },
  {
   "cell_type": "markdown",
   "metadata": {},
   "source": [
    "在 linear hypotheses 下，可以確保 $ d_{VC} $ 在控制下，使得 $ E_{in}(w) \\approx E_{out}(w) $\n",
    "\n",
    "但如果 D 不是線性可分 (如中心圓+, 外-) 導致樣本資料上的錯誤 $ E_{in} $ 總是很大，該如何？\n",
    "\n",
    "How to **break the limit** of linear hypotheses?"
   ]
  },
  {
   "cell_type": "markdown",
   "metadata": {},
   "source": [
    "例如 圓圈區分的資料，半徑為 $ \\sqrt{0.6} $，可以用以下 hypotheses:\n",
    "\n",
    "$$ h_{SEP}(x) = sign \\big( 0.6 - x_1^2 - x_2^2 \\big) $$\n",
    "\n",
    "用另一種方式來看這個 hypothesis:\n",
    "\n",
    "$$ h_{SEP}(x) = sign \\big( \n",
    "\\ \\underbrace{0.6}_{\\tilde{w_0}}   \\  \\underbrace{1}_{z_0} \n",
    "\\ \\underbrace{ - 1 }_{\\tilde{w_1}} \\  \\underbrace{ x_1^2 }_{z_1}  \n",
    "\\ \\underbrace{ - 1 }_{\\tilde{w_2}} \\  \\underbrace{ x_2^2 }_{z_2} \\big) = sign \\big( \\tilde{w}^T \\ z \\big) $$ \n",
    "\n",
    "將 h 從圓圈可分的資料 x,  Transform 成 線性可分的資料 z。  \n",
    "{$ (x_n, y_n) $} : circular separable.  \n",
    "{$ (z_n, y_n) $} : linear separable.\n",
    "\n",
    "(non linear) **Feature Transform** $ \\Phi, x \\in \\mathcal{X} \\to z \\in \\mathcal{Z} $\n",
    "\n",
    "圓圈可分的資料 x，可以轉化成線性可分的資料 z。  \n",
    "\n",
    "反過來，線性可分的資料 z，是否也可轉換成圓圈可分？"
   ]
  },
  {
   "cell_type": "markdown",
   "metadata": {},
   "source": [
    "### Linear Hypotheses in Z-Space\n",
    "\n",
    "$ (z_0, z_1, z_2) = z = \\Phi(x) = (1, x_1^2, x_2^2) $\n",
    "\n",
    "$ h(x) = \\tilde{h}(z) = sign \\big( \\tilde{w}^T \\Phi(x) \\big) = sign \\big( \\tilde{w_0} + \\tilde{w_1} x_1^2 + \\tilde{w_2} x_2^2 \\big) $\n",
    "\n",
    "```\n",
    "Circle    裡是 + : w = ( 0.6, -1, -1)\n",
    "Circle    裡是 - : w = (-0.6, +1, +1)\n",
    "Ellipse   裡是 + : w = ( 0.6, -1, -2)\n",
    "Hyperbola        : w = ( 0.6, -1, +2)\n",
    "Constant       + : w = ( 0.6, +1, +2)\n",
    "```\n",
    "\n",
    "因此在 Z-Space 中的 lines, 可以對應成 X-Space 中的 圓，橢圓，雙曲... 等二次方程式。限於特殊的二次曲線:圓心在原點，因為沒有平移項。"
   ]
  },
  {
   "cell_type": "markdown",
   "metadata": {},
   "source": [
    "### General Quadratic Hypothesis Set\n",
    "\n",
    "Z-Space with $ \\Phi_2(x) = \\big( 1,\\ x_1,\\ x_2,\\ x_1^2,\\ x_1 x_2,\\ x_2^2 \\big) $\n",
    "\n",
    "Z空間 中的 Perceptron 就對應到 X空間 中的 二次式假設\n",
    "\n",
    "$ \\mathcal{H}_{\\Phi_2} = \\Big\\{ h(x): \\ h(x) \\ = \\ \\tilde{h}\\big( \\Phi_2(x) \\big) \\Big\\} $, for some linear $ \\tilde{h} $ on Z-Space.\n",
    "\n",
    "如此可以實現所有可能的 二次曲線 作為假設的邊界，如: Circle, Ellipse, Rotated Ellipse, Hyperbola, Parabola,...\n",
    "\n",
    "Good Quadratic Hypothesis g = 將資料轉換到 Z-Space 後，獲得的 Good Perceptron Hypothesis."
   ]
  },
  {
   "cell_type": "markdown",
   "metadata": {},
   "source": [
    "### Nonlinear Transform Steps\n",
    "\n",
    "STEP 1. Transform original data $ \\Big\\{ ( x_n, y_n ) \\Big\\} $ to $ \\Big\\{ \\big( z_n = \\Phi(x_n), y_n \\big) \\Big\\} $\n",
    "\n",
    "STEP 2. Get a good perceptron $ \\tilde{w} $ using $ \\Big\\{ ( z_n, y_n ) \\Big\\} $, with any linear classification algorithm A.\n",
    "\n",
    "STEP 3. return $ g(x) = sign \\big( \\ \\tilde{w}^T \\ \\Phi (x) \\ \\big) $"
   ]
  },
  {
   "cell_type": "markdown",
   "metadata": {},
   "source": [
    "### Feature Transform\n",
    "\n",
    "not just for polynomial,\n",
    "\n",
    "using domain knowledge:  \n",
    "raw (pixels) -->> concrete(intensity, symmetry)"
   ]
  },
  {
   "cell_type": "markdown",
   "metadata": {},
   "source": [
    "### Computation and Storage Price\n",
    "\n",
    "Q<sup>th</sup> order polynomial transform: \n",
    "\n",
    "$\n",
    "\\begin{align}\n",
    "\\Phi_Q (x) = \\big( \\ \\ & 1, \\\\\n",
    "& x_1, x_2, \\cdots, x_d, \\\\\n",
    "& x_1^2, x_1 x_2, \\cdots, x_d^2, \\\\\n",
    "& \\vdots \\\\\n",
    "& x_1^Q, x_1^{Q-1} x_2, \\cdots, x_d^Q \\ \\ \\big )\n",
    "\\end{align}\n",
    "$\n",
    "\n",
    "$ \\underbrace{1}_{\\tilde{w}_0} + \\underbrace{\\tilde{d}}_{\\text{others}} $ dimensions\n",
    "\n",
    "= # ways of $ \\le $ Q-combination from d kinds with repetitions\n",
    "\n",
    "= $ \\binom{Q+d}{Q} = \\binom{Q+d}{d} = O( Q^d ) $\n",
    "\n",
    "= efforts needed for computing / storing $ z = \\Phi_Q (x) $ and $ \\tilde{w} $\n",
    "\n",
    "If Q is large, it's difficult to compute/store."
   ]
  },
  {
   "cell_type": "markdown",
   "metadata": {},
   "source": [
    "### Model Complexity Price\n",
    "\n",
    "$ 1 + \\tilde{d} \\text{ dimensions } = O(Q^d) $\n",
    "\n",
    "number of free parameters $ \\tilde{w}_i = \\tilde{d} + 1 \\approx d_{VC} \\big( \\mathcal{H}_{\\Phi_Q} \\big) $\n",
    "\n",
    "$ d_{VC} \\big( \\mathcal{H}_{\\Phi_Q} \\big) \\le \\tilde{d} + 1 $, because:  \n",
    "$ \\tilde{d} + 2 $ inputs not shattered in Z  \n",
    "$ \\tilde{d} + 2 $ inputs not shattered in X"
   ]
  },
  {
   "cell_type": "markdown",
   "metadata": {},
   "source": [
    "### Polynomial Transform Revisited\n",
    "\n",
    "$\n",
    "\\begin{align}\n",
    "\\Phi_0(x) = \\big( &            & 1                     & \\big) \\\\\n",
    "\\Phi_1(x) = \\big( & \\Phi_0(x), & x_1, x_2, \\cdots, x_d & \\big) \\\\\n",
    "\\Phi_2(x) = \\big( & \\Phi_1(x), & x_1^2, x_1 x_2, \\cdots, x_d^2 & \\big) \\\\\n",
    "\\Phi_3(x) = \\big( & \\Phi_2(x), & x_1^3, x_1^2 x_2, \\cdots, x_d^3 & \\big) \\\\\n",
    "\\cdots \\\\\n",
    "\\Phi_Q(x) = \\big( & \\Phi_{Q-1}(x), & x_1^Q, x_1^{Q-1} x_2, \\cdots, x_d^Q & \\big) \\\\\n",
    "\\end{align}\n",
    "$\n",
    "\n",
    "$ \\mathcal{H}_{\\Phi_0} \\subset \\underbrace{\\mathcal{H}_{\\Phi_1}}_{H_1} \\subset \\cdots \\subset \\mathcal{H}_{\\Phi_Q} $\n",
    "\n",
    "H2 可以 shatter 的點比 H1 多..., 以此類推。\n",
    "\n",
    "$ d_{VC}(H_0) \\le d_{VC}(H_1) \\le \\cdots \\le d_{VC}(H_Q) $\n",
    "\n",
    "對每一個 Hypothesis Set 也去找到最小的 $ E_{in}(g_i) $\n",
    "\n",
    "$ E_{in}(g_0) \\ge E_{in}(g_1) \\ge \\cdots \\ge E_{in}(g_Q) $\n",
    "\n",
    "所以不應該一開始就用 高維度,高複雜度 的 $ H_1126 $，這樣雖然可以得到一個非常低的 $ E_{in} (g_{1126}) $，但是無法保證 $ E_{out}(g_{1126}) $ 也非常小。\n",
    "\n",
    "我們的目的是找到 g 使得 $ E_{out}(g) $ 最小。\n",
    "\n",
    "安全的作法是從 $ H_1 $ 開始，如果就可以獲得夠小的 $ E_{in} (g_{1}) $，就可以了。\n",
    "\n",
    "如果 $ E_{in} (g_{1}) $ 不夠好，那麼再嘗試 $ H_2, H_3, \\cdots $\n",
    "\n",
    "![img](imgs/c12-ein-eout-dvc.png)"
   ]
  }
 ],
 "metadata": {
  "anaconda-cloud": {},
  "kernelspec": {
   "display_name": "Python [default]",
   "language": "python",
   "name": "python3"
  },
  "language_info": {
   "codemirror_mode": {
    "name": "ipython",
    "version": 3
   },
   "file_extension": ".py",
   "mimetype": "text/x-python",
   "name": "python",
   "nbconvert_exporter": "python",
   "pygments_lexer": "ipython3",
   "version": "3.5.2"
  }
 },
 "nbformat": 4,
 "nbformat_minor": 2
}
