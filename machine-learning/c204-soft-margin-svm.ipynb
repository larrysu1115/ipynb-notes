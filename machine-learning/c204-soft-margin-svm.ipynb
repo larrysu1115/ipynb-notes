{
 "cells": [
  {
   "cell_type": "markdown",
   "metadata": {},
   "source": [
    "# Soft Margin SVM"
   ]
  },
  {
   "cell_type": "markdown",
   "metadata": {},
   "source": [
    "Hard Margin SVM 的缺點是可能 overfit, 因為 轉換項次太高 和 堅持所有資料都要區分開。\n",
    "\n",
    "參考在 pocket 中的做法，最小化犯錯的數量:\n",
    "\n",
    "$$\n",
    "\\min_{b,w} \\sum_{n=1}^N \\Big[ y_n \\ne sign\\big( w^T z_n + b \\big) \\Big]_{boolean}\n",
    "$$"
   ]
  },
  {
   "cell_type": "markdown",
   "metadata": {},
   "source": [
    "原來的 hard-margin SVM 問題是這樣定義:\n",
    "\n",
    "$\n",
    "\\min_{b,w} \\frac{1}{2} w^T w \\\\\n",
    "s.t. \\ \\ y_n \\big( w^T z_n + b \\big) \\ge 1 \\text{ for all n }\n",
    "$"
   ]
  },
  {
   "cell_type": "markdown",
   "metadata": {},
   "source": [
    "結合 pocket 的方式，將 hard-margin SVM 修改成最小化犯錯的數量:\n",
    "\n",
    "$\n",
    "\\min_{b,w} \\frac{1}{2} w^T w + C \\cdot \\sum_{n=1}^N \\Big[ y_n \\ne sign\\big( w^T z_n + b \\big) \\Big]_{boolean} \\\\\n",
    "s.t. \\ \\ y_n \\big( w^T z_n + b \\big) \\ge 1 \\text{ for correct n } \\\\\n",
    "s.t. \\ \\ y_n \\big( w^T z_n + b \\big) \\ge -\\infty \\text{ for incorrect n }\n",
    "$\n",
    "\n",
    "C: trade-off of LARGE MARGIN and NOISE TOLERANCE.\n",
    "\n",
    "C 越大 : 傾向不要犯錯；  \n",
    "C 越小 : 傾向找到大的 margin；在對的點上要有寬的 margin。\n",
    "\n",
    "將兩個 s.t. such that 的條件結合起來變成:\n",
    "\n",
    "$\n",
    "s.t. \\ \\ y_n \\big( w^T z_n + b \\big) \\ge 1 - \\infty \\cdot \\Big[ y_n \\ne sign\\big( w^T z_n + b \\big) \\Big]_{boolean} \\\\\n",
    "$\n",
    "\n",
    "表示 對的點時候一樣要在意 s.t. 條件；而錯的點時候要 大於 乘以負無限大，就和無視條件一樣。  \n",
    "所以是對的點要限制 s.t. 條件；錯的點不限制 s.t. 條件。"
   ]
  },
  {
   "cell_type": "markdown",
   "metadata": {},
   "source": [
    "boolean 的條件有個缺點，造成不再是 QP 問題；就用不上之前的 dual, kernel...\n",
    "\n",
    "也無法分辨錯誤到底有多少；有時候可能錯誤很小，很接近邊界。\n",
    "\n",
    "#### 使用錯誤衡量 margin violation : $ \\xi $ - linear constraints\n",
    "\n",
    "penalize with margin violation instead of error count - quadratic objective.\n",
    "\n",
    "## Soft Margin SVM primal\n",
    "\n",
    "<img src=\"./imgs/c204-margin-violation.png\" style=\"float:right\" />\n",
    "\n",
    "$\n",
    "\\min_{b,w,\\xi} \\frac{1}{2} w^T w + C \\cdot \\sum_{n=1}^N \\xi_n \\\\\n",
    "s.t. \\ \\ y_n \\big( w^T z_n + b \\big) \\ge 1 - \\xi_n \\text{ and } \\xi_n \\ge 0 \\text{ for all n }\n",
    "$\n",
    "\n",
    "這樣就是一個 QP 問題:\n",
    "\n",
    "objectives : $ w, \\xi $ 的二次式 (實際上 $ \\xi $ 只有一次)  \n",
    "constraints : $ \\xi $ 的一次式"
   ]
  },
  {
   "cell_type": "markdown",
   "metadata": {},
   "source": [
    "### Lagrange Dual\n",
    "\n",
    "將上面 primal 形式轉換成 Dual 的形式，Lagrange function with Lagrange multipliers $ \\alpha_n $ and $ \\beta_n $\n",
    "\n",
    "$$\n",
    "\\begin{align}\n",
    "\\mathcal{L} \\big( b, w, \\xi, \\alpha, \\beta \\big) = &\n",
    "\\frac{1}{2} w^T w + C \\cdot \\sum_{n=1}^N \\xi_n \\\\\n",
    "& + \\sum_{n=1}^N \\alpha_n \\cdot \\big( 1 - \\xi_n - y_n ( w^T z_n + b) \\big) +\n",
    "\\sum_{n=1}^N \\beta_n \\cdot \\big( - \\xi_n \\big)\n",
    "\\end{align}\n",
    "$$"
   ]
  },
  {
   "cell_type": "markdown",
   "metadata": {},
   "source": [
    "獲得 Lagrange Dual 的形式，然後用 KKT condition 簡化該問題:\n",
    "\n",
    "$$\n",
    "\\max_{\\alpha_n \\ge 0, \\beta_n \\ge 0} \\Big( \\min_{b,w,\\xi} \\mathcal{L} \\big( b, w, \\xi, \\alpha, \\beta \\big) \\Big)\n",
    "$$\n",
    "\n",
    "對 primal 裏頭每個變數的微分為 0:\n",
    "\n",
    "$\n",
    "\\frac{\\partial \\mathcal{L}}{\\partial \\xi} = 0 = C - \\alpha_n - \\beta_n \\iff \\beta_n = C - \\alpha_n\n",
    "$\n",
    "\n",
    "因為 $ \\alpha_n \\ge 0, \\beta_n \\ge 0 $, 所以 $ 0 \\le \\alpha_n \\le C $\n",
    "\n",
    "$$\n",
    "\\max_{0 \\le \\alpha_n \\le C, \\beta_n = C - \\alpha_n} \\Big( \\min_{b,w,\\xi} \\ \\ \n",
    "\\frac{1}{2} w^T w\n",
    "+ \\sum_{n=1}^N \\alpha_n \\cdot \\big( 1 - y_n ( w^T z_n + b) \\big) \\ \\  \\Big)\n",
    "$$\n",
    "\n",
    "inner problem same as hard-margin SVM, 條件稍有不同，加上 $ 0 \\le \\alpha_n \\le C $\n",
    "\n",
    "$\n",
    "\\frac{\\partial \\mathcal{L}}{\\partial b} = 0 \\ \\ \\iff \\ \\ \\sum_{n=1}^N \\alpha_n y_n = 0\n",
    "$\n",
    "\n",
    "$\n",
    "\\frac{\\partial \\mathcal{L}}{\\partial w_i} = 0 \\ \\ \\iff \\ \\ w = \\sum_{n=1}^N \\alpha_n y_n z_n\n",
    "$\n"
   ]
  },
  {
   "cell_type": "markdown",
   "metadata": {},
   "source": [
    "## Standard Soft-Margin SVM Dual\n",
    "\n",
    "$$\n",
    "\\begin{align}\n",
    "\\min_{\\alpha} & \\frac{1}{2} \\sum_{n=1}^{N} \\sum_{m=1}^{N} \\alpha_n \\alpha_m y_n y_m z_n^T z_m - \\sum_{n=1}^{N} \\alpha_n \\\\\n",
    "\\text{ subject to } & \\sum_{n=1}^{N} y_n \\alpha_n = 0 \\\\\n",
    "& 0 \\le \\alpha_n \\le C, \\text{ for n = 1,2,...,N } \\\\\n",
    "\\text{ implicity } & w = \\sum_{n=1}^{N} y_n \\alpha_n z_n = 0 \\\\\n",
    "& \\beta_n = C - \\alpha_n, \\text{ for n = 1,2,...,N }\n",
    "\\end{align}\n",
    "$$\n",
    "\n",
    "與原先的 Hard-Margin SVM 差別只在：用 C 作為 alpha 值上限設定。  \n",
    "是一個 (convex) QP with N variables and 2N+1 constraints."
   ]
  },
  {
   "cell_type": "markdown",
   "metadata": {},
   "source": [
    "#### Soft Margin SVM - solve b - complementary slackness\n",
    "\n",
    "$\n",
    "\\alpha_n \\big( 1 - \\xi_n - y_n ( w^T z_n + b ) \\big) = 0 \\\\\n",
    "\\big( C - \\alpha_n \\big) \\xi_n = 0 \\ \\ \\to \\ \\ \\beta_n ( \\xi ) = 0\n",
    "$\n",
    "\n",
    "在 SV 上 $ SV ( \\alpha_s \\gt 0 ) $  \n",
    "$ \\to b = y_s - y_s \\xi_s - w^T z_s $\n",
    "\n",
    "在 free SV 上 $ (\\alpha \\le C) $  \n",
    "$ \\to \\xi_s = 0 $\n",
    "\n",
    "所以可以利用 free $ SV(x_s, y_x) $ 來獲得 b:\n",
    "\n",
    "$$\n",
    "b = y_s - \\sum_{\\text{SV indices n}} \\alpha_n y_n K \\big( x_n, x_s \\big)\n",
    "$$"
   ]
  },
  {
   "cell_type": "markdown",
   "metadata": {},
   "source": [
    "## Kernel Soft-Margin SVM\n",
    "\n",
    "$ q_{n,m} = y_n y_m K(x_n, x_m) $\n",
    "\n",
    "$ \\vec{p} = -1_{N} $\n",
    "\n",
    "(A, c) for equ. / lower-bound / upper-bound constraints.\n",
    "\n",
    "$ \\alpha \\leftarrow QP(Q_D, p, A, c) $\n",
    "\n",
    "$ b = y_s - \\sum_{\\text{SV indices n}} \\alpha_n y_n K \\big( x_n, x_s \\big) $\n",
    "\n",
    "return SVs and their $ \\alpha_n $ as well as b such that for new x,\n",
    "\n",
    "$$\n",
    "g_{SVM} \\big ( x \\big ) = \n",
    "sign \\Big( \\sum_{\\text{SV indices n}} \\alpha_n y_n K(x_n, x) + b \\Big)\n",
    "$$"
   ]
  },
  {
   "cell_type": "markdown",
   "metadata": {},
   "source": [
    "<img src=\"./imgs/c204-free-svs.png\" style=\"float:right;width:200px;\" />\n",
    "\n",
    "#### Physical meaning of $ \\alpha_n $\n",
    "\n",
    "Complementary Slackness:  \n",
    "$\n",
    "\\alpha_n \\big( 1 - \\xi_n - y_n ( w^T z_n + b ) \\big) = 0 \\\\\n",
    "\\big( C - \\alpha_n \\big) \\xi_n = 0 \\ \\ \\to \\ \\ \\beta_n ( \\xi ) = 0\n",
    "$\n",
    "\n",
    "- 右圖方塊: free SV $ 0 \\le \\alpha_n \\le C, \\xi_n = 0 $ 剛好在邊界上，可定位 b\n",
    "\n",
    "- 右圖圓圈叉叉: Non SV, $ \\alpha_n = 0, \\xi_n = 0 $ 在邊界外，正確的分類；極少數可能在邊界上\n",
    "\n",
    "- 右方三角: Bounded SV, $ \\alpha_n = C $, 在邊界內，有違反 $ \\xi_n \\gt 0 $ (violation amount) "
   ]
  },
  {
   "cell_type": "markdown",
   "metadata": {},
   "source": [
    "### Model Selection\n",
    "\n",
    "在 Soft Margin Gaussian Kernel 中，有兩個參數 $ C, \\gamma $ 可以選擇。\n",
    "\n",
    "利用 **Cross Validation** 來選擇好的 model.\n",
    "\n",
    "### Leave-One-Out CV Error for SVM\n",
    "\n",
    "recall: $ E_{LOOCV} = E_{CV} $ with N folds.\n",
    "\n",
    "claim: $ E_{LOOCV} \\le \\frac{\\#SV}{N} $\n",
    "\n",
    "因為: non SV 的 $ e_{\\text{non SV}} = 0, e_{SV} \\le 1 $, 所以所有 N 相加後，可得上式。\n",
    "\n",
    "所以 number of SVs 和 error 是有關係的，也可以用 # of SVs 來選擇好的 model.\n",
    "\n",
    "- 可以用 # of SVs 來選擇好的 model (SV數量少的好)\n",
    "- 只是 $ e_{LOOCV} $ 的 upper bound, 所以不可完全依賴；通常用來排除危險的 model (SV 太大)\n",
    "- 在計算 $ e_{CV} $ 太麻煩時候，可以做為替代方案。\n"
   ]
  }
 ],
 "metadata": {
  "anaconda-cloud": {},
  "kernelspec": {
   "display_name": "Python [default]",
   "language": "python",
   "name": "python3"
  },
  "language_info": {
   "codemirror_mode": {
    "name": "ipython",
    "version": 3
   },
   "file_extension": ".py",
   "mimetype": "text/x-python",
   "name": "python",
   "nbconvert_exporter": "python",
   "pygments_lexer": "ipython3",
   "version": "3.5.2"
  }
 },
 "nbformat": 4,
 "nbformat_minor": 2
}
