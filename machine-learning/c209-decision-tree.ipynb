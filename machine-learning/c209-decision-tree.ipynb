{
 "cells": [
  {
   "cell_type": "markdown",
   "metadata": {},
   "source": [
    "# Decision Tree"
   ]
  },
  {
   "cell_type": "markdown",
   "metadata": {},
   "source": [
    "$$\n",
    "G(x) = \\sum_{t=1}^T q_t(x) \\cdot g_t(x)\n",
    "$$\n",
    "\n",
    "- base hypothesis $ g_t(x) $ : leaf at end of path t, a constant. (有些算法可能用 lin/regression 當 leaf)\n",
    "- condition $ q_t(x) $: x 是在 path t 上嗎？\n",
    "- 通常在分支處，用 simple internal nodes."
   ]
  },
  {
   "cell_type": "markdown",
   "metadata": {},
   "source": [
    "### Recursive View\n",
    "\n",
    "$$\n",
    "G(x) = \\sum_{c=1}^C \\big[ b(x) = c \\big]_{boolean} \\cdot G_c(x)\n",
    "$$\n",
    "\n",
    "- G(x): full-tree hypothesis\n",
    "- b(x): branching criteria\n",
    "- $ G_c(x) $: sub-tree hypothesis at the c<sup>th</sup> branch.\n",
    "\n",
    "就如同遞迴函數一樣。"
   ]
  },
  {
   "cell_type": "markdown",
   "metadata": {},
   "source": [
    "### Basic Decision Tree Algorithm\n",
    "\n",
    "function DecisionTree = $ \\Big( \\mathcal{D} = \\big\\{ (x_n, y_n) \\big\\}_{n=1}^N \\Big) $"
   ]
  },
  {
   "cell_type": "markdown",
   "metadata": {},
   "source": [
    "Classification and Regression Tree (C&amp;RT)\n",
    "\n",
    "function DecisionTree = $ \\Big( \\mathcal{D} = \\big\\{ (x_n, y_n) \\big\\}_{n=1}^N \\Big) $\n",
    "\n",
    "if termination criteria met:  \n",
    "   - return base hypothesis $ g_t(x) $  \n",
    "\n",
    "else ...\n",
    "   - split D to C parts $ D_c = \\big\\{ (x_n, y_n) : b(x_n) = c \\big\\}$ \n",
    "\n",
    "##### 2 simple choices:\n",
    "\n",
    "- C = 2 (binary tree)\n",
    "- $ g_t(x) = E_{in} - $ optimal constant"
   ]
  },
  {
   "cell_type": "markdown",
   "metadata": {},
   "source": [
    "##### Branching in C&amp;RT : Purifying\n",
    "\n",
    "- simple internal node for C = 2: {1,2} : output decision stump\n",
    "\n",
    "$$\n",
    "b(x) = argmin_{\\text{decision stump } h(x)} \\sum_{c=1}^2 \\ \\ \\big| \\ D_c \\ with \\ h \\ \\big| \\ \\\n",
    "\\cdot \\text{ impurity} ( D_c \\ with \\ h)\n",
    "$$\n",
    "\n",
    "用所有的 decision stump 組合找出違反量 impurity 最小的 $ g_t $"
   ]
  },
  {
   "cell_type": "markdown",
   "metadata": {},
   "source": [
    "### Impurity Functions\n",
    "\n",
    "##### Regression Error:\n",
    "\n",
    "impurity(D) = $ \\frac{1}{N} \\sum_{n=1}^N (y_n - \\overline{y})^2 $, average of $ y_n = \\overline{y} $\n",
    "\n",
    "##### Classification Error:\n",
    "\n",
    "impurity(D) = $ \\frac{1}{N} \\sum_{n=1}^N \\big[ y_n \\ne y^{*} \\big]_{boolean} $ ,\n",
    "$ y^{*} = $ majority of $ \\{ y_n \\} $\n",
    "\n",
    "for classification, Gini index:\n",
    "\n",
    "$$\n",
    "1 - \\sum_{k=1}^K \\Big( \\frac{\\sum_{n=1}^N \\big[ y_n = k \\big]_{boolean}}{N} \\Big)^2\n",
    "$$\n",
    "\n",
    "Gini index 可以處理在多分類時，給出現較多次的分類相應較大的權重"
   ]
  },
  {
   "cell_type": "markdown",
   "metadata": {},
   "source": [
    "#### Termination in C&amp;RT\n",
    "\n",
    "- 所有的 $ y_n $ 都一樣: impurity = 0\n",
    "- 所有的 $ x_n $ 都一樣, no decision stumps.\n",
    "\n",
    "如果處理到最後，$ E_{in} = 0 $, 就是 full grown tree.\n",
    "\n",
    "可能會有 overfit 的問題，要用 regularization 來控制。\n",
    "\n",
    "$$\n",
    "argmin_{\\text{all possible G}} E_{in}(G) + \\lambda \\Omega(G)\n",
    "$$\n",
    "\n",
    "利用上式刪除掉一些 leaf, 就是 pruned decision tree.  \n",
    "但是找出所有 G 可能的樣子不容易，  \n",
    "所以做出 $ G^{(0)} $ = full grown tree, 之後，  \n",
    "摘掉一片葉子的各種組合為 $ G^{(1)} $,  \n",
    "如此獲得各種 $ G^{(i)} $, 來做 regularization."
   ]
  },
  {
   "cell_type": "markdown",
   "metadata": {},
   "source": [
    "#### Categorical Features\n",
    "\n",
    "如果不是線性的數值結果，而是多個無次序的類別結果\n",
    "\n",
    "可以將 decision stump 換成 decision subset 來做 branch: b(x)\n",
    "\n",
    "$$\n",
    "b(x) = \\big[ x_i \\in S \\big]_{boolean} + 1 \\\\\n",
    "S \\subset \\{ 1,2,...,K \\}\n",
    "$$"
   ]
  },
  {
   "cell_type": "markdown",
   "metadata": {},
   "source": [
    "> another popular decision tree algorithm: C4.5"
   ]
  }
 ],
 "metadata": {
  "anaconda-cloud": {},
  "kernelspec": {
   "display_name": "Python [default]",
   "language": "python",
   "name": "python3"
  },
  "language_info": {
   "codemirror_mode": {
    "name": "ipython",
    "version": 3
   },
   "file_extension": ".py",
   "mimetype": "text/x-python",
   "name": "python",
   "nbconvert_exporter": "python",
   "pygments_lexer": "ipython3",
   "version": "3.5.2"
  }
 },
 "nbformat": 4,
 "nbformat_minor": 2
}
