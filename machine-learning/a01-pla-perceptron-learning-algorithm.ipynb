{
 "cells": [
  {
   "cell_type": "markdown",
   "metadata": {},
   "source": [
    "### PLA"
   ]
  },
  {
   "cell_type": "markdown",
   "metadata": {},
   "source": [
    "有資料集 D, 是線性可分的。代表存在一條完美的線可區分開所有資料點。\n",
    "\n",
    "$ w_f $ : 完美的線  \n",
    "$ w_t $ : 第t次調整的線  \n",
    "$ x_n $ : 所有的資料  \n",
    "$ y_n $ : 以正負號區分的結果(線的兩邊)\n",
    "\n",
    "區分開所有資料點: $ y_n $ = sign( $ w_f^T \\times x_n $ )"
   ]
  },
  {
   "cell_type": "markdown",
   "metadata": {},
   "source": [
    "完美的線可以區分開每個點，所以每個點與這條線的距離都大於零\n",
    "\n",
    "$ \\min_n y_n w_f^T x_n \\gt 0 $\n",
    "\n",
    "同樣在第 t 次調整時，發現犯錯的點 $ x_{n(t)} $ 與完美線的距離也大於零。  \n",
    "並且比最近的點還要遠些。(距離大於 mininum 距離的點)\n",
    "\n",
    "$ y_{n(t)} w_f^T x_{n(t)} \\ge \\min_n y_n w_f^T x_n \\gt 0 $"
   ]
  },
  {
   "cell_type": "markdown",
   "metadata": {},
   "source": [
    "每次調整 $ w_t $ 是否更接近 $ w_f $ ?\n",
    "\n",
    "每次調整，是 $ w_{t+1} = w_t + y_{n(t)} x_{n(t)} $，表示兩種狀況:  \n",
    "1. 應得結果 $ y_{n(t)} = +1 $, 但 $ w_t $ 卻說結果為負；就將向量相加 $ w_{t+1} = w_t + x_{n(t)} $，$ w_{t+1} $ 較 $ w_t $ 更貼近 $ x_{n(t)} $, (兩者夾角更小)\n",
    "1. 應得結果 $ y_{n(t)} = -1 $, 但 $ w_t $ 卻說結果為正；就將向量相減 $ w_{t+1} = w_t - x_{n(t)} $，$ w_{t+1} $ 較 $ w_t $ 更偏離 $ x_{n(t)} $, (兩者夾角更大)"
   ]
  },
  {
   "cell_type": "markdown",
   "metadata": {},
   "source": [
    "是否每次更新後得到的 $ w_{t+1} $，都比 $ w_t $ 更加接近完美的線 $ w_f $ 呢？  \n",
    "可以用 向量的內積 來看，內積越大，兩個向量越相似。\n",
    "\n",
    "$ \\begin{align} \n",
    "w_f^T w_{t+1} & = w_f^T \\big( w_t + y_{n(t)} x_{n(t)} \\big) \\\\\n",
    "& = w_f^T w_t + y_{n(t)} w_f^T x_{n(t)} \\\\\n",
    "& \\ge w_f^T w_t + \\min_n y_n w_f^T x_n \\\\\n",
    "& \\gt  w_f^T w_t + 0\n",
    "\\end{align}\n",
    "$"
   ]
  },
  {
   "cell_type": "markdown",
   "metadata": {},
   "source": [
    "所以知道 **[兩個向量的內積越來越大]** 。如果再配合向量的單位長度，就可以確定是角度越來越相近。"
   ]
  },
  {
   "cell_type": "markdown",
   "metadata": {},
   "source": [
    "因為 PLA 是在犯錯誤時才會修正，也就是說犯錯誤的點 $ x_{n(t)} $ 有以下特徵:\n",
    "\n",
    "sign $ \\big( w_t^T x_{n(t)} \\big) \\ne y_{n(t)} $\n",
    "\n",
    "$ \\implies y_{n(t)} w_t^T x_{n(t)} \\le 0 $"
   ]
  },
  {
   "cell_type": "markdown",
   "metadata": {},
   "source": [
    "觀察修正後的向量 $ w_{t+1} $ 的長度變化\n",
    "\n",
    "$ \\begin{align} \n",
    "\\lVert w_{t+1} \\rVert & = \\lVert w_t + y_{n(t)} x_{n(t)} \\rVert^2 \\\\\n",
    "& = \\lVert w_t \\rVert^2 + 2 \\times y_{n(t)} w_t^T x_{n(t)} + \\lVert y_{n(t)} x_{n(t)} \\rVert^2 \\\\\n",
    "& \\le \\lVert w_t \\rVert^2 + 0 + \\lVert y_{n(t)} x_{n(t)} \\rVert^2 \\\\\n",
    "& \\le \\lVert w_t \\rVert^2 + \\max_n \\lVert x_{n(t)} \\rVert^2\n",
    "\\end{align}\n",
    "$\n",
    "\n",
    "確認 $ w_{t+1} $ 變大的幅度是有上限的，\n",
    "\n",
    "每次調整 ，$ w_{t+1} $ 最多要比 $ w_t $ 大 $ \\max_n \\lVert x_{n} \\rVert^2 $，就是 最多變大 距離最遠的那個點的平方。\n",
    "\n",
    "配合兩個向量 $ w_t, w_{t+1} $ 的內積越來越大；從 $ w_0 $ 開始，經過 T 次修正，兩個正規化後的向量內積:\n",
    "\n",
    "$$ \\frac{w_f^T}{\\lVert w_f \\rVert} \\cdot \\frac{w_T}{\\lVert w_T \\rVert} \\ge \\sqrt{T} \\cdot C $$\n",
    "\n",
    "$$ C = \\frac{\\min_n y_n \\frac{w_f^T}{\\lVert w_f \\rVert} x_n }{ \\max_n \\lVert x_n \\rVert}$$"
   ]
  },
  {
   "cell_type": "markdown",
   "metadata": {},
   "source": [
    "三角形三邊 a, b, c;  \n",
    "a, b 夾角為 $ \\theta $.  \n",
    "定理: $ c^2 = a^2 + b^2 - 2 a b \\cos \\theta $"
   ]
  },
  {
   "cell_type": "markdown",
   "metadata": {},
   "source": [
    "[Cosine Formula for Dot Product](https://proofwiki.org/wiki/Cosine_Formula_for_Dot_Product)\n",
    "\n",
    "$ \\cos \\theta = \\frac{a \\cdot b}{\\lVert a \\rVert \\lVert b \\rVert} $"
   ]
  }
 ],
 "metadata": {
  "anaconda-cloud": {},
  "kernelspec": {
   "display_name": "Python [default]",
   "language": "python",
   "name": "python3"
  },
  "language_info": {
   "codemirror_mode": {
    "name": "ipython",
    "version": 3
   },
   "file_extension": ".py",
   "mimetype": "text/x-python",
   "name": "python",
   "nbconvert_exporter": "python",
   "pygments_lexer": "ipython3",
   "version": "3.5.2"
  }
 },
 "nbformat": 4,
 "nbformat_minor": 2
}
