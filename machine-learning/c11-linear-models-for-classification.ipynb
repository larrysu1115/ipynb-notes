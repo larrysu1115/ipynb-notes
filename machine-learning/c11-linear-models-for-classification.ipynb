{
 "cells": [
  {
   "cell_type": "markdown",
   "metadata": {},
   "source": [
    "## Linear Models for Binary Classification"
   ]
  },
  {
   "cell_type": "markdown",
   "metadata": {},
   "source": [
    "linear scoring function: $ s = w^T x $\n",
    "\n",
    "|algorithm|hypothesis|err|solution|\n",
    "|       -               |        -      | - |      - |\n",
    "| linear classification | sign(s)       | plausible err = 0/1           | NP-HARD              |\n",
    "| linear regression     | s             | friendly err = squared        | closed-form solution |\n",
    "| logistic regression   | $ \\theta(s) $ | plausible err = cross-entropy | gradient descent     |\n",
    "\n",
    "linear classification 是 HP-HARD,  \n",
    "可否利用 linear regression or logistic regression 來幫助進行 linear classification ?\n",
    "\n",
    "下面將三種算法的 err 整理成 s,y 的 表示法 err(s,y)；  \n",
    "\n",
    "因為針對 linear classification 整理，y 只有 +1, -1 兩種可能。"
   ]
  },
  {
   "cell_type": "markdown",
   "metadata": {},
   "source": [
    "#### Linear Classification\n",
    "\n",
    "$ h(x) = sign(s) $\n",
    "\n",
    "$ err(h,x,y) = \\Big[ h(x) \\ne y \\Big]_{bool} $\n",
    "\n",
    "$ err_{0/1} (s,y) = \\Big[ sign(s) \\ne y \\Big]_{bool} = \\Big[ sign(ys) \\ne 1 \\Big]_{bool} $"
   ]
  },
  {
   "cell_type": "markdown",
   "metadata": {},
   "source": [
    "#### Linear Regression\n",
    "\n",
    "$ h(x) = s $\n",
    "\n",
    "$ err(h,x,y) = \\big( h(x) - y \\big)^2 $\n",
    "\n",
    "$ err_{SQR}(s,y) = (s - y)^2 = (ys - 1)^2 $"
   ]
  },
  {
   "cell_type": "markdown",
   "metadata": {},
   "source": [
    "#### Logistic Regression\n",
    "\n",
    "$ h(x) = \\theta(s) $\n",
    "\n",
    "$ err(h,x,y) = - \\ln h(y x) $\n",
    "\n",
    "$ err_{CE}(s,y) = \\ln \\big( 1 + \\exp(-ys) \\big) $"
   ]
  },
  {
   "cell_type": "markdown",
   "metadata": {},
   "source": [
    "(ys) : classification correctness score\n",
    "\n",
    "(ys) 越大，代表 ys 同號，classification 結果正確。  \n",
    "(ys) 越小，代表 ys 異號，classification 結果錯誤。  \n",
    "\n",
    "scaled $ err_{CE}(s,y) = \\frac{1}{ln2} err_{CE}(s,y) = err_{SCE}(s,y) $"
   ]
  },
  {
   "cell_type": "markdown",
   "metadata": {},
   "source": [
    "將三種 err(s,y) 畫在 x-y 平面上，可以看出\n",
    "\n",
    "$ err_{0/1}(s,y) \\le err_{SCE}(s,y) = \\frac{1}{\\ln 2} err_{CE}(s,y) $\n",
    "\n",
    "$ \\to $\n",
    "\n",
    "$ E_{in}^{0/1}(w) \\le E_{in}^{SCE}(w) = \\frac{1}{\\ln 2} E_{in}^{CE}(w) $\n",
    "\n",
    "$ E_{out}^{0/1}(w) \\le E_{out}^{SCE}(w) = \\frac{1}{\\ln 2} E_{out}^{CE}(w) $"
   ]
  },
  {
   "cell_type": "markdown",
   "metadata": {},
   "source": [
    "VC on 0/1:\n",
    "\n",
    "$\n",
    "\\begin{align}\n",
    "E_{out}^{0/1}(w) & \\le E_{in}^{0/1}(w) + \\Omega^{0/1} \\\\\n",
    "& \\le \\frac{1}{\\ln 2} E_{in}^{CE}(w) + \\Omega^{0/1}\n",
    "\\end{align}\n",
    "$"
   ]
  },
  {
   "cell_type": "markdown",
   "metadata": {},
   "source": [
    "VC-Reg on CE:\n",
    "\n",
    "$\n",
    "\\begin{align}\n",
    "E_{out}^{0/1}(w) & \\le \\frac{1}{\\ln 2} E_{out}^{CE}(w) \\\\\n",
    "& \\le \\frac{1}{\\ln 2} E_{in}^{CE}(w) + \\frac{1}{\\ln 2} \\Omega^{CE}\n",
    "\\end{align}\n",
    "$"
   ]
  },
  {
   "cell_type": "markdown",
   "metadata": {},
   "source": [
    "由以上推論，logistic/linear reg. 可以用來做 linear classification:\n",
    "\n",
    "$ \\text{small } E_{in}^{CE}(w) \\to \\text{ small } E_{out}^{0/1}(w) $"
   ]
  },
  {
   "cell_type": "markdown",
   "metadata": {},
   "source": [
    "### Regression for Classification\n",
    "\n",
    "STEP 1. run logistic/linear reg. on D with $ y_n \\in \\{ -1, +1 \\} $ to get $ w_{REG} $\n",
    "\n",
    "STEP 2. return $ g(x) = sign( w_{REG}^T x ) $\n",
    "\n",
    "使用 logistic/linear reg. 來做 classification 的優缺點:\n",
    "\n",
    "Linear Reg. - 優:Easiest Optimization. 缺:loose bound of $ err_{0/1} $ for large |ys|.\n",
    "\n",
    "Logistic Reg. - 優:Easy Optimization. 缺:loose bound of $ err_{0/1} $ for very negative ys.\n",
    "\n",
    "### 實務上\n",
    "\n",
    "- 常使用 Linear Reg. 獲得初始的 $ w_0 $，再接著進行 PLA/pocket/logistic Reg.\n",
    "- Logistic Reg. often preferred over Pocket."
   ]
  }
 ],
 "metadata": {
  "kernelspec": {
   "display_name": "Python 3",
   "language": "python",
   "name": "python3"
  },
  "language_info": {
   "codemirror_mode": {
    "name": "ipython",
    "version": 3
   },
   "file_extension": ".py",
   "mimetype": "text/x-python",
   "name": "python",
   "nbconvert_exporter": "python",
   "pygments_lexer": "ipython3",
   "version": "3.6.1"
  }
 },
 "nbformat": 4,
 "nbformat_minor": 2
}
