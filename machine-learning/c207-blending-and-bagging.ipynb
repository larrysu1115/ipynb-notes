{
 "cells": [
  {
   "cell_type": "markdown",
   "metadata": {},
   "source": [
    "# Blending and Bagging"
   ]
  },
  {
   "cell_type": "markdown",
   "metadata": {},
   "source": [
    "若使用各種不同的 algorithm, model 獲得多個 $ g: g_1, g_2, \\cdots, g_T $ 時，如何綜合起來獲得最後的 g_t(s) 呢？  \n",
    "可能有以下幾種方式:\n",
    "\n",
    "ONE - select: 選擇最好的 $ E_{val}(g_t^{-}) $ 最小的  \n",
    "$ G(x) = g_{t*}(x), t_{*} = argmin_{t \\in \\{ 1,2,\\cdots,T \\}} E_{val}(g_t^{-}) $\n",
    "\n",
    "TWO - mix uniformly: 平等看待每一個 g，綜合起來  \n",
    "$ G(x) = sign \\big( \\sum_{t=1}^T 1 \\cdot g_t(x) \\big) $\n",
    "\n",
    "THREE - mix non-uniformly: 給每一個 g 加權分數後，綜合起來  \n",
    "$ G(x) = sign \\big( \\sum_{t=1}^T \\alpha_t \\cdot g_t(x) \\big), \\ \\ \\alpha \\ge 0 $\n",
    "\n",
    "FOUR - 利用自訂的 constaint 限制每個 g 的使用  \n",
    "$ G(x) = sign \\big( \\sum_{t=1}^T q_t(x) \\cdot g_t(x) \\big), \\ \\ q_t(X) \\ge 0 $"
   ]
  }
 ],
 "metadata": {
  "kernelspec": {
   "display_name": "Python [default]",
   "language": "python",
   "name": "python3"
  },
  "language_info": {
   "codemirror_mode": {
    "name": "ipython",
    "version": 3
   },
   "file_extension": ".py",
   "mimetype": "text/x-python",
   "name": "python",
   "nbconvert_exporter": "python",
   "pygments_lexer": "ipython3",
   "version": "3.5.2"
  }
 },
 "nbformat": 4,
 "nbformat_minor": 2
}
