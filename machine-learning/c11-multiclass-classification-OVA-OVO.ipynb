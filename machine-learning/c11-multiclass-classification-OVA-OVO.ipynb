{
 "cells": [
  {
   "cell_type": "markdown",
   "metadata": {},
   "source": [
    "# Multiclass Classification\n",
    "\n",
    "將辨別 +,- 結果的算法，延伸到辨別多種不同的類別(三個以上)"
   ]
  },
  {
   "cell_type": "markdown",
   "metadata": {},
   "source": [
    "### Multiclass Prediction: Combine Binary Classifiers\n",
    "\n",
    "對每一類做一個 binary classifier, 辨別是或不是該分類 ( Y or N )  \n",
    "如果有四類 A,B,C,D，就有四個 binary classifier。\n",
    "\n",
    "這個方式會產生部分區域，ABCD都不是，或 同時是A和B... 的疑義。"
   ]
  },
  {
   "cell_type": "markdown",
   "metadata": {},
   "source": [
    "### One Class at a Time \"Softly\"\n",
    "\n",
    "利用軟性的分類器，不要回答 (Y or N), 而是回答 \"是A的機率\" ?\n",
    "\n",
    "最後選擇 k 個分類器中，可能性最高的答案。\n",
    "\n",
    "$$ g(x) = argmax_{k \\in y} \\theta \\Big( w_{[k]}^T x \\Big) $$\n",
    "\n",
    "因為 logistic function $ \\theta $ 是 monotonic 單向性 的，拿來比大小的話，可以直接忽視掉 $ \\theta $ 。\n",
    "\n",
    "$$ g(x) = argmax_{k \\in y} \\Big( w_{[k]}^T x \\Big) $$"
   ]
  },
  {
   "cell_type": "markdown",
   "metadata": {},
   "source": [
    "## One-Versus-All OVA Decomposition\n",
    "\n",
    "STEP 1. y 可分為 k 類； for $ k \\in y $ ，對每一個類別都做一個 logistic regression 獲得 $ w_{[k]} $\n",
    "\n",
    "$$ D_{[k]} = \\Big\\{ \\big( x_n,y_n' = 2 \\big[ y_n = k \\big]_{bool} - 1 \\big) \\Big\\}_{n=1}^N $$\n",
    "\n",
    "STEP 2. return $ g(x) = argmax_{k \\in y} \\big( w_{[k]}^T x \\big) $"
   ]
  },
  {
   "cell_type": "markdown",
   "metadata": {},
   "source": [
    "#### 優點:\n",
    "\n",
    "- efficient\n",
    "- can be coupled with any logistic regression-like approaches.\n",
    "- can easily done in parallel.\n",
    "\n",
    "#### 缺點:\n",
    "\n",
    "- often **unbalanced** $ D_{[k]} $ when K large.\n",
    "\n",
    "#### 延伸:\n",
    "\n",
    "- multinomial logistic regression: 將機率總和做成一，讓誤差變小??? 延伸閱讀..."
   ]
  },
  {
   "cell_type": "markdown",
   "metadata": {},
   "source": [
    "## One-Versus-One (OVO) Decomposition\n",
    "\n",
    "把 k 種分類，兩兩一組，忽略其他類別，進行 linear binary classification,\n",
    "\n",
    "這樣可得到 $ \\binom{k}{2} $ 種 classifier $ w_{[k,l]} $\n",
    "\n",
    "$$ D_{[k]} = \\Big\\{ \\big( x_n,y_n' = 2 \\big[ y_n = k \\big]_{bool} - 1 \\big): y_n = k,\\ or \\ y_n = l \\Big\\}_{n=1}^N $$\n",
    "\n",
    "最後用所有 classifier 中的多數決，來判定是哪種分類。\n",
    "\n",
    "return g(x) = 多數決 $ \\big\\{ w_{[k,l]}^T x \\big\\} $"
   ]
  },
  {
   "cell_type": "markdown",
   "metadata": {},
   "source": [
    "#### 優點:\n",
    "\n",
    "- efficient (smaller training data)\n",
    "- stable\n",
    "- can be coupled with any binary classification approaches.\n",
    "- can easily done in parallel.\n",
    "\n",
    "#### 缺點:\n",
    "\n",
    "- use $ O(K^2) \\ w_{[k,l]} $\n",
    "- more space, slower prediction, more training."
   ]
  }
 ],
 "metadata": {
  "anaconda-cloud": {},
  "kernelspec": {
   "display_name": "Python 3",
   "language": "python",
   "name": "python3"
  },
  "language_info": {
   "codemirror_mode": {
    "name": "ipython",
    "version": 3
   },
   "file_extension": ".py",
   "mimetype": "text/x-python",
   "name": "python",
   "nbconvert_exporter": "python",
   "pygments_lexer": "ipython3",
   "version": "3.6.1"
  }
 },
 "nbformat": 4,
 "nbformat_minor": 2
}
