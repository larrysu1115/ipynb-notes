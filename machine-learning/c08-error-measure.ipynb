{
 "cells": [
  {
   "cell_type": "markdown",
   "metadata": {},
   "source": [
    "## Error Measure"
   ]
  },
  {
   "cell_type": "markdown",
   "metadata": {},
   "source": [
    "### Noise\n",
    "\n",
    "input x, output y 都可能有雜訊。\n",
    "\n",
    "在有雜訊的狀況，VC bound 是否還有用？"
   ]
  },
  {
   "cell_type": "markdown",
   "metadata": {},
   "source": [
    "### Error Measure\n",
    "\n",
    "- out of sample :\n",
    "- pointwise : \n",
    "- classification (0/1 error) :"
   ]
  },
  {
   "cell_type": "markdown",
   "metadata": {},
   "source": [
    "### Two Pointwise Error Measures\n",
    "\n",
    "1 - 0/1 error  \n",
    ">   correct or incorrect ?  \n",
    ">   often for classification\n",
    "\n",
    "2 - squared error\n",
    ">   how far y' from y.  \n",
    ">   often for regression"
   ]
  },
  {
   "cell_type": "markdown",
   "metadata": {},
   "source": [
    "### Idea Mini-Target\n",
    "\n",
    "P(y|x) and err define ideal mini-target(x)\n",
    "\n",
    "$ P\\Big(y = 1 \\big| x\\Big) = 0.2 $  \n",
    "$ P\\Big(y = 2 \\big| x\\Big) = 0.7 $  \n",
    "$ P\\Big(y = 3 \\big| x\\Big) = 0.1 $\n",
    "\n",
    "__0/1 error :__\n",
    "\n",
    "$$ err( \\hat{y}, y) = [ \\hat{y} \\ne y ] $$\n",
    "\n",
    "correct or incorrect ?\n",
    "\n",
    "often for classification\n",
    "\n",
    "$$\n",
    "\\hat{y} = \n",
    "\\begin{Bmatrix}\n",
    "  1 & avg. err = 0.8 \\\\\n",
    "  2 & avg. err = 0.3 \\\\\n",
    "  3 & avg. err = 0.9 \\\\\n",
    "  1.9 & avg. err = 1.0 \\\\  \n",
    "\\end{Bmatrix}\n",
    "$$\n",
    "\n",
    "在 boolean 的錯誤分辨下，1.9 錯誤率是 100%"
   ]
  },
  {
   "cell_type": "markdown",
   "metadata": {},
   "source": [
    "__squared error :__\n",
    "\n",
    "$$ err( \\hat{y}, y) = ( \\hat{y} - y )^2 $$\n",
    "\n",
    "how far is $ \\hat{y} $ from y ?\n",
    "\n",
    "often for regression\n",
    "\n",
    "ex for err y=1: $ 0.7 \\times (2-1)^2 + 0.1 \\times (3-1)^2 = 0.7 + 0.4 = 1.1 $\n",
    "\n",
    "$$\n",
    "\\hat{y} = \n",
    "\\begin{Bmatrix}\n",
    "  1 & avg. err = 1.1 \\\\\n",
    "  2 & avg. err = 0.3 \\\\\n",
    "  3 & avg. err = 1.5 \\\\\n",
    "  1.9 & avg. err = 0.29(*) \\\\  \n",
    "\\end{Bmatrix}\n",
    "$$\n",
    "\n",
    "在 Square Error Measure 下，猜 y = 1.9 的錯誤率是最低的: 29 %.\n",
    "\n",
    "$ f(x) = \\sum_{y \\in Y} y \\  P(y | x) $"
   ]
  },
  {
   "cell_type": "markdown",
   "metadata": {},
   "source": [
    "### Example : Choice of Error Measure\n",
    "\n",
    "如果在一個指紋辨識的應用裡，+ 是指紋符合。\n",
    "\n",
    "```\n",
    "    | g=+           | g=-\n",
    "-------------------------\n",
    "f=+ | Correct       | False Reject\n",
    "    |               |\n",
    "f=- | False Accept  | Correct\n",
    "```\n",
    "\n",
    "False Accept: 不是指紋主人，卻錯誤的辨識接受了  \n",
    "False Reject: 是指紋主人，但卻辨識失敗\n",
    "\n",
    "在不同的應用中，兩種錯誤可能嚴重性不同:\n",
    "\n",
    "1. 超市辨識指紋，決定辨識出的會員可否給折扣。False Accept 不嚴重\n",
    "2. 銀行提款。False Accept 很嚴重"
   ]
  },
  {
   "cell_type": "markdown",
   "metadata": {},
   "source": [
    "### Algorithmic Error Measure : $ \\widehat{err} $\n",
    "\n",
    "設計演算法使用的錯誤衡量方式\n",
    "\n",
    "- (1) true: just **err**\n",
    "- (2) plausible\n",
    "    ```\n",
    "    (2.a) : 0/1: minimum 'flipping noise' (NP-hard to optimize)\n",
    "    (2.b) : squared: minimum Gaussian noise\n",
    "    ```\n",
    "- (3) friendly to algorithm: easy to optimize for A.\n",
    "    ```\n",
    "    (3.a) : closed-form solution\n",
    "    (3.b) : convex objective function\n",
    "    ```"
   ]
  },
  {
   "cell_type": "markdown",
   "metadata": {},
   "source": [
    "### Cost (Error, Loss) Matrix\n",
    "\n",
    "Cost Matrix also called Error Matrix or Loss Matrix.\n",
    "\n",
    "$$\n",
    "\\begin{array}{c|cc}\n",
    "  & h(x)=+1 & h(x)=-1 \\\\\n",
    "\\hline\n",
    "y=+1 & 0 & 1 \\\\\n",
    "y=-1 & 1000 & 0 \\\\\n",
    "\\end{array}\n",
    "$$"
   ]
  },
  {
   "cell_type": "markdown",
   "metadata": {},
   "source": [
    "### Minimize $ E_{in} $ for Weighted Classification"
   ]
  },
  {
   "cell_type": "markdown",
   "metadata": {},
   "source": [
    "Error measure for out of sample,\n",
    "\n",
    "$$\n",
    "E_{out}(h) = \\mathcal{E}_{(x,y) \\sim P}\n",
    "\\begin{cases}\n",
    "1, & \\text{ if } y = +1 \\\\\n",
    "1000, & \\text{ if } y = -1 \\\\\n",
    "\\end{cases}, \\big[ y \\ne h(x) \\big]\n",
    "$$"
   ]
  },
  {
   "cell_type": "markdown",
   "metadata": {},
   "source": [
    "Error measure for in-sample,\n",
    "\n",
    "$$\n",
    "E_{in}(h) =\n",
    "\\frac{1}{N} \\sum_{n=1}^N \n",
    "\\begin{cases}\n",
    "1, & \\text{ if } y_n = +1 \\\\\n",
    "1000, & \\text{ if } y_n = -1 \\\\\n",
    "\\end{cases}, \\big[ y_n \\ne h(x_n) \\big]\n",
    "$$"
   ]
  },
  {
   "cell_type": "markdown",
   "metadata": {},
   "source": [
    "知道 VC Bound，表示 $ E_{in} \\sim E_{out} $, 接下來的問題是, \n",
    "\n",
    "如何解獲得最小化的 $ E_{in}^w $ ？ (w 代表加上權重)\n",
    "\n",
    "PLA pocket algorithm, if $ w_{t+1} $ gets smaller $ E_{in}^w $ than $ \\hat{w} $, replace $ \\hat{w} $ by $ E_{in}^w $.\n",
    "\n",
    "原來的 pocket 只有在 0/1 Error 的保證，如何延伸 $ E_{in}^{0/1} \\to E_{in}^{w} $ ?"
   ]
  },
  {
   "cell_type": "markdown",
   "metadata": {},
   "source": [
    "將原來的資料， y=-1 的點都複製一千倍，可以在 0/1 的方法上，得到權重1000的效果。\n",
    "\n",
    "### Weighted pocket replacement\n",
    "\n",
    "- 在隨機取 sample data 點時，將 y=-1 的點被隨機選中的機率放大1000倍。\n",
    "\n",
    "這樣轉換 pocket algorithm 的方式，叫做 `systematic route` or `reduction`"
   ]
  }
 ],
 "metadata": {
  "anaconda-cloud": {},
  "kernelspec": {
   "display_name": "Python [default]",
   "language": "python",
   "name": "python3"
  },
  "language_info": {
   "codemirror_mode": {
    "name": "ipython",
    "version": 3
   },
   "file_extension": ".py",
   "mimetype": "text/x-python",
   "name": "python",
   "nbconvert_exporter": "python",
   "pygments_lexer": "ipython3",
   "version": "3.5.2"
  }
 },
 "nbformat": 4,
 "nbformat_minor": 2
}
