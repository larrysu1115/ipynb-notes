{
 "cells": [
  {
   "cell_type": "markdown",
   "metadata": {},
   "source": [
    "# Kernel SVM"
   ]
  },
  {
   "cell_type": "markdown",
   "metadata": {},
   "source": [
    "#### Dual Hard-Margin SVM\n",
    "\n",
    "$$\n",
    "\\begin{align}\n",
    "\\min_{\\alpha} \\ \\ & \\frac{1}{2} \\alpha^T Q_D \\alpha - 1^T \\alpha \\\\\n",
    "\\text{such that } & y^T \\alpha = 0 \\\\\n",
    "                  & \\alpha_n \\ge 0 \\text{ for } n = 1, \\cdots, N\n",
    "\\end{align}\n",
    "$$\n",
    "\n",
    "注意 $ Q_D $ 的計算仍是 $ O(\\tilde{d}), q_{n,m} = y_n y_m z_n^T z_m $,  \n",
    "\n",
    "需要先計算出 Q 才可能放入 QP solver 求解，此處仍是瓶頸。\n",
    "\n",
    "如何找到較快的方法去計算 $ z_n^T z_m = \\Phi(x_n)^T \\Phi(x_m) $"
   ]
  },
  {
   "cell_type": "markdown",
   "metadata": {},
   "source": [
    "### Fast Inner Product for $ \\Phi_2 $\n",
    "\n",
    "2<sup>nd</sup> order polynomial transform\n",
    "\n",
    "$\n",
    "\\begin{align}\n",
    "\\Phi_2(x) & = \\big( & 1,       &           &          & \\\\\n",
    "          &         & x_1,     &  x_2,     &  \\cdots, &  x_d \\\\\n",
    "          &         & x_1^2  , &  x_1 x_2, &  \\cdots, &  x_1 x_d \\\\\n",
    "          &         & x_2 x_1, &  x_2^2  , &  \\cdots, &  x_2 x_d \\\\\n",
    "          &         & \\vdots   &           &          & \\\\\n",
    "          &         & x_d x_1, &  x_d x_2, &  \\cdots, &  x_d^2 \\\\\n",
    "          &         &\\big)     &           &          & \\\\ \n",
    "\\end{align}\n",
    "$"
   ]
  },
  {
   "cell_type": "markdown",
   "metadata": {},
   "source": [
    "$$\n",
    "\\begin{align}\n",
    "\\Phi_2(x)^T \\Phi_2(x') & = 1 + \\sum_{i=1}^d x_i x_i' + \\sum_{i=1}^d \\sum_{j=1}^d x_i x_j  x_i' x_j'  \\\\\n",
    "& = 1 + \\sum_{i=1}^d x_i x_i' + \\sum_{i=1}^d x_i x_i' \\ \\ \\sum_{j=1}^d x_j x_j' \\\\\n",
    "& = 1 + x^T x' + \\big( x^T x' \\big) \\big( x^T x' \\big) \n",
    "\\end{align}\n",
    "$$\n",
    "\n",
    "如此只要先算出 x, x' 的內積，然後做平方，$ O(d) $ 就可完成 原來的 $ O(d^2) $。"
   ]
  },
  {
   "cell_type": "markdown",
   "metadata": {},
   "source": [
    "### Kernel : Transform + Inner Product\n",
    "\n",
    "Kernel function 就是做 $ \\Phi $ 空間轉換 再加上 進行內積 的兩個動作，結合起來一個步驟一起做，降低運算複雜度。\n",
    "\n",
    "Kernel function: \n",
    "\n",
    "$$ K_{\\Phi} \\big( x, x' \\big) \\equiv \\Phi \\big( x \\big)^T \\cdot \\Phi \\big( x' \\big) $$\n",
    "\n",
    "$ \\Phi_2 \\iff K_{\\Phi_2} \\big( x, x' \\big) = 1 + ( x^T x' ) + ( x^T x' )^2 $\n",
    "\n",
    "Quadratic Coefficient $ q_{n,m} = y_n y_m z_n^T z_m = y_n y_m K \\big( x_n, x_m \\big) $\n",
    "\n",
    "Optimal bias b: from $ SV(x_S, y_S) $\n",
    "\n",
    "$ b = y_S - w^T z_S = y_S - \\big( \\sum_{SV} \\alpha_n y_n z_n \\big)^T z_S = y_S - \\sum_{n=1}^N \\alpha_n y_n \\big( K( x_n, x_S ) \\big) $\n",
    "\n",
    "$ g_{SVM} \\big( x \\big) = sign \\big( w^T \\Phi(x) + b \\big) = sign \\Big( \\sum_{n=1}^N \\alpha_n y_n K (x_n, x) + b \\Big) $\n",
    "\n",
    "如此看來整個 SVM 算法都沒有需要轉換 $ x \\to z $ 就可以只用 x 就獲得相同的結果。\n",
    "\n",
    "- only SV needed to compute: $ w = \\sum_{n=1}^N \\alpha_n y_n z_n = \\sum_{SV} \\alpha_n y_n z_n $\n",
    "- only SV needed to compute: $ b = y_n - w^T z_n \\text{ with any SV } (z_n, y_n) $\n",
    "\n",
    "#### Kernel Trick: plug in efficient kernel function to avoid dependence on $ \\tilde{d} $"
   ]
  },
  {
   "cell_type": "markdown",
   "metadata": {},
   "source": [
    "## Kernel Hard-Margin SVM Algorithm\n",
    "\n",
    "STEP 1: $ q_{n,m} = y_n y_m K(x_n, x_m) $\n",
    "\n",
    "STEP 2: $ p = \\vec{-1}_N $ ; (A,c) for equal / bound constraints.\n",
    "\n",
    "STEP 3: $ \\alpha \\leftarrow QP(Q_D, p, A, c) $\n",
    "\n",
    "STEP 4: return SVs and their $ \\alpha_n $ as well as b such that for new x,\n",
    "\n",
    "$$ g_{SVM} (x) = sign \\Big( \\sum_{SV\\ indices\\ n} \\alpha_n y_n K(x_n, x) + b \\Big) $$\n",
    "\n",
    "- STEP 1: time complexity $ O(N^2) $ and (kernel evaluation)\n",
    "- STEP 2: QP with N variables and N+1 constraints.\n",
    "- STEP 3+4: time complexity O(#SV) and (kernel evaluation)\n",
    "\n",
    "#### Kernel SVM:\n",
    "\n",
    "use computational shortcut to avoid $ \\tilde{d} $ and predict with SV only."
   ]
  },
  {
   "cell_type": "markdown",
   "metadata": {},
   "source": [
    "## General Poly-2 Kernel\n",
    "\n",
    "將原有的二次項轉換 $ \\Phi $ 乘上個係數，可以獲得不同的變形。\n",
    "\n",
    "$ \\Phi_2 (x) = (1, x_1, \\cdots, x_d, x_1^2, \\cdots, x_d^2 ) $\n",
    "$ \\ \\ \\ \\to \\ \\ \\  K_{\\Phi_2} (x, x') = 1 + x^T x' + (x^T x')^2 $\n",
    "\n",
    "$ \\Phi_2 (x) = (1, \\sqrt{2} x_1, \\cdots, \\sqrt{2} x_d, x_1^2, \\cdots, x_d^2 ) $\n",
    "$ \\ \\ \\ \\to \\ \\ \\  K_{\\Phi_2} (x, x') = 1 + 2 x^T x' + (x^T x')^2 $\n",
    "\n",
    "$ \\Phi_2 (x) = (1, \\sqrt{2 \\gamma} x_1, \\cdots, \\sqrt{2 \\gamma} x_d, \\gamma x_1^2, \\cdots, \\gamma x_d^2 ) $\n",
    "$ \\ \\ \\ \\to \\ \\ \\  K_{\\Phi_2} (x, x') = 1 + 2 \\ \\gamma \\ x^T x' + \\gamma^2 (x^T x')^2 $\n",
    "\n",
    "### 比較常用的二次轉換形式:\n",
    "\n",
    "$$ K_{2} (x, x') = \\big( 1 + \\gamma \\ x^T x' \\big)^2 \\text{ with } \\gamma \\gt 0 $$\n",
    "\n",
    "$ K_2 $ : 較 $ K_{\\Phi_2} $ 更容易運算的形式"
   ]
  },
  {
   "cell_type": "markdown",
   "metadata": {},
   "source": [
    "![img](imgs/c203-poly2-kernel-examples.png)\n",
    "\n",
    "用了不同的 $ g_{SVM} $, 會找到不同的 SVs\n",
    "\n",
    "change of KERNEL = change of margin definition.\n",
    "\n",
    "> Need selecting K, just like selecting $ \\Phi $"
   ]
  },
  {
   "cell_type": "markdown",
   "metadata": {},
   "source": [
    "## General Polynomial Kernel\n",
    "\n",
    "$$\n",
    "K_2(x, x') = \\big( \\zeta + \\gamma x^T x' \\big)^2 \\text{ with } \\gamma > 0, \\zeta \\ge 0 \\\\\n",
    "K_3(x, x') = \\big( \\zeta + \\gamma x^T x' \\big)^3 \\text{ with } \\gamma > 0, \\zeta \\ge 0 \\\\\n",
    "\\vdots \\\\\n",
    "K_Q(x, x') = \\big( \\zeta + \\gamma x^T x' \\big)^Q \\text{ with } \\gamma > 0, \\zeta \\ge 0 \n",
    "$$"
   ]
  },
  {
   "cell_type": "markdown",
   "metadata": {},
   "source": [
    "embeds $ \\Phi_Q $ specially with parameters $ \\Big( \\gamma, \\zeta \\Big) $\n",
    "\n",
    "allows computing large-margin polynomial classification without dependence on $ \\tilde{d} $\n",
    "\n",
    "> SVM + Polynomial Kernel = Polynomial SVM"
   ]
  },
  {
   "cell_type": "markdown",
   "metadata": {},
   "source": [
    "### Special Case: Linear Kernel : K1\n",
    "\n",
    "$\n",
    "K_1(x, x') = \\big( 0 + 1 x^T x' \\big)^1 \\text{ with } \\gamma > 0, \\zeta \\ge 0\n",
    "$"
   ]
  },
  {
   "cell_type": "markdown",
   "metadata": {},
   "source": [
    "### Example: Dual SVM with linear Kernel using CVXOPT"
   ]
  },
  {
   "cell_type": "code",
   "execution_count": 2,
   "metadata": {
    "collapsed": false
   },
   "outputs": [
    {
     "name": "stdout",
     "output_type": "stream",
     "text": [
      "x:       [ 2. -8.] ,y:    1.0 : a=  [ 0.]\n",
      "x:       [ 4.  5.] ,y:    1.0 : a= [ 0.349]\n",
      "x:       [ 5. -6.] ,y:    1.0 : a=  [ 0.]\n",
      "x:       [ 0.  0.] ,y:   -1.0 : a= [ 0.15]\n",
      "x:       [ 1.  7.] ,y:   -1.0 : a=  [ 0.]\n",
      "x:     [  3.  10.] ,y:   -1.0 : a= [ 0.198]\n"
     ]
    },
    {
     "data": {
      "image/png": "[encoded data removed]",
      "text/plain": [
       "<matplotlib.figure.Figure at 0x10d2fbf98>"
      ]
     },
     "metadata": {},
     "output_type": "display_data"
    }
   ],
   "source": [
    "from cvxopt import matrix, solvers, printing\n",
    "import numpy as np\n",
    "import matplotlib.pyplot as plt\n",
    "\n",
    "np.set_printoptions(precision=3,suppress=True)\n",
    "COLORS  = {-1.0:'red', 1.0:'blue'}\n",
    "\n",
    "# +1 points\n",
    "x1 = np.array([[ 2,-8],[ 4, 5],[ 5,-6]]).astype(float)\n",
    "# -1 points\n",
    "x2 = np.array([[ 0, 0],[ 1, 7],[ 3, 10]]).astype(float)\n",
    "\n",
    "y1 = np.repeat(1.0, len(x1))\n",
    "y2 = np.repeat(-1.0, len(x2))\n",
    "\n",
    "# join\n",
    "x = np.concatenate((x1, x2), axis = 0)\n",
    "y = np.concatenate((y1, y2), axis = 0)\n",
    "\n",
    "# fit svm classifier\n",
    "\n",
    "NUM = x.shape[0]\n",
    "DIM = x.shape[1]\n",
    "\n",
    "K = y[:, None] * x\n",
    "K = np.dot(K, K.T)\n",
    "P = matrix(K)\n",
    "q = matrix(-np.ones((NUM, 1)))\n",
    "G = matrix(-np.eye(NUM))\n",
    "h = matrix(np.zeros(NUM))\n",
    "A = matrix(y.reshape(1, -1))\n",
    "b = matrix(np.zeros(1))\n",
    "solvers.options['show_progress'] = False\n",
    "sol = solvers.qp(P, q, G, h, A, b)\n",
    "alphas = np.array(sol['x'])\n",
    "\n",
    "# get weights\n",
    "w = np.sum(alphas * y[:, None] * x, axis = 0)\n",
    "# get bias\n",
    "cond = (alphas > 1e-4).reshape(-1)\n",
    "b = y[cond] - np.dot(x[cond], w)\n",
    "bias = b[0]\n",
    "\n",
    "norm = np.linalg.norm(w)\n",
    "w, bias = w / norm, bias / norm\n",
    "\n",
    "fig, ax = plt.subplots()\n",
    "# draw separater\n",
    "slope = -w[0] / w[1]\n",
    "intercept = -bias / w[1]\n",
    "px = np.arange(0, 6)\n",
    "ax.plot(px, px * slope + intercept, 'k-')\n",
    "\n",
    "# plot labels\n",
    "for idx,d in enumerate(x):\n",
    "    xi = d\n",
    "    yi = y[idx]\n",
    "    alphai = alphas[idx]\n",
    "    print('x: %15s ,y: %6s : a= %6s' % (xi, yi, alphai))\n",
    "    psize,ptran = (140,0.5) if alphai >= 0.001 else (70, 0.2)\n",
    "    ax.scatter(xi[0], xi[1], c = COLORS[yi], s=psize, alpha=ptran)\n",
    "    ax.text(xi[0], xi[1]+0.5, '(%d, %d)' % (xi[0], xi[1]))\n",
    "\n",
    "plt.show()"
   ]
  },
  {
   "cell_type": "markdown",
   "metadata": {},
   "source": [
    "上例大的點是找出來的 SVs, 使用 Linear Kernel"
   ]
  },
  {
   "cell_type": "markdown",
   "metadata": {},
   "source": [
    "### Kernel of 2nd Polynomial Transform"
   ]
  },
  {
   "cell_type": "code",
   "execution_count": 3,
   "metadata": {
    "collapsed": false
   },
   "outputs": [
    {
     "name": "stdout",
     "output_type": "stream",
     "text": [
      "1   - (  2, -8) - alphas: 0.000000\n",
      "2   - (  0, -9) - alphas: 0.000000\n",
      "3   - ( -5,-10) - alphas: 0.001246\n",
      "4   - (  4, -5) - alphas: 0.004594\n",
      "5   - (  0, 12) - alphas: 0.000000\n",
      "6   - ( -5,  6) - alphas: 0.000000\n",
      "7   - (  0, -4) - alphas: 0.000000\n",
      "8   - (  1,  7) - alphas: 0.003613\n",
      "9   - (  4,  6) - alphas: 0.000000\n",
      "10  - (  3,  2) - alphas: 0.000000\n",
      "11  - ( -3,  0) - alphas: 0.000000\n",
      "12  - ( -5,  2) - alphas: 0.002226\n",
      "w: \n",
      "[ 0.       0.01967 -0.06517  0.04537 -0.03262 -0.03262  0.05346]\n",
      "b:  -2.7719, using alpha[2]:0.00125\n"
     ]
    },
    {
     "name": "stderr",
     "output_type": "stream",
     "text": [
      "/Users/larrysu/anaconda/lib/python3.5/site-packages/ipykernel/__main__.py:110: VisibleDeprecationWarning: boolean index did not match indexed array along dimension 1; dimension is 2 but corresponding boolean dimension is 1\n"
     ]
    },
    {
     "data": {
      "image/png": "[encoded data removed]",
      "text/plain": [
       "<matplotlib.figure.Figure at 0x10a54f358>"
      ]
     },
     "metadata": {},
     "output_type": "display_data"
    }
   ],
   "source": [
    "from cvxopt import matrix, solvers, printing\n",
    "import numpy as np\n",
    "import math\n",
    "import matplotlib.pyplot as plt\n",
    "\n",
    "np.set_printoptions(precision=5,suppress=True)\n",
    "COLORS  = {-1.0:'red', 1.0:'blue'}\n",
    "\n",
    "# sample data definitions\n",
    "# +1 points\n",
    "x1 = np.array([[ 2, -8],\n",
    "               [ 0, -9],\n",
    "               [-5,-10],\n",
    "               [ 4, -5],\n",
    "               [ 0, 12],\n",
    "               [-5, 6]]).astype(float)\n",
    "# -1 points\n",
    "x2 = np.array([[ 0, -4],\n",
    "               [ 1,  7],\n",
    "               [ 4,  6],\n",
    "               [ 3,  2],\n",
    "               [-3,  0],\n",
    "               [-5,  2]]).astype(float)\n",
    "\n",
    "y1 = np.repeat(1.0, len(x1))\n",
    "y2 = np.repeat(-1.0, len(x2))\n",
    "\n",
    "x = np.concatenate((x1, x2), axis = 0)\n",
    "y = np.concatenate((y1, y2), axis = 0)\n",
    "\n",
    "NUM = x.shape[0]\n",
    "DIM = x.shape[1]\n",
    "\n",
    "K1 = x\n",
    "K2 = np.dot(K1, K1.T)\n",
    "K3 = 1 + K2 + np.power(K2, 2)\n",
    "\n",
    "y = y.reshape(len(y),1)\n",
    "Ky = y * y.T\n",
    "K = K3 * Ky\n",
    "\n",
    "P = matrix(K)\n",
    "q = matrix(-np.ones((NUM, 1)))\n",
    "G = matrix(-np.eye(NUM))\n",
    "h = matrix(np.zeros(NUM))\n",
    "A = matrix(y.reshape(1, -1))\n",
    "b = matrix(np.zeros(1))\n",
    "solvers.options['show_progress'] = False\n",
    "sol = solvers.qp(P, q, G, h, A, b)\n",
    "alphas = np.array(sol['x'])\n",
    "\n",
    "[print('%-3d - (%3d,%3d) - alphas: %.6f' % (idx+1, x[idx][0], x[idx][1], ai)) for idx,ai in enumerate(alphas)]\n",
    "\n",
    "def from_x_to_z(x):\n",
    "    return np.array([1, x[0], x[1], np.power(x[0],2), x[0]*x[1], x[0]*x[1], np.power(x[1],2)])\n",
    "\n",
    "z = []\n",
    "for xi in x:\n",
    "    z.append(from_x_to_z(xi))\n",
    "\n",
    "z = np.array(z)\n",
    "\n",
    "w = []\n",
    "\n",
    "for ii in range(0,len(z[0])):\n",
    "    wi = 0.0\n",
    "    for ni,yi in enumerate(y):\n",
    "        wi = wi + alphas[ni][0] * yi[0] * z[ni][ii]\n",
    "    w.append(wi)\n",
    "\n",
    "w = np.array(w)\n",
    "print('w: \\n%s' % w)\n",
    "\n",
    "def y_in_z_space(w, z):\n",
    "    return w.T * z\n",
    "\n",
    "fig, ax = plt.subplots()\n",
    "\n",
    "g_maxs = np.max(x,axis=0)\n",
    "g_mins = np.min(x,axis=0)\n",
    "\n",
    "ax.set_xlim([g_mins[0] - 5.0, g_maxs[0] + 5.0])\n",
    "ax.set_ylim([g_mins[1] - 5.0, g_maxs[1] + 5.0])\n",
    "\n",
    "# plot labels\n",
    "for idx,d in enumerate(x):\n",
    "    xi = d\n",
    "    yi = y[idx]\n",
    "    alphai = alphas[idx]\n",
    "    psize,ptran = (140,0.5) if alphai >= 0.000001 else (70, 0.2)\n",
    "    ax.scatter(xi[0], xi[1], c = COLORS[yi.item()], s=psize, alpha=ptran)\n",
    "    ax.text(xi[0], xi[1]+0.5, '(%d, %d)' % (xi[0], xi[1]))\n",
    "\n",
    "b = 0.0\n",
    "\n",
    "for idx,ai in enumerate(alphas):\n",
    "    if (ai > 0.000001):\n",
    "        b = y[idx] - w.dot(z[idx])\n",
    "        print('b: %8.4f, using alpha[%d]:%.5f' % (b, idx, ai))\n",
    "        break\n",
    "\n",
    "def get_x2_by_x1_w(w, x1):\n",
    "    p = []\n",
    "    p.append(w[6])\n",
    "    p.append(w[2] + w[4]*x1 + w[5]*x1)\n",
    "    p.append(w[0] + w[1]*x1 + w[3]*(x1*x1) + b)\n",
    "    return np.roots(p)\n",
    "\n",
    "\n",
    "svs = x[alphas > 0.00001]\n",
    "alphas[alphas > 0.00001]\n",
    "\n",
    "ln_x1s = []\n",
    "ln_x2s_a = []\n",
    "ln_x2s_b = []\n",
    "for lx in np.arange(g_mins[0] - 5.0, g_maxs[0] + 5.0, 0.2):\n",
    "    lx2s = get_x2_by_x1_w(w, lx)\n",
    "    ln_x1s.append(lx)\n",
    "    ln_x2s_a.append(lx2s[0])\n",
    "    ln_x2s_b.append(lx2s[1])\n",
    "\n",
    "plt.plot(ln_x1s, ln_x2s_a, '--g')\n",
    "plt.plot(ln_x1s, ln_x2s_b, '--g')\n",
    "\n",
    "plt.show()"
   ]
  },
  {
   "cell_type": "markdown",
   "metadata": {},
   "source": [
    "### Kernel of infinite dimensional transform\n",
    "\n",
    "無限維度的轉換 $ \\Phi(x) $ ? Yes, 如果 K(x,x') 可以有效率的計算出。\n"
   ]
  }
 ],
 "metadata": {
  "anaconda-cloud": {},
  "kernelspec": {
   "display_name": "Python [default]",
   "language": "python",
   "name": "python3"
  },
  "language_info": {
   "codemirror_mode": {
    "name": "ipython",
    "version": 3
   },
   "file_extension": ".py",
   "mimetype": "text/x-python",
   "name": "python",
   "nbconvert_exporter": "python",
   "pygments_lexer": "ipython3",
   "version": "3.5.2"
  }
 },
 "nbformat": 4,
 "nbformat_minor": 2
}
