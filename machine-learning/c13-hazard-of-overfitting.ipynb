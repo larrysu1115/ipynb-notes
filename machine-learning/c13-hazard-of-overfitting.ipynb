{
 "cells": [
  {
   "cell_type": "markdown",
   "metadata": {},
   "source": [
    "# Hazard of Overfitting\n",
    "\n",
    "### Cause of Overfitting\n",
    "\n",
    "- use excessive $ d_{VC} $\n",
    "- noise\n",
    "- limited data size N"
   ]
  },
  {
   "cell_type": "markdown",
   "metadata": {},
   "source": [
    "![img](imgs/c13-overfit-compare-n-dvc.png)\n",
    "\n",
    "若有兩個 H,  \n",
    "$ H_2 $ 的 $ d_{VC} $ 低  \n",
    "$ H_{10} $ 的 $ d_{VC} $ 高\n",
    "\n",
    "1. 在灰色區域兩者都 Overfits\n",
    "1. 當 N 非常大時，$ H_{10} $ 可以有較低的 $ E_{out} $ 表現。\n",
    "1. 但當 N 較小時，$ H_{10} $ 的 $ E_{out} $ 表現偏離 $ E_{in} $ 很遠。\n",
    "\n",
    "**當資料量不夠多時，較低維度的 H 比高維度的表現好**\n",
    "\n",
    "**對低維度的 H 來說，高維度產生的複雜度，無法表達，也可看作一種 noise**"
   ]
  },
  {
   "cell_type": "markdown",
   "metadata": {},
   "source": [
    "### Noise 強度對 Overfitting 的影響\n",
    "\n",
    "$ y = f(x) + \\epsilon $\n",
    "\n",
    "$ y \\sim Gaussian \\Big( \\underbrace{ \\sum_{q=0}^{Q_f} \\alpha_q x^q}_{f(x)}, \\ \\ \\sigma^2 \\Big) $\n",
    "\n",
    "$ \\sigma^2 $ : Gaussian i.i.d. noise $ \\epsilon $ level \n",
    "\n",
    "$ Q_f $: target function f(x) 的次方數。\n",
    "\n",
    "N: data size\n",
    "\n",
    "Known: $ E_{in} (g_{10}) \\le E_{in} (g_{2}) $\n",
    "\n",
    "Overfit measure: $ E_{out}(g_{10}) - E_{out}(g_2) $\n",
    "\n",
    "Question: 'Overfit level' for different $ (N, \\sigma^2) $ and $ (N, Q_f) $\n",
    "\n",
    "![img](imgs/c13-overfit-noise-dvc.png)"
   ]
  },
  {
   "cell_type": "markdown",
   "metadata": {},
   "source": [
    "### Reasons of Serious Overfitting\n",
    "\n",
    "1. data size N : LOW\n",
    "2. stochastic noise : HIGH\n",
    "3. deterministic noise : HIGH\n",
    "4. excessive power : HIGH ( 用 $ d_{VC} $ 太強的 H )"
   ]
  },
  {
   "cell_type": "markdown",
   "metadata": {},
   "source": [
    "類似的思考：在教兒童時，一開始最好不要用複雜的例子。"
   ]
  },
  {
   "cell_type": "markdown",
   "metadata": {},
   "source": [
    "### Dealing with Overfitting\n",
    "\n",
    "- Start from simple model\n",
    "- data cleaning / pruning\n",
    "- data hinting (exploit more data)\n",
    "- regularization\n",
    "- validation\n"
   ]
  },
  {
   "cell_type": "markdown",
   "metadata": {},
   "source": [
    "### Data Cleaning / Pruning\n",
    "\n",
    "發現某筆資料與其他差異太大，例如靠近o, 遠離x 的點卻被標記成 x；可能的做法：\n",
    "\n",
    "- Correct the label (data cleaning)\n",
    "- Remove the example (data pruning)\n",
    "\n",
    "可能會有用，但效果不一定。"
   ]
  },
  {
   "cell_type": "markdown",
   "metadata": {},
   "source": [
    "### Data Hinting\n",
    "\n",
    "例如辨識數字的應用，將原有的 3圖像 稍微旋轉幾度，平移... 應該仍然是 3。所以可以人為添加這樣的樣本資料  \n",
    "利用 domain knowledge 添加 virtual example。\n",
    "\n",
    "注意 virtual examples NOT i.i.d. to P(x,y) !!!"
   ]
  }
 ],
 "metadata": {
  "anaconda-cloud": {},
  "kernelspec": {
   "display_name": "Python [default]",
   "language": "python",
   "name": "python3"
  },
  "language_info": {
   "codemirror_mode": {
    "name": "ipython",
    "version": 3
   },
   "file_extension": ".py",
   "mimetype": "text/x-python",
   "name": "python",
   "nbconvert_exporter": "python",
   "pygments_lexer": "ipython3",
   "version": "3.5.2"
  }
 },
 "nbformat": 4,
 "nbformat_minor": 2
}
