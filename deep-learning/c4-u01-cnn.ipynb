{
 "cells": [
  {
   "cell_type": "markdown",
   "metadata": {},
   "source": [
    "# Convolutional NN"
   ]
  },
  {
   "cell_type": "markdown",
   "metadata": {},
   "source": [
    "Padding: 進行 convolution 操作時，避免結果 dimension 變小，而在 input 加上的 padding\n",
    "\n",
    "Stride: 進行 convolution 時，使用的位移量"
   ]
  },
  {
   "cell_type": "markdown",
   "metadata": {},
   "source": [
    "Convolution Operation:\n",
    "\n",
    "\n",
    "\n",
    "數學上還需要將 input matrix 上下左右倒置，但在 CNN 中不需要做。"
   ]
  },
  {
   "cell_type": "markdown",
   "metadata": {},
   "source": [
    "## One layer of CNN\n",
    "\n",
    "如一張 6x6 的圖片，input dimension : X.dim = 6x6x3  \n",
    "使用的 filter w.dim = 3x3x3,  \n",
    "$ a^{[1]}$.dim = 4x4xf\n",
    "\n",
    "$ f^{[l]} $ : filter size : $ f^{[l]} \\times f^{[l]} \\times n^{[l-1]}_c $  \n",
    "$ p^{[l]} $ : padding  \n",
    "$ s^{[l]} $ : stride  \n",
    "$ n^{[l]}_c $ : number of filters\n",
    "\n",
    "h: height  \n",
    "w: width  \n",
    "c: channel\n",
    "\n",
    "input dimension: $ n^{[l-1]}_h, n^{[l-1]}_w, n^{[l-1]}_c $\n",
    "\n",
    "output dimension: $ n^{[l]}_h, n^{[l]}_w, n^{[l]}_c $\n",
    "\n",
    "$\n",
    "n^{[l]}_h = \\lfloor \\frac{n^{[l-1]}_h + 2 p^{[l]} - f^{[l]} }{s^{[l]}} + 1 \\rfloor \\\\\n",
    "a^{[l]} \\to n^{[l]}_h \\times n^{[l]}_w \\times n^{[l]}_c \\\\\n",
    "A^{[l]} \\to m \\times n^{[l]}_h \\times n^{[l]}_w \\times n^{[l]}_c\n",
    "$\n",
    "\n",
    "$$\n",
    "a^{[1]} = ReLU \\big( w^{[1]} * x + b^{[1]} \\big)\n",
    "$$"
   ]
  },
  {
   "cell_type": "markdown",
   "metadata": {},
   "source": [
    "weights: $ f^{[l]} \\times f^{[l]} \\times n^{[l-1]}_c \\times n^{[l]}_c $\n",
    "\n",
    "bias: $ 1 \\times 1 \\times 1 \\times n^{[l]}_c $"
   ]
  },
  {
   "cell_type": "markdown",
   "metadata": {},
   "source": [
    "如果有 10 個 filter, dimension=3x3x3, how many parameters? \n",
    "\n",
    "一個 filter w 就有 3x3x3=27 params, 再加一個 bias:b, 有10個filter，28x10=280\n",
    "\n",
    "好處是無論 input 圖片多大，都可以用 280個 parameters."
   ]
  },
  {
   "cell_type": "markdown",
   "metadata": {},
   "source": [
    "## Types of layers in ConvNet\n",
    "\n",
    "- Convolution\n",
    "- Pooling : Max pooling 每一個 channel 分開做。有時也有 average pooling. 無須學習 parameters. 很少見用到 padding.\n",
    "- Fully connected"
   ]
  }
 ],
 "metadata": {
  "kernelspec": {
   "display_name": "p3cv",
   "language": "python",
   "name": "p3cv"
  },
  "language_info": {
   "codemirror_mode": {
    "name": "ipython",
    "version": 3
   },
   "file_extension": ".py",
   "mimetype": "text/x-python",
   "name": "python",
   "nbconvert_exporter": "python",
   "pygments_lexer": "ipython3",
   "version": "3.6.2"
  }
 },
 "nbformat": 4,
 "nbformat_minor": 2
}
