{
 "cells": [
  {
   "cell_type": "markdown",
   "metadata": {},
   "source": [
    "# Sequence Architecture"
   ]
  },
  {
   "cell_type": "markdown",
   "metadata": {},
   "source": [
    "## Beam search\n",
    "\n",
    "每次尋找概率最高的 B 個字。\n",
    "\n",
    "X: input french sentence.\n",
    "\n",
    "$ Y = \\big[ \\ y^{<1>} \\ y^{<2>}\\ y^{<3>}\\ y^{<4>} \\ \\cdots  \\ \\big] $ \n",
    "\n",
    "如 B=3, 先尋找 Y 的第一個字 $ y^{<1>} $ 的 3 個最高概率。 \n",
    "\n",
    "$ P\\big(\\ \\hat{y}^{<1>}\\ \\big| \\ X \\big) $\n",
    "\n",
    "在對這 3 個字，分別繼續尋找 $ y^{<2>} $, X 輸入 RNN 後，再設定 $ y^{<1>} = \\hat{y}^{<1>} $, 求出 $ \\hat{y}^{<2>} $\n",
    "\n",
    "$ P\\big(\\ \\hat{y}^{<2>}\\ \\big| \\ X, \\ \\hat{y}^{<1>} \\ \\big) $\n",
    "\n",
    "接下來只取 pair $ \\big( \\hat{y}^{<1>}, \\ \\hat{y}^{<2>} \\big) $ 概率最高的三組。\n",
    "\n",
    "如果 B=1, 就等於是 Greedy Search algorithm."
   ]
  },
  {
   "cell_type": "markdown",
   "metadata": {},
   "source": [
    "$\n",
    "P\\big(\\ y^{<1>}, y^{<2>}, \\cdots, y^{<T_y>}\\ \\big| \\ X\\ \\big) = \n",
    "P\\big(\\ y^{<1>}\\ \\big| \\ X            \\ \\big) \\times\n",
    "P\\big(\\ y^{<2>}\\ \\big| \\ X, \\ y^{<1>} \\ \\big) \\times\n",
    "P\\big(\\ y^{<3>}\\ \\big| \\ X, y^{<1>}, y^{<2>} \\ \\big)\n",
    "$\n",
    "\n",
    "但是太小的機率一直相乘會導致極其小的數字，電腦無法處理，因此對其 log 進行最大化。\n",
    "\n",
    "$\n",
    "arg \\max_y \\prod_{t=1}^{t_y} P \\big( y^{<t>} \\big| x, y^{<1>}, \\dots, y^{<t-1>} \\big) \\\\\n",
    "arg \\max_y \\sum_{t=1}^{t_y} \\log P \\big( y^{<t>} \\big| x, y^{<1>}, \\dots, y^{<t-1>} \\big)\n",
    "$"
   ]
  },
  {
   "cell_type": "markdown",
   "metadata": {},
   "source": [
    "## Normalize length\n",
    "\n",
    "reduce penalty for output longer translation.\n",
    "\n",
    "$\n",
    "arg \\max_y \\frac{1}{T_y^{\\alpha}} \\sum_{t=1}^{t_y} \\log P \\big( y^{<t>} \\big| x, y^{<1>}, \\dots, y^{<t-1>} \\big)\n",
    "$\n",
    "\n",
    "alpha : 0.7 適度的 norm  \n",
    "alpha : 1 (standard norm)  \n",
    "alpha : 0 (NO norm)"
   ]
  },
  {
   "cell_type": "markdown",
   "metadata": {},
   "source": [
    "## Bleu Score\n",
    "\n",
    "bilingual evaluation understudy\n",
    "\n",
    "選出句子中連續的詞組，計算出現次數，進行比對不同句子的相似度。\n",
    "\n",
    "$ p_n $ = Bleu score on n-grams only\n",
    "\n",
    "Combined bleu score = $\n",
    "BP \\ \\ \\exp\\big( \\frac{1}{4} \\sum_{n=1}^4 p_n \\big)\n",
    "$\n",
    "\n",
    "BP : Brevity penalty\n",
    "\n",
    "m: length of Machine Translation  \n",
    "r: reference good human translation."
   ]
  },
  {
   "cell_type": "markdown",
   "metadata": {},
   "source": [
    "$$\n",
    "\\begin{cases}\n",
    "1, & if \\ m > r \\\\\n",
    "\\exp \\big( 1 - \\frac{m}{r} \\big), & otherwise\n",
    "\\end{cases}\n",
    "$$"
   ]
  },
  {
   "cell_type": "markdown",
   "metadata": {},
   "source": [
    "## Attention Model"
   ]
  },
  {
   "cell_type": "markdown",
   "metadata": {},
   "source": [
    "$$\n",
    "\\begin{cases}\n",
    "a^{<t'>} = \\big( \\overrightarrow{a}^{<t'>}, \\overleftarrow{a}^{<t'>} \\big) \\\\\n",
    "\\sum_{t'} \\alpha^{<1, t'>} = 1 \\\\\n",
    "c^{<1>} = \\sum_{t'} \\alpha^{<1, t'>} \\ a^{<t'>}\n",
    "\\end{cases}\n",
    "$$"
   ]
  },
  {
   "cell_type": "markdown",
   "metadata": {},
   "source": [
    "$ \\alpha^{<t, t'>} $ : amount of attention $ y^{<t>} $ should pay to $ a^{<t'>} $"
   ]
  },
  {
   "cell_type": "markdown",
   "metadata": {},
   "source": [
    "## Speech recognition\n",
    "\n",
    "CTC cost : Connectionist Temporal classification"
   ]
  }
 ],
 "metadata": {
  "kernelspec": {
   "display_name": "p3lab",
   "language": "python",
   "name": "p3lab"
  },
  "language_info": {
   "codemirror_mode": {
    "name": "ipython",
    "version": 3
   },
   "file_extension": ".py",
   "mimetype": "text/x-python",
   "name": "python",
   "nbconvert_exporter": "python",
   "pygments_lexer": "ipython3",
   "version": "3.6.1"
  }
 },
 "nbformat": 4,
 "nbformat_minor": 2
}
