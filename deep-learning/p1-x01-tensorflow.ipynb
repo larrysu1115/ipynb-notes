{
 "cells": [
  {
   "cell_type": "code",
   "execution_count": 1,
   "metadata": {},
   "outputs": [],
   "source": [
    "# surpress warning\n",
    "import os\n",
    "os.environ[\"TF_CPP_MIN_LOG_LEVEL\"]=\"3\""
   ]
  },
  {
   "cell_type": "code",
   "execution_count": 2,
   "metadata": {},
   "outputs": [
    {
     "name": "stderr",
     "output_type": "stream",
     "text": [
      "/Users/larrysu/.pyenv/versions/p3lab/lib/python3.6/site-packages/h5py/__init__.py:36: FutureWarning: Conversion of the second argument of issubdtype from `float` to `np.floating` is deprecated. In future, it will be treated as `np.float64 == np.dtype(float).type`.\n",
      "  from ._conv import register_converters as _register_converters\n"
     ]
    }
   ],
   "source": [
    "from __future__ import absolute_import\n",
    "from __future__ import division\n",
    "from __future__ import print_function\n",
    "\n",
    "import numpy as np\n",
    "import tensorflow as tf"
   ]
  },
  {
   "cell_type": "code",
   "execution_count": 3,
   "metadata": {},
   "outputs": [
    {
     "name": "stdout",
     "output_type": "stream",
     "text": [
      "Tensor(\"Const:0\", shape=(), dtype=float32)\n",
      "Const_1:0 Tensor(\"Const_1:0\", shape=(), dtype=float32)\n",
      "Tensor(\"add:0\", shape=(), dtype=float32)\n"
     ]
    }
   ],
   "source": [
    "a = tf.constant(3., dtype=tf.float32)\n",
    "b = tf.constant(4.)\n",
    "total = a + b\n",
    "print(a)\n",
    "print(b.name, b)\n",
    "print(total)"
   ]
  },
  {
   "cell_type": "code",
   "execution_count": 4,
   "metadata": {
    "collapsed": true
   },
   "outputs": [],
   "source": [
    "writer = tf.summary.FileWriter('.')\n",
    "writer.add_graph(tf.get_default_graph())"
   ]
  },
  {
   "cell_type": "code",
   "execution_count": 5,
   "metadata": {},
   "outputs": [
    {
     "name": "stdout",
     "output_type": "stream",
     "text": [
      "<class 'numpy.float32'> 7.0\n"
     ]
    }
   ],
   "source": [
    "sess = tf.Session()\n",
    "result = sess.run(total)\n",
    "print(type(result), result)"
   ]
  },
  {
   "cell_type": "code",
   "execution_count": 6,
   "metadata": {},
   "outputs": [
    {
     "name": "stdout",
     "output_type": "stream",
     "text": [
      "[0.09624088 0.51840377 0.7166587 ]\n",
      "[0.79358804 0.21751893 0.42363536]\n",
      "(array([1.6901082, 1.704126 , 1.4176348], dtype=float32), array([2.6901083, 2.704126 , 2.417635 ], dtype=float32))\n"
     ]
    }
   ],
   "source": [
    "vec = tf.random_uniform(shape=(3,))\n",
    "out1 = vec + 1\n",
    "out2 = vec + 2\n",
    "print(sess.run(vec))\n",
    "print(sess.run(vec))\n",
    "print(sess.run((out1, out2)))"
   ]
  },
  {
   "cell_type": "code",
   "execution_count": 7,
   "metadata": {},
   "outputs": [
    {
     "name": "stdout",
     "output_type": "stream",
     "text": [
      "7.5\n",
      "[4. 6.]\n"
     ]
    }
   ],
   "source": [
    "x = tf.placeholder(tf.float32)\n",
    "y = tf.placeholder(tf.float32)\n",
    "z = x + y\n",
    "print(sess.run(z, feed_dict={x: 3, y: 4.5}))\n",
    "print(sess.run(z, feed_dict={x: [1,2], y: [3,4]}))"
   ]
  },
  {
   "cell_type": "code",
   "execution_count": 8,
   "metadata": {
    "scrolled": true
   },
   "outputs": [
    {
     "name": "stdout",
     "output_type": "stream",
     "text": [
      "[0 1]\n",
      "[2 3]\n",
      "[4 5]\n",
      "[6 7]\n"
     ]
    }
   ],
   "source": [
    "my_data = [\n",
    "    [0, 1,],\n",
    "    [2, 3,],\n",
    "    [4, 5,],\n",
    "    [6, 7,],\n",
    "]\n",
    "slices = tf.data.Dataset.from_tensor_slices(my_data)\n",
    "next_item = slices.make_one_shot_iterator().get_next()\n",
    "\n",
    "while True:\n",
    "    try:\n",
    "        print(sess.run(next_item))\n",
    "    except tf.errors.OutOfRangeError:\n",
    "        break"
   ]
  },
  {
   "cell_type": "code",
   "execution_count": 9,
   "metadata": {
    "collapsed": true
   },
   "outputs": [],
   "source": [
    "x = tf.placeholder(tf.float32, shape=[None, 3])\n",
    "linear_model = tf.layers.Dense(units=1)\n",
    "y = linear_model(x)"
   ]
  },
  {
   "cell_type": "code",
   "execution_count": 10,
   "metadata": {
    "collapsed": true
   },
   "outputs": [],
   "source": [
    "init = tf.global_variables_initializer()\n",
    "sess.run(init)"
   ]
  },
  {
   "cell_type": "code",
   "execution_count": 11,
   "metadata": {
    "scrolled": true
   },
   "outputs": [
    {
     "name": "stdout",
     "output_type": "stream",
     "text": [
      "[[0.653571 ]\n",
      " [3.1960459]]\n"
     ]
    }
   ],
   "source": [
    "res = sess.run(y, {x: [[1, 2, 3], [4 ,5 ,6]]})\n",
    "print(str(res))"
   ]
  },
  {
   "cell_type": "markdown",
   "metadata": {},
   "source": [
    "## Feature columns"
   ]
  },
  {
   "cell_type": "code",
   "execution_count": 12,
   "metadata": {},
   "outputs": [
    {
     "name": "stdout",
     "output_type": "stream",
     "text": [
      "Tensor(\"input_layer/concat:0\", shape=(4, 3), dtype=float32)\n"
     ]
    }
   ],
   "source": [
    "features = {\n",
    "    'sales' : [[5],[10],[8],[9]],\n",
    "    'department': ['sports','sports','gardening','gardening']}\n",
    "\n",
    "col_department = tf.feature_column.categorical_column_with_vocabulary_list(\n",
    "    'department', ['sports','gardening'])\n",
    "col_department = tf.feature_column.indicator_column(col_department)\n",
    "col_sales = tf.feature_column.numeric_column('sales')\n",
    "\n",
    "columns = [col_sales, col_department]\n",
    "inputs = tf.feature_column.input_layer(features, columns)\n",
    "print(str(inputs))"
   ]
  },
  {
   "cell_type": "code",
   "execution_count": 13,
   "metadata": {},
   "outputs": [
    {
     "name": "stdout",
     "output_type": "stream",
     "text": [
      "[[ 1.  0.  5.]\n",
      " [ 1.  0. 10.]\n",
      " [ 0.  1.  8.]\n",
      " [ 0.  1.  9.]]\n"
     ]
    }
   ],
   "source": [
    "var_init = tf.global_variables_initializer()\n",
    "table_init = tf.tables_initializer()\n",
    "sess = tf.Session()\n",
    "sess.run((var_init, table_init))\n",
    "print(sess.run(inputs))"
   ]
  },
  {
   "cell_type": "markdown",
   "metadata": {},
   "source": [
    "## Training\n",
    "\n",
    "$$\n",
    "\\hat{y} = w^T x + b\n",
    "$$\n",
    "\n",
    "`w = Dense.variables[0]`  \n",
    "`b = Dense.variables[1]`"
   ]
  },
  {
   "cell_type": "code",
   "execution_count": 14,
   "metadata": {},
   "outputs": [
    {
     "name": "stdout",
     "output_type": "stream",
     "text": [
      "<tensorflow.python.layers.core.Dense object at 0x121b98438>\n",
      "Tensor(\"dense_1/BiasAdd:0\", shape=(4, 1), dtype=float32)\n"
     ]
    }
   ],
   "source": [
    "x = tf.constant([[1],[2],[3],[4]], dtype=tf.float32)\n",
    "y = tf.constant([[0],[-1],[-2],[-3]], dtype=tf.float32)\n",
    "\n",
    "linear_model = tf.layers.Dense(units=1)\n",
    "y_hat = linear_model(x)\n",
    "print(str(linear_model))\n",
    "print(str(y_hat))"
   ]
  },
  {
   "cell_type": "code",
   "execution_count": 15,
   "metadata": {},
   "outputs": [
    {
     "name": "stdout",
     "output_type": "stream",
     "text": [
      "[[-0.2797588 ]\n",
      " [-0.5595176 ]\n",
      " [-0.83927643]\n",
      " [-1.1190352 ]]\n"
     ]
    }
   ],
   "source": [
    "sess = tf.Session()\n",
    "init = tf.global_variables_initializer()\n",
    "sess.run(init)\n",
    "print(sess.run(y_hat))"
   ]
  },
  {
   "cell_type": "code",
   "execution_count": 16,
   "metadata": {},
   "outputs": [
    {
     "name": "stdout",
     "output_type": "stream",
     "text": [
      "Tensor(\"mean_squared_error/value:0\", shape=(), dtype=float32)\n",
      "1.2893994\n"
     ]
    }
   ],
   "source": [
    "loss = tf.losses.mean_squared_error(labels=y, predictions=y_hat)\n",
    "print(str(loss))\n",
    "print(sess.run(loss))"
   ]
  },
  {
   "cell_type": "code",
   "execution_count": 17,
   "metadata": {},
   "outputs": [
    {
     "name": "stdout",
     "output_type": "stream",
     "text": [
      "[<tf.Variable 'dense_1/kernel:0' shape=(1, 1) dtype=float32_ref>, <tf.Variable 'dense_1/bias:0' shape=(1,) dtype=float32_ref>]\n",
      "variables len:  2\n",
      "variables 1:  <tf.Variable 'dense_1/kernel:0' shape=(1, 1) dtype=float32_ref>\n",
      "variables 2:  <tf.Variable 'dense_1/bias:0' shape=(1,) dtype=float32_ref>\n",
      "w =  [[-0.2797588]]\n",
      "b =  [0.]\n"
     ]
    }
   ],
   "source": [
    "print(linear_model.weights)\n",
    "print(\"variables len: \", len(linear_model.variables))\n",
    "print(\"variables 1: \", linear_model.variables[0])\n",
    "print(\"variables 2: \", linear_model.variables[1])\n",
    "\n",
    "vs = sess.run(linear_model.variables)\n",
    "print(\"w = \", vs[0])\n",
    "print(\"b = \", vs[1])"
   ]
  },
  {
   "cell_type": "code",
   "execution_count": 18,
   "metadata": {
    "scrolled": true
   },
   "outputs": [
    {
     "name": "stdout",
     "output_type": "stream",
     "text": [
      "<tensorflow.python.training.gradient_descent.GradientDescentOptimizer object at 0x121c4da20>\n",
      "name: \"GradientDescent\"\n",
      "op: \"NoOp\"\n",
      "input: \"^GradientDescent/update_dense_1/kernel/ApplyGradientDescent\"\n",
      "input: \"^GradientDescent/update_dense_1/bias/ApplyGradientDescent\"\n",
      "\n"
     ]
    }
   ],
   "source": [
    "optimizer = tf.train.GradientDescentOptimizer(0.01)\n",
    "train = optimizer.minimize(loss)\n",
    "\n",
    "print(str(optimizer))\n",
    "print(str(train))"
   ]
  },
  {
   "cell_type": "code",
   "execution_count": 19,
   "metadata": {},
   "outputs": [
    {
     "name": "stdout",
     "output_type": "stream",
     "text": [
      "0  : loss =  1.2893994\n",
      "20  : loss =  0.18518175\n",
      "40  : loss =  0.16361041\n",
      "60  : loss =  0.14511834\n",
      "80  : loss =  0.12871669\n",
      "99  : loss =  0.11485548\n"
     ]
    }
   ],
   "source": [
    "for i in range(100):\n",
    "    _, loss_value = sess.run((train, loss))\n",
    "    if i % 20 == 0 or i==99:\n",
    "        print(i, \" : loss = \", loss_value)"
   ]
  },
  {
   "cell_type": "code",
   "execution_count": 22,
   "metadata": {},
   "outputs": [
    {
     "name": "stdout",
     "output_type": "stream",
     "text": [
      "[<tf.Variable 'dense_1/kernel:0' shape=(1, 1) dtype=float32_ref>, <tf.Variable 'dense_1/bias:0' shape=(1,) dtype=float32_ref>]\n",
      "variables len:  2\n",
      "variables 1:  <tf.Variable 'dense_1/kernel:0' shape=(1, 1) dtype=float32_ref>\n",
      "variables 2:  <tf.Variable 'dense_1/bias:0' shape=(1,) dtype=float32_ref>\n",
      "w =  [[-0.71878785]]\n",
      "b =  [0.17320193]\n",
      "y =  [[-0.54558593]\n",
      " [-1.2643738 ]\n",
      " [-1.9831616 ]\n",
      " [-2.7019494 ]]\n"
     ]
    }
   ],
   "source": [
    "print(linear_model.weights)\n",
    "print(\"variables len: \", len(linear_model.variables))\n",
    "print(\"variables 1: \", linear_model.variables[0])\n",
    "print(\"variables 2: \", linear_model.variables[1])\n",
    "\n",
    "vs = sess.run(linear_model.variables)\n",
    "print(\"w = \", vs[0])\n",
    "print(\"b = \", vs[1])\n",
    "\n",
    "y_values = sess.run(y_hat)\n",
    "print(\"y = \", y_values)"
   ]
  }
 ],
 "metadata": {
  "kernelspec": {
   "display_name": "p3lab",
   "language": "python",
   "name": "p3lab"
  },
  "language_info": {
   "codemirror_mode": {
    "name": "ipython",
    "version": 3
   },
   "file_extension": ".py",
   "mimetype": "text/x-python",
   "name": "python",
   "nbconvert_exporter": "python",
   "pygments_lexer": "ipython3",
   "version": "3.6.1"
  }
 },
 "nbformat": 4,
 "nbformat_minor": 2
}
