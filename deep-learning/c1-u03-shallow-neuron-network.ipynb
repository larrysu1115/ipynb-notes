{
 "cells": [
  {
   "cell_type": "markdown",
   "metadata": {},
   "source": [
    "# Shallow Neuron Network\n",
    "\n",
    "An example of simple 2 layers Neuron Network"
   ]
  },
  {
   "cell_type": "markdown",
   "metadata": {},
   "source": [
    "<img src=\"imgs/shallow-nn.png\" style=\"width:500px;float:right;\" />\n",
    "\n",
    "## Parameters:\n",
    "\n",
    "$\n",
    "\\begin{align}\n",
    "\\text{number of layers : }   & L     & = 2 \\\\\n",
    "\\text{input features : }     & n_0   & = 2 \\\\\n",
    "\\text{neurons in layer 1 : } & n_1   & = 3 \\\\\n",
    "\\text{output : }             & n_2   & = 1 \\\\\n",
    "\\text{training samples : }   & m     & = 4 \\\\\n",
    "\\end{align}\n",
    "$"
   ]
  },
  {
   "cell_type": "markdown",
   "metadata": {},
   "source": [
    "## Forward Propagation : Layer 1\n",
    "\n",
    "$\n",
    "X = \\begin{bmatrix}\n",
    "x_1^{(1)} & x_1^{(2)} & x_1^{(3)} & x_1^{(4)} \\\\\n",
    "x_2^{(1)} & x_2^{(2)} & x_2^{(3)} & x_2^{(4)}\n",
    "\\end{bmatrix}_{2 \\times 4}\n",
    "\\\\ \\ \n",
    "\\\\\n",
    "W^{[1]} = \\begin{bmatrix}\n",
    "w_{11}^{[1]} & w_{12}^{[1]} & w_{13}^{[1]} \\\\\n",
    "w_{21}^{[1]} & w_{22}^{[1]} & w_{23}^{[1]}\n",
    "\\end{bmatrix}_{2 \\times 3}\n",
    "\\\\ \\ \n",
    "\\\\\n",
    "b^{[1]} = \\begin{bmatrix} b^{[1]}_1 \\\\ b^{[1]}_2 \\\\ b^{[1]}_3 \\end{bmatrix}\n",
    "$"
   ]
  },
  {
   "cell_type": "markdown",
   "metadata": {},
   "source": [
    "$\n",
    "Z^{[1]} = W^{[1]\\ T} X + b = \n",
    "\\begin{bmatrix}\n",
    "w_{11}^{[1]} & w_{21}^{[1]} \\\\\n",
    "w_{12}^{[1]} & w_{22}^{[1]} \\\\\n",
    "w_{13}^{[1]} & w_{23}^{[1]}\n",
    "\\end{bmatrix} \\ \\ \n",
    "\\begin{bmatrix}\n",
    "x_1^{(1)} & x_1^{(2)} & x_1^{(3)} & x_1^{(4)} \\\\\n",
    "x_2^{(1)} & x_2^{(2)} & x_2^{(3)} & x_2^{(4)}\n",
    "\\end{bmatrix} \\ + \\ \n",
    "\\begin{bmatrix} b^{[1]}_1 \\\\ b^{[1]}_2 \\\\ b^{[1]}_3 \\end{bmatrix}\n",
    "$"
   ]
  },
  {
   "cell_type": "markdown",
   "metadata": {},
   "source": [
    "$\n",
    "Z^{[1]} =\n",
    "\\begin{bmatrix}\n",
    "w_{11}x_1^{(1)} + w_{21}x_2^{(1)} + b^{[1]}_1 &\n",
    "w_{11}x_1^{(2)} + w_{21}x_2^{(2)} + b^{[1]}_1 &\n",
    "\\dots^{(3)} & \\dots^{(4)} \\\\\n",
    "w_{12}x_1^{(1)} + w_{22}x_2^{(1)} + b^{[1]}_2 &\n",
    "w_{12}x_1^{(2)} + w_{22}x_2^{(2)} + b^{[1]}_2 &\n",
    "\\dots^{(3)} & \\dots^{(4)} \\\\\n",
    "w_{13}x_1^{(1)} + w_{23}x_2^{(1)} + b^{[1]}_3 &\n",
    "w_{13}x_1^{(2)} + w_{23}x_2^{(2)} + b^{[1]}_3 &\n",
    "\\dots^{(3)} & \\dots^{(4)} \\\\\n",
    "\\end{bmatrix}_{3 \\times 4}\n",
    "$"
   ]
  },
  {
   "cell_type": "markdown",
   "metadata": {},
   "source": [
    "$\n",
    "A^{[1]} = g^{[1]}\\big( Z^{[1]} \\big) = \n",
    "\\begin{bmatrix}\n",
    "a^{[1](1)}_1 & a^{[1](2)}_1 & a^{[1](3)}_1 & a^{[1](4)}_1 \\\\\n",
    "a^{[1](1)}_2 & a^{[1](2)}_2 & a^{[1](3)}_2 & a^{[1](4)}_2 \\\\\n",
    "a^{[1](1)}_3 & a^{[1](2)}_3 & a^{[1](3)}_3 & a^{[1](4)}_3 \n",
    "\\end{bmatrix}_{3 \\times 4}, \\ \\ \\ \n",
    "g^{[1]} = \\tanh\n",
    "$"
   ]
  },
  {
   "cell_type": "markdown",
   "metadata": {},
   "source": [
    "## Forward Propagation : Layer 2\n",
    "\n",
    "$\n",
    "W^{[2]} = \\begin{bmatrix}\n",
    "w_{11}^{[2]} \\\\ w_{21}^{[2]} \\\\ w_{31}^{[2]}\n",
    "\\end{bmatrix}_{3 \\times 1}\n",
    "\\\\ \\ \n",
    "\\\\\n",
    "b^{[2]} \\in \\mathcal{R}\n",
    "$"
   ]
  },
  {
   "cell_type": "markdown",
   "metadata": {},
   "source": [
    "$\n",
    "Z^{[2]} = W^{[2]\\ T} A^{[1]} + b^{[2]} =\n",
    "\\begin{bmatrix}\n",
    "w_{11}^{[2]} & w_{21}^{[2]} & w_{31}^{[2]}\n",
    "\\end{bmatrix} \\ \\ \n",
    "\\begin{bmatrix}\n",
    "a^{[1](1)}_1 & a^{[1](2)}_1 & a^{[1](3)}_1 & a^{[1](4)}_1 \\\\\n",
    "a^{[1](1)}_2 & a^{[1](2)}_2 & a^{[1](3)}_2 & a^{[1](4)}_2 \\\\\n",
    "a^{[1](1)}_3 & a^{[1](2)}_3 & a^{[1](3)}_3 & a^{[1](4)}_3 \n",
    "\\end{bmatrix}\n",
    "$"
   ]
  },
  {
   "cell_type": "markdown",
   "metadata": {},
   "source": [
    "$\n",
    "Z^{[2]} = \\begin{bmatrix}\n",
    "w^{[2]}_{11} a^{[1](1)}_1 + w^{[2]}_{21} a^{[1](1)}_2 + w^{[2]}_{31} a^{[1](1)}_3 + b^{[2]} &\n",
    "w^{[2]}_{11} a^{[1](2)}_1 + w^{[2]}_{21} a^{[1](2)}_2 + w^{[2]}_{31} a^{[1](2)}_3 + b^{[2]} &\n",
    "\\dots^{(3)} & \\dots^{(4)}\n",
    "\\end{bmatrix}_{1 \\times 4}\n",
    "$"
   ]
  },
  {
   "cell_type": "markdown",
   "metadata": {},
   "source": [
    "$\n",
    "A^{[2]} = g^{[2]} \\big( Z^{[2]} \\big) = \n",
    "\\begin{bmatrix} a^{[2](1)} & a^{[2](2)} & a^{[2](3)} & a^{[2](4)} \\end{bmatrix},\n",
    "\\ \\ g^{[2]} = \\sigma\n",
    "\\\\\n",
    "\\hat{y}^{(i)} = a^{[2](i)}\n",
    "$"
   ]
  },
  {
   "cell_type": "markdown",
   "metadata": {},
   "source": [
    "## Lost &amp; Cost Function\n",
    "\n",
    "$\n",
    "\\mathcal{L} \\big( \\hat{y}, y \\big) = \n",
    "- \\Big(\n",
    "y \\log\\hat{y} + \\big( 1 - y \\big) \\log \\big( 1 - \\hat{y} \\big)\n",
    "\\Big)\n",
    "$\n",
    "\n",
    "$\n",
    "\\mathcal{J} \\big( w^{[1]}, b^{[1]}, w^{[2]}, b^{[2]} \\big) = \n",
    "\\frac{1}{m} \\sum_{i=1}^m \\mathcal{L} \\big( \\hat{y}, y \\big)\n",
    "$"
   ]
  },
  {
   "cell_type": "markdown",
   "metadata": {},
   "source": [
    "## Backwoard Propagation : Layer 2\n",
    "\n",
    "$\n",
    "\\begin{align}\n",
    "\\text{\"da2\"} & = \\frac{d}{d a^{[2]}} \\mathcal{L} \\big( a^{[2]}, y \\big) \\\\\n",
    "& = \\frac{d}{d a^{[2]}} - \\Big(\n",
    "y \\log a^{[2]} + \\big( 1 - y \\big) \\log \\big( 1 - a^{[2]} \\big)\n",
    "\\Big) \\\\\n",
    "& = \\frac{-y}{a^{[2]}} + \\frac{1-y}{1-a^{[2]}}\n",
    "\\end{align}\n",
    "$"
   ]
  },
  {
   "cell_type": "markdown",
   "metadata": {},
   "source": [
    "$\n",
    "\\begin{align}\n",
    "\\text{\"dz2\"} & = \\frac{d}{d z^{[2]}} \\mathcal{L} \\big( a^{[2]}, y \\big) \\\\\n",
    "& = \\frac{d}{d z^{[2]}} a^{[2]} \\ \\ \\frac{d}{d a^{[2]}} \\mathcal{L} \\big( a^{[2]}, y \\big) \\\\\n",
    "& = \\Big( \\frac{d}{d z^{[2]}} \\ a^{[2]} \\Big) \\ \\Big( \\frac{-y}{a^{[2]}} + \\frac{1-y}{1-a^{[2]}} \\Big) \\\\\n",
    "& = \\Big( \\frac{d}{d z^{[2]}} \\ \\sigma\\big( z^{[2]} \\big) \\Big) \\ \\Big( \\frac{-y}{a^{[2]}} + \\frac{1-y}{1-a^{[2]}} \\Big) \\\\\n",
    "& = \\Big( \\sigma( z^{[2]}) \\big( 1 - \\sigma( z^{[2]} ) \\big) \\Big) \\ \\Big( \\frac{-y}{a^{[2]}} + \\frac{1-y}{1-a^{[2]}} \\Big) \\\\\n",
    "& = a^{[2]} \\big( 1 - a^{[2]} \\big) \\Big( \\frac{-y}{a^{[2]}} + \\frac{1-y}{1-a^{[2]}} \\Big) \\\\\n",
    "& = a^{[2]} - y\n",
    "\\end{align}\n",
    "$"
   ]
  },
  {
   "cell_type": "markdown",
   "metadata": {},
   "source": [
    "$\n",
    "\\begin{align}\n",
    "\\text{\"dw2\"} & = \\frac{d}{d w^{[2]}} \\mathcal{L} \\big( a^{[2]}, y \\big) \\\\\n",
    "& = \\frac{d}{d w^{[2]}} z^{[2]} \\times \\frac{d}{d z^{[2]}} \\mathcal{L} \\big( a^{[2]}, y \\big) \\\\\n",
    "& = \\Big( \\frac{d}{d w^{[2]}} ( w^{[2]} a^{[1]} + b^{[2]} ) \\Big) \\times \\Big( a^{[2]} - y \\Big) \\\\\n",
    "& = a^{[1]} \\times \\Big( a^{[2]} - y \\Big)\n",
    "\\end{align}\n",
    "$"
   ]
  },
  {
   "cell_type": "markdown",
   "metadata": {},
   "source": [
    "$\n",
    "\\begin{align}\n",
    "\\text{\"db2\"} & = \\frac{d}{d b^{[2]}} \\mathcal{L} \\big( a^{[2]}, y \\big) \\\\\n",
    "& = \\frac{d}{d b^{[2]}} z^{[2]} \\times \\frac{d}{d z^{[2]}} \\mathcal{L} \\big( a^{[2]}, y \\big) \\\\\n",
    "& = \\Big( \\frac{d}{d b^{[2]}} ( w^{[2]T} a^{[1]} + b^{[2]} ) \\Big) \\times \\Big( a^{[2]} - y \\Big) \\\\\n",
    "& = 1 \\times \\Big( a^{[2]} - y \\Big) \\\\\n",
    "& = a^{[2]} - y\n",
    "\\end{align}\n",
    "$"
   ]
  },
  {
   "cell_type": "markdown",
   "metadata": {},
   "source": [
    "## Backwoard Propagation : Layer 1\n",
    "\n",
    "$\n",
    "\\begin{align}\n",
    "\\text{\"dz1\"} & = \\frac{d}{d z^{[1]}} \\mathcal{L} \\big( a^{[2]}, y \\big) \\\\\n",
    "& = \\frac{d}{d z^{[1]}} z^{[2]} \\times \\frac{d}{d z^{[2]}} \\mathcal{L} \\big( a^{[2]}, y \\big) \\\\\n",
    "& = \\frac{d}{d z^{[1]}} \\Big[ w^{[2]T} a^{[1]} + b^{[2]} \\Big] \\times \\Big[ a^{[2]} - y \\Big] \\\\\n",
    "& = \\frac{d}{d z^{[1]}} \\Big[ w^{[2]T} g^{[1]}(z^{[1]}) + b^{[2]} \\Big] \\times \\Big[ a^{[2]} - y \\Big] \\\\\n",
    "& = \\Big[ w^{[2]T} g^{[1]\\prime}(z^{[1]}) \\Big] \\times \\Big[ a^{[2]} - y \\Big] \\\\\n",
    "& = w^{[2]T} \\  \\big( a^{[2]} - y \\big) \\ g^{[1]\\prime}(z^{[1]}) \\\\\n",
    "& = w^{[2]T} \\  \\big( a^{[2]} - y \\big) \\ \\big( 1 - tanh(z^{[1]})^2 \\big) \\\\\n",
    "\\end{align}\n",
    "$"
   ]
  },
  {
   "cell_type": "markdown",
   "metadata": {},
   "source": [
    "$\n",
    "\\begin{align}\n",
    "\\text{\"dw1\"} & = \\frac{d}{dw^{[1]}} \\mathcal{L}\\big( a^{[2]}, y \\big) \\\\\n",
    "& = \\frac{d}{dw^{[1]}} z^{[1]} \\times \\frac{d}{dz^{[1]}} \\mathcal{L}\\big( a^{[2]}, y \\big) \\\\\n",
    "& = \\frac{d}{dw^{[1]}} \\big( w^{[1]T} x + b^{[1]} \\big) \\times \\frac{d}{dz^{[1]}} \\mathcal{L}\\big( a^{[2]}, y \\big) \\\\\n",
    "& = x \\times \\text{\"dz1\"}\n",
    "\\end{align}\n",
    "$\n",
    "\n",
    "$\n",
    "\\begin{align}\n",
    "\\text{\"db1\"} & = \\text{\"dz1\"}\n",
    "\\end{align}\n",
    "$"
   ]
  }
 ],
 "metadata": {
  "kernelspec": {
   "display_name": "p3cv",
   "language": "python",
   "name": "p3cv"
  },
  "language_info": {
   "codemirror_mode": {
    "name": "ipython",
    "version": 3
   },
   "file_extension": ".py",
   "mimetype": "text/x-python",
   "name": "python",
   "nbconvert_exporter": "python",
   "pygments_lexer": "ipython3",
   "version": "3.6.2"
  }
 },
 "nbformat": 4,
 "nbformat_minor": 2
}
