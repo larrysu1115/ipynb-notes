{
 "cells": [
  {
   "cell_type": "markdown",
   "metadata": {},
   "source": [
    "# Machine Learning Strategy"
   ]
  },
  {
   "cell_type": "markdown",
   "metadata": {},
   "source": [
    "## Single Number Evaluation Metric\n",
    "\n",
    "`P` : Precision: 在辨識為貓的資料中，有多少 % 真的是貓？\n",
    "\n",
    "`R` : Recall: 在真的是貓的資料中，有多少 % 被辨識為貓？\n",
    "\n",
    "`F1 score` : \n",
    "\n",
    "~ average of P and R.\n",
    "\n",
    "Harmonic Mean F1 score : $ \\frac{2}{\\frac{1}{P} + \\frac{1}{R}} $\n",
    "\n",
    "找出適合的方式，對一個模型有一個單一的評量分數；才方便衡量多個不同模型中，哪一個最好。"
   ]
  },
  {
   "cell_type": "markdown",
   "metadata": {},
   "source": [
    "## Satisficing and Optimizing Metrics\n",
    "\n",
    "如果圖片辨識，有兩個指標:\n",
    "\n",
    "- Accuracy: 準確度 %\n",
    "- running time: 辨識一張圖的時間，如 90 ms.\n",
    "\n",
    "Optimizing metric: 希望盡可能優化。  \n",
    "Satisficing metric: 必須滿足的硬指標，如辨識 running time 必須在 100 ms 以內。\n"
   ]
  },
  {
   "cell_type": "markdown",
   "metadata": {},
   "source": [
    "## Human-level Performance\n",
    "\n",
    "進步到 human-level performance 通常較快，之後進步變慢。\n",
    "\n",
    "Theoretical Limit : Bayes (Bayesian) Optimal Error, Bayes Error"
   ]
  }
 ],
 "metadata": {
  "kernelspec": {
   "display_name": "p3cv",
   "language": "python",
   "name": "p3cv"
  },
  "language_info": {
   "codemirror_mode": {
    "name": "ipython",
    "version": 3
   },
   "file_extension": ".py",
   "mimetype": "text/x-python",
   "name": "python",
   "nbconvert_exporter": "python",
   "pygments_lexer": "ipython3",
   "version": "3.6.2"
  }
 },
 "nbformat": 4,
 "nbformat_minor": 2
}
