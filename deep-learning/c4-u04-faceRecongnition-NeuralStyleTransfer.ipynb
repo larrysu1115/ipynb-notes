{
 "cells": [
  {
   "cell_type": "markdown",
   "metadata": {},
   "source": [
    "# Face Recognition"
   ]
  },
  {
   "cell_type": "markdown",
   "metadata": {},
   "source": [
    "- face verification : 辨識是某個人\n",
    "- face recognition : 辨識是 K 人中的哪一個"
   ]
  },
  {
   "cell_type": "markdown",
   "metadata": {},
   "source": [
    "One-Shot learning : 訓練辨識 是否為甲。缺點: 沒有很多甲的照片，要加入新人時候，需要重新訓練。\n",
    "\n",
    "Learning a \"similarity\" function:\n",
    "\n",
    "$ d \\big( img1, img2 \\big) $ = degree of difference between images.\n",
    "\n",
    "If $ d \\big( img1, img2 \\big) \\le \\tau $, recognize as \"same\" person."
   ]
  },
  {
   "cell_type": "markdown",
   "metadata": {},
   "source": [
    "## Siamese Network\n",
    "\n",
    "用同樣的 CNN ，最終 FC 輸出 128 個 feature 值 : $ f\\big( x \\big) $\n",
    "\n",
    "訓練時候使用兩個不同的照片當成輸入，比較 \n",
    "\n",
    "$$\n",
    "d \\Big( x^{(1)}, x^{(1)} \\Big) = \\Big\\Vert \\ f\\big( x^{(1)} \\big) - f\\big( x^{(2)} \\big)  \\ \\Big\\Vert^2_2\n",
    "$$"
   ]
  },
  {
   "cell_type": "markdown",
   "metadata": {},
   "source": [
    "## Triplet Loss\n",
    "\n",
    "given 3 images:\n",
    "\n",
    "- A : Anchor\n",
    "- P : Positive\n",
    "- N : Negative\n",
    "\n",
    "\n",
    "希望 A,P 較像，數值較小；alpha 是 margin，避免直接用0滿足\n",
    "\n",
    "$$\n",
    "\\begin{cases}\n",
    "d\\big(A,P\\big) + \\alpha \\ \\ & \\le \\ \\  d\\big(A,P\\big) \\\\\n",
    "d\\big(A,P\\big) - d\\big(A,P\\big)  + \\alpha \\ \\ & \\le \\ \\  0\n",
    "\\end{cases}\n",
    "$$"
   ]
  },
  {
   "cell_type": "markdown",
   "metadata": {},
   "source": [
    "$$\n",
    "\\begin{cases}\n",
    "\\mathcal{L} \\big( A, P, N \\big) & = \n",
    "\\max \\Big( \n",
    "\\big\\Vert \\ f(A) - f(P) \\ \\big\\Vert_2^2 - \n",
    "\\big\\Vert \\ f(A) - f(N) \\ \\big\\Vert_2^2 + \\alpha,\\ \\ \\  0\n",
    "\\Big) \\\\\n",
    "\\mathcal{J} & = \\sum_i^m \\mathcal{L} \\big( A^{(i)}, P^{(i)}, N^{(i)} \\big)\n",
    "\\end{cases}\n",
    "$$"
   ]
  },
  {
   "cell_type": "markdown",
   "metadata": {},
   "source": [
    "需要慎選 A,P,N 組合，如果隨機，訓練集太容易，則上式 J 容易滿足，訓練沒有效果。"
   ]
  },
  {
   "cell_type": "markdown",
   "metadata": {},
   "source": [
    "## Face verification and binary classification\n",
    "\n",
    "$$\n",
    "\\hat{y} = \\sigma \\Big( \n",
    "\\sum_{k=1}^{128} w_i \\big| \\ \n",
    "f(x^{(i)})_k - f(x^{(j)})_k\n",
    "\\ \\big| \\ + b\n",
    "\\Big)\n",
    "$$\n",
    "\n",
    "or using Chi-Square\n",
    "\n",
    "$$\n",
    "\\chi^2 = \\frac{\\big( f(x^{(i)})_k - f(x^{(j)})_k \\big)^2}{f(x^{(i)})_k + f(x^{(j)})_k}\n",
    "$$\n"
   ]
  },
  {
   "cell_type": "markdown",
   "metadata": {},
   "source": [
    "# Neural Style Transfer"
   ]
  },
  {
   "cell_type": "markdown",
   "metadata": {},
   "source": [
    "## Cost Function\n",
    "\n",
    "Given 2 images: \n",
    "\n",
    "- C: Content Image\n",
    "- S: Style Image\n",
    "\n",
    "Output Generated Image: G"
   ]
  },
  {
   "cell_type": "markdown",
   "metadata": {},
   "source": [
    "$$\n",
    "\\mathcal{J} \\big( G \\big) = \n",
    "\\alpha \\ \\mathcal{J}_{\\text{content}} \\big( C, G \\big) +\n",
    "\\beta  \\ \\mathcal{J}_{\\text{style}} \\big( S, G \\big)\n",
    "$$"
   ]
  },
  {
   "cell_type": "markdown",
   "metadata": {},
   "source": [
    "Process:\n",
    "\n",
    "1. Initial G randomly, such as G: 100x100x3\n",
    "\n",
    "2. Use gradient descent to minimize $ \\mathcal{J} \\big( G \\big) $\n",
    "\n",
    "$$\n",
    "G := G - \\frac{\\partial}{\\partial \\ G} \\mathcal{J} \\big( G \\big)\n",
    "$$"
   ]
  },
  {
   "cell_type": "markdown",
   "metadata": {},
   "source": [
    "## Content Cost Function\n",
    "\n",
    "- 用一個 hidden layer: l 計算 content cost, 通常是 CNN 中間的層，不太深不太淺。\n",
    "- 使用一個已經 預訓練 好的 CNN 如 VGG network\n",
    "- let $ a^{[l](G)}, a^{[l](C)} $ be activations of layer l on the images.\n",
    "- 如果 $ a^{[l](G)}, a^{[l](C)} $ 相似，則 C,G 內容相似。\n",
    "\n",
    "$$\n",
    "\\mathcal{J}_{\\text{content}} \\big( G \\big) = \\frac{1}{2}\n",
    "\\big\\Vert a^{[l](G)} - a^{[l](C)} \\big\\Vert^2\n",
    "$$"
   ]
  },
  {
   "cell_type": "markdown",
   "metadata": {},
   "source": [
    "## Style Cost Function\n",
    "\n",
    "在選出的 hidden layer l 上，比較每個 channel 的 correlation (Un-normalized cross co-variance).\n",
    "\n",
    "如 l 的 dimension : $ n_h, n_w, n_c $\n",
    "\n",
    "$ n_c $ 是每個不同的 channel 數量。\n",
    "\n",
    "Let \n",
    "$  \n",
    "a^{[l]}_{i,j,k} = \n",
    "$ activation at (i, j, k), \n",
    "\n",
    "$\n",
    "G^{[l]}\n",
    "$ be a $ n_c \\times n_c $ matrix of correleations\n",
    "\n",
    "$ G^{[l]}_{k, k'} $ : 在 k channel 和 k' channel 的 correlation.\n",
    "\n",
    "$$\n",
    "G^{[l]}_{k, k'} = \\sum_i^{n_H} \\sum_j^{n_W} a^{[l]}_{i,j,k} \\times a^{[l]}_{i,j,k'}\n",
    "$$\n",
    "\n",
    "上式就是Gram Matrix, 算出 S, G 的 Gram Matrix, 就可得到 J_style\n",
    "\n",
    "$$\n",
    "\\begin{cases}\n",
    "G^{[l](S)}_{k, k'} & = \\sum_i^{n_H} \\sum_j^{n_W} a^{[l](S)}_{i,j,k} \\times a^{[l](S)}_{i,j,k'} \\\\\n",
    "G^{[l](G)}_{k, k'} & = \\sum_i^{n_H} \\sum_j^{n_W} a^{[l](G)}_{i,j,k} \\times a^{[l](G)}_{i,j,k'}\n",
    "\\\\\n",
    "\\mathcal{J}_{\\text{style}}^{[l]} \\big( S, G \\big) & = \n",
    "\\frac{1}{(2 n^{[l]}_h n^{[l]}_w n^{[l]}_c)^2} \\ \n",
    "\\Big\\Vert\n",
    "G^{[l](S)}_{k, k'} - G^{[l](G)}_{k, k'}\n",
    "\\Big\\Vert_F^2 \\\\\n",
    "& = \n",
    "\\frac{1}{(2 n^{[l]}_h n^{[l]}_w n^{[l]}_c)^2} \\ \n",
    "\\sum_{k} \\sum_{k'} \\Big( G^{[l](S)}_{k, k'} - G^{[l](G)}_{k, k'} \\Big)^2\n",
    "\\end{cases}\n",
    "$$"
   ]
  },
  {
   "cell_type": "markdown",
   "metadata": {},
   "source": [
    "通常使用數個 layers, 淺的 + 深的，會獲得較好的視覺效果。\n",
    "\n",
    "$$\n",
    "\\mathcal{J}_{\\text{style}} \\Big( S, G \\Big) =\n",
    "\\sum_l \\lambda^{[l]} \\mathcal{J}_{\\text{style}}^{[l]} \\big( S, G \\big)\n",
    "$$"
   ]
  },
  {
   "cell_type": "markdown",
   "metadata": {},
   "source": [
    "## 1D, 3D generation"
   ]
  }
 ],
 "metadata": {
  "kernelspec": {
   "display_name": "p3cv",
   "language": "python",
   "name": "p3cv"
  },
  "language_info": {
   "codemirror_mode": {
    "name": "ipython",
    "version": 3
   },
   "file_extension": ".py",
   "mimetype": "text/x-python",
   "name": "python",
   "nbconvert_exporter": "python",
   "pygments_lexer": "ipython3",
   "version": "3.6.2"
  }
 },
 "nbformat": 4,
 "nbformat_minor": 2
}
