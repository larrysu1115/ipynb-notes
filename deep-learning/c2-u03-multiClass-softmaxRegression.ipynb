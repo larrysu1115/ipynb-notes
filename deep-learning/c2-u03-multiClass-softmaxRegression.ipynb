{
 "cells": [
  {
   "cell_type": "markdown",
   "metadata": {},
   "source": [
    "# Multi-class classification\n",
    "\n",
    "## Softmax Regression\n",
    "\n",
    "C : number of classes, for example: 4\n",
    "\n",
    "$$\n",
    "\\begin{cases}\n",
    "t & = e^{Z^{[L]}} \\\\\n",
    "A^{[L]} = g^{[L]}\\big( Z^{[L]} \\big) & = \\frac{ t }{\\sum_{j=1}^C t_j } = \\hat{y}\n",
    "\\end{cases}\n",
    "$$"
   ]
  },
  {
   "cell_type": "markdown",
   "metadata": {},
   "source": [
    "Softmax example: \n",
    "$\n",
    "\\begin{bmatrix}\n",
    "0.7 \\\\ 0.1 \\\\ 0.2\n",
    "\\end{bmatrix}\n",
    "$\n",
    "\n",
    "Hardmax example: \n",
    "$\n",
    "\\begin{bmatrix}\n",
    "1 \\\\ 0 \\\\ 0\n",
    "\\end{bmatrix}\n",
    "$"
   ]
  },
  {
   "cell_type": "markdown",
   "metadata": {},
   "source": [
    "## Loss Function\n",
    "\n",
    "$\n",
    "y^{(i)}_{C \\times 1} = \\begin{bmatrix} 0 \\\\ 1 \\\\ 0 \\\\ 0 \\end{bmatrix} , \\ \\ \\ \\ \n",
    "\\hat{y}^{(i)}_{C \\times 1} = \\begin{bmatrix} 0.02 \\\\ 0.8 \\\\ 0.13 \\\\ 0.05 \\end{bmatrix} \\\\\n",
    "\\mathcal{L} \\big( \\hat{y}^{(i)}, y^{(i)} \\big) = - \\sum_{j=1}^C y_j \\ \\log \\hat{y}_j \\\\\n",
    "\\mathcal{J} \\big( w^{[1]}, b^{[1]}, w^{[2]}, b^{[2]}, \\dots  \\big) = \\frac{1}{m} \\sum_{i=1}^m \\mathcal{L} \\big( \\hat{y}^{(i)}, y^{(i)} \\big)\n",
    "$"
   ]
  },
  {
   "cell_type": "markdown",
   "metadata": {},
   "source": [
    "for example,\n",
    "\n",
    "$\n",
    "Y_{C \\times m} = \\begin{bmatrix}\n",
    "1 & 0 & 0 & \\dots \\\\\n",
    "0 & 0 & 0 & \\dots \\\\\n",
    "0 & 0 & 1 & \\dots \\\\\n",
    "0 & 1 & 0 & \\dots \\\\\n",
    "\\end{bmatrix}, \\ \\ \\ \\ \n",
    "\\hat{Y}_{C \\times m} = \\begin{bmatrix}\n",
    "0.6 & 0.2 & 0.3 & \\dots \\\\\n",
    "0.2 & 0.2 & 0.3 & \\dots \\\\\n",
    "0.1 & 0.1 & 0.1 & \\dots \\\\\n",
    "0.1 & 0.5 & 0.3 & \\dots \\\\\n",
    "\\end{bmatrix}\n",
    "$"
   ]
  },
  {
   "cell_type": "markdown",
   "metadata": {},
   "source": [
    "## Backpropagation\n",
    "\n",
    "$$\n",
    "dz^{[L]} = \\hat{y} - y = \\frac{\\partial \\mathcal{L}}{\\partial z^{[L]}}\n",
    "$$"
   ]
  },
  {
   "cell_type": "markdown",
   "metadata": {},
   "source": [
    "max likelyhood estimation"
   ]
  }
 ],
 "metadata": {
  "kernelspec": {
   "display_name": "p3cv",
   "language": "python",
   "name": "p3cv"
  },
  "language_info": {
   "codemirror_mode": {
    "name": "ipython",
    "version": 3
   },
   "file_extension": ".py",
   "mimetype": "text/x-python",
   "name": "python",
   "nbconvert_exporter": "python",
   "pygments_lexer": "ipython3",
   "version": "3.6.2"
  }
 },
 "nbformat": 4,
 "nbformat_minor": 2
}
