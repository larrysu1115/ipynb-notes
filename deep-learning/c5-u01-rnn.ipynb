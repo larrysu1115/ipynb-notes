{
 "cells": [
  {
   "cell_type": "markdown",
   "metadata": {},
   "source": [
    "# Recurrent NN\n",
    "\n",
    "[The unreasonable effectiveness of recurrent neural networks](http://karpathy.github.io/2015/05/21/rnn-effectiveness/) - Andrej Karpathy"
   ]
  },
  {
   "cell_type": "markdown",
   "metadata": {},
   "source": [
    "## Language model\n",
    "\n",
    "輸入一句話的各個詞，評估這樣組合的 概率。如: \n",
    "\n",
    "```\n",
    "P(\"The\", \"weather\", \"is\", \"good\", \"<EOS>\")\n",
    "# EOS: End of Sentence\n",
    "# UNK: UNKnown word\n",
    "```\n",
    "\n",
    "$$\n",
    "P\\big( \\hat{y}^{<1>}, \\hat{y}^{<2>}, \\dots, \\hat{y}^{<T_y>} \\big) \\\\\n",
    "x^{<t-1>} = y^{<t>}\n",
    "$$"
   ]
  },
  {
   "cell_type": "markdown",
   "metadata": {},
   "source": [
    "$$\n",
    "\\begin{cases}\n",
    "\\mathcal{L}^{<t>} \\big( \\hat{y}^{<t>},y^{<t>}  \\big) & = - \\sum_i y_i^{<t>} \\ \\log \\hat{y}_i^{<t>} \\\\\n",
    "\\mathcal{L} & = - \\sum_t \\mathcal{L}^{<t>} \\big( \\hat{y}^{<t>},y^{<t>}  \\big) \\\\\n",
    "P\\Big( y^{<1>}, y^{<2>}, y^{<3>} \\Big) = P \\big( y^{<1>} \\big) \\times \n",
    "P \\big( y^{<2>} \\ \\big| \\ y^{<1>} \\big) \\times P \\big( y^{<3>} \\ \\big| \\  y^{<1>}, y^{<2>} \\big)\n",
    "\\end{cases}\n",
    "$$"
   ]
  },
  {
   "cell_type": "markdown",
   "metadata": {},
   "source": [
    "## Sample novel sequences\n",
    "\n",
    "- character level language model\n",
    "- word level language model"
   ]
  },
  {
   "cell_type": "markdown",
   "metadata": {},
   "source": [
    "## Vanishing gradients with RNNs\n",
    "\n",
    "exploded gradient : solved by \"gradient clip\""
   ]
  },
  {
   "cell_type": "markdown",
   "metadata": {},
   "source": [
    "## GRU : Gated Recurrent Unit\n",
    "\n",
    "為了讓在一連串的 sequence 後，仍然保留某種關聯對應。如 下面句子，希望能將 單/複 的 cat 對應到 was/were.\n",
    "\n",
    "```\n",
    "The cat,  which surrounded by ..., was  very shy.\n",
    "The cats, which surrounded by ..., were very shy.\n",
    "```\n",
    "\n",
    "parameters: \n",
    "\n",
    "- c: memory cell\n",
    "- tilde c: candidate of new c value\n",
    "- Gamma_u: gate function for update\n",
    "- Gamma_r: gate function for relevance"
   ]
  },
  {
   "cell_type": "markdown",
   "metadata": {},
   "source": [
    "$$\n",
    "\\begin{cases}\n",
    "c^{<t-1>}         & = a^{<t-1>} \\\\\n",
    "\\Gamma_r        & = \\sigma \\Big( w_r \\big[ c^{<t-1>}, x^{<t>}  \\big] + b_r \\Big) \\\\\n",
    "\\tilde{c}^{<t>} & = \\tanh \\Big( w_c \\big[ \\ \\ \\Gamma_r \\times c^{<t-1>}, x^{<t>} \\ \\ \\big] + b_c \\Big) \\\\\n",
    "\\Gamma_u        & = \\sigma \\Big( w_u \\big[ c^{<t-1>}, x^{<t>}  \\big] + b_u \\Big) \\\\\n",
    "c^{<t>}         & = \\Gamma_u \\times \\tilde{c}^{<t>} + \\big( 1 - \\Gamma_u \\big) \\times c^{<t-1>} \\\\\n",
    "a^{<t>}         & = c^{<t>} \\\\\n",
    "\\end{cases}\n",
    "$$"
   ]
  },
  {
   "cell_type": "markdown",
   "metadata": {},
   "source": [
    "## LSTM : Long Short Term Memory\n",
    "\n",
    "parameters:\n",
    "\n",
    "- Gamme_u : update\n",
    "- Gamme_f : forget\n",
    "- Gamme_o : output\n",
    "\n",
    "$$\n",
    "\\begin{cases}\n",
    "\\tilde{c}^{<t>} & = \\tanh \\Big( w_c \\big[ \\ \\ a^{<t-1>}, x^{<t>} \\ \\ \\big] + b_c \\Big) \\\\\n",
    "\\Gamma_u        & = \\sigma \\Big( w_u \\big[ a^{<t-1>}, x^{<t>}  \\big] + b_u \\Big) \\\\\n",
    "\\Gamma_f        & = \\sigma \\Big( w_f \\big[ a^{<t-1>}, x^{<t>}  \\big] + b_f \\Big) \\\\\n",
    "\\Gamma_o        & = \\sigma \\Big( w_o \\big[ a^{<t-1>}, x^{<t>}  \\big] + b_o \\Big) \\\\\n",
    "c^{<t>}         & = \\Gamma_u * \\tilde{c}^{<t>} + \\Gamma_f * c^{<t-1>} \\\\\n",
    "a^{<t>}         & = \\Gamma_o * \\tanh{\\big(c^{<t>}\\big)}\n",
    "\\end{cases}\n",
    "$$\n",
    "\n",
    "peephole connection: 將 $ c^{<t-1>} $ 也加入 $ \\Gamma $ 的計算中。"
   ]
  },
  {
   "cell_type": "markdown",
   "metadata": {},
   "source": [
    "## Bidirectional RNNs\n",
    "\n",
    "例如在文本辨識，有時需要後面的詞才可以確定前面詞的意思。單向的 RNN 無法獲得後面詞來做前面詞的判斷。\n",
    "\n",
    "$$\n",
    "\\hat{y}^{<t>} = g \\Big( w_y \\big[ \\overrightarrow{a}^{<t>}, \\overleftarrow{a}^{<t>} \\big] + b_y \\Big)\n",
    "$$\n",
    "\n",
    "在 NLP 問題，常用 LSTM + Bidirectional-RNNs"
   ]
  },
  {
   "cell_type": "markdown",
   "metadata": {},
   "source": [
    "## Deep RNNs"
   ]
  }
 ],
 "metadata": {
  "kernelspec": {
   "display_name": "p3cv",
   "language": "python",
   "name": "p3cv"
  },
  "language_info": {
   "codemirror_mode": {
    "name": "ipython",
    "version": 3
   },
   "file_extension": ".py",
   "mimetype": "text/x-python",
   "name": "python",
   "nbconvert_exporter": "python",
   "pygments_lexer": "ipython3",
   "version": "3.6.2"
  }
 },
 "nbformat": 4,
 "nbformat_minor": 2
}
