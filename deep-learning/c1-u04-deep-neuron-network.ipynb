{
 "cells": [
  {
   "cell_type": "markdown",
   "metadata": {},
   "source": [
    "# Deep Neuron Network\n",
    "\n"
   ]
  },
  {
   "cell_type": "markdown",
   "metadata": {},
   "source": [
    "### Notations\n",
    "\n",
    "$\n",
    "\\begin{align}\n",
    "L :        & \\text{ Number of layers} \\\\\n",
    "n^{[l]} :  & \\text{ Number of neuron units in layer } l \\\\\n",
    "n^{[0]} = n_x :  & \\text{ Input features } \\\\\n",
    "a^{[l]} :        & \\text{ Activation in layer } l \\\\\n",
    "a^{[0]} =        & x \\\\\n",
    "a^{[L]} =        & \\hat{y} \\\\\n",
    "W^{[l]}.shape =  & (n^{[l]}, \\ n^{[l-1]}) \\\\\n",
    "b^{[l]}.shape =  & (n^{[l]}, \\ 1 ) \\\\\n",
    "Z^{[l]}.shape =  & (n^{[l]}, \\ m ) \\\\\n",
    "A^{[l]}.shape =  & (n^{[l]}, \\ m )\n",
    "\\end{align}\n",
    "$"
   ]
  },
  {
   "cell_type": "markdown",
   "metadata": {},
   "source": [
    "$$\n",
    "\\begin{align}\n",
    "Z^{[l]} & = W^{[l]} A^{[l-1]} + b^{[l]} \\\\\n",
    "A^{[l]} & = g^{[l]} \\big( Z^{[l]} \\big)\n",
    "\\end{align}\n",
    "$$"
   ]
  },
  {
   "cell_type": "markdown",
   "metadata": {},
   "source": [
    "## Circuit Theory\n",
    "\n",
    "$ O( \\log n ) $ 層的 少量節點 Deep NN, 對應到少層的 $ O( 2^n ) $ 節點 Shallow NN。"
   ]
  },
  {
   "cell_type": "markdown",
   "metadata": {},
   "source": [
    "## Back Probagation\n",
    "\n",
    "$$\n",
    "\\begin{align}\n",
    "dz^{[l]} & = da^{[l]} \\ * \\ g^{[l] \\prime} \\big( z^{[l]} \\big) \\\\\n",
    "dw^{[l]} & = dz^{[l]} \\cdot a^{[l-1]} \\\\\n",
    "db^{[l]} & = dz^{[l]} \\\\\n",
    "da^{[l-1]} & = w^{[l]\\ T} \\cdot dz^{[l]}\n",
    "\\end{align}\n",
    "$$"
   ]
  },
  {
   "cell_type": "markdown",
   "metadata": {},
   "source": [
    "$$\n",
    "dW^{[l]} = \\frac{\\partial\\ \\mathcal{L}}{\\partial W^{[l]}} = \\frac{1}{m} dZ^{[l]} \\ A^{[l-1]T} \\\\\n",
    "db^{[l]} = \\frac{\\partial\\ \\mathcal{L}}{\\partial b^{[l]}} = \\frac{1}{m} \\sum_{i=1}^m dZ^{[l](i)} \\\\\n",
    "dA^{[l-1]} = \\frac{\\partial\\ \\mathcal{L}}{\\partial A^{[l-1]}} = W^{[l]T} dZ^{[l]}\n",
    "$$"
   ]
  },
  {
   "cell_type": "markdown",
   "metadata": {},
   "source": [
    "$$\n",
    "\\Big( A^{[l]}, \n",
    "\\ \\big(A^{[l-1]}, W^{[l]}, b^{[l]} \\big), \\ \\  \n",
    "Z^{[l]}\n",
    "\\Big) \n",
    "\\Leftarrow \\text{ linear_activation_forward}\\big(A^{[l-1]}, W^{[l]}, b^{[l]}, relu \\big)\n",
    "\\\\\n",
    "\\Big( dA^{[l-1]}, dW^{[l]}, db^{[l]} \\Big) \n",
    "\\Leftarrow \\text{ linear_backward}\\Big(dZ^{[l]}, \\big( A^{[l-1]}, W^{[l]}, b^{[l]} \\big) \\Big)\n",
    "$$"
   ]
  }
 ],
 "metadata": {
  "kernelspec": {
   "display_name": "p3cv",
   "language": "python",
   "name": "p3cv"
  },
  "language_info": {
   "codemirror_mode": {
    "name": "ipython",
    "version": 3
   },
   "file_extension": ".py",
   "mimetype": "text/x-python",
   "name": "python",
   "nbconvert_exporter": "python",
   "pygments_lexer": "ipython3",
   "version": "3.6.2"
  }
 },
 "nbformat": 4,
 "nbformat_minor": 2
}
