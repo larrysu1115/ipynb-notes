{
 "cells": [
  {
   "cell_type": "markdown",
   "metadata": {},
   "source": [
    "# Activation Functions\n",
    "\n",
    "## Sigmoid\n",
    "\n",
    "<img src=\"./imgs/sigmoid.svg\" style=\"width:300px;float:right;\" />\n",
    "\n",
    "also called **logistic function**\n",
    "\n",
    "$$\n",
    "g\\big(z\\big) = \\frac{1}{1+e^{-z}}\n",
    "$$\n",
    "\n",
    "derivatif: $g^{\\prime(z)}$\n",
    "\n",
    "$$\n",
    "g^{\\prime(z)} = \\frac{d}{dz} g\\big(z\\big) = g(z) \\ \\big( 1 - g(z) \\big)\n",
    "$$\n",
    "\n",
    "如果 z 很大，$g^{\\prime(z)}$ 趨近 0  \n",
    "如果 z 很小，$g^{\\prime(z)}$ 趨近 0  \n",
    "如果 z=0，$ \\ g(z)=0.5, \\ \\  g^{\\prime(z)} = \\frac{1}{4} $"
   ]
  },
  {
   "cell_type": "markdown",
   "metadata": {},
   "source": [
    "## Tanh\n",
    "\n",
    "<img src=\"imgs/tanh.svg\" style=\"width:300px;float:right\" />\n",
    "\n",
    "Hyperbolic tangent\n",
    "\n",
    "$\n",
    "g\\big( z \\big) = tanh \\big(z\\big) = \\frac{\\sinh z}{\\cosh z} = \\frac{e^x - e^{-x}}{e^x + e^{-x}}\n",
    "$\n",
    "\n",
    "unit hyperbola: $ x^2 - y^2 = 1 $\n",
    "\n",
    "$\n",
    "\\sinh x = \\frac{e^x - e^{-x}}{2} \\\\\n",
    "\\cosh x = \\frac{e^x + e^{-x}}{2}\n",
    "$\n",
    "\n",
    "derivatif: $ g^{\\prime(z)} $\n",
    "\n",
    "$$\n",
    "g^{\\prime(z)} = 1 - g^2(z)\n",
    "$$\n",
    "\n",
    "```\n",
    "如果 z= 10, g(z) ~=  1, g'(z)~= 0  \n",
    "如果 z=-10, g(z) ~= -1, g'(z)~= 0\n",
    "如果 z=  0, g(z) ~=  0, g'(z)~= 1 \n",
    "```"
   ]
  },
  {
   "cell_type": "markdown",
   "metadata": {},
   "source": [
    "using rule of quotient: $ \\big( \\frac{f}{g} \\big)^\\prime = \\frac{f'g - fg'}{g^2}$\n",
    "\n",
    "$$\n",
    "\\tanh'(x) = \\frac{\\big(e^x - e^{-x}\\big)^{\\prime}\\big(e^x + e^{-x}\\big) - \\big(e^x - e^{-x}\\big)\\big(e^x + e^{-x}\\big)^{\\prime}}\n",
    "{\\big(e^x + e^{-x}\\big)^2} = \\\\\n",
    "\\frac{\\big(e^x + e^x\\big)\\big(e^x + e^{-x}\\big) - \\big(e^x - e^{-x}\\big)\\big(e^x - e^{x}\\big)}\n",
    "{\\big(e^x + e^{-x}\\big)^2} = \n",
    "\\frac{\\big(e^x + e^x\\big)^2 - \\big(e^x - e^{-x}\\big)^2}\n",
    "{\\big(e^x + e^{-x}\\big)^2} = \n",
    "1 - \\tanh^2(x)\n",
    "$$"
   ]
  },
  {
   "cell_type": "markdown",
   "metadata": {},
   "source": [
    "## ReLU : Rectified Linear Unit and Leaky ReLU\n",
    "\n",
    "<img src=\"imgs/relu.svg\" style=\"width:350px;float:right;\" />\n",
    "\n",
    "$\n",
    "g\\big( z \\big) = \\max\\big( 0, z \\big) \\\\\n",
    "g^{\\prime(z)} = \\begin{cases}\n",
    "0,& if \\ z \\lt 0 \\\\\n",
    "1,& if \\ z \\ge 0\n",
    "\\end{cases}\n",
    "$\n",
    "\n",
    "`Leaky ReLU` :\n",
    "\n",
    "$\n",
    "g\\big( z \\big) = \\max\\big( 0.01z, z \\big) \\\\\n",
    "g^{\\prime(z)} = \\begin{cases}\n",
    "0.01,& if \\ z \\lt 0 \\\\\n",
    "1,& if \\ z \\ge 0\n",
    "\\end{cases}\n",
    "$"
   ]
  },
  {
   "cell_type": "code",
   "execution_count": 5,
   "metadata": {},
   "outputs": [
    {
     "name": "stdout",
     "output_type": "stream",
     "text": [
      "[[ 0.96355273  0.82762589 -1.67689651]]\n"
     ]
    }
   ],
   "source": [
    "import numpy as np\n",
    "\n",
    "A = np.random.randn(4,3)\n",
    "B = np.sum(A, axis = 0, keepdims = True)\n",
    "print(str(B))"
   ]
  }
 ],
 "metadata": {
  "kernelspec": {
   "display_name": "p3cv",
   "language": "python",
   "name": "p3cv"
  },
  "language_info": {
   "codemirror_mode": {
    "name": "ipython",
    "version": 3
   },
   "file_extension": ".py",
   "mimetype": "text/x-python",
   "name": "python",
   "nbconvert_exporter": "python",
   "pygments_lexer": "ipython3",
   "version": "3.6.2"
  }
 },
 "nbformat": 4,
 "nbformat_minor": 2
}
