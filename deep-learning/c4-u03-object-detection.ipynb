{
 "cells": [
  {
   "cell_type": "markdown",
   "metadata": {},
   "source": [
    "# Object Detection\n",
    "\n"
   ]
  },
  {
   "cell_type": "markdown",
   "metadata": {},
   "source": [
    "- Image classification : 圖片分類\n",
    "- Classification with localization : 分類再加定位\n",
    "- Object detection : 一張圖中找出多個物件，並定位\n",
    "- Semantic Segmentation : 對每個像素做區域分割定位\n",
    "- Instance Segmentation : 對每個畫素分辨類別，區隔開。"
   ]
  },
  {
   "cell_type": "markdown",
   "metadata": {},
   "source": [
    "在 CNN 最後加上 Softmax layer, 產生如下的輸出:\n",
    "\n",
    "$$\n",
    "Y = \\begin{bmatrix}\n",
    "P_c & \\text{ #有偵測到物件的機率} \\\\ \n",
    "b_x & \\text{ #bounding box x} \\\\ \n",
    "b_y & \\text{ #bounding box y} \\\\ \n",
    "b_h & \\text{ #bounding box height} \\\\ \n",
    "b_w & \\text{ #bounding box width} \\\\\n",
    "c_1 & \\text{ #是類1? } \\\\ \n",
    "c_2 & \\text{ #是類2? } \\\\ \n",
    "\\vdots\n",
    "\\end{bmatrix}\n",
    "$$"
   ]
  },
  {
   "cell_type": "markdown",
   "metadata": {},
   "source": [
    "## Loss Function\n",
    "\n",
    "$ P_c $ : logistic regression  \n",
    "classes : log likelyhood  \n",
    "bounding box : squared error.\n",
    "\n",
    "$$\n",
    "\\begin{cases}\n",
    "y_1 = 1, &\n",
    "\\mathcal{L}\\big( \\hat{y}, y \\big) = \\big( \\hat{y}_1 - y_1 \\big)^2 + \\big( \\hat{y}_2 - y_2 \\big)^2 + \\cdots \\big( \\hat{y}_8 - y_8 \\big)^2 \\\\\n",
    "y_1 = 0, &\n",
    "\\mathcal{L}\\big( \\hat{y}, y \\big) = \\big( \\hat{y}_1 - y_1 \\big)^2\n",
    "\\end{cases}\n",
    "$$"
   ]
  },
  {
   "cell_type": "markdown",
   "metadata": {},
   "source": [
    "## Landmark Detection\n",
    "\n",
    "如要在臉上定位出許多標記點: 鼻尖，左眼左，左眼下，下巴尖, ...。  \n",
    "或是身體各個部位: 肩膀，手掌，膝蓋...\n",
    "\n",
    "如 64 個點:\n",
    "\n",
    "$$\n",
    "y = \\begin{bmatrix}\n",
    "P_c \\\\ l_{1x} \\\\ l_{1y} \\\\ l_{1x} \\\\ l_{1y} \\\\ \\vdots \\\\ l_{64x} \\\\ l_{64y}\n",
    "\\end{bmatrix}\n",
    "$$"
   ]
  },
  {
   "cell_type": "markdown",
   "metadata": {},
   "source": [
    "## Convolutional implementation of sliding window\n",
    "\n",
    "- Sliding window : 用小框依序掃過。\n",
    "- 套用 Conv NN 可以共享掃過的計算"
   ]
  },
  {
   "cell_type": "markdown",
   "metadata": {},
   "source": [
    "將圖片分隔成許多小區塊 (grid)，如 3x3，對每個區塊給出 y. 就可以同時找出一張圖中許多不同的物件。如此，`output.shape = (3,3,8)`"
   ]
  },
  {
   "cell_type": "markdown",
   "metadata": {},
   "source": [
    "## Intersection Over Union\n",
    "\n",
    "預測出的區塊對不對？利用 IoU : intersection / union  \n",
    "Okay: IoU > 0.5 "
   ]
  },
  {
   "cell_type": "markdown",
   "metadata": {},
   "source": [
    "## Non-max suppression\n",
    "\n",
    "確定每個物件只被測出一次。\n",
    "\n",
    "找到物件時 $ P_c = 1 $, 比對先前找到的物件框, 如果重疊的 IoU 較高，那麼只取 $ P_c $ 最高的，其他 non-max suppress 掉。"
   ]
  },
  {
   "cell_type": "markdown",
   "metadata": {},
   "source": [
    "## Anchor box\n",
    "\n",
    "如果同一個 grid cell 中有數個物件，可以預先定義一些形狀不同的 anchor box。兩個 anchor boxes 的話，結果的 output.shape = (3, 3, 2, 8) "
   ]
  }
 ],
 "metadata": {
  "kernelspec": {
   "display_name": "p3lab",
   "language": "python",
   "name": "p3lab"
  },
  "language_info": {
   "codemirror_mode": {
    "name": "ipython",
    "version": 3
   },
   "file_extension": ".py",
   "mimetype": "text/x-python",
   "name": "python",
   "nbconvert_exporter": "python",
   "pygments_lexer": "ipython3",
   "version": "3.6.1"
  }
 },
 "nbformat": 4,
 "nbformat_minor": 2
}
