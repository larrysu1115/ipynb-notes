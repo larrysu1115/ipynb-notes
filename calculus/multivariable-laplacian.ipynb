{
 "cells": [
  {
   "cell_type": "markdown",
   "metadata": {},
   "source": [
    "## Laplacian\n",
    "\n",
    "notation: $ \\vartriangle $\n",
    "\n",
    "$$\n",
    "\\text{Laplacian } \\vartriangle = \n",
    "\\underbrace{\\nabla \\cdot }_{\\text{divergence}} \\underbrace{\\nabla f}_{\\text{gradient}} =\n",
    "\\sum_{i=1}^n \\frac{\\partial^2}{\\partial^2 x_i} f\n",
    "$$\n"
   ]
  },
  {
   "cell_type": "markdown",
   "metadata": {},
   "source": [
    "gradient f : 指向 local MAXIMUM 的 vector field.\n",
    "\n",
    "divergence : vector field 流入 (向Local Max) 为负值，流出 (向 Min ) 为正值。\n",
    "\n",
    "laplacian : 找到 Local Maximum(负值), Local Minimum(正值)"
   ]
  },
  {
   "cell_type": "markdown",
   "metadata": {},
   "source": [
    "## Harmonic function\n",
    "\n",
    "$$\n",
    "\\vartriangle f \\big(x, y \\big) = \\nabla \\cdot \\nabla f \\big(x, y \\big) \\equiv 0\n",
    "$$\n",
    "\n",
    "$ \\equiv 0 $ : 代表在任何點 (x,y) 都為 0"
   ]
  }
 ],
 "metadata": {
  "kernelspec": {
   "display_name": "p3lab",
   "language": "python",
   "name": "p3lab"
  },
  "language_info": {
   "codemirror_mode": {
    "name": "ipython",
    "version": 3
   },
   "file_extension": ".py",
   "mimetype": "text/x-python",
   "name": "python",
   "nbconvert_exporter": "python",
   "pygments_lexer": "ipython3",
   "version": "3.6.1"
  }
 },
 "nbformat": 4,
 "nbformat_minor": 2
}
