{
 "cells": [
  {
   "cell_type": "markdown",
   "metadata": {},
   "source": [
    "## Jacobian Matrix\n",
    "\n",
    "在非線性的轉換中，如果只看非常小的一個區域，仍然逼近 線性轉換，就是 Local Linear。"
   ]
  },
  {
   "cell_type": "markdown",
   "metadata": {},
   "source": [
    "$$\n",
    "f \\ \\Bigg(  \n",
    "\\begin{bmatrix} x \\\\ y \\end{bmatrix}\n",
    "\\Bigg) =\n",
    "\\begin{bmatrix} f_1(x,y) \\\\ f_2(x,y) \\end{bmatrix} = \n",
    "\\begin{bmatrix} x + \\sin(y) \\\\ y + \\sin(x) \\end{bmatrix}\n",
    "$$"
   ]
  },
  {
   "cell_type": "markdown",
   "metadata": {},
   "source": [
    "Jacobian Matrix (Local Linear transformation):\n",
    "\n",
    "$$\n",
    "\\begin{bmatrix}\n",
    "\\frac{\\partial f_1}{\\partial x} & \\frac{\\partial f_1}{\\partial y}\n",
    "\\\\\n",
    "\\frac{\\partial f_2}{\\partial x} & \\frac{\\partial f_2}{\\partial y}\n",
    "\\end{bmatrix}\n",
    "= \n",
    "\\begin{bmatrix}\n",
    "1 & \\cos(y)\n",
    "\\\\\n",
    "\\cos(x) & 1\n",
    "\\end{bmatrix}\n",
    "$$\n"
   ]
  },
  {
   "cell_type": "markdown",
   "metadata": {},
   "source": [
    "## Jacobian Determinant\n",
    "\n",
    "determinant: 進行 matrix 轉換後，兩個變形後的 basis 圍起的區域。\n",
    "\n",
    "$$\n",
    "\\det \\Bigg( \\begin{bmatrix}\n",
    "3 & 1 \\\\ 0 & 2\n",
    "\\end{bmatrix} \\Bigg) = 3 \\times 2 - 1 \\times 0 = 6\n",
    "$$\n",
    "\n",
    "所以 Jacobian Determinant 就是 Matrix Transform 後區域的大小變化比例"
   ]
  }
 ],
 "metadata": {
  "kernelspec": {
   "display_name": "p3lab",
   "language": "python",
   "name": "p3lab"
  },
  "language_info": {
   "codemirror_mode": {
    "name": "ipython",
    "version": 3
   },
   "file_extension": ".py",
   "mimetype": "text/x-python",
   "name": "python",
   "nbconvert_exporter": "python",
   "pygments_lexer": "ipython3",
   "version": "3.6.1"
  }
 },
 "nbformat": 4,
 "nbformat_minor": 2
}
