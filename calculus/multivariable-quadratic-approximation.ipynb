{
 "cells": [
  {
   "cell_type": "markdown",
   "metadata": {},
   "source": [
    "## Quadratic Approximations\n",
    "\n",
    "利用二次式的曲面，在局部逼近複雜的方程式。  \n",
    "相比 Linear Localization，能夠在局部小範圍內，更貼近原始的複雜方程式。\n",
    "\n",
    "$\n",
    "L(x,y) = a + b\\ x + c\\ y \\\\\n",
    "Q(x,y) = a + b\\ x + c\\ y + d\\  x^2 + e\\  xy + f\\  y^2\n",
    "$\n",
    "\n",
    "如何找到最好的 a,b,c,d,e,f 六個值，得到最佳的 Quadratic Approximation?"
   ]
  }
 ],
 "metadata": {
  "kernelspec": {
   "display_name": "p3lab",
   "language": "python",
   "name": "p3lab"
  },
  "language_info": {
   "codemirror_mode": {
    "name": "ipython",
    "version": 3
   },
   "file_extension": ".py",
   "mimetype": "text/x-python",
   "name": "python",
   "nbconvert_exporter": "python",
   "pygments_lexer": "ipython3",
   "version": "3.6.1"
  }
 },
 "nbformat": 4,
 "nbformat_minor": 2
}
