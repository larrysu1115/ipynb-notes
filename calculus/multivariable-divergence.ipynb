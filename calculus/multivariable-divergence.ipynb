{
 "cells": [
  {
   "cell_type": "markdown",
   "metadata": {},
   "source": [
    "## Divergence\n",
    "\n",
    "vector field : $ \\vec{v} \\big(x, y\\big) $\n",
    "\n",
    "$$\n",
    "\\vec{v} \\big(x, y\\big) = \\begin{bmatrix}\n",
    "P \\big(x, y\\big) \\\\\n",
    "Q \\big(x, y\\big)\n",
    "\\end{bmatrix}\n",
    "$$\n",
    "\n",
    "Divergence 定義如下:\n",
    "\n",
    "div &gt; 0 : 流出  \n",
    "div &lt; 0 : 流入\n",
    "\n",
    "$$\n",
    "\\text{ div } \\vec{v} \\big(x, y\\big) =\n",
    "\\frac{\\partial \\ P}{\\partial x} + \n",
    "\\frac{\\partial \\ Q}{\\partial y}\n",
    "$$"
   ]
  },
  {
   "cell_type": "markdown",
   "metadata": {},
   "source": [
    "### Notation\n",
    "\n",
    "$$\n",
    "\\nabla \\cdot \\vec{v} = \n",
    "\\begin{bmatrix}\n",
    "\\frac{\\partial}{\\partial x} \\\\ \\frac{\\partial}{\\partial y} \\\\ \\frac{\\partial}{\\partial z}\n",
    "\\end{bmatrix}\n",
    "\\cdot\n",
    "\\begin{bmatrix}\n",
    "P\\big(x,y\\big) \\\\ Q\\big(x,y\\big) \\\\ R\\big(x,y\\big)\n",
    "\\end{bmatrix}\n",
    "$$"
   ]
  }
 ],
 "metadata": {
  "kernelspec": {
   "display_name": "p3lab",
   "language": "python",
   "name": "p3lab"
  },
  "language_info": {
   "codemirror_mode": {
    "name": "ipython",
    "version": 3
   },
   "file_extension": ".py",
   "mimetype": "text/x-python",
   "name": "python",
   "nbconvert_exporter": "python",
   "pygments_lexer": "ipython3",
   "version": "3.6.1"
  }
 },
 "nbformat": 4,
 "nbformat_minor": 2
}
