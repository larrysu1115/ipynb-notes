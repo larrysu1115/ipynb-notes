{
 "cells": [
  {
   "cell_type": "markdown",
   "metadata": {},
   "source": [
    "Multivariable Calculus\n",
    "\n"
   ]
  },
  {
   "cell_type": "markdown",
   "metadata": {},
   "source": [
    "Directional derivative\n",
    "\n",
    "$$\n",
    "\\nabla_{\\vec{v}} f \\big( \\vec{a} \\big) = \n",
    "\\lim_{h \\to 0} \n",
    "\\frac{f\\big( \\vec{a} + h\\vec{v} \\big) - f\\big( \\vec{a} \\big)}{h}\n",
    "$$\n",
    "\n",
    "gradient:\n",
    "\n",
    "$$\n",
    "\\nabla_{\\vec{v}} f \\big( x, y \\big) = \\begin{bmatrix}\n",
    "\\frac{\\partial f}{\\partial x} \\\\\n",
    "\\frac{\\partial f}{\\partial y}\n",
    "\\end{bmatrix}\n",
    "$$\n",
    "\n",
    "details:\n",
    "\n",
    "$$\n",
    "\\vec{a} = \\begin{bmatrix}\n",
    "a_1 \\\\ a_2\n",
    "\\end{bmatrix}, \\ \\ \\ \\ \n",
    "\\vec{v} = \\begin{bmatrix}\n",
    "v_1 \\\\ v_2\n",
    "\\end{bmatrix} \\\\\n",
    "\\nabla_{\\vec{v}} f \\big( \\vec{a} \\big) = \n",
    "\\lim_{h \\to 0} \n",
    "\\frac{f\\big( \\vec{a} + h\\vec{v} \\big) - f\\big( \\vec{a} \\big)}{h} =\n",
    "\\nabla_{\\vec{v}} f \\big( \\vec{a} \\big) \\cdot \\vec{v}\n",
    "$$"
   ]
  },
  {
   "cell_type": "markdown",
   "metadata": {},
   "source": [
    "example, treat as a slope, must satisfy condition: $ \\Vert \\vec{v} \\Vert = 1 $:\n",
    "\n",
    "$$\n",
    "f\\big( x, y \\big) = x^2 y \\\\\n",
    "\\vec{v} = \\begin{bmatrix} \\frac{1}{\\sqrt{2}} \\\\ \\frac{1}{\\sqrt{2}} \\end{bmatrix}, \\ \\ \\ \\ \n",
    "\\vec{a} = \\begin{bmatrix} -1 \\\\ -1 \\end{bmatrix} \\\\\n",
    "$$\n",
    "\n",
    "$$\n",
    "\\nabla f = \\begin{bmatrix}\n",
    "\\frac{\\partial f}{\\partial x}\n",
    "\\\\ \n",
    "\\frac{\\partial f}{\\partial y}\n",
    "\\end{bmatrix} = \n",
    "\\begin{bmatrix}\n",
    "2xy \\\\ x^2\n",
    "\\end{bmatrix}\n",
    "$$\n",
    "\n",
    "gradient at point (-1,-1) :\n",
    "\n",
    "$$\n",
    "\\nabla f \\big( -1, -1 \\big) = \n",
    "\\begin{bmatrix}\n",
    "2 \\\\ 1\n",
    "\\end{bmatrix}\n",
    "$$\n",
    "\n",
    "slope of $ \\vec{v} $ at point (-1,-1):\n",
    "\n",
    "$$\n",
    "\\nabla_{\\vec{v}} f \\big( -1, -1 \\big) = \n",
    "\\begin{bmatrix} 2 \\\\ 1 \\end{bmatrix} \\cdot\n",
    "\\begin{bmatrix} \\frac{1}{\\sqrt{2}} \\\\ \\frac{1}{\\sqrt{2}} \\end{bmatrix} = \n",
    " \\frac{2}{\\sqrt{2}} + \\frac{1}{\\sqrt{2}} = \\frac{3 \\sqrt{2}}{2}\n",
    "$$\n",
    "\n",
    "when computing the slope, if $ \\vec{v} $ is not unit-vector, should normalize the value.\n",
    "\n",
    "$$\n",
    "\\frac{\\nabla f \\cdot \\vec{v}}{\\Vert \\vec{v} \\Vert}\n",
    "$$"
   ]
  },
  {
   "cell_type": "markdown",
   "metadata": {},
   "source": [
    "steepest ascent\n",
    "\n",
    "$$\n",
    "\\max_{\\Vert \\vec{v} \\Vert = 1} \\nabla f \\big(a, b) \\cdot \\vec{v}\n",
    "$$\n",
    "\n",
    "orthogonal projection, 單位向量 v 垂直投影到 向量 u 為向量 w\n",
    "\n",
    "$$\n",
    "\\vec{w} = c \\vec{u} = \\Big( \\frac{\\vec{v} \\cdot \\vec{u}}{\\Vert u \\Vert^2} \\Big) \\vec{u}\n",
    "$$\n",
    "\n",
    "gradient is always perpendicular to contour lines."
   ]
  }
 ],
 "metadata": {
  "kernelspec": {
   "display_name": "p3lab",
   "language": "python",
   "name": "p3lab"
  },
  "language_info": {
   "codemirror_mode": {
    "name": "ipython",
    "version": 3
   },
   "file_extension": ".py",
   "mimetype": "text/x-python",
   "name": "python",
   "nbconvert_exporter": "python",
   "pygments_lexer": "ipython3",
   "version": "3.6.1"
  }
 },
 "nbformat": 4,
 "nbformat_minor": 2
}
