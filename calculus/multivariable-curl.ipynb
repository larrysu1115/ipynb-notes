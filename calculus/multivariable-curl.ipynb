{
 "cells": [
  {
   "cell_type": "markdown",
   "metadata": {},
   "source": [
    "# curl\n",
    "\n",
    "逆時針旋轉 為 正  \n",
    "順時針旋轉 為 負\n",
    "\n",
    "$$\n",
    "\\vec{v}\\big( x, y \\big) = \\begin{bmatrix}\n",
    "P(x,y) \\\\ Q(x,y)\n",
    "\\end{bmatrix}\n",
    "$$\n",
    "\n",
    "curl : $ \\nabla \\times \\vec{v} $\n",
    "\n",
    "如果是逆時針旋轉，\n",
    "\n",
    "隨著 y 變大，P 變 小 : $ \\frac{\\partial P}{\\partial y} \\lt 0 $  \n",
    "隨著 x 變大，Q 變 大 : $ \\frac{\\partial Q}{\\partial x} \\gt 0 $\n",
    "\n",
    "2d-curl formula: \n",
    "\n",
    "$$ \\text{curl  } \\vec{v}\\big( x, y \\big) = \\frac{\\partial Q}{\\partial x} - \\frac{\\partial P}{\\partial y} $$\n",
    "\n",
    "think as cross product: (左上 乘 右下 - 右上 乘 左下)\n",
    "\n",
    "$$\n",
    "\\begin{bmatrix}\n",
    "\\frac{\\partial}{\\partial x} \\\\ \\frac{\\partial}{\\partial y}\n",
    "\\end{bmatrix}\n",
    "\\ \\times \\ \n",
    "\\begin{bmatrix}\n",
    "P\\big(x,y\\big) \\\\ Q\\big(x,y\\big)\n",
    "\\end{bmatrix}\n",
    "$$"
   ]
  },
  {
   "cell_type": "markdown",
   "metadata": {},
   "source": [
    "## 3d curl\n",
    "\n",
    "$$\n",
    "\\vec{v}\\big( x, y, z \\big) = \\begin{bmatrix}\n",
    "P(x,y,z) \\\\ Q(x,y,z) \\\\ R(x,y,z)\n",
    "\\end{bmatrix}\n",
    "$$\n"
   ]
  },
  {
   "cell_type": "markdown",
   "metadata": {},
   "source": [
    "3d-curl formula:\n",
    "\n",
    "$$\n",
    "\\begin{bmatrix}\n",
    "\\frac{\\partial}{\\partial x} \\\\ \\frac{\\partial}{\\partial y} \\\\ \\frac{\\partial}{\\partial z}\n",
    "\\end{bmatrix}\n",
    "\\ \\times \\ \n",
    "\\begin{bmatrix}\n",
    "P\\big(x,y,z\\big) \\\\ Q\\big(x,y,z\\big) \\\\ R\\big(x,y,z\\big)\n",
    "\\end{bmatrix}\n",
    "$$"
   ]
  },
  {
   "cell_type": "markdown",
   "metadata": {},
   "source": [
    "unit vectors:\n",
    "\n",
    "$$\n",
    "\\vec{i} = \\begin{bmatrix} 1 \\\\ 0 \\\\ 0 \\end{bmatrix} \\ \\ \\ \n",
    "\\vec{j} = \\begin{bmatrix} 0 \\\\ 1 \\\\ 0 \\end{bmatrix} \\ \\ \\ \n",
    "\\vec{k} = \\begin{bmatrix} 0 \\\\ 0 \\\\ 1 \\end{bmatrix}\n",
    "$$"
   ]
  },
  {
   "cell_type": "markdown",
   "metadata": {},
   "source": [
    "3d curl from determinants:\n",
    "\n",
    "$$\n",
    "\\det \\begin{bmatrix}\n",
    "\\vec{i} & \\vec{j} & \\vec{k} \\\\\n",
    "\\partial / \\partial x & \\partial / \\partial y & \\partial / \\partial z \\\\\n",
    "P & Q & R\n",
    "\\end{bmatrix} = \n",
    "\\hat{i} \\ \\Big( \\frac{\\partial}{\\partial y} R - \\frac{\\partial}{\\partial z} Q \\Big)\n",
    "- \\hat{j} \\ \\Big( \\frac{\\partial}{\\partial x} R - \\frac{\\partial}{\\partial z} P \\Big)\n",
    "+ \\hat{k} \\ \\Big( \\frac{\\partial}{\\partial x} Q - \\frac{\\partial}{\\partial y} P \\Big)\n",
    "$$"
   ]
  },
  {
   "cell_type": "markdown",
   "metadata": {},
   "source": [
    "3d curl:\n",
    "\n",
    "$$\n",
    "\\text{curl } \\ \\vec{v} \\big( x, y, z\\big) = \n",
    "\\begin{bmatrix}\n",
    "\\frac{\\partial}{\\partial y} R - \\frac{\\partial}{\\partial z} Q \\\\\n",
    "\\frac{\\partial}{\\partial x} R - \\frac{\\partial}{\\partial z} P \\\\\n",
    "\\frac{\\partial}{\\partial x} Q - \\frac{\\partial}{\\partial y} P \\\\\n",
    "\\end{bmatrix}\n",
    "$$"
   ]
  }
 ],
 "metadata": {
  "kernelspec": {
   "display_name": "p3lab",
   "language": "python",
   "name": "p3lab"
  },
  "language_info": {
   "codemirror_mode": {
    "name": "ipython",
    "version": 3
   },
   "file_extension": ".py",
   "mimetype": "text/x-python",
   "name": "python",
   "nbconvert_exporter": "python",
   "pygments_lexer": "ipython3",
   "version": "3.6.1"
  }
 },
 "nbformat": 4,
 "nbformat_minor": 2
}
