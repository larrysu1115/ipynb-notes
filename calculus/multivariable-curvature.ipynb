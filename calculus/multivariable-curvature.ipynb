{
 "cells": [
  {
   "cell_type": "markdown",
   "metadata": {},
   "source": [
    "curvature\n",
    "\n",
    "parametric vector function s:\n",
    "\n",
    "$$\n",
    "\\vec{s} = \\begin{bmatrix}\n",
    "x'(t) \\\\ y'(t)\n",
    "\\end{bmatrix}\n",
    "$$\n",
    "\n",
    "s: arc length\n",
    "\n",
    "unit tangent\n",
    "\n",
    "$$\n",
    "T(t) = \\frac{\\vec{s}'(t)}{ \\Vert \\vec{s}'(t) \\Vert }\n",
    "$$"
   ]
  },
  {
   "cell_type": "markdown",
   "metadata": {},
   "source": [
    "curvature:\n",
    "\n",
    "$$\n",
    "\\Vert \\frac{ d\\ T }{d \\ \\vec{s}} \\Vert = \\ \n",
    "\\frac{\\Vert dT \\ / \\ dt \\Vert}{{\\Vert d \\vec{s} \\ / \\ dt \\Vert}} = \\ \n",
    "\\frac{x'(t)\\ y''(t) - y'(t) \\ x''(t)}{\\big( x'(t)^2 + y'(t)^2 \\big)^{3/2}}\n",
    "$$\n"
   ]
  },
  {
   "cell_type": "markdown",
   "metadata": {},
   "source": [
    "$$\n",
    "k = \\frac{ \\frac{\\vec{S}'}{\\Vert \\vec{S}' \\Vert} \\ \\ \\times \n",
    "\\ \\        \\frac{\\vec{S}''}{\\Vert \\vec{S}' \\Vert}   }\n",
    "{\\Vert \\vec{S}' \\Vert} =\n",
    "\\frac{\\vec{S}' \\times \\vec{S}''}\n",
    "{\\Vert \\vec{S}' \\Vert^3}\n",
    "$$"
   ]
  },
  {
   "cell_type": "markdown",
   "metadata": {},
   "source": [
    "一次微分 s' 是曲線段 (velocity vector)  \n",
    "二次微分 s'' 是曲線段的變化量 (acceleration vector)  \n",
    "取 s' 的單位向量，s'' 也除以 s'的長度，隨著 s' 比例縮放。  \n",
    "即是 dT : Tangent Unit Vector"
   ]
  },
  {
   "cell_type": "markdown",
   "metadata": {},
   "source": [
    "### Cross Product\n",
    "\n",
    "$$\n",
    "\\vec{u} = u_1 \\hat{i} + u_2 \\hat{j} + u_3 \\hat{k}\n",
    "\\\\\n",
    "\\vec{v} = v_1 \\hat{i} + v_2 \\hat{j} + v_3 \\hat{k}\n",
    "$$\n",
    "\n",
    "i, j, k are standard basis.\n",
    "\n",
    "$$\n",
    "\\hat{i} \\times \\hat{j} = \\hat{k}\n",
    "\\\\\n",
    "\\hat{j} \\times \\hat{k} = \\hat{i}\n",
    "\\\\\n",
    "\\hat{k} \\times \\hat{i} = \\hat{j}\n",
    "\\\\\n",
    "\\hat{j} \\times \\hat{i} = - \\hat{k}\n",
    "\\\\\n",
    "\\hat{k} \\times \\hat{j} = - \\hat{i}\n",
    "\\\\\n",
    "\\hat{i} \\times \\hat{k} = - \\hat{j}\n",
    "\\\\\n",
    "\\hat{i} \\times \\hat{i} = 0\n",
    "\\\\ \\cdots\n",
    "$$\n",
    "\n",
    "$$\n",
    "\\vec{u} \\times \\vec{v} = \n",
    "  \\begin{bmatrix} u_2 & u_3 \\\\ v_2 & v_3 \\end{bmatrix} \\hat{i} \n",
    "- \\begin{bmatrix} u_1 & u_3 \\\\ v_1 & v_3 \\end{bmatrix} \\hat{j}\n",
    "+ \\begin{bmatrix} u_1 & u_2 \\\\ v_1 & v_2 \\end{bmatrix} \\hat{k}\n",
    "$$\n",
    "\n",
    "$$\n",
    "\\vec{u} \\times \\vec{v} = \n",
    "\\begin{bmatrix}\n",
    "\\hat{i} & \\hat{j} & \\hat{k} \\\\\n",
    "u_1 & u_2 & u_3 \\\\\n",
    "v_1 & v_2 & v_3 \\\\\n",
    "\\end{bmatrix}\n",
    "=\n",
    "\\begin{bmatrix}\n",
    "(u_2 v_3 - u_3 v_2) \\ \\hat{i} \\\\\n",
    "(u_3 v_1 - u_1 v_3) \\ \\hat{j} \\\\\n",
    "(u_1 v_2 - u_2 v_1) \\ \\hat{k}\n",
    "\\end{bmatrix}\n",
    "$$"
   ]
  }
 ],
 "metadata": {
  "kernelspec": {
   "display_name": "p3lab",
   "language": "python",
   "name": "p3lab"
  },
  "language_info": {
   "codemirror_mode": {
    "name": "ipython",
    "version": 3
   },
   "file_extension": ".py",
   "mimetype": "text/x-python",
   "name": "python",
   "nbconvert_exporter": "python",
   "pygments_lexer": "ipython3",
   "version": "3.6.1"
  }
 },
 "nbformat": 4,
 "nbformat_minor": 2
}
