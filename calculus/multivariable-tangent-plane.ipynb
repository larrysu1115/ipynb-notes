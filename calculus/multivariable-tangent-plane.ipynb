{
 "cells": [
  {
   "cell_type": "markdown",
   "metadata": {},
   "source": [
    "## Tangent Plane"
   ]
  },
  {
   "cell_type": "markdown",
   "metadata": {},
   "source": [
    "$ \\mathcal{R}^3 $ 空間中的平面，對 x,y,z 方向的 slope 都是個常數 constant。\n",
    "\n",
    "\"L\" function defines a plane.\n",
    "\n",
    "如果 點 (1,2,3) 在 L 平面上，則 L(1,2) = 3\n",
    "\n",
    "$$\n",
    "\\frac{\\partial \\ L}{\\partial x} \\big( x, y \\big) = a \\\\\n",
    "\\frac{\\partial \\ L}{\\partial y} \\big( x, y \\big) = b\n",
    "$$\n",
    "\n",
    "如果 a = 2, b = 1 則可以寫成:\n",
    "\n",
    "$$\n",
    "L(x,y) = 2x + y + c \\\\\n",
    "L(x,y) = 2(x-1) + 1(y-2) + 3  \\ \\ \\ \\to \\ c = -1\n",
    "$$"
   ]
  },
  {
   "cell_type": "markdown",
   "metadata": {},
   "source": [
    "### General Plane Function\n",
    "\n",
    "$$\n",
    "\\mathcal{L} (x,y) = a \\big( x - x_0 \\big) + b \\big( y - y_0 \\big) + z_0\n",
    "$$\n",
    "\n",
    "prepare for vector form   \n",
    "partial derivative : $ f_x = \\frac{\\partial \\ f}{\\partial x}$\n",
    "\n",
    "$$\n",
    "\\mathcal{L}_f (x,y) = f_x \\big( x - x_0 \\big) + f_y \\big( y - y_0 \\big) + f(x_0, y_0)\n",
    "$$"
   ]
  },
  {
   "cell_type": "markdown",
   "metadata": {},
   "source": [
    "### Vector Form : Local Linearization\n",
    "\n",
    "$$\n",
    "\\vec{x} = \\begin{bmatrix} x \\\\ y \\end{bmatrix} \\ \\ \\ \\ \n",
    "\\vec{x}_0 = \\begin{bmatrix} x_0 \\\\ y_0 \\end{bmatrix} \\\\\n",
    "\\\\\n",
    "\\mathcal{L}_f ( \\vec{x} ) = \\nabla f( \\vec{x}_0 ) \\cdot \\Big( \\vec{x} - \\vec{x}_0 \\Big) + f( \\vec{x}_0 )\n",
    "$$"
   ]
  },
  {
   "cell_type": "markdown",
   "metadata": {},
   "source": [
    "## Quadratic Approximations\n",
    "\n",
    "利用二次式的曲面，在局部逼近複雜的方程式 f。  \n",
    "相比 Linear Localization，能夠在局部小範圍內，更貼近原始的複雜方程式 f。\n",
    "\n",
    "$\n",
    "L(x,y) = a + b\\ x + c\\ y \\\\\n",
    "Q(x,y) = a + b\\ x + c\\ y + d\\  x^2 + e\\  xy + f\\  y^2\n",
    "$\n",
    "\n",
    "如何找到最好的 a,b,c,d,e,f 六個值，得到最佳的 Quadratic Approximation?"
   ]
  },
  {
   "cell_type": "markdown",
   "metadata": {},
   "source": [
    "在 Linear Localization 中:\n",
    "\n",
    "$$\n",
    "\\frac{\\partial \\ L}{\\partial x} = f_x \\big( x_0, y_0 \\big) \\ \\ \\ ,\n",
    "\\frac{\\partial \\ L}{\\partial y} = f_y \\big( x_0, y_0 \\big)\n",
    "$$\n",
    "\n",
    "到了 Quadratic,\n",
    "\n",
    "$$\n",
    "\\mathcal{Q}_f (x,y) = \n",
    "f(x_0, y_0) + \n",
    "f_x (x_0, y_0) \\big( x - x_0 \\big) + \n",
    "f_y (x_0, y_0) \\big( y - y_0 \\big) + \\\\\n",
    "a \\big( x - x_0 \\big)^2 + \n",
    "b \\big( x - x_0 \\big) \\big( y - y_0 \\big) + \n",
    "c \\big( y - y_0 \\big)^2\n",
    "$$"
   ]
  },
  {
   "cell_type": "markdown",
   "metadata": {},
   "source": [
    "want to get:\n",
    "\n",
    "$$\n",
    "\\frac{\\partial^2 Q}{\\partial x^2} = \\frac{\\partial^2 f}{\\partial x^2} \\\\\n",
    "\\frac{\\partial^2 Q}{\\partial x \\ \\partial y} = \\frac{\\partial^2 f}{\\partial x \\ \\partial y}\n",
    "$$"
   ]
  },
  {
   "cell_type": "markdown",
   "metadata": {},
   "source": [
    "將 Q 對 x 做二次微分，在 點 $ (x_0, y_0) $ 上，應該等於 $ f_{xx}(x_0, y_0) $\n",
    "\n",
    "$$\n",
    "\\frac{\\partial^2 Q}{\\partial x^2} = \n",
    "\\frac{\\partial }{\\partial x} \\Big( f_x(x_0, y_0) + 2a (x - x_0) + b(y-y_0) \\Big) =\n",
    "2a \\equiv f_{xx}(x_0,y_0) \\\\\n",
    "\\to a = \\frac{1}{2} f_{xx}(x_0,y_0)\n",
    "$$\n",
    "\n",
    "在 $ f_{xy}(x_0, y_0) $ 上:\n",
    "\n",
    "$$\n",
    "\\frac{\\partial^2 Q}{\\partial x \\ \\partial y} = \n",
    "\\frac{\\partial }{\\partial y} \\Big( f_x(x_0, y_0) + 2a (x - x_0) + b(y-y_0) \\Big) =\n",
    "b \\equiv f_{xy}(x_0,y_0) \\\\\n",
    "\\to b = f_{xy}(x_0,y_0)\n",
    "$$\n",
    "\n",
    "result:\n",
    "\n",
    "$$\n",
    "\\mathcal{Q}_f (x,y) = \n",
    "\\overbrace{f (x_0, y_0)}^{\\text{ constant term }} + \n",
    "\\overbrace{f_x (x_0, y_0) \\big( x - x_0 \\big) + \n",
    "f_y (x_0, y_0) \\big( y - y_0 \\big)}^{\\text{ linear term }} + \\\\\n",
    "\\underbrace{\n",
    "\\frac{1}{2} \\ f_{xx} (x_0, y_0) \\big( x - x_0 \\big)^2 + \n",
    "f_{xy} (x_0, y_0) \\big( x - x_0 \\big) \\big( y - y_0 \\big) + \n",
    "\\frac{1}{2} \\ f_{yy} (x_0, y_0) \\big( y - y_0 \\big)^2 }_{\\text{ quadratic term }}\n",
    "$$"
   ]
  },
  {
   "cell_type": "markdown",
   "metadata": {},
   "source": [
    "## Hessian Matrix\n",
    "\n",
    "都是 quadratic terms,   \n",
    "第一 Column 先對 x 微分,  \n",
    "第二 Column 先對 y 微分。\n",
    "\n",
    "$$\n",
    "f(x,y) \\ \\ \\ \\ \\ \\to \\ \\ \\ \n",
    "\\mathcal{H}_f = \\begin{bmatrix}\n",
    "\\frac{\\partial^2 \\ f }{\\partial x^2} &&\n",
    "\\frac{\\partial^2 \\ f }{\\partial x \\ \\partial y}\n",
    "\\\\\n",
    "\\frac{\\partial^2 \\ f }{\\partial y \\ \\partial x} &&\n",
    "\\frac{\\partial^2 \\ f }{\\partial y^2} \n",
    "\\end{bmatrix}\n",
    "$$\n",
    "\n",
    "也可對更多變數的 f\n",
    "\n",
    "$$\n",
    "f(x,y,z) \\ \\ \\ \\ \\ \\to \\ \\ \\ \n",
    "\\mathcal{H}_f = \\begin{bmatrix}\n",
    "\\frac{\\partial^2 \\ f }{\\partial x^2} &&\n",
    "\\frac{\\partial^2 \\ f }{\\partial x \\ \\partial y} &&\n",
    "\\frac{\\partial^2 \\ f }{\\partial x \\ \\partial z}\n",
    "\\\\\n",
    "\\frac{\\partial^2 \\ f }{\\partial y \\ \\partial x} &&\n",
    "\\frac{\\partial^2 \\ f }{\\partial y^2} &&\n",
    "\\frac{\\partial^2 \\ f }{\\partial y \\ \\partial z}\n",
    "\\\\\n",
    "\\frac{\\partial^2 \\ f }{\\partial z \\ \\partial x} &&\n",
    "\\frac{\\partial^2 \\ f }{\\partial z \\ \\partial y} &&\n",
    "\\frac{\\partial^2 \\ f }{\\partial z^2} \n",
    "\\end{bmatrix}\n",
    "$$"
   ]
  },
  {
   "cell_type": "markdown",
   "metadata": {},
   "source": [
    "## Quadratic Form\n",
    "\n",
    "$$\n",
    "a \\ x^2 + 2b \\ xy + c y^2 \\to \\\\\n",
    "\\begin{bmatrix} x & y \\end{bmatrix} \\ \\ \n",
    "\\begin{bmatrix}\n",
    "a & b \\\\\n",
    "b & c\n",
    "\\end{bmatrix} \\ \\ \n",
    "\\begin{bmatrix} x \\\\ y \\end{bmatrix}\n",
    "$$"
   ]
  },
  {
   "cell_type": "markdown",
   "metadata": {},
   "source": [
    "$$\n",
    "= \\begin{bmatrix} ax + by & bx + cy \\end{bmatrix} \\ \\ \n",
    "\\begin{bmatrix} x \\\\ y \\end{bmatrix} \\\\\n",
    "= a x^2 + b xy + b xy + c y^2\n",
    "$$"
   ]
  },
  {
   "cell_type": "markdown",
   "metadata": {},
   "source": [
    "express as:\n",
    "\n",
    "$$\n",
    "\\mathcal{H}_f = \\vec{x}^T \\mathcal{M} \\vec{x}\n",
    "$$"
   ]
  },
  {
   "cell_type": "markdown",
   "metadata": {},
   "source": [
    "using Hessian Matrix, the quadratic approximation can be express as:\n",
    "\n",
    "$$\n",
    "\\mathcal{Q}(x,y,z) = f(\\vec{x}_0) \\ \\ \n",
    "+ \\nabla f(\\vec{x}_0) \\big( \\vec{x} - \\vec{x}_0 \\big) \\ \\ \n",
    "+ \\frac{1}{2} \\big( \\vec{x} - \\vec{x}_0 \\big)^T \\ \\mathcal{H}_f (\\vec{x}_0) \\ \\big( \\vec{x} - \\vec{x}_0 \\big)\n",
    "$$"
   ]
  }
 ],
 "metadata": {
  "kernelspec": {
   "display_name": "p3lab",
   "language": "python",
   "name": "p3lab"
  },
  "language_info": {
   "codemirror_mode": {
    "name": "ipython",
    "version": 3
   },
   "file_extension": ".py",
   "mimetype": "text/x-python",
   "name": "python",
   "nbconvert_exporter": "python",
   "pygments_lexer": "ipython3",
   "version": "3.6.1"
  }
 },
 "nbformat": 4,
 "nbformat_minor": 2
}
