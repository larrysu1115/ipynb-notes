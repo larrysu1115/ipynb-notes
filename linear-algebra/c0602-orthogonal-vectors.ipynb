{
 "cells": [
  {
   "cell_type": "markdown",
   "metadata": {},
   "source": [
    "## Unit 6.2 : Orthogonal Vectors"
   ]
  },
  {
   "cell_type": "markdown",
   "metadata": {},
   "source": [
    "### Definition : Orthogonal Set\n",
    "\n",
    "A subset of R<sup>n</sup> is called an **orthogonal set**  \n",
    "if every pair of distinct vectors in the set is orthogonal.\n",
    "\n",
    "By definition, a set with only one vector is an orthogonal set."
   ]
  },
  {
   "cell_type": "markdown",
   "metadata": {},
   "source": [
    "### Theorem 6.5\n",
    "\n",
    "Any orthogonal set of nonzero vectors is linearly independent."
   ]
  },
  {
   "cell_type": "markdown",
   "metadata": {},
   "source": [
    "### Definition : Orthogonal Basis\n",
    "\n",
    "A basis that is an orthogonal set is called an orthogonal basis.\n",
    "\n",
    "Example: The standard basis $ \\mathcal{E} $ of R<sup>n</sup> is an orthogonal basis."
   ]
  },
  {
   "cell_type": "markdown",
   "metadata": {},
   "source": [
    "### Represent a vector in terms of an Orthogonal Basis\n",
    "\n",
    "Let $ \\mathcal{S} = \\{ v_1, v_2, \\cdots, v_3 \\} $ be an orthogonal basis for a subspace V of $ R^n $,  \n",
    "and let u be a vector in V. Then:\n",
    "\n",
    "$ \\vec{u} = \n",
    "\\frac{\\vec{u} \\cdot v_1}{\\lVert v_1 \\rVert^2} v_1 +\n",
    "\\frac{\\vec{u} \\cdot v_2}{\\lVert v_2 \\rVert^2} v_2 +\n",
    "\\cdots +\n",
    "\\frac{\\vec{u} \\cdot v_k}{\\lVert v_k \\rVert^2} v_k\n",
    "$"
   ]
  },
  {
   "cell_type": "markdown",
   "metadata": {},
   "source": [
    "### Example\n",
    "\n",
    "$ \\mathcal{S} = \\{ v_1, v_2, v_3 \\} $ is an orthogonal basis for R<sup>3</sup> with\n",
    "\n",
    "$ v_1 = \\begin{bmatrix} 1\\\\2\\\\3 \\end{bmatrix} $, \n",
    "$ v_2 = \\begin{bmatrix} 1\\\\1\\\\-1 \\end{bmatrix} $, \n",
    "$ v_3 = \\begin{bmatrix} 5\\\\-4\\\\1 \\end{bmatrix} $\n",
    "\n",
    "Let $ u = \\begin{bmatrix} 3\\\\2\\\\1 \\end{bmatrix} $ and $ u = c_1 v_1 + c_2 v_2 + c_3 v_3 $\n",
    "\n",
    "因為 Orthogonal Basis, 可套用上述公式得 $ c_1 = 10/14, c_2 = 4/3, c_3 = 8/42 $"
   ]
  },
  {
   "cell_type": "markdown",
   "metadata": {},
   "source": [
    "### 如何由 basis vector 找到其對應 subspace 的 orthogonal basis ?\n",
    "\n",
    "$ \\mathcal{S} = \\Bigg \\{ $ \n",
    "$ u_1 = \\begin{bmatrix} 1\\\\1\\\\1\\\\1 \\end{bmatrix} $ , \n",
    "$ u_2 = \\begin{bmatrix} 2\\\\1\\\\0\\\\1 \\end{bmatrix} $ , \n",
    "$ u_3 = \\begin{bmatrix} 1\\\\1\\\\2\\\\1 \\end{bmatrix} \\Bigg \\} $  \n",
    "are L.I. vectors. \n",
    "\n",
    "Find an orthogonal basis { $ v_1, v_2, v_3 $ } for Span S."
   ]
  },
  {
   "cell_type": "markdown",
   "metadata": {},
   "source": [
    "先選定隨便一個 u 向量當做 v1\n",
    "\n",
    "$ v_1 = u_1 = (1,1,1,1) $\n",
    "\n",
    "找到 u2 在 v1 上的垂直投影 w2,  \n",
    "u2 = w2 + v2, so v2 = u2 - w2\n",
    "\n",
    "$ v_2 = u_2 - w_2 = u_2 - \\frac{u_2 \\cdot v_1}{\\lVert v_1 \\rVert^2} \\vec{v1} $ = (2,1,0,1) - (1,1,1,1) = (1,0,-1,0)\n",
    "\n",
    "找到 u3 在 v1 上的垂直投影 w31,  \n",
    "找到 u3 在 v2 上的垂直投影 w32,  \n",
    "u3 = w31 + w32 + v3, so v3 = u3 - w31 - w32 = ( 1,-1, 1,-1 )"
   ]
  },
  {
   "cell_type": "markdown",
   "metadata": {},
   "source": [
    "### Theorem 6.5 : Gram-Schmidt Process\n",
    "\n",
    "Let { $ u_1, u_2, \\cdots, u_k $ } be a basis for a subspace W of R<sup>n</sup>. Define\n",
    "\n",
    "$ v_1 = u_1 $,\n",
    "\n",
    "$ v_2 = u_2 - \\frac{u_2 \\cdot v_1}{\\lVert v_1 \\rVert^2} \\vec{v_1} $\n",
    "\n",
    "...\n",
    "\n",
    "$ v_k = u_k - \\frac{u_k \\cdot v_1}{\\lVert v_1 \\rVert^2} \\vec{v_1} - \n",
    "\\frac{u_k \\cdot v_2}{\\lVert v_2 \\rVert^2} \\vec{v_2} - \n",
    "\\cdots - \n",
    "\\frac{u_k \\cdot v_{k-1}}{\\lVert v_{k-1} \\rVert^2} \\vec{v_{k-1}} $\n",
    "\n",
    "Then { $ v_1, v_2, \\cdots, v_i $ } is an orthogonal set of nonzero vectors such that\n",
    "\n",
    "Span { $ v_1, v_2, \\cdots, v_i $ } = Span { $ u_1, u_2, \\cdots, u_k $ }\n",
    "\n",
    "for each i. So { $ v_1, v_2, \\cdots, v_k $ } is an orthogonal basis for W."
   ]
  },
  {
   "cell_type": "markdown",
   "metadata": {},
   "source": [
    "### Definition : Unit Vector\n",
    "\n",
    "A vector that has norm equal to unity is called a unit vector.\n",
    "\n",
    "Property: for any vector v, $ \\frac{1}{\\lVert v \\rVert} \\vec{v} $ is a unit vector."
   ]
  },
  {
   "cell_type": "markdown",
   "metadata": {},
   "source": [
    "### Definition : Orthonormal basis\n",
    "\n",
    "A orthogonal basis consisting of unit vectors is called an orthogonal basis.\n",
    "\n",
    "Property: every nonzero subspace has an orthonormal basis."
   ]
  },
  {
   "cell_type": "markdown",
   "metadata": {},
   "source": [
    "> Orthonormal basis 方便獲得向量的係數\n",
    "\n",
    "### Represent a Vector in Terms of an Orthonormal Basis\n",
    "\n",
    "Let $ \\mathcal{S} = \\{ w_1, w_2, \\cdots, w_k \\} $ be an orthonormal basis for a subspace V of R<sup>n</sup>,  \n",
    "and let u be a vector in V. Then\n",
    "\n",
    "$ \\vec{u} = (u \\cdot w_1) \\vec{w_1} + (u \\cdot w_2) \\vec{w_2} + (u \\cdot w_k) \\vec{w_k} $\n"
   ]
  }
 ],
 "metadata": {
  "anaconda-cloud": {},
  "kernelspec": {
   "display_name": "Python [default]",
   "language": "python",
   "name": "python3"
  },
  "language_info": {
   "codemirror_mode": {
    "name": "ipython",
    "version": 3
   },
   "file_extension": ".py",
   "mimetype": "text/x-python",
   "name": "python",
   "nbconvert_exporter": "python",
   "pygments_lexer": "ipython3",
   "version": "3.5.2"
  }
 },
 "nbformat": 4,
 "nbformat_minor": 2
}
