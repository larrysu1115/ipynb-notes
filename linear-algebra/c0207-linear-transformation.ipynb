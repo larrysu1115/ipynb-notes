{
 "cells": [
  {
   "cell_type": "markdown",
   "metadata": {},
   "source": [
    "## Unit 2.7 : Linear Transformation\n",
    "\n",
    "### Function\n",
    "\n",
    "m &times; n matrix 可以理解成 將 vector x (n-component) 對應到 vector y (m-component) 的一個 function.\n",
    "\n",
    "`Definition`\n",
    "\n",
    "Let $ \\mathcal{S}_1, \\mathcal{S}_2 $ be 2 sets. A function f from $ \\mathcal{S}_1 $ to $ \\mathcal{S}_2 $, written:\n",
    "\n",
    "$$ f: \\mathcal{S}_1 \\to \\mathcal{S}_2 $$\n",
    "\n",
    "is a mapping that assigns an element in $ \\mathcal{S}_2 $ to each element in $ \\mathcal{S}_1 $.\n",
    "\n",
    "$ \\forall a \\in \\mathcal{S}_1 $, there exists a unique element $ b \\in \\mathcal{S}_2 $ such that f(a) = b. This is called **IMAGE** of a.\n",
    "\n",
    "The set $ \\mathcal{S}_1 $ is called **DOMAIN** of the function f.\n",
    "\n",
    "The set $ \\mathcal{S}_2 $ is called **CODOMAIN** of the function f;\n",
    "\n",
    "The vection f(v) is called the image of v (under f).\n",
    "\n",
    "The range is the subset of $ \\mathcal{S}_2 $ that contains all images: { f(a) : a &in; $ \\mathcal{S}_1 $ }"
   ]
  },
  {
   "cell_type": "markdown",
   "metadata": {},
   "source": [
    "### Example:\n",
    "\n",
    "$ T_A : R^2 \\to R^3 $ , with $ T_A( \\vec{x} ) = A \\vec{x} $ , where A =  $ \\begin{bmatrix} 1 & 0 \\\\ 2 & 1 \\\\ 1 & -1 \\end{bmatrix} $\n",
    "\n",
    "$ T_A( \\begin{bmatrix} x_1 \\\\ x_2 \\end{bmatrix} ) $ = $ \n",
    "\\begin{bmatrix} 1 & 0 \\\\ 2 & 1 \\\\ 1 & -1 \\end{bmatrix} $ $ \n",
    "\\begin{bmatrix} x_1 \\\\ x_2 \\end{bmatrix} $ = $\n",
    "\\begin{bmatrix} x_1 \\\\ 2 x_1 + x_2 \\\\ x_1 - x_2 \\end{bmatrix} $\n"
   ]
  },
  {
   "cell_type": "markdown",
   "metadata": {},
   "source": [
    "### Definition: Matrix Transformation induced by A\n",
    "\n",
    "Let A be a m &times; n matrix. The function T<sub>A</sub> : R<sup>n</sup> &rightarrow; R<sup>m</sup> defined by T<sub>A</sub>(x) = Ax \n",
    "\n",
    "for all x in R<sup>n</sup> is called the **matrix transformation induced by A**\n",
    "\n",
    "### Theorem 2.7\n",
    "\n",
    "> 符合下面兩個條件, T 就是 linear transformation\n",
    "\n",
    "- $ T_A( \\vec{u} + \\vec{v} ) = T_A( \\vec{u} ) + T_A( \\vec{v} ) $, we say that T preserves vector addition.\n",
    "- $ T_A( c \\vec{u} ) = c T_A( \\vec{u} ) $, &forall; scalar c. We say that T preserves vector multiplication.\n",
    "\n",
    "### Theorem 2.8\n",
    "\n",
    "For any linear transformation $ T: R^n \\to R^m $, the following statements are true:\n",
    "\n",
    "- T(0) = 0\n",
    "- T(-u) = -T(u) for all vectors u in R<sup>n</sup>\n",
    "- T(u - v) = T(u) - T(v) for all vectors u and v in R<sup>n</sup>\n",
    "- T(au + bv) = a T(u) + b T(v) for all vectors u and v in R<sup>n</sup> and all scalars a and b.\n",
    "\n",
    "### Example\n",
    "\n",
    "$ T: R^2 \\to R^2 $ , with $ T( \\begin{bmatrix} x_1 \\\\ x_2 \\end{bmatrix} ) = \\begin{bmatrix} 2 x_1 - x_2 \\\\ x_1 \\end{bmatrix} $\n",
    "\n",
    "Question: Is T linear? Why?\n",
    "\n",
    "- T(u + v) = T(u) + T(v)\n",
    "- T(c u) = c T(u)\n",
    "\n",
    "So T is linear.\n",
    "\n",
    "Another way: show there exists a matrix A such that T = T_A = A x.\n",
    "\n",
    "$ T_A( \\begin{bmatrix} x_1 \\\\ x_2 \\end{bmatrix} ) = \n",
    "\\begin{bmatrix} 2 & -1 \\\\ 1 & 0 \\end{bmatrix}  \\begin{bmatrix} x_1 \\\\ x_2 \\end{bmatrix} =\n",
    "\\begin{bmatrix} 2 x_1 - x_2 \\\\ x_1 \\end{bmatrix} = \n",
    "T( \\begin{bmatrix} x_1 \\\\ x_2 \\end{bmatrix} ) $\n"
   ]
  }
 ],
 "metadata": {
  "kernelspec": {
   "display_name": "Python [default]",
   "language": "python",
   "name": "python3"
  },
  "language_info": {
   "codemirror_mode": {
    "name": "ipython",
    "version": 3
   },
   "file_extension": ".py",
   "mimetype": "text/x-python",
   "name": "python",
   "nbconvert_exporter": "python",
   "pygments_lexer": "ipython3",
   "version": "3.5.2"
  }
 },
 "nbformat": 4,
 "nbformat_minor": 1
}
