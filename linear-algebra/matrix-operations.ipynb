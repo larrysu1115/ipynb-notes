{
 "cells": [
  {
   "cell_type": "markdown",
   "metadata": {},
   "source": [
    "# Find Reduced Row Echelon Form of Array\n",
    "\n",
    "Let $ A \\in R_{m \\times n} $"
   ]
  },
  {
   "cell_type": "code",
   "execution_count": 11,
   "metadata": {
    "collapsed": false
   },
   "outputs": [
    {
     "name": "stdout",
     "output_type": "stream",
     "text": [
      "(Matrix([\n",
      "[1.0,   0,   0, -4.0],\n",
      "[  0, 1.0,   0, -5.0],\n",
      "[  0,   0, 1.0,  3.0]]), [0, 1, 2])\n"
     ]
    }
   ],
   "source": [
    "import sympy as sympy\n",
    "import numpy as np\n",
    "import matplotlib.pyplot as plt\n",
    "import seaborn as sbn\n",
    "from scipy import *\n",
    "\n",
    "A = np.array([(1, -2, -1, 3),\n",
    "              (3, -6, -5, 3),\n",
    "              (2, -1,  1, 0)])\n",
    "\n",
    "R = sympy.Matrix(A).rref()\n",
    "\n",
    "print(R)"
   ]
  }
 ],
 "metadata": {
  "anaconda-cloud": {},
  "kernelspec": {
   "display_name": "Python 3",
   "language": "python",
   "name": "python3"
  },
  "language_info": {
   "codemirror_mode": {
    "name": "ipython",
    "version": 3
   },
   "file_extension": ".py",
   "mimetype": "text/x-python",
   "name": "python",
   "nbconvert_exporter": "python",
   "pygments_lexer": "ipython3",
   "version": "3.5.2"
  }
 },
 "nbformat": 4,
 "nbformat_minor": 2
}
