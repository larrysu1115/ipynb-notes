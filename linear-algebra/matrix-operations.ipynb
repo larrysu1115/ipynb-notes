{
 "cells": [
  {
   "cell_type": "markdown",
   "metadata": {},
   "source": [
    "## Reduced Row Echelon Form\n",
    "\n",
    "Let $ A \\in \\mathcal{M}_{m \\times n} $"
   ]
  },
  {
   "cell_type": "code",
   "execution_count": 1,
   "metadata": {
    "collapsed": false,
    "scrolled": false
   },
   "outputs": [
    {
     "name": "stdout",
     "output_type": "stream",
     "text": [
      "(Matrix([\n",
      "[1.0,   0,   0, -4.0],\n",
      "[  0, 1.0,   0, -5.0],\n",
      "[  0,   0, 1.0,  3.0]]), [0, 1, 2])\n"
     ]
    }
   ],
   "source": [
    "import sympy as sympy\n",
    "import numpy as np\n",
    "np.set_printoptions(precision=2, suppress=True)\n",
    "\n",
    "A = np.array([(1, -2, -1, 3),\n",
    "              (3, -6, -5, 3),\n",
    "              (2, -1,  1, 0)])\n",
    "R = sympy.Matrix(A).rref()\n",
    "print(R)"
   ]
  },
  {
   "cell_type": "markdown",
   "metadata": {},
   "source": [
    "## Matrix Inversion\n",
    "\n",
    "$ A,B \\in \\mathcal{M}_{n \\times n}, A \\times B = I_n $"
   ]
  },
  {
   "cell_type": "code",
   "execution_count": 2,
   "metadata": {
    "collapsed": false
   },
   "outputs": [
    {
     "name": "stdout",
     "output_type": "stream",
     "text": [
      "Inverse of A:\n",
      "[[-16.   4.   3.]\n",
      " [ -2.   1.  -0.]\n",
      " [  7.  -2.  -1.]]\n",
      "\n",
      "A x B is I :\n",
      "[[ 1. -0.  0.]\n",
      " [-0.  1.  0.]\n",
      " [ 0.  0.  1.]]\n"
     ]
    }
   ],
   "source": [
    "A = np.array([(1, 2, 3),\n",
    "              (2, 5, 6),\n",
    "              (3, 4, 8)])\n",
    "B = np.linalg.inv(A)\n",
    "print('Inverse of A:\\n%s\\n' % B)\n",
    "\n",
    "print('A x B is I :\\n%s' % A.dot(B))"
   ]
  }
 ],
 "metadata": {
  "anaconda-cloud": {},
  "kernelspec": {
   "display_name": "Python [default]",
   "language": "python",
   "name": "python3"
  },
  "language_info": {
   "codemirror_mode": {
    "name": "ipython",
    "version": 3
   },
   "file_extension": ".py",
   "mimetype": "text/x-python",
   "name": "python",
   "nbconvert_exporter": "python",
   "pygments_lexer": "ipython3",
   "version": "3.5.2"
  }
 },
 "nbformat": 4,
 "nbformat_minor": 2
}
