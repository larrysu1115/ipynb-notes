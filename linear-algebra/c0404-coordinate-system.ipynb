{
 "cells": [
  {
   "cell_type": "markdown",
   "metadata": {},
   "source": [
    "### Theorem 4.10\n",
    "\n",
    "Let $ \\mathcal{B} = \\{ \\vec{u}_1, \\vec{u}_2, \\cdots, \\vec{u}_k \\} $ be a basis of a subspace V of $ R^n $.  \n",
    "Any vector v in V can be uniquely represented as a linear combination of the vectors in B;  \n",
    "that is, there are unique scalars $ a_1, a_2, \\cdots, a_k $ such that $ \\vec{v} = a_1 \\vec{u}_1 + a_2 \\vec{u}_2 + \\cdots + a_k \\vec{u}_k $.\n",
    "\n",
    "$ \\vec{c} = \\begin{bmatrix} c_1 \\\\ c_2 \\\\ \\vdots \\\\ c_n \\end{bmatrix} \\in \\mathcal{R}^n $\n",
    "\n",
    "$ \\vec{c} $ is called the _coordinate vector_ of v relative to B or the _B-coordinate vector_ of v.  \n",
    "We denoted the B-coordinate vector v by : $ [v]_{\\mathcal{B}} $\n",
    "\n",
    "> coordinate vector must be an ORDERED basis"
   ]
  },
  {
   "cell_type": "markdown",
   "metadata": {},
   "source": [
    "### Example:\n",
    "\n",
    "$ \\mathcal{B} = \\left \\{ \\begin{bmatrix} 1\\\\1\\\\1 \\end{bmatrix}, \\begin{bmatrix} 1\\\\-1\\\\1 \\end{bmatrix}, \\begin{bmatrix} 1\\\\2\\\\2 \\end{bmatrix}  \\right \\} $ : a basis of $ R^n $\n",
    "\n",
    "$ [u]_{\\mathcal{B}} = \\begin{bmatrix} 3\\\\6\\\\-2 \\end{bmatrix} \\to \\vec{u} = 3 \\times \\begin{bmatrix} 1\\\\1\\\\1 \\end{bmatrix} + 6 \\times \\begin{bmatrix} 1\\\\-1\\\\1 \\end{bmatrix} -2 \\times \\begin{bmatrix} 1\\\\2\\\\2 \\end{bmatrix} = \\begin{bmatrix} 7\\\\-7\\\\5 \\end{bmatrix} $\n",
    "\n",
    "### Example:\n",
    "\n",
    "For the same basis B above and v = [ 1 -4 4 ]<sup>T</sup>, to find $ [v]_{\\mathcal{B}} $, we need to determine the unique scalars $ c_1, c_2, c_3 $ such that:\n",
    "\n",
    "$ c_1 \\times \\begin{bmatrix} 1\\\\1\\\\1 \\end{bmatrix} + c_2 \\times \\begin{bmatrix} 1\\\\-1\\\\1 \\end{bmatrix} + c_3 \\times \\begin{bmatrix} 1\\\\2\\\\2 \\end{bmatrix} = \\begin{bmatrix} 1\\\\-4\\\\4 \\end{bmatrix} $\n",
    "\n",
    "$ [v]_{\\mathcal{B}} = \\begin{bmatrix} -6\\\\4\\\\3 \\end{bmatrix} $"
   ]
  },
  {
   "cell_type": "code",
   "execution_count": 1,
   "metadata": {
    "collapsed": false
   },
   "outputs": [
    {
     "name": "stdout",
     "output_type": "stream",
     "text": [
      "RREF of B is (Matrix([\n",
      "[1, 0, 0, -6],\n",
      "[0, 1, 0,  4],\n",
      "[0, 0, 1,  3]]), [0, 1, 2])\n",
      "\n"
     ]
    }
   ],
   "source": [
    "from sympy import Matrix\n",
    "B = Matrix(3, 4, [ 1, 1, 1, 1,\n",
    "                   1,-1, 2,-4,\n",
    "                   1, 1, 2, 4])\n",
    "\n",
    "print('RREF of B is %s\\n' % repr(B.rref()) )"
   ]
  },
  {
   "cell_type": "markdown",
   "metadata": {},
   "source": [
    "### Example\n",
    "\n",
    "Let $ \\mathcal{B} = \\{ b_1, b_2, \\cdots, b_n \\} $ be an ordered basis of $ R^n $. Then for all i = 1,2,...,n, $ [b_i]_{\\mathcal{B}} $ = ?\n",
    "\n",
    "Ans = $ [b_i]_{\\mathcal{B}} = e_i $\n",
    "\n",
    "### Example\n",
    "\n",
    "Let $ \\mathcal{B} $ be a basis for $ R^n $ and B be the matrix whose columns are the vectors in $ \\mathcal{B} $.  \n",
    "How to write $ [v]_{\\mathcal{B}} $ in terms of v and B ?\n",
    "\n",
    "$ \\vec{v} = \\begin{bmatrix} 1\\\\-4\\\\4 \\end{bmatrix} =  c_1 \\times \\begin{bmatrix} 1\\\\1\\\\1 \\end{bmatrix} + c_2 \\times \\begin{bmatrix} 1\\\\-1\\\\1 \\end{bmatrix} + c_3 \\times \\begin{bmatrix} 1\\\\2\\\\2 \\end{bmatrix} $\n",
    "\n",
    "$ \\vec{v} = \\begin{bmatrix} 1&1&1\\\\1&-1&2\\\\1&1&2 \\end{bmatrix} \\ \\  \\begin{bmatrix} c_1 \\\\ c_2 \\\\ c_3 \\end{bmatrix} = B [\\vec{v}]_{\\mathcal{B}} $\n",
    "\n",
    "$ \\to [\\vec{v}]_{\\mathcal{B}} = B^{-1} \\ \\begin{bmatrix} 1\\\\-4\\\\4 \\end{bmatrix} $"
   ]
  },
  {
   "cell_type": "markdown",
   "metadata": {},
   "source": [
    "### Theorem 4.11\n",
    "\n",
    "Let $ \\mathcal{B} $ be a basis for $ R^n $ and B be the matrix whose columns are the vectors in $ \\mathcal{B} $.  \n",
    "Then B is invertible and, for every vector v in $ R^n $, $ \\mathcal{B} \\ [v]_{\\mathcal{B}} = v $, or equilvalently,  \n",
    "$ [\\vec{v}]_{\\mathcal{B}} = B^{-1} \\ \\ \\vec{v} $"
   ]
  },
  {
   "cell_type": "code",
   "execution_count": 8,
   "metadata": {
    "collapsed": false,
    "scrolled": true
   },
   "outputs": [
    {
     "data": {
      "image/png": "[encoded data removed]",
      "text/plain": [
       "<matplotlib.figure.Figure at 0x10592d0f0>"
      ]
     },
     "metadata": {},
     "output_type": "display_data"
    }
   ],
   "source": [
    "%matplotlib inline\n",
    "import numpy as np\n",
    "import matplotlib.pyplot as plt\n",
    "import matplotlib.patches as patches\n",
    "import math\n",
    "\n",
    "fig = plt.figure()\n",
    "plt.xlim(-3, 4)\n",
    "plt.ylim(-3, 3)\n",
    "ax = fig.add_subplot(111)\n",
    "ax.set_aspect(1.0)\n",
    "\n",
    "plt.plot([-10,10], [-10,10], color='R', alpha=0.3)\n",
    "plt.plot([-10,10], [10,-10], color='R', alpha=0.3)\n",
    "plt.text( 2.4, 2.1, r\"x'\", fontsize=28, color='R', alpha=0.3)\n",
    "plt.text(-1.9, 2.1, r\"y'\", fontsize=28, color='R', alpha=0.3)\n",
    "plt.text( 1.6,   0, r\"$ 1.5 \\times \\vec{e}_1 $\", fontsize=20, color='B', alpha=0.3)\n",
    "plt.text(   0,   1, r\"$ \\vec{e}_2 $\", fontsize=28, color='B', alpha=0.3)\n",
    "plt.text( 0.7, 0.3, r\"$ \\vec{b}_1 $\", fontsize=20, color='R', alpha=0.5)\n",
    "ellipse1 = patches.Ellipse((0,0), 3, 2, fill=False, color='B')\n",
    "ellipse2 = patches.Ellipse((0,0), 3, 2, angle=45.0, fill=False, color='R')\n",
    "ax.add_patch(ellipse1)\n",
    "ax.add_patch(ellipse2)\n",
    "ax.add_patch(patches.Arrow(0,0,1.5,0, width=0.15))\n",
    "ax.add_patch(patches.Arrow(0,0,0,1, width=0.15))\n",
    "bunit = 1.0 / math.sqrt(2)\n",
    "ax.add_patch(patches.Arrow(0,0,bunit,bunit, width=0.15, color='R'))\n",
    "plt.show()"
   ]
  },
  {
   "cell_type": "markdown",
   "metadata": {},
   "source": [
    "上圖紅色橢圓在旋轉了 45&deg; 的 x',y' coordinate system 中:\n",
    "\n",
    "$ \\frac{(x')^2}{3^2} + \\frac{(y')^2}{2^2} = 1 $\n",
    "\n",
    "Consider the basis $ \\mathcal{B} = \\{ \\vec{b}_1, \\vec{b}_2 \\} $\n",
    "\n",
    "$ b_1 = A_{45^\\circ} \\ e_1 \\\\ b_2 = A_{45^\\circ} \\ e_2 $\n",
    "\n",
    "$ A_{45^\\circ} = \\begin{bmatrix} \\sqrt{2}/2 & -\\sqrt{2}/2 \\\\ \\sqrt{2}/2 & \\sqrt{2}/2  \\end{bmatrix} $\n",
    "\n",
    "$ \\vec{v} = \\begin{bmatrix} x \\\\ y \\end{bmatrix} $\n",
    "\n",
    "$ [v]_B = \\begin{bmatrix} x' \\\\ y' \\end{bmatrix} $\n",
    "\n",
    "$ [v]_B = B^{-1} \\vec{v} = B^T \\vec{v} $\n",
    "\n",
    "$ [v]_B = \\begin{bmatrix} x' \\\\ y' \\end{bmatrix} = B^T \\ \\ \\begin{bmatrix} x \\\\ y \\end{bmatrix} = \\begin{bmatrix} \\sqrt{2}/2 & \\sqrt{2}/2 \\\\ -\\sqrt{2}/2 & \\sqrt{2}/2  \\end{bmatrix} \\ \\ \\begin{bmatrix} x \\\\ y \\end{bmatrix} = \\begin{bmatrix} x \\ \\sqrt{2}/2 + y \\ \\sqrt{2}/2 \\\\ -x \\ \\sqrt{2}/2 + y \\ \\sqrt{2}/2  \\end{bmatrix} $\n",
    "\n",
    "$ \\frac{(x')^2}{3^2} + \\frac{(y')^2}{2^2} = 1 \\to  13 x^2 - 10 xy + 13 y^2 = 72 $"
   ]
  },
  {
   "cell_type": "markdown",
   "metadata": {},
   "source": [
    "## Unit 4.5 Matrix Representations of Linear Operators\n",
    "\n",
    "### Definition: Linear Operator\n",
    "\n",
    "A **linear operator** on $ \\mathcal{R}^n $ is a linear transformation from $ \\mathcal{R}^n $ to $ \\mathcal{R}^n $.\n"
   ]
  },
  {
   "cell_type": "code",
   "execution_count": 47,
   "metadata": {
    "collapsed": false
   },
   "outputs": [
    {
     "data": {
      "image/png": "[encoded data removed]",
      "text/plain": [
       "<matplotlib.figure.Figure at 0x11bee8d30>"
      ]
     },
     "metadata": {},
     "output_type": "display_data"
    }
   ],
   "source": [
    "%matplotlib inline\n",
    "import numpy as np\n",
    "import matplotlib.pyplot as plt\n",
    "import seaborn\n",
    "seaborn.set(style='ticks')\n",
    "\n",
    "x = np.linspace(0.2,10,100)\n",
    "fig, ax = plt.subplots()\n",
    "\n",
    "plt.xlim(-5, 15)\n",
    "plt.ylim(-5, 15)\n",
    "ax.set_aspect('equal')\n",
    "ax.grid(True, which='both')\n",
    "seaborn.despine(ax=ax, offset=0) # the important part here\n",
    "ax.spines['bottom'].set_position('zero')\n",
    "ax.spines['left'].set_position('zero')\n",
    "\n",
    "plt.plot([-6,12], [-3,6], alpha=0.4, color='B')\n",
    "plt.plot([15,2], [-15,11], alpha=0.4, color='Y')\n",
    "ax.add_patch(patches.FancyArrow(0,0,  9.5, -4, width=0.1, color='R', head_width=0.5, head_length=0.5, alpha=0.4))\n",
    "ax.add_patch(patches.FancyArrow(0,0,2.5, 10, width=0.1, color='R', head_width=0.5, head_length=0.5, alpha=0.4))\n",
    "ax.add_patch(patches.FancyArrow(0,0,2, 1, width=0.1, color='R', head_width=0.5, head_length=0.5, alpha=0.6))\n",
    "ax.add_patch(patches.FancyArrow(0,0,-1, 2, width=0.1, color='R', head_width=0.5, head_length=0.5, alpha=0.6))\n",
    "plt.text(12,7, r\"$ \\mathcal{L} $\", fontsize=28, color='B', alpha=0.7)\n",
    "plt.text(2,9, r\"P\", fontsize=18)\n",
    "plt.text(8.5,-3.5, r\"P'\", fontsize=18)\n",
    "plt.text(1,9, r\"$ \\vec{v} $\", fontsize=18, color='R', alpha=0.6)\n",
    "plt.text(6,-4, r\"$ T(\\vec{v}) $\", fontsize=18, color='R', alpha=0.6)\n",
    "plt.text(2,2, r\"$ \\vec{b}_1 $\", fontsize=16, color='R', alpha=0.6)\n",
    "plt.text(-2.6,2, r\"$ \\vec{b}_2 $\", fontsize=16, color='R', alpha=0.6)\n",
    "plt.text(5.2,3.5, r\"F\", fontsize=18);"
   ]
  },
  {
   "cell_type": "markdown",
   "metadata": {},
   "source": [
    "Example: reflection about a line $ \\mathcal{L} $ through the origin in $ R^2 $, is the transformation T\n",
    "\n",
    "如果看一個特別的例子: _L 是 x-axis_ : $ T' \\left( \\begin{bmatrix} x_1 \\\\ x_2 \\end{bmatrix} \\right) = \\begin{bmatrix} x_1 \\\\ - x_2 \\end{bmatrix}$  \n",
    "$ [ T'(e_1) \\ \\ T'(e_2) ] = [ e_1 \\ \\ -e_2 ] = \\begin{bmatrix} 1 & 0 \\\\ 0 & -1 \\end{bmatrix} $\n",
    "\n",
    "再看 basis $ \\mathcal{B} = \\{ b_1,\\ b_2 \\} $  \n",
    "\n",
    "$ [ T(b_1) ]_B = \\begin{bmatrix} 1 \\\\ 0 \\end{bmatrix}  $\n",
    "\n",
    "$ [ T(b_2) ]_B = \\begin{bmatrix} 0 \\\\ -1 \\end{bmatrix}  $\n",
    "\n",
    "Linear Operator $ [T]_{\\mathcal{B}} =  [\\ \\ [T(b_1)]_B \\ \\ [T(b_2)]_B \\ \\ ] = \\begin{bmatrix} 1 & 0 \\\\ 0 & -1 \\end{bmatrix}  $"
   ]
  },
  {
   "cell_type": "markdown",
   "metadata": {},
   "source": [
    "$ B = [ \\vec{b}_1 \\\\ \\vec{b}_2 ] = \\begin{bmatrix} 2 & -1 \\\\ 1 & 2 \\end{bmatrix} $ \n",
    "\n",
    "> 利用下面獲得的 A 轉換 T_B 的公式\n",
    "\n",
    "$ A = B [T]_{\\mathcal{B}} B^{-1} = \\begin{bmatrix} .6 & .8 \\\\ .8 & -.6 \\end{bmatrix} $\n",
    "\n",
    "$ T \\left( \\begin{bmatrix} x_1 \\\\ x_2 \\end{bmatrix} \\right) = A \\begin{bmatrix} x_1 \\\\ x_2 \\end{bmatrix} = \\begin{bmatrix} .6 & .8 \\\\ .8 & -.6 \\end{bmatrix} \\begin{bmatrix} x_1 \\\\ x_2 \\end{bmatrix} = \\begin{bmatrix} .6 x_1 + .8 x_2 \\\\ .8 x_1 -.6 x_2 \\end{bmatrix} $\n"
   ]
  },
  {
   "cell_type": "code",
   "execution_count": 48,
   "metadata": {
    "collapsed": false
   },
   "outputs": [
    {
     "name": "stdout",
     "output_type": "stream",
     "text": [
      "\n",
      "B = [b1 b2] : \n",
      "[[ 2 -1]\n",
      " [ 1  2]]\n",
      "\n",
      "T Reflection Operator: \n",
      "[[ 1  0]\n",
      " [ 0 -1]]\n",
      "\n",
      "inverse of B : \n",
      "[[ 0.4  0.2]\n",
      " [-0.2  0.4]]\n",
      "\n",
      "A : \n",
      "[[ 0.6  0.8]\n",
      " [ 0.8 -0.6]]\n",
      "\n"
     ]
    }
   ],
   "source": [
    "import numpy as np\n",
    "from scipy import linalg\n",
    "B = np.array([[2,-1],\n",
    "              [1, 2]])\n",
    "T_reflect_on_B = np.array([[1, 0],\n",
    "                      [0,-1]])\n",
    "B_inv = linalg.inv(B)\n",
    "print()\n",
    "print('B = [b1 b2] : \\n%s\\n' % B)\n",
    "print('T Reflection Operator: \\n%s\\n' % T_reflect_on_B)\n",
    "print('inverse of B : \\n%s\\n' % B_inv)\n",
    "A = B.dot(T_reflect_on_B).dot(B_inv)\n",
    "print('A : \\n%s\\n' % A)"
   ]
  },
  {
   "cell_type": "markdown",
   "metadata": {},
   "source": [
    "### Definition: B-matrix of T\n",
    "\n",
    "Let T be a linear operator on $ R^n $ and $ \\mathcal{B} = \\{ b_1,\\ b_2, \\cdots , b_n \\} $ be a basis for $ R^n $.  \n",
    "\n",
    "The matrix \n",
    "\n",
    "$ [\\ \\ [T(b_1)]_\\mathcal{B} \\ \\ [T(b_2)]_\\mathcal{B} \\ \\ \\cdots \\ \\ [T(b_n)]_\\mathcal{B} \\ \\ ] $\n",
    "\n",
    "is called the matrix representation of T with respect to B or the B-matrix of T.  \n",
    "It is denoted as $ [T]_B $"
   ]
  },
  {
   "cell_type": "markdown",
   "metadata": {},
   "source": [
    "### Example\n",
    "\n",
    "$ T \\left( \\begin{bmatrix} x_1 \\\\ x_2 \\\\ x_3 \\end{bmatrix} \\right) = \\begin{bmatrix} 3 x_1 + x_3 \\\\ x_1 + x_2 \\\\ -x_1 - x_2 + 3 x_3 \\end{bmatrix} $\n",
    "\n",
    "$ \\mathcal{B} = \\left \\{ \\begin{bmatrix} 1\\\\1\\\\1\\end{bmatrix} \\ \\ \\begin{bmatrix} 1\\\\2\\\\3\\end{bmatrix} \\ \\ \\begin{bmatrix} 2\\\\1\\\\1\\end{bmatrix}  \\right \\} = \\{ b_1, b_2, b_3 \\} $\n",
    "\n",
    "Question: Find $ [T]_B $\n",
    "\n",
    "$ T(b_1) = \\begin{bmatrix} 4\\\\2\\\\1 \\end{bmatrix} $\n",
    "\n",
    "$ T(b_2) = \\begin{bmatrix} 6\\\\3\\\\6 \\end{bmatrix} $\n",
    "\n",
    "$ T(b_3) = \\begin{bmatrix} 7\\\\3\\\\0 \\end{bmatrix} $\n",
    "\n",
    "$ [T(b_1)]_B = B^{-1} \\ T(b_1) = \\begin{bmatrix} 3\\\\-1\\\\1 \\end{bmatrix} $\n",
    "\n",
    "$ [T]_B = \\begin{bmatrix} 3&-9&8\\\\-1&3&-3 \\\\ 1&6&1 \\end{bmatrix}  $\n",
    "\n",
    "Standard Matrix = $ [T]_{\\epsilon} = \\begin{bmatrix} 3&0&1\\\\1&1&0 \\\\ -1&-1&3 \\end{bmatrix}  $\n",
    "\n",
    "T_B 與 Standard Matrix 看似無關，但其實是 similar, 因為它們定義了在不同 basis 上的相同 linear operator.\n"
   ]
  },
  {
   "cell_type": "code",
   "execution_count": 19,
   "metadata": {
    "collapsed": false
   },
   "outputs": [
    {
     "name": "stdout",
     "output_type": "stream",
     "text": [
      "\n",
      "det B = 1\n",
      "\n",
      "RREF of B is (Matrix([\n",
      "[1, 0, 0],\n",
      "[0, 1, 0],\n",
      "[0, 0, 1]]), [0, 1, 2])\n",
      "\n",
      "Inverse of B is Matrix([\n",
      "[-1,  5, -3],\n",
      "[ 0, -1,  1],\n",
      "[ 1, -2,  1]])\n",
      "\n",
      "Ans: T_B is Matrix([\n",
      "[ 3, -9,  8],\n",
      "[-1,  3, -3],\n",
      "[ 1,  6,  1]])\n",
      "\n"
     ]
    }
   ],
   "source": [
    "from sympy import Matrix\n",
    "B = Matrix(3, 3, [ 1, 1, 2,\n",
    "                   1, 2, 1,\n",
    "                   1, 3, 1])\n",
    "B_inv = B.inv()\n",
    "print()\n",
    "print('det B = %s\\n' % B.det() )\n",
    "print('RREF of B is %s\\n' % repr(B.rref()) )\n",
    "print('Inverse of B is %s\\n' % repr(B_inv) )\n",
    "T_b = Matrix(3, 3, [ 4, 6, 7,\n",
    "                     2, 3, 3,\n",
    "                     1, 6, 0])\n",
    "\n",
    "ans = Matrix(3,3,T_b.dot(B_inv)).transpose()\n",
    "print('Ans: T_B is %s\\n' % repr(ans) );"
   ]
  },
  {
   "cell_type": "markdown",
   "metadata": {},
   "source": [
    "### Theorem 4.12 : Find B-matrix of T\n",
    "\n",
    "Let T be a linear operator on $ R^n $,  \n",
    "$ \\mathcal{B} $ is a basis for $ R^n $,  \n",
    "$ B = [ \\vec{b}_1 \\ \\ \\vec{b}_2 \\ \\cdots \\ \\vec{b}_n ] $  \n",
    "A is the standard matrix of T.\n",
    "\n",
    "Then $ [T]_{\\mathcal{B}} = B^{-1} \\ A \\ B $,  \n",
    "or equivalently, $ A = B \\ \\  [T]_{\\mathcal{B}} \\ \\ B^{-1} $.\n",
    "\n",
    "### Definition : Similar\n",
    "\n",
    "For $ A,B \\in R^{n \\times n} $, if $ B = P^{-1} \\ \\ A \\ \\ P $ for some invertible P, then A is similar to B.\n",
    "\n",
    "Property: If A is similar to B, then B is similar to A. Thus we say A and B are similar.\n"
   ]
  },
  {
   "cell_type": "markdown",
   "metadata": {},
   "source": [
    "### Example\n",
    "\n",
    "Let T be a linear operator on $ R^3 $, knowing:\n",
    "\n",
    "$ T \\left( \\begin{bmatrix} 1\\\\1\\\\0 \\end{bmatrix} \\right) = \\begin{bmatrix} 1\\\\2\\\\1 \\end{bmatrix} $, &nbsp;&nbsp;\n",
    "$ T \\left( \\begin{bmatrix} 1\\\\0\\\\1 \\end{bmatrix} \\right) = \\begin{bmatrix} 3\\\\-1\\\\1 \\end{bmatrix} $, &nbsp;&nbsp;\n",
    "$ T \\left( \\begin{bmatrix} 0\\\\1\\\\1 \\end{bmatrix} \\right) = \\begin{bmatrix} 2\\\\0\\\\1 \\end{bmatrix} $\n",
    "\n",
    "Question: Can T be uniquely determined?\n",
    "\n",
    "因為 $ \\mathcal{B}= \\{ b_1, b_2, b_3 \\} $ is L.I. So $ \\mathcal{B} $ is a basis.  \n",
    "Let $ B = [ b_1, b_2, b_3 ] $\n",
    "\n",
    "$ [T]_{\\mathcal{B}} = [ \\ \\ [T(b_1)]_{\\mathcal{B}} \\ \\ [T(b_2)]_{\\mathcal{B}} \\ \\ [T(b_3)]_{\\mathcal{B}} \\ \\ ] $  \n",
    "$ = [ \\ \\ B^{-1} T(b_1) \\ \\ B^{-1} T(b_2) \\ \\ B^{-1} T(b_3) \\ \\ ] $  \n",
    "$ = [ \\ \\ B^{-1} c_1 \\ \\ B^{-1} c_2 \\ \\ B^{-1} c_3 \\ \\ ] $  \n",
    "$ = B^{-1} [ \\ \\  c_1 \\ \\ c_2 \\ \\ c_3 \\ \\ ] $\n",
    "\n",
    "$ A = B [T]_{\\mathcal{B}} B^{-1} = B B^{-1} [ \\ \\  c_1 \\ \\ c_2 \\ \\ c_3 \\ \\ ] B^{-1} = [ \\ \\  c_1 \\ \\ c_2 \\ \\ c_3 \\ \\ ] B^{-1} $  \n",
    "$ = \\begin{bmatrix} 1&0&2\\\\0.5&1.5&-1.5\\\\0.5&0.5&1.5 \\end{bmatrix} $\n",
    "\n",
    "Answer: YES, T can be uniquely determined by its images of a basis."
   ]
  },
  {
   "cell_type": "code",
   "execution_count": 20,
   "metadata": {
    "collapsed": false
   },
   "outputs": [
    {
     "name": "stdout",
     "output_type": "stream",
     "text": [
      "\n",
      "B = [b1 b2 b3] : \n",
      "[[1 1 0]\n",
      " [1 0 1]\n",
      " [0 1 1]]\n",
      "\n",
      "C = [c1 c2 c3] : \n",
      "[[ 1  3  2]\n",
      " [ 2 -1  0]\n",
      " [ 1  1  1]]\n",
      "\n",
      "inverse of B : \n",
      "[[ 0.5  0.5 -0.5]\n",
      " [ 0.5 -0.5  0.5]\n",
      " [-0.5  0.5  0.5]]\n",
      "\n",
      "A : \n",
      "[[ 1.   0.   2. ]\n",
      " [ 0.5  1.5 -1.5]\n",
      " [ 0.5  0.5  0.5]]\n",
      "\n"
     ]
    }
   ],
   "source": [
    "import numpy as np\n",
    "from scipy import linalg\n",
    "B = np.array([[1,1,0],\n",
    "              [1,0,1],\n",
    "              [0,1,1]])\n",
    "\n",
    "C = np.array([[1, 3,2],\n",
    "              [2,-1,0],\n",
    "              [1, 1,1]])\n",
    "B_inv = linalg.inv(B)\n",
    "print()\n",
    "print('B = [b1 b2 b3] : \\n%s\\n' % B)\n",
    "print('C = [c1 c2 c3] : \\n%s\\n' % C)\n",
    "print('inverse of B : \\n%s\\n' % B_inv)\n",
    "A = C.dot(B_inv)\n",
    "print('A : \\n%s\\n' % A)"
   ]
  }
 ],
 "metadata": {
  "anaconda-cloud": {},
  "kernelspec": {
   "display_name": "Python [default]",
   "language": "python",
   "name": "python3"
  },
  "language_info": {
   "codemirror_mode": {
    "name": "ipython",
    "version": 3
   },
   "file_extension": ".py",
   "mimetype": "text/x-python",
   "name": "python",
   "nbconvert_exporter": "python",
   "pygments_lexer": "ipython3",
   "version": "3.5.2"
  }
 },
 "nbformat": 4,
 "nbformat_minor": 2
}
