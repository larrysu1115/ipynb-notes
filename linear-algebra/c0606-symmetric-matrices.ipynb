{
 "cells": [
  {
   "cell_type": "markdown",
   "metadata": {},
   "source": [
    "## Unit 6.6 : Symmetric Matrices"
   ]
  },
  {
   "cell_type": "markdown",
   "metadata": {},
   "source": [
    "What is a good basis?\n",
    "\n",
    "From the point of view of a linear operator: Eigenvectors\n",
    "\n",
    "From the point of view of a subspace ( or a vector space ): Orthogonal or even orthonormal."
   ]
  },
  {
   "cell_type": "markdown",
   "metadata": {},
   "source": [
    "### Definition : Symmetric Matrix\n",
    "\n",
    "A square matrix is called a **symmetric matrix** if $ A^T = A $"
   ]
  },
  {
   "cell_type": "markdown",
   "metadata": {},
   "source": [
    "### Properties\n",
    "\n",
    "- eigenvalue always real.\n",
    "- 任何 eigenvalue 相同的兩個 eigenvector 都是 orthogonal\n",
    "- symmetric matrix always diagonizable.\n"
   ]
  },
  {
   "cell_type": "markdown",
   "metadata": {},
   "source": [
    "### Example\n",
    "\n",
    "Consider $ A = A^T = \\begin{bmatrix} a & b \\\\ b & c \\end{bmatrix} \\in R^{2 \\times 2} $\n",
    "\n",
    "Note: $ ax^2 + bx + c = 0 \\to x = \\frac{-b \\pm \\sqrt{b^2-4ac} }{2a} $\n",
    "\n",
    "$ \\det{(tI_2 - A)} = (t-a)(t-c) - b^2 = t^2 \\ -(a+c) t + \\ (ac-b^2) $  \n",
    "$ \\to (-(a+c))^2 - 4 \\times (ac - b^2) = (a-c)^2 + 4b^2 \\ge 0 $\n",
    "\n",
    "所以 t 的解為兩個實數 real eigenvalues."
   ]
  },
  {
   "cell_type": "markdown",
   "metadata": {},
   "source": [
    "### Proposition : Symmetric Matrix 的 eigenvalues 都是實數\n",
    "\n",
    "If $ A = A^T \\in R^{n \\times n} $, then all eigenvalues of A are real.\n",
    "\n",
    "Proof:  \n",
    "Let $ A x = \\lambda x $, where $ x = [ x_1 \\ \\ x_2 \\ \\ \\cdots \\ \\ x_n ]^T \\ne 0 $, since $ a_{ij} = a_{ji} $\n",
    "\n",
    "$ \\lambda \\lVert x \\rVert^2 = \\lambda x^{*T} \\cdot x = x^{*T} ( \\lambda \\vec{x} ) $\n",
    "\n",
    "$ = x^{*T} A x $\n",
    "\n",
    "$ = \\sum_{i=1}^n \\sum_{j=1}^n a_{ij} x_i^{*} x_j $\n",
    "\n",
    "$ = \\sum_{i=1}^n a_{ii} \\lvert x_i \\rvert^2 + \\sum_{i=1}^n \\sum_{j=1}^{i-1} a_{ij} ( x_i^{*} x_j + x_j^{*} x_i ) $"
   ]
  },
  {
   "cell_type": "markdown",
   "metadata": {},
   "source": [
    "### Theorem 6.14\n",
    "\n",
    "if $ u, v \\in R^n $ are eigenvectors of a symmetric matrix $ A \\in R^{n \\times n} $ that correspond to distinct eigenvalues,  \n",
    "then u and v are orthogonal.\n",
    "\n",
    "u, v 為 Symmetric Matrix A 不同 eigenvalue 的 eigenvector, 則 u, v orthogonal."
   ]
  },
  {
   "cell_type": "markdown",
   "metadata": {},
   "source": [
    "Proof:  \n",
    "Let  \n",
    "$ A v = \\mu v $  \n",
    "$ A u = \\lambda u, \\lambda \\ne \\mu $  \n",
    "$ \\vec{v} \\cdot A \\vec{u} = v^T (A u) $\n",
    "\n",
    "$ v^T ( A u ) = v^T \\lambda u  = \\lambda v^T u $  \n",
    "$ v^T ( A u ) = (A v)^T u = \\mu v^T u $\n",
    "\n",
    "$ \\to \\lambda v^T u = \\mu v^T u $, 因為 $ \\lambda \\ne \\mu $ 所以 u v = 0 為 orthogonal."
   ]
  },
  {
   "cell_type": "markdown",
   "metadata": {},
   "source": [
    "### Theorem 6.14' (*)\n",
    "\n",
    "for a matrix $ A \\in C^{n \\times n} $ that satisfies $ A^H = A. $  \n",
    "( meaning $ A^H = (A^T)^* $ naming \"Hermitian Matrix\" )  \n",
    "if $ u, v \\in C^n $ are eigenvectors of A that correspond to distinct eigenvalues,  \n",
    "then u and v are orthogonal. \n",
    "\n",
    "u, v 為 Symmetric Matrix A 不同 eigenvalue 的 eigenvector, 則 u, v orthogonal."
   ]
  },
  {
   "cell_type": "markdown",
   "metadata": {},
   "source": [
    "### Theorem 6.15\n",
    "\n",
    "For a matrix $ A \\in R^{n \\times n} $, A is symmetric iff.  \n",
    "there is an orthonormal basis for R<sup>n</sup> consisting of eigenvectors of A,  \n",
    "in which case there exists an orthogonal matrix P and a diagonal matrix D such that $ P^T A P = D $"
   ]
  },
  {
   "cell_type": "markdown",
   "metadata": {},
   "source": [
    "orthonormal basis { $ p_1, \\cdots , p_n $ }  \n",
    "\n",
    "$ A [ p_1 \\ \\ p_2 \\ \\ \\cdots \\ \\ p_n ] = [ \\lambda_1 p_1 \\ \\ \\lambda_2 p_1 \\cdots \\lambda_n p_n  ] $\n",
    "\n",
    "$ = \\begin{bmatrix} p_1 & \\cdots & p_n \\end{bmatrix} $\n",
    "$ \\begin{bmatrix} \\lambda_1 & & & \\\\ & \\lambda_2 & & \\\\ & & \\cdots & \\\\ & & & \\lambda_n \\end{bmatrix} $"
   ]
  },
  {
   "cell_type": "markdown",
   "metadata": {},
   "source": [
    "$ A P = P D $\n",
    "\n",
    "$ A = P D P^{-1} $\n",
    "\n",
    "因為 P 是 orthogonal, $ \\to P^T P = I \\to P^T = P^{-1} $\n",
    "\n",
    "$ A = P D P^T $\n",
    "\n",
    "$ P^T A P = (P P^T) D (P P^T) = D $"
   ]
  },
  {
   "cell_type": "markdown",
   "metadata": {},
   "source": [
    "### Theorem 6.15\n",
    "\n",
    "For a matrix $ A \\in C^{n \\times n} $, A is Hermitian ( $ A = A^H = (A^T)^{*} $ ) iff.  \n",
    "there is an orthonormal basis for C<sup>n</sup> consisting of eigenvectors of A,  \n",
    "in which case there exists an **unitary** matrix P and a diagonal matrix D such that $ P^H A P = D $\n",
    "\n",
    "unitary : $ P^H P = I $"
   ]
  },
  {
   "cell_type": "markdown",
   "metadata": {},
   "source": [
    "### Find orthonormal basis consisting of eigenvectors of symmetric A\n",
    "\n",
    "Finding an orthonormal basis consisting of eigenvectors of A,  \n",
    "where $ A=A^T \\in R^{n \\times n} $ or $ A=A^H \\in C^{n \\times n} $\n",
    "\n",
    "Step 1. Compute all distinct eigenvalues $ \\lambda_1, \\lambda_2, \\cdots , \\lambda_k $ of A  \n",
    "Step 2. Determine the corresponding eigenspaces $ \\mathcal{E}_1, \\mathcal{E}_2, \\cdots , \\mathcal{E}_k $  \n",
    "Step 3. Get an orthonormal basis $ \\mathcal{B}_i $ for each $ \\mathcal{E}_i $  \n",
    "Step 4. $ \\mathcal{B} = \\mathcal{B}_1 \\cup \\mathcal{B}_2 \\cup \\cdots \\cup \\mathcal{B}_k $ is an orthonormal basis for A."
   ]
  },
  {
   "cell_type": "markdown",
   "metadata": {},
   "source": [
    "### Example\n",
    "\n",
    "$ A = \\begin{bmatrix} 2 & -2 \\\\ -2 & 5 \\end{bmatrix} $,\n",
    "\n",
    "has eigenvalues $ \\lambda_1 = 6, \\lambda_2 = 1 $,\n",
    "\n",
    "with eigenspaces $ \\mathcal{E}_1 = Span \\Big \\{ \\begin{bmatrix} -1 \\\\ 2 \\end{bmatrix} \\Big \\} $ and \n",
    "$ \\mathcal{E}_2 = Span \\Big \\{ \\begin{bmatrix} 2 \\\\ 1 \\end{bmatrix} \\Big \\} $,\n",
    "\n",
    "So the orthonormal basis are:\n",
    "\n",
    "$ \\mathcal{B}_1 = \\Big \\{ \\frac{1}{\\sqrt{5}} \\begin{bmatrix} -1 \\\\ 2 \\end{bmatrix} \\Big \\} $ , \n",
    "$ \\mathcal{B}_2 = \\Big \\{ \\frac{1}{\\sqrt{5}} \\begin{bmatrix} 2 \\\\ 1 \\end{bmatrix} \\Big \\} $ , \n",
    "\n",
    "$ A P = P D $\n",
    "\n",
    "$ P^T P = I $\n",
    "\n",
    "$ P^T A P = D $\n",
    "\n",
    ", where \n",
    "\n",
    "$ P = \\frac{1}{\\sqrt{5}} \\ \\begin{bmatrix} -1 & 2 \\\\ 2 & 1 \\end{bmatrix} $ and \n",
    "$ D = \\begin{bmatrix} 6 & 0 \\\\ 0 & 1 \\end{bmatrix} $\n",
    "\n",
    "$ A = P D P^{-1} = P D P^T $\n",
    "\n",
    "$ D = P^T A P $"
   ]
  },
  {
   "cell_type": "markdown",
   "metadata": {},
   "source": [
    "### Example\n",
    "\n",
    "$ A = \\begin{bmatrix} 4&2&2 \\\\ 2&4&2 \\\\ 2&2&4 \\end{bmatrix} $,\n",
    "\n",
    "has eigenvalues $ \\lambda_1 = 2, \\lambda_2 = 8 $,\n",
    "\n",
    "with eigenspaces \n",
    "$ \\mathcal{E}_1 = Span \\Big \\{ \\begin{bmatrix} -1\\\\1\\\\0 \\end{bmatrix} $, \n",
    "$ \\begin{bmatrix} -1\\\\0\\\\1 \\end{bmatrix} \\Big \\} $ and \n",
    "$ \\mathcal{E}_2 = Span \\Big \\{ \\begin{bmatrix} 1\\\\1\\\\1 \\end{bmatrix} \\Big \\} $,"
   ]
  },
  {
   "cell_type": "markdown",
   "metadata": {},
   "source": [
    "So the orthonormal basis are:\n",
    "\n",
    "$ \\mathcal{B}_1 = \\Big \\{ \\frac{1}{\\sqrt{2}} \\begin{bmatrix} -1\\\\1\\\\0 \\end{bmatrix} $, \n",
    "$ \\frac{1}{\\sqrt{6}} \\begin{bmatrix} 1\\\\1\\\\-2 \\end{bmatrix} \\Big \\} $ , \n",
    "$ \\mathcal{B}_2 = \\Big \\{ \\frac{1}{\\sqrt{3}} \\begin{bmatrix} 1\\\\1\\\\1 \\end{bmatrix} \\Big \\} $ , \n",
    "\n",
    "from $ \\mathcal{B}_1 \\cup \\mathcal{B}_2 $ we got : $ P =  \\begin{bmatrix} -1/\\sqrt{2} & 1/\\sqrt{6} & 1/\\sqrt{3} \\\\ 1/\\sqrt{2} & 1/\\sqrt{6} & 1/\\sqrt{3} \\\\ 0 & -2/\\sqrt{6} & 1/\\sqrt{3} \\end{bmatrix} $\n",
    "\n",
    "from eigenvalues, we got : $ D = \\begin{bmatrix} 2&0&0 \\\\ 0&2&0 \\\\ 0&0&8 \\end{bmatrix} $"
   ]
  },
  {
   "cell_type": "markdown",
   "metadata": {},
   "source": [
    "### Example : Conic sections and quadratic forms 圓錐\n",
    "\n",
    "$ a x^2 + 2b xy + c y^2 + dx + ey + f = 0 $\n",
    "\n",
    "1. Circle / Ellipse\n",
    "2. Parabola\n",
    "3. Hyperbola\n",
    "\n",
    "判斷 該式為 橢圓 或 雙曲線 ?\n",
    "\n",
    "The associate quadratic form $ a x^2 + 2b xy + c y^2 $ 可以寫成  \n",
    "$ \\vec{v}^T A \\vec{v} = ( P v' )^T \\ A \\ ( P v' ) = (v')^T \\ P^T A P v' = (v')^T D v' = \\lambda_1(x')^2 + \\lambda_2(y')^2 $\n",
    "\n",
    "with $ v = \\begin{bmatrix} x\\\\y \\end{bmatrix} = P \\ v' = \\begin{bmatrix} x' \\\\ y' \\end{bmatrix} $,  \n",
    "\n",
    "$ A = \\begin{bmatrix} a&b\\\\b&c \\end{bmatrix} $, and $ P^T A P = D = \\begin{bmatrix} \\lambda_1 & 0 \\\\ 0 & \\lambda_2 \\end{bmatrix}$\n",
    "\n",
    "即可以方便判別 為 雙曲線:一正一負，橢圓:同為正或負"
   ]
  },
  {
   "cell_type": "markdown",
   "metadata": {},
   "source": [
    "### Example\n",
    "\n",
    "$ 2 x^2 - 4 xy + 5 y^2 - 36 = 0 $\n",
    "\n",
    "$ \\begin{bmatrix} 2&-2\\\\-2&5 \\end{bmatrix}, \\lambda_1 = 1, \\ \\ \\lambda_2 = 6 $\n",
    "\n",
    "$ P = \\frac{1}{\\sqrt{5}} \\begin{bmatrix} 2&-1\\\\1&2 \\end{bmatrix} $\n",
    "\n",
    "$ 2 x^2 - 4 xy + 5 y^2 - 36 = (x')^2 + 6 (y')^2 $"
   ]
  },
  {
   "cell_type": "markdown",
   "metadata": {},
   "source": [
    "### Theorem 6.16 : Spectral Decomposition Theorem\n",
    "\n",
    "Let $ \\{ u_1, u_2, \\cdots, u_n \\} $ be an orthonormal basis for R<sup>n</sup>  \n",
    "consisting of eigenvectors of matrix $ A_{n \\times n} $  \n",
    "with corresponding eigenvalues $ \\lambda_1, \\lambda_2, \\cdots, \\lambda_n $.  \n",
    "Then there exist symmetric matrices $ P_1, P_2, \\cdots, P_n $ such that the following results hold:\n",
    "\n",
    "- (a). $ A = \\lambda_1 P_1 + \\lambda_2 P_2 + \\cdots + \\lambda_n P_n $\n",
    "- (b). rand $ P_i = 1 $ for all i\n",
    "- (c). $ P_i P_i = P_i $ for all i, and $ P_i P_j = O \\ \\ if \\ \\ i \\ne j $\n",
    "- (d). $ P_i u_i = u_i $ for all i, and $ P_i u_j = 0 \\ \\ if \\ \\ i \\ne j $"
   ]
  },
  {
   "cell_type": "markdown",
   "metadata": {},
   "source": [
    "Proof.\n",
    "\n",
    "(a). Let $ P = [ u_1, \\cdots , u_n ] $ and $ D = diag[ \\lambda_1, \\cdots , \\lambda_n ] $\n",
    "\n",
    "$ A = P D P^T = P [ \\lambda_1 e_1, \\cdots , \\lambda_n e_n ] P^T $\n",
    "\n",
    "$ = [ \\lambda_1 P e_1, \\cdots , \\lambda_n P e_n ] P^T $\n",
    "\n",
    "$ = [ \\lambda_1 u_1, \\cdots , \\lambda_n u_n ] P^T $\n",
    "\n",
    "$ = [ \\lambda_1 u_1, \\cdots , \\lambda_n u_n ] \\begin{bmatrix} u_1^T \\\\ u_2^T \\\\ \\vdots \\\\ u_n^T \\end{bmatrix} $\n",
    "\n",
    "$ = \\lambda_1 u_1 u_1^T, \\cdots , \\lambda_n u_n u_n^T $ "
   ]
  },
  {
   "cell_type": "markdown",
   "metadata": {},
   "source": [
    "### Example\n",
    "\n",
    "$ A = \\begin{bmatrix} 3&-4\\\\-4&-3 \\end{bmatrix} $  \n",
    "has eigenvalues $ \\lambda_1 = 5, \\ \\ \\lambda_2 = -5 $\n",
    "\n",
    "And orthonormal basis consisting of eigenvectors of A is \n",
    "$ \\mathcal{B} = \\Big \\{ \\frac{1}{\\sqrt{5}} \\begin{bmatrix} -2\\\\1 \\end{bmatrix} $\n",
    "$ , \\ \\frac{1}{\\sqrt{5}} \\begin{bmatrix} 1\\\\2 \\end{bmatrix} \\Big \\} = \\{ u_1, u_2 \\}$\n",
    "\n",
    "$ P_1 = u_1 u_1^T = \\frac{1}{5} \\begin{bmatrix} 4&-2\\\\-2&1 \\end{bmatrix} $\n",
    "\n",
    "$ P_2 = u_2 u_2^T = \\frac{1}{5} \\begin{bmatrix} 1&2\\\\2&4 \\end{bmatrix} $\n",
    "\n",
    "$ \\to A = \\lambda_1 P_1 + \\lambda_2 P_2 $"
   ]
  }
 ],
 "metadata": {
  "anaconda-cloud": {},
  "kernelspec": {
   "display_name": "Python [default]",
   "language": "python",
   "name": "python3"
  },
  "language_info": {
   "codemirror_mode": {
    "name": "ipython",
    "version": 3
   },
   "file_extension": ".py",
   "mimetype": "text/x-python",
   "name": "python",
   "nbconvert_exporter": "python",
   "pygments_lexer": "ipython3",
   "version": "3.5.2"
  }
 },
 "nbformat": 4,
 "nbformat_minor": 2
}
