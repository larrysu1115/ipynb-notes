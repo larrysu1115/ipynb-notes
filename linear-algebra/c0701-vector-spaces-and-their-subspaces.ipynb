{
 "cells": [
  {
   "cell_type": "markdown",
   "metadata": {},
   "source": [
    "## Unit 7.1 : Vector Spaces and their subspaces"
   ]
  },
  {
   "cell_type": "markdown",
   "metadata": {},
   "source": [
    "### Definition : Vector Space\n",
    "\n",
    "A vector space V over a field F (可看作R) with two operations **vector addition \"+\"** and **scalar multiplication \".\" ** defined  \n",
    "so that\n",
    "\n",
    "a,b $ \\in F $ and u,v $ \\in V $, \n",
    "\n",
    "1. u + v = v + u\n",
    "2. (u + v) + w = u + (v + w)\n",
    "3. There is an element in V, denoted 0, such that u + 0 = u\n",
    "4. There exists an element, denoted -u, such that u + (-u) = 0\n",
    "5. 1 $ \\cdot $ u = u\n",
    "6. $ (ab) \\cdot u = a \\cdot (bu) $\n",
    "7. $ a \\cdot (u+v) = a \\cdot u + a \\cdot v $\n",
    "8. $ (a+b) \\cdot u = a \\cdot u + b \\cdot u $\n"
   ]
  },
  {
   "cell_type": "markdown",
   "metadata": {},
   "source": [
    "Four essential components in the definition of vector spaces\n",
    "\n",
    "1. The set of vectors: $ \\mathcal{V} $\n",
    "2. The field: $ \\mathcal{F} $\n",
    "3. Addition operator \"+\": $ \\mathcal{V} \\times \\mathcal{V} \\to \\mathcal{V} $\n",
    "4. Scalar multiplication operation \".\": $ \\mathcal{F} \\times \\mathcal{V} \\to \\mathcal{V} $"
   ]
  },
  {
   "cell_type": "markdown",
   "metadata": {},
   "source": [
    "### Definition : Function Space\n",
    "\n",
    "Given a set S, let $ \\mathcal{F}(S) = \\{ f(\\cdot) \\ \\ | \\ \\ f(t) \\in R, \\ \\forall t \\in S \\} $  \n",
    "( $ f: S \\to R $, f是將 S空間 轉換到 R空間 的 function )  \n",
    "and let there be two operations on F(S):\n",
    "\n",
    "1. $ \\forall f, g \\in F(S) $, the sum f+g satisfies $ (f+g)(t) = f(t) + g(t), \\forall t \\in S $\n",
    "2. $ \\forall f \\in F(S) $ and $ a \\in R $, the scalar multiple **af** satisfies $ (af)(t) = a \\Big( f(t) \\Big), \\ \\ \\forall t \\in S $\n",
    "\n",
    "Then F(S) is called a function space."
   ]
  },
  {
   "cell_type": "markdown",
   "metadata": {},
   "source": [
    "### Theorem 7.1\n",
    "\n",
    "F(S) is a vector space.\n",
    "\n",
    "- F(S): 集合\n",
    "- R: Field\n",
    "- Vector Space 加法\n",
    "- Vector Space 係數積乘法"
   ]
  },
  {
   "cell_type": "markdown",
   "metadata": {},
   "source": [
    "### Example\n",
    "\n",
    "For any given positive integers m and n,  \n",
    "let $ \\mathcal{M}_{m \\times n} $ denote the set of all $ m \\times n $ real matrices.  \n",
    "Then $ \\Big( \\mathcal{M}_{m \\times n}, \\ \\ \\mathcal{R}, \\ \\ +, \\ \\ \\cdot \\Big) $ is a vector space."
   ]
  },
  {
   "cell_type": "markdown",
   "metadata": {},
   "source": [
    "### Definition\n",
    "\n",
    "$ \\mathcal{L} ( \\mathcal{R}^n, \\mathcal{R}^m ) $ = { all linear transformation from R<sup>n</sup> to R<sup>m</sup> } =\n",
    "$ \\Big \\{ T \\  | \\ T : \\mathcal{R}^n \\to \\mathcal{R}^m \\Big \\} $"
   ]
  },
  {
   "cell_type": "markdown",
   "metadata": {},
   "source": [
    "### Definition\n",
    "\n",
    "$ \\mathcal{P} = $ { all polynomials in the variable x }"
   ]
  },
  {
   "cell_type": "markdown",
   "metadata": {},
   "source": [
    "### Theorem 7.2\n",
    "\n",
    "Let V be a vector space. Then for any u, v and w in V, and any scalar $ \\in F $, the following are true.\n",
    "\n",
    "- (a). If u + v = w + v, then u = w. (right cancellation law)\n",
    "- (b). If u + v = u + w, then v = w. (left  cancellation law)\n",
    "- (c). The zero vector 0 is unique, that is, it is the only vector in V that satisfies axiom 3.\n",
    "- (d). Each vector in V has exactly one additive inverse.\n",
    "- (e). $ 0 \\cdot v = 0 $\n",
    "- (f). $ a \\cdot 0 = 0 $\n",
    "- (g). $ (-1) \\cdot v = -v $\n",
    "- (h). $ (-a)  \\cdot v = a \\cdot (-v) = -(a \\cdot v) $"
   ]
  },
  {
   "cell_type": "markdown",
   "metadata": {},
   "source": [
    "Proof. (a)  \n",
    "u = u + 0 = u + (v + -v) = (u + v) -v = (w + v) - v = w + (v - v) = w\n",
    "\n",
    "Proof. (f)  \n",
    "$ a \\cdot 0 = w \\in V $  \n",
    "$ w + w = a \\cdot 0 + a \\cdot 0 = a \\cdot ( 0 + 0 ) = a \\cdot 0 = w = 0 + w $  \n",
    "$ w = 0 \\to a \\cdot 0 = 0 $"
   ]
  },
  {
   "cell_type": "markdown",
   "metadata": {},
   "source": [
    "### Definition : Subspace\n",
    "\n",
    "A subset W of a vector space V is called a subspace of V,  \n",
    "if W satisfies the following three properties.\n",
    "\n",
    "1. The zero vector of V if in W.\n",
    "2. For all u, v in W; u + v is in W.\n",
    "3. For all u in W and any scalar c; $ c \\cdot u $ is in W."
   ]
  },
  {
   "cell_type": "markdown",
   "metadata": {},
   "source": [
    "### Properties\n",
    "\n",
    "1. A subspace is itself a vector space ( 8 axioms )\n",
    "2. V is the largest subspace of a vector space V.\n",
    "3. The zero space {0} is a subspace of any vector space V."
   ]
  },
  {
   "cell_type": "markdown",
   "metadata": {},
   "source": [
    "### Example\n",
    "\n",
    "Given $ S \\ne \\emptyset $ and $ s_i \\in S, W = \\Big \\{ f(\\cdot) | f(s_0) = 0 \\Big \\} \\subseteq \\mathcal{F}(S) $ is a subspace of $ \\mathcal{F}(S) $  \n",
    "since for all $  f(\\cdot),  g(\\cdot) \\in W $ and $ a \\in R $,  \n",
    "$ (f + g)(s_0) = f(s_0) + g(s_0) = 0 + 0 = 0 $, and  \n",
    "$ (af)(s_0) = af(s_0) = a \\cdot 0 = 0 $"
   ]
  },
  {
   "cell_type": "markdown",
   "metadata": {},
   "source": [
    "### Example\n",
    "\n",
    "Define a trace of an $ n \\times n $ matrix A as  \n",
    "trace A = $ a_{11} + a_{22} + \\cdots + a_{nn} $\n",
    "\n",
    "Then,  \n",
    "$ W = \\Big \\{ A \\ | \\ trace A = 0 \\Big \\} \\subseteq R^{n \\times n} $ is a subspace of $ R^{n \\times n} $  \n",
    "since for all $ A, B \\in W $ and $ c \\in R $,\n",
    "\n",
    "trace(A + B) = trace(A) + trace(B) = 0 + 0 = 0, and  \n",
    "trace(cA) = c &middot; trace A = c &middot; 0 = 0"
   ]
  },
  {
   "cell_type": "markdown",
   "metadata": {},
   "source": [
    "### Example\n",
    "\n",
    "C(R) = { all continuous functions mapping from R to R }  \n",
    "is a subspace of F(R), since the sum of two continuous functions  \n",
    "is a continuous function, and any scalar multiple if a continuous function is a continuous function.\n",
    "\n",
    "C(R) is a vector space."
   ]
  },
  {
   "cell_type": "markdown",
   "metadata": {},
   "source": [
    "### Example\n",
    "\n",
    "$ \\mathcal{P}_n $ = { all polynomials in the variable x with degree &le; n }  \n",
    "is a subspace of $ \\mathcal{P} $ ?\n",
    "\n",
    "$ \\mathcal{P}_n $ is a vector space"
   ]
  },
  {
   "cell_type": "markdown",
   "metadata": {},
   "source": [
    "### Example\n",
    "\n",
    "$ \\mathcal{P}_n $ = { all polynomials in the variable x with degree = n }  \n",
    "\n",
    "$ \\mathcal{P}_n $ is NOT a subspace of P: zero vector not exist\n",
    "\n",
    "$ \\mathcal{P}_n $ is NOT a vector space: $ (x^2 + 1) + (-x^2 + 1) = 2 \\notin P $"
   ]
  },
  {
   "cell_type": "markdown",
   "metadata": {},
   "source": [
    "### Definition : Linear Combination\n",
    "\n",
    "A vector v is a linear combination of the vectors of a (possiblely infinite) subset S  \n",
    "of a vector space V if there exist (finite number of) vectors $ v_1, v_2, \\cdots, v_n $ in S and scalars $ c_1, c_2, \\cdots , c_n $  \n",
    "such that\n",
    "\n",
    "$ v = c_1 v_1 + c_2 v_2 + \\cdots c_n v_n $\n",
    "\n",
    "The scalars are called the coefficients of the linear combination."
   ]
  },
  {
   "cell_type": "markdown",
   "metadata": {},
   "source": [
    "### Example\n",
    "\n",
    "A linear combination in the vector space $ R^{2 \\times 2} $\n",
    "\n",
    "$ \\begin{bmatrix} -1&8\\\\2&-2 \\end{bmatrix} $ = \n",
    "2 $ \\begin{bmatrix} 1&3\\\\1&-2 \\end{bmatrix} $ +\n",
    "(-1) $ \\begin{bmatrix} 4&0\\\\1&1 \\end{bmatrix} $ +\n",
    "(1) $ \\begin{bmatrix} 1&2\\\\1&1 \\end{bmatrix} $\n",
    "\n",
    "$ \\mathcal{S} = \\Big \\{ \\begin{bmatrix} 1&3\\\\1&-2 \\end{bmatrix} $ , \n",
    " $ \\begin{bmatrix} 4&0\\\\1&1 \\end{bmatrix} $ , \n",
    " $ \\begin{bmatrix} 1&2\\\\1&1 \\end{bmatrix} \\Big \\} \\in R^{2 \\times 2} $"
   ]
  },
  {
   "cell_type": "markdown",
   "metadata": {},
   "source": [
    "### Example\n",
    "\n",
    "A linear combination in the vector space P\n",
    "\n",
    "$ f(x) = 2 + 3x - x^2 = (2)1 + (3)x + (-1)x^2 + (0)x^3 $\n",
    "\n",
    "$ S_3 = \\{ 1, x, x^2, x^3 \\} $\n",
    "$ \\to P_3 $ = the set of all linear combinations of the vector in S_3.\n",
    "\n",
    "$ S_3 = \\{ 1, x, x^2, x^3, \\cdots , x^n , \\cdots \\cdots \\cdots  \\} $\n",
    "$ \\to  $ any polynomial is a linear combination of the vector in S_3."
   ]
  },
  {
   "cell_type": "markdown",
   "metadata": {},
   "source": [
    "### Definition : Span\n",
    "\n",
    "The Span of a nonempty subset S of a vector space V is the set of all linear combinations of vectors in S.  \n",
    "This set is denoted **Span S**."
   ]
  },
  {
   "cell_type": "markdown",
   "metadata": {},
   "source": [
    "### Example\n",
    "\n",
    "Span $ \\{ 1, x, x^2, x^3 \\} = P_3 $, with Span $ \\{ 1, x, x^2, \\cdots, x^n \\} = P $"
   ]
  },
  {
   "cell_type": "markdown",
   "metadata": {},
   "source": [
    "### Example\n",
    "\n",
    "For all $ A \\in $ Span S, with\n",
    "\n",
    "A = \n",
    "a $ \\begin{bmatrix} 1&0\\\\0&-1 \\end{bmatrix} $ + \n",
    "b $ \\begin{bmatrix} 0&1\\\\0&0 \\end{bmatrix} $ + \n",
    "c $ \\begin{bmatrix} 0&0\\\\1&0 \\end{bmatrix} $ =\n",
    "b $ \\begin{bmatrix} a&b\\\\c&-a \\end{bmatrix} $\n",
    "\n",
    "Span S = { A | trace A = 0, A $ \\in R^{2 \\times 2} $ }, a subspace of $ R^{2 \\times 2} $."
   ]
  },
  {
   "cell_type": "markdown",
   "metadata": {},
   "source": [
    "### Theorem 7.3\n",
    "\n",
    "The span of a nonempty subset of a vector space V is a subspace of V."
   ]
  },
  {
   "cell_type": "markdown",
   "metadata": {},
   "source": [
    "### Example\n",
    "\n",
    "The space of trigonometric polynomials\n",
    "\n",
    "$ T[0, 2\\pi] = Span \\Big \\{ 1, \\cos t, \\sin t, \\cos 2t, \\sin 2t, \\cdots, \\cos nt, \\sin nt, \\cdots \\Big \\} $\n",
    "\n",
    "is a subspace of $ \\mathcal{F}([0, 2\\pi]) $"
   ]
  }
 ],
 "metadata": {
  "kernelspec": {
   "display_name": "Python [default]",
   "language": "python",
   "name": "python3"
  },
  "language_info": {
   "codemirror_mode": {
    "name": "ipython",
    "version": 3
   },
   "file_extension": ".py",
   "mimetype": "text/x-python",
   "name": "python",
   "nbconvert_exporter": "python",
   "pygments_lexer": "ipython3",
   "version": "3.5.2"
  }
 },
 "nbformat": 4,
 "nbformat_minor": 2
}
