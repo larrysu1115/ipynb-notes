{
 "cells": [
  {
   "cell_type": "markdown",
   "metadata": {},
   "source": [
    "## Unit 5.2 : The Characteristic Polynomial"
   ]
  },
  {
   "cell_type": "markdown",
   "metadata": {},
   "source": [
    "### Property\n",
    "\n",
    "The eigenvalues of a square matrix A are the values of t that satisfy : $ det ( A - t I_n ) = 0 $"
   ]
  },
  {
   "cell_type": "markdown",
   "metadata": {},
   "source": [
    "### Definition\n",
    "\n",
    "$ A \\in \\mathcal{R}^{n \\times n}, \\ \\ det \\ ( A - t I_n ) $ : **characteristic polynomial** of A; \n",
    "\n",
    "$ det \\ ( A - t I_n ) = 0 $ : **characteristic equation** of A; "
   ]
  },
  {
   "cell_type": "markdown",
   "metadata": {},
   "source": [
    "### Example\n",
    "\n",
    "Find eigenvalues of A:\n",
    "\n",
    "$ A = \\begin{bmatrix} -4&-3 \\\\ 3&6 \\end{bmatrix} $\n",
    "\n",
    "$ A - t I_2 = \\begin{bmatrix} -4 -t &-3 \\\\ 3&6 - t \\end{bmatrix} $\n",
    "\n",
    "**characteristic polynomial** = det $ ( A - t I_2) = (-4 -t)(6-t) - (-3) \\cdot 3 = (t+3)(t-5) $\n",
    "\n",
    "So eigenvalues of A can be -3, 5."
   ]
  },
  {
   "cell_type": "markdown",
   "metadata": {},
   "source": [
    "By solving $ (A - (-3) I_n) \\vec{x} = \\vec{0} $,  \n",
    "we get a basis $ \\{ [-3 \\ \\ 1]^T \\} $ of the eigenspace of A corresponding to the eigenvalue -3.\n",
    "\n",
    "By solving $ (A - (5) I_n) \\vec{x} = \\vec{0} $,  \n",
    "we get a basis $ \\{ [-1 \\ \\ 3]^T \\} $ of the eigenspace of A corresponding to the eigenvalue 5.\n"
   ]
  },
  {
   "cell_type": "markdown",
   "metadata": {},
   "source": [
    "### Property\n",
    "\n",
    "1. 一般來說，一個矩陣及 其RREF 的 characteristic polynomials 是不同的。所以 Elementary Row Operations 在找矩陣的 特徵多項式 時沒有用。\n",
    "2. 一個 n x n 矩陣的 characteristic polynomials 最高次項式為 n次方 (degree n)。從 det(A - t In) 的式子解開可知。\n",
    "3. 一個 upper triangular matrix 的 eigenvalues 就是它的 diagonal entries.\n"
   ]
  }
 ],
 "metadata": {
  "anaconda-cloud": {},
  "kernelspec": {
   "display_name": "Python [default]",
   "language": "python",
   "name": "python3"
  },
  "language_info": {
   "codemirror_mode": {
    "name": "ipython",
    "version": 3
   },
   "file_extension": ".py",
   "mimetype": "text/x-python",
   "name": "python",
   "nbconvert_exporter": "python",
   "pygments_lexer": "ipython3",
   "version": "3.5.2"
  }
 },
 "nbformat": 4,
 "nbformat_minor": 2
}
