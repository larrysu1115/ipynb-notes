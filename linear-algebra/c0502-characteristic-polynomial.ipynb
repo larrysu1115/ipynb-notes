{
 "cells": [
  {
   "cell_type": "markdown",
   "metadata": {},
   "source": [
    "## Unit 5.2 : The Characteristic Polynomial"
   ]
  },
  {
   "cell_type": "markdown",
   "metadata": {},
   "source": [
    "幫助算出一個矩陣的 eigenvalues\n",
    "\n",
    "思路: 如果 scalar c 是 A矩陣 的 eigenvalue, 那麼 determinant of (A - c I) 會是多少?\n",
    "\n",
    "$ A - c I_n = \\vec{0} $ 會有 nonzero 的 NULL SPACE &gt; 有 free variable &gt; nullity大於零 &gt; dimension >= 1\n",
    "\n",
    "$ (A - c I_n) \\ \\dot \\ \\vec{x} = \\vec{0} $ 有非零解，NOT INVERTIBLE，det $ (A - c I_n) $ = 0"
   ]
  },
  {
   "cell_type": "markdown",
   "metadata": {},
   "source": [
    "### Property\n",
    "\n",
    "The eigenvalues of a square matrix A are the values of t that satisfy : $ det ( A - t I_n ) = 0 $\n",
    "\n",
    "Proof:  \n",
    "$ \\exists \\vec{v} \\ne \\vec{0} $ such that $ (A - t I_n) \\ \\dot \\ \\vec{v} = \\vec{0} $  \n",
    "因為 not invertible, 所以 det $ ( A - c I_n ) $ = 0"
   ]
  },
  {
   "cell_type": "markdown",
   "metadata": {},
   "source": [
    "### Definition (for matrix)\n",
    "\n",
    "$ A \\in \\mathcal{R}^{n \\times n}, \\ \\ det \\ ( A - t I_n ) $ : **characteristic polynomial** of A; \n",
    "\n",
    "$ det \\ ( A - t I_n ) = 0 $ : **characteristic equation** of A; "
   ]
  },
  {
   "cell_type": "markdown",
   "metadata": {},
   "source": [
    "### Example\n",
    "\n",
    "Find eigenvalues of A:\n",
    "\n",
    "$ A = \\begin{bmatrix} -4&-3 \\\\ 3&6 \\end{bmatrix} $\n",
    "\n",
    "$ A - t I_2 = \\begin{bmatrix} -4 -t &-3 \\\\ 3&6 - t \\end{bmatrix} $\n",
    "\n",
    "**characteristic polynomial** = det $ ( A - t I_2) = (-4 -t)(6-t) - (-3) \\cdot 3 = (t+3)(t-5) $\n",
    "\n",
    "So eigenvalues of A can be -3, 5."
   ]
  },
  {
   "cell_type": "markdown",
   "metadata": {},
   "source": [
    "By solving $ (A - (-3) I_n) \\vec{x} = \\vec{0} $,  \n",
    "we get a basis $ \\{ [-3 \\ \\ 1]^T \\} $ of the eigenspace of A corresponding to the eigenvalue -3.\n",
    "\n",
    "By solving $ (A - (5) I_n) \\vec{x} = \\vec{0} $,  \n",
    "we get a basis $ \\{ [-1 \\ \\ 3]^T \\} $ of the eigenspace of A corresponding to the eigenvalue 5.\n"
   ]
  },
  {
   "cell_type": "markdown",
   "metadata": {},
   "source": [
    "### Property\n",
    "\n",
    "1. 一般來說，一個矩陣及 其RREF 的 characteristic polynomials 是不同的。所以 Elementary Row Operations 在找矩陣的 特徵多項式 時沒有用。\n",
    "2. 一個 n x n 矩陣的 characteristic polynomials 最高次項式為 n次方 (degree n)。從 det(A - t In) 的式子解開可知。\n",
    "3. 一個 upper triangular matrix 的 eigenvalues 就是它的 diagonal entries.\n"
   ]
  },
  {
   "cell_type": "markdown",
   "metadata": {},
   "source": [
    "Elementary row operations 無法保留 characteristic polynomials，有沒有其他的 operation 可以保留？\n",
    "\n",
    "### Property\n",
    "\n",
    "Similar matrices have the same characteristic polynomials.\n",
    "\n",
    "Proof:  \n",
    "Suppose A and B are n x n matrices that are similar, Assume $ B = P^{-1} \\ A \\ P $, where P is invertible.\n",
    "\n",
    "$ det( B - t I_n ) $  \n",
    "$ = det( P^{-1} \\ A \\ P - t P^{-1} I_n P )$  \n",
    "$ = det( P^{-1} (A - t I_n) P )$  \n",
    "$ = det( P^{-1} ) \\ det (A - t I_n) \\ det( P )$  \n",
    "$ = det( P^{-1} ) \\ det( P ) \\ det (A - t I_n)$  \n",
    "$ = det( P^{-1} \\times P ) \\ det (A - t I_n)$  \n",
    "$ = 1 \\times \\ det (A - t I_n)$  "
   ]
  },
  {
   "cell_type": "markdown",
   "metadata": {},
   "source": [
    "### Definition (for linear operator)\n",
    "\n",
    "T: linear operator on $ \\mathcal{R}^n $ with standard matrix A. \n",
    "\n",
    "$ det \\ ( A - t I_n ) $ : **characteristic polynomial** of T; \n",
    "\n",
    "$ det \\ ( A - t I_n ) = 0 $ : **characteristic equation** of T; "
   ]
  },
  {
   "cell_type": "markdown",
   "metadata": {},
   "source": [
    "大小為 $ n \\times n $ 的 matrix A，  \n",
    "有多少 eigenvalues ?  \n",
    "是否可從 characteristic polynomial 預測 eigenvalues 的數量 ?\n",
    "\n",
    "### Fact\n",
    "\n",
    "大小為 $ n \\times n $ 的 matrix A，可以有少於等於 n 個 eigenvalues. 因為:\n",
    "\n",
    "- 非實數解 ~ Complex (not real) solutions of its characteristic polynomial.\n",
    "- 重根 ~ Multiplicity of a real eigenvalue"
   ]
  },
  {
   "cell_type": "markdown",
   "metadata": {},
   "source": [
    "### Definition: (Algebraic) multiplicity\n",
    "\n",
    "If &lambda; is an eigenvalue of an $ n \\times n $ matrix M,  \n",
    "then the largest positive integer k  \n",
    "such that $ ( t - \\lambda )^k $ is a factor (因式) of the characteristic polynomial of M,  \n",
    "is called (algebraic) multiplicity of &lambda; 幾何重根數\n"
   ]
  },
  {
   "cell_type": "markdown",
   "metadata": {},
   "source": [
    "### Example\n",
    "\n",
    "$ A = \\begin{bmatrix} -1 & 0 & 0 \\\\ 0 & 1 & 2 \\\\ 0 & 2 & 1 \\end{bmatrix} $\n",
    "\n",
    "$ B = \\begin{bmatrix} 3 & 0 & 0 \\\\ 0 & 1 & 2 \\\\ 0 & 2 & 1 \\end{bmatrix} $\n",
    "\n",
    "PART 1: Find the characteristic polynomials of A and B.\n",
    "\n",
    "det (A-tI) = $ -(t-3) (t+1)^2 $ : 有 eigenvalue -1 with multiplicity 2, and eigenvalue 3 with multiplicity 1\n",
    "\n",
    "det (B-tI) = $ -(t-3)^2 (t+1) $ : 有 eigenvalue -1 with multiplicity 1, and eigenvalue 3 with multiplicity 2\n",
    "\n",
    "PART 2: Find the eigenspaces corresponding to each eigenvalues.\n",
    "\n",
    "for A, find NULL(A-3I), eigenspace 3 has a basis: { $ \\begin{bmatrix} 0 \\\\ 1 \\\\ 1 \\end{bmatrix} $ }  \n",
    "dimension=1, multiplicity=1\n",
    "\n",
    "for B, find NULL(B-3I), eigenspace 3 has a basis: { $ \\begin{bmatrix} 1 \\\\ 0 \\\\ 0 \\end{bmatrix} $, $ \\begin{bmatrix} 0 \\\\ 1 \\\\ 1 \\end{bmatrix} $ }  \n",
    "dimension=2, multiplicity=2"
   ]
  },
  {
   "cell_type": "markdown",
   "metadata": {},
   "source": [
    "### Facts &amp; Questions\n",
    "\n",
    "- The multiplicity of an eigenvalue is at least 1.\n",
    "- if multiplicity is 1, then the dimension of its eigenspace must be 1.\n",
    "- If multiplicity is k (k &gt; 1), dimension 小於或等於 k (下面的例子就小於)"
   ]
  },
  {
   "cell_type": "markdown",
   "metadata": {},
   "source": [
    "### Example\n",
    "\n",
    "$ C = \\begin{bmatrix} -1 & 0 & 0 \\\\ 0 & 3 & 1 \\\\ 0 & 0 & 3 \\end{bmatrix} $\n",
    "\n",
    "PART 1: Find the characteristic polynomials of C.\n",
    "\n",
    "det (C-tI) = $ -(t+1) (t-3)^2 $ : 有 eigenvalue -1 with multiplicity 1, and eigenvalue 3 with multiplicity 2\n",
    "\n",
    "PART 2: Find the eigenspaces corresponding to each eigenvalues.\n",
    "\n",
    "find NULL(C-3I), eigenspace 3 has a basis: { $ \\begin{bmatrix} 0 \\\\ 1 \\\\ 0 \\end{bmatrix} $ }  \n",
    "dimension=1, multiplicity=2"
   ]
  },
  {
   "cell_type": "markdown",
   "metadata": {},
   "source": [
    "### Definition\n",
    "\n",
    "The dimension of the eigenspace corresponding to the eigenvalue &lambda; is called the **geometric multiplicity** of &lambda;."
   ]
  },
  {
   "cell_type": "markdown",
   "metadata": {},
   "source": [
    "### Theorem 5.1\n",
    "\n",
    "Let &lambda; be an eigenvalue of a matrix A. The **dimension of the eigenspace** (geo. multiplicity) of A  \n",
    "corresponding to &lambda; is less than or equal to the multiplicity of A."
   ]
  }
 ],
 "metadata": {
  "anaconda-cloud": {},
  "kernelspec": {
   "display_name": "Python [default]",
   "language": "python",
   "name": "python3"
  },
  "language_info": {
   "codemirror_mode": {
    "name": "ipython",
    "version": 3
   },
   "file_extension": ".py",
   "mimetype": "text/x-python",
   "name": "python",
   "nbconvert_exporter": "python",
   "pygments_lexer": "ipython3",
   "version": "3.5.2"
  }
 },
 "nbformat": 4,
 "nbformat_minor": 2
}
