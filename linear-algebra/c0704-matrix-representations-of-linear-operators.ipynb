{
 "cells": [
  {
   "cell_type": "markdown",
   "metadata": {},
   "source": [
    "## Unit 7.4 Matrix Representations of Linear Operators"
   ]
  },
  {
   "cell_type": "markdown",
   "metadata": {},
   "source": [
    "### Definition\n",
    "\n",
    "Let V be a finite-dimensional vector space and B be a basis of V.  \n",
    "For any vector v in V, the vector $ \\Phi_{B}(v) $ is called the **coordinate vector** of v relative to B and is denoted as $ [v]_B $\n",
    "\n",
    "$ \\Phi_{\\mathcal{B}} : V \\to R^n $ defined as\n",
    "\n",
    "$ \\Phi_{\\mathcal{B}} ( c_1 v_1 + c_2 v_2 + \\cdots + c_n v_n ) = \\begin{bmatrix} c_1 \\\\ c_2 \\\\ \\vdots \\\\ c_n \\end{bmatrix} $\n"
   ]
  },
  {
   "cell_type": "markdown",
   "metadata": {},
   "source": [
    "### Property\n",
    "\n",
    "$ [u + v]_B = [u]_B + [v]_B $ and $ [cu]_B = c[u]_B, \\forall u,v \\in V $ and scalar c\n",
    "\n",
    "$ [v]_B $ is ONTO, One-to-One, isomorphism, linear transformation"
   ]
  },
  {
   "cell_type": "markdown",
   "metadata": {},
   "source": [
    "### Example\n",
    "\n",
    "Let V = Span B, where B = { $ e^t \\cos t, e^t \\sin t $ } is L.I. and thus a basis of V.\n",
    "\n",
    "dimension of V = 2\n",
    "\n",
    "Consider the function $ v = e^t \\cos(t - \\frac{\\pi}{4}) $.  \n",
    "Is v in V ? YES : $ v = \\frac{1}{\\sqrt{2}} e^t ( \\cos t + \\sin t ) = \\frac{1}{\\sqrt{2}} e^t \\cos t + \\frac{1}{\\sqrt{2}} e^t \\sin t $\n",
    "\n",
    "In addition, $ [v]_B = \\begin{bmatrix} \\frac{1}{\\sqrt{2}} \\\\ \\frac{1}{\\sqrt{2}} \\end{bmatrix} $"
   ]
  },
  {
   "cell_type": "markdown",
   "metadata": {},
   "source": [
    "Note: Trigonometric - Angle Sum and Difference Identities :  \n",
    "$ \\sin(A \\pm B) = \\sin A \\cos B \\pm \\cos A \\sin B $  \n",
    "$ \\cos(A \\pm B) = \\cos A \\cos B \\mp \\sin A \\sin B $"
   ]
  },
  {
   "cell_type": "markdown",
   "metadata": {},
   "source": [
    "### Note\n",
    "\n",
    "In this course, only consider a simpler case where T is a linear operator $ T: V \\to W $  \n",
    "(i.e., the domain and the codomain are the same vector space)."
   ]
  },
  {
   "cell_type": "markdown",
   "metadata": {},
   "source": [
    "### Def\n",
    "\n",
    "Let $ T: V \\to W $ be a linear operator on an n-dimensional vector space V with a basis B.  \n",
    "\n",
    "Define the linear operator $ \\Phi_B \\ \\ T \\ \\ (\\Phi_B)^{-1} : R^n \\to R^n $,\n",
    "\n",
    "and consider its standard matrix A, called the **matrix representation of T with respect to B** and denoted $ [T]_B $\n",
    "\n",
    "With the notations, $ [T]_B = A $ and $ T_A = \\Phi_B \\ \\ T \\ \\ (\\Phi_B)^{-1} $,\n",
    "\n",
    "<img src=\"./assets/c0704-a.jpg\" style=\"width:400px;\" />\n"
   ]
  },
  {
   "cell_type": "markdown",
   "metadata": {},
   "source": [
    "$ \\Phi_B $ : 是將 V vector space 中的 element 轉換成 R<sup>n</sup> 空間 的向量。\n",
    "\n",
    "$ \\Phi_B^{-1} $ : 是將 R<sup>n</sup> 空間 的向量 轉換回到 V vector space 中的 element。"
   ]
  },
  {
   "cell_type": "markdown",
   "metadata": {},
   "source": [
    "### Question\n",
    "\n",
    "How to express $ [T]_B $ in terms of T and basis: $ b_1, b_2, \\cdots, b_n $ ?"
   ]
  },
  {
   "cell_type": "markdown",
   "metadata": {},
   "source": [
    "### Property\n",
    "\n",
    "If B = { $ v_1, v_2, \\cdots, v_n $ },\n",
    "\n",
    "then $ [T]_B = \\Big[ \\ [T(v_1)]_B \\ \\ [T(v_2)]_B \\ \\ \\cdots \\ \\ [T(v_n)]_B \\  \\Big] $"
   ]
  },
  {
   "cell_type": "markdown",
   "metadata": {},
   "source": [
    "Proof\n",
    "\n",
    "$ [T]_B = A \\to A e_j = T_A(e_j) = \\Phi_B \\ T \\ (\\Phi_B)^{-1} \\ (e_j) = \\Phi_B T (v_j) = [ T(v_j) ]_B $"
   ]
  },
  {
   "cell_type": "markdown",
   "metadata": {},
   "source": [
    "### Example\n",
    "\n",
    "Let $ T: \\mathcal{P}_2 \\to \\mathcal{P}_2 $ be defined by $ T\\Big( p(x) \\Big) = p(0) + 3p(1) \\ x + p(2) \\ x^2, \\forall p(x) \\in \\mathcal{P}_2 $  \n",
    "Then T is linear.\n",
    "\n",
    "Question: What is the matrix resentation of T ?\n",
    "\n",
    "不知道 p(x) 是什麼，但知道 p(x) 是 Span of B = $ \\{ 1, x, x^2 \\} $\n",
    "\n",
    "For basis of $ \\mathcal{P}_2 = \\mathcal{B} = \\{ 1, x, x^2 \\} = $\n",
    "$ \\begin{Bmatrix} p_1(x)=1, & p_2(x)=x, & p_3(x)=x^2 \\end{Bmatrix} $\n",
    "\n",
    "$ \\Phi_B \\big( c_1 x^0 + c_2 x^1 + c_3 x^2 \\big) = \\begin{bmatrix} c_1\\\\c_2\\\\c_3 \\end{bmatrix} $\n",
    "\n",
    "$ \\begin{Bmatrix} \\Phi_B \\big( p_1(x) \\big), & \\Phi_B \\big( p_2(x) \\big), & \\Phi_B \\big( p_3(x) \\big) \\end{Bmatrix} $\n",
    "\n",
    "$ = \\begin{Bmatrix} \\Phi_B \\big( 1 x^0 \\big), & \\Phi_B \\big( 1x \\big), & \\Phi_B \\big( 1x^2 \\big) \\end{Bmatrix} $\n",
    "\n",
    "$ = \\Big\\{ \\begin{bmatrix} 1\\\\0\\\\0 \\end{bmatrix} $ , \n",
    "$ \\begin{bmatrix} 0\\\\1\\\\0 \\end{bmatrix} $ , \n",
    "$ \\begin{bmatrix} 0\\\\0\\\\1 \\end{bmatrix} \\Big\\} $\n",
    "\n",
    "$ [T]_{\\mathcal{B}} = A_{3 \\times 3} = [ \\vec{a_1} \\ \\ \\vec{a_2} \\ \\ \\vec{a_3} ] = \\Big[ \\ [T(v_1)]_B \\ \\ [T(v_2)]_B \\ \\ \\cdots \\ \\ [T(v_n)]_B \\  \\Big]$"
   ]
  },
  {
   "cell_type": "markdown",
   "metadata": {},
   "source": []
  },
  {
   "cell_type": "markdown",
   "metadata": {},
   "source": [
    "#### Find $ a_1 $ \n",
    "\n",
    "$ p_1(x) = 1 $\n",
    "\n",
    "$ a_1 = \\Big[ T\\Big( \\vec{v_1} \\Big) \\Big]_B = \\Big[ T\\Big( p_1(x) \\Big) \\Big]_B $ \n",
    "\n",
    "$ = [ T(1) ]_B = \\Big[ 1 + 3x + 1 x^2 \\Big]_B = $\n",
    "$ \\begin{bmatrix} 1\\\\3\\\\1 \\end{bmatrix} $"
   ]
  },
  {
   "cell_type": "markdown",
   "metadata": {},
   "source": [
    "Find $ a_2 \\to p_2(x) = x, a_2 = \\Big[ T\\Big( p_2(x) \\Big) \\Big]_B = [ T(x) ]_B = \\Big[ 0 + 3x + 2 x^2 \\Big]_B = $\n",
    "$ \\begin{bmatrix} 0\\\\3\\\\2 \\end{bmatrix} $  \n",
    "$ p_2(x) = x \\to p_2(0) = 0, 3 p_2(1) = 3, p_2(2) = 2 $\n",
    "\n",
    "Find $ a_3 \\to p_3(x) = x^2, a_3 = \\Big[ T\\Big( p_3(x) \\Big) \\Big]_B = [ T(x^2) ]_B = \\Big[ 0 + 3x + 4 x^2 \\Big]_B = $\n",
    "$ \\begin{bmatrix} 0\\\\3\\\\4 \\end{bmatrix} $  \n",
    "$ p_3(x) = x^2 \\to p_3(0) = 0, 3 p_3(1) = 3, p_3(2) = 4 $"
   ]
  },
  {
   "cell_type": "markdown",
   "metadata": {},
   "source": [
    "$ [T]_B = \\begin{bmatrix} a_1 & a_2 & a_3 \\end{bmatrix} = $\n",
    "$ \\begin{bmatrix} 1&0&0 \\\\ 3&3&3 \\\\ 1&2&4 \\end{bmatrix} $"
   ]
  },
  {
   "cell_type": "markdown",
   "metadata": {},
   "source": [
    "### Example\n",
    "\n",
    "在這個例子中，求得 linear transformation 矩陣表示。  \n",
    "演示可以透過兩種方式計算微分:  \n",
    "\n",
    "1. 微積分運算  \n",
    "2. 矩陣運算\n",
    "\n",
    "\n",
    "Let V = Span B, where B = $ \\big\\{ e^t \\cos t, \\ e^t \\sin t \\big\\} $ is L.I. and thus a basis of V,\n",
    "\n",
    "and the linear operator $ D: V \\to V $ be defined by $ D(f) = f' \\forall f \\in V $. Then\n",
    "\n",
    "$ D( \\ e^t \\cos t \\ ) = (1) e^t \\cos t + (-1) e^t \\sin t $\n",
    "\n",
    "$ D( \\ e^t \\sin t \\ ) = (1) e^t \\cos t + (1) e^t \\sin t $\n",
    "\n",
    "$ \\to [D]_B = \\begin{bmatrix} 1&1 \\\\ -1&1 \\end{bmatrix} $\n",
    "\n",
    "若 $ f = e^t \\cos( t - \\frac{\\pi}{4} ) $,\n",
    "\n",
    "Note: Trigonometric - Angle Sum and Difference Identities :  \n",
    "$ \\sin(A \\pm B) = \\sin A \\cos B \\pm \\cos A \\sin B $  \n",
    "$ \\cos(A \\pm B) = \\cos A \\cos B \\mp \\sin A \\sin B $\n",
    "\n",
    "拆解可得 $ f = e^t \\cos( t - \\frac{\\pi}{4} ) = \\frac{e^t}{\\sqrt{2}} \\cos t + \\frac{e^t}{\\sqrt{2}} \\sin t \\in V $\n",
    "\n",
    "$ [f]_B = \\begin{bmatrix} \\frac{1}{\\sqrt{2}} \\\\ \\frac{1}{\\sqrt{2}} \\end{bmatrix} $\n",
    "\n",
    "以微分計算 f':\n",
    "\n",
    "f' = $ \\big[ e^t \\cos( t - \\frac{\\pi}{4} ) \\big]' $  \n",
    "$ = e^t \\cos( t - \\frac{\\pi}{4} ) + (-1) e^t \\sin( t - \\frac{\\pi}{4} ) $  \n",
    "$ = e^t \\big( \\cos( t - \\frac{\\pi}{4} ) - \\sin( t - \\frac{\\pi}{4} ) \\big) $  \n",
    "$ = \\sqrt{2} e^t \\cos t $\n",
    "\n",
    "$ [f']_B = \\begin{bmatrix} \\sqrt{2} \\\\ 0 \\end{bmatrix} $"
   ]
  },
  {
   "cell_type": "markdown",
   "metadata": {},
   "source": [
    "$ [D]_B \\ [f]_B = [f']_B $\n",
    "\n",
    "$ \\begin{bmatrix} 1&1 \\\\ -1&1 \\end{bmatrix} $ \n",
    "$ \\begin{bmatrix} \\frac{1}{\\sqrt{2}} \\\\ \\frac{1}{\\sqrt{2}} \\end{bmatrix} = $ \n",
    "$ \\begin{bmatrix} \\sqrt{2} \\\\ 0 \\end{bmatrix} $"
   ]
  },
  {
   "cell_type": "markdown",
   "metadata": {},
   "source": [
    "### Theorem 7.10\n",
    "\n",
    "Let T be a linear operator on a finite-dimensional vector space V with basis B.  \n",
    "Then for any vector v in V,\n",
    "\n",
    "$ \\big[ T(v) \\big]_B = \\big[ T \\big]_B \\ \\big[ v \\big]_B $"
   ]
  },
  {
   "cell_type": "markdown",
   "metadata": {},
   "source": [
    "Proof\n",
    "\n",
    "$ \\big[ T(v) \\big]_B = \\Phi_B T(v) $\n",
    "\n",
    "$ = \\Phi_B \\ \\ T \\ \\  \\big( \\Phi_B \\big)^{-1} \\ \\ \\Phi_B(v) $\n",
    "\n",
    "$ = T_A([v]_B) = [T]_B \\ [v]_B $, where A = $ [T]_B $"
   ]
  },
  {
   "cell_type": "markdown",
   "metadata": {},
   "source": [
    "### Example\n",
    "\n",
    "Relative to the basis $ \\mathcal{B} = \\big \\{ 1, x, x^2 \\big \\} $ of $ \\mathcal{P}_2 $,  \n",
    "the coordinate vector of $ p(x) = 5 - 4x + 3x^2 $ is $ \\big [ p(x) \\big ]_B = \\begin{bmatrix} 5\\\\-4\\\\3 \\end{bmatrix} $.\n",
    "\n",
    "Then $ \\big [ p'(x) \\big ]_B = \\Big [ D \\big ( p(x) \\big ) \\Big ]_B = [D]_B \\ [p(x)]_B $,  \n",
    "\n",
    "where $ D: \\mathcal{P}_2 \\to \\mathcal{P}_2 $ is defined by $ D \\big ( p(x) \\big ) = p'(x)$, and\n",
    "\n",
    "$ D(1) = 0 + 0x + 0x^2 $  \n",
    "$ D(x) = 1 + 0x + 0x^2 $  \n",
    "$ D(x^2) = 0 + 2x + 0x^2 $\n",
    "\n",
    "$ [D]_B = \\begin{bmatrix} 0&1&0\\\\0&0&2\\\\0&0&0 \\end{bmatrix} $\n",
    "\n",
    "$ \\big[ p'(x) \\big]_B = \\begin{bmatrix} 0&1&0\\\\0&0&2\\\\0&0&0 \\end{bmatrix} $\n",
    "$ \\begin{bmatrix} 5\\\\-4\\\\3 \\end{bmatrix} = $\n",
    "$ \\begin{bmatrix} -4\\\\6\\\\0 \\end{bmatrix} $"
   ]
  },
  {
   "cell_type": "markdown",
   "metadata": {},
   "source": [
    "### The Matrix Representation of the Inverse of an Invertible Linear Operator\n",
    "\n",
    "Let T be a linear operator on a finite-dimensional vector space V with basis B  \n",
    "and let A = $ [T]_B $ Then the following statements are true.\n",
    "\n",
    "- (a). T is invertible iff A is invertible.\n",
    "- (b). If T is invertible, then $ [T^{-1}]_B = A^{-1} $"
   ]
  },
  {
   "cell_type": "markdown",
   "metadata": {},
   "source": [
    "proof......"
   ]
  },
  {
   "cell_type": "markdown",
   "metadata": {},
   "source": [
    "### Example\n",
    "\n",
    "In the vector space V with a basis B = $ \\big\\{ e^t \\cos t, \\ e^t \\sin t \\big\\} $\n",
    "\n",
    "and a linear operator $ D: V \\to V $ defined by $ D(f) = f' \\forall f \\in V $.\n",
    "\n",
    "We know $ [D]_B = \\begin{bmatrix} 1&1 \\\\ -1&1 \\end{bmatrix} $"
   ]
  },
  {
   "cell_type": "markdown",
   "metadata": {},
   "source": [
    "So an anti-derivative of ($ e^t \\sin t $) is $ D^{-1}(e^t \\sin t) $\n",
    "\n",
    "Since  \n",
    "$ \\big[ D^{-1} \\big]_B = \\big( [D]_B \\big)^{-1} $  \n",
    "and  \n",
    "$ \\big[ e^t \\sin t \\big]_B = \\begin{bmatrix} 0\\\\1 \\end{bmatrix} $\n",
    "\n",
    "$ \\big[ D^{-1} (e^t \\sin t) \\big]_B = $\n",
    "$ \\begin{bmatrix} \\frac{1}{2} & -\\frac{1}{2} \\\\ \\frac{1}{2} & \\frac{1}{2} \\end{bmatrix} \\ $\n",
    "$ \\begin{bmatrix} 0\\\\1 \\end{bmatrix} = $\n",
    "$ \\begin{bmatrix} -\\frac{1}{2} \\\\ \\frac{1}{2} \\end{bmatrix} $\n",
    "\n",
    "$ D^{-1} \\big( e^t \\sin t \\big) = -( e^t \\cos t) / 2 + ( e^t \\sin t) / 2 $"
   ]
  },
  {
   "cell_type": "markdown",
   "metadata": {},
   "source": [
    "### Definition : eigenvector, eigenvalue\n",
    "\n",
    "For a linear operator T on a vector space V (over a field F),  \n",
    "a nonzero vector v in V is said to be an **eigenvector** of T corresponding to the **eigenvalue** $ \\lambda $  \n",
    "if there is a scalar $ \\lambda \\in F $ such that $ T(v)= \\lambda v $.  \n",
    "For an eigenvalue $ \\lambda $ of T, the set of all vectors $ v \\in V $ satisfying $ T(v)= \\lambda v $ is the **eigenspace** of T corresponding to $ \\lambda $"
   ]
  },
  {
   "cell_type": "markdown",
   "metadata": {},
   "source": [
    "### Example\n",
    "\n",
    "For linear operator $ D: C^{\\infty} \\to C^{\\infty} $ defined by D(f) = f' with  \n",
    "$ C^{\\infty} = \\big \\{ \\ f \\ \\big | \\ f: R \\to R $, f has derivatives of all order $ \\big \\} $,  \n",
    "it has an eigenvector $ e^{\\lambda t} \\in C^{\\infty} $ corresponding to the eigenvalue $ \\lambda $,  \n",
    "since $ D(f)(t) = ( e^{\\lambda t} )' = \\lambda e^{\\lambda t} = \\lambda f(t) $\n",
    "\n",
    "&Rightarrow; Any scalar &lambda; is an eigenvalue of D.\n",
    "\n",
    "&Rightarrow; D has infinitely many eigenvalues."
   ]
  },
  {
   "cell_type": "markdown",
   "metadata": {},
   "source": [
    "### Example\n",
    "\n",
    "f is a solution of y'' + 4y = 0 $ \\to f \\in C^{\\infty} $,  \n",
    "since f must be twice-differentiable and f'' = -4f,  \n",
    "which imply that the forth derivative of f exists ( f'''' = -4 f'' ), and so on.\n",
    "\n",
    "$ \\to f \\ne 0 $ is an eigenvector of $ D^2: C^{\\infty} \\to C^{\\infty} $ corresponding to the eigenvalue -4\n",
    "\n",
    "$ \\to f \\in $ eigenspace of $ D^2 $ corresponding to the eigenvalue -4\n",
    "\n",
    "eigenspace: null space of (A - &lambda; I)\n",
    "\n",
    "Clearly, every vector in the eigenspace of $ D^2 $ corresponding to the eigenvalue -4 is a solution of y''+ 4y = 0"
   ]
  },
  {
   "cell_type": "markdown",
   "metadata": {},
   "source": [
    "### Example\n",
    "\n",
    "$ U: R^{n \\times n} \\to R^{n \\times n} $ defined by $ U(A) = A^T $ is an isomorphism.  \n",
    "The eigenspace of U corresponding to the eigenvalue 1 is  \n",
    "the set of $ A \\in R^{n \\times n} $ such that $ U(A) = A^T = A $,  \n",
    "i.e., the set of symmetric matrices:\n",
    "\n",
    "$ \\begin{bmatrix} a&b\\\\b&c \\end{bmatrix} $\n",
    "\n",
    "The eigenspace of U corresponding to the eigenvalue -1 is  \n",
    "the set of $ A \\in R^{n \\times n} $ such that $ U(A) = A^T = -A $,\n",
    "i.e., the set of skew-symmetric matrices.\n",
    "\n",
    "$ \\begin{bmatrix} 0&b\\\\-b&0 \\end{bmatrix} $\n",
    "\n",
    "U only has eigenvalues 1 and -1, since $ U(A) = A^T = \\lambda A $  \n",
    "implies $ A = (A^T)^T = ( \\lambda A )^T = \\lambda A^T = \\lambda ( \\lambda A ) = \\lambda^2 A $"
   ]
  },
  {
   "cell_type": "markdown",
   "metadata": {},
   "source": [
    "### Eigenvalues and Eigenvectors of a Matrix Representation of a Linear Operator"
   ]
  },
  {
   "cell_type": "markdown",
   "metadata": {},
   "source": [
    "Let T be a linear operator on a finite-dimensional vector space V with basis B  \n",
    "and let $ A = [T]_B $. Then a vector v in V is an eigenvector of T with corresponding eigenvalue &lambda;  \n",
    "iff. $ [v]_B $ is an eigenvector of A with corresponding eigenvalue &lambda;."
   ]
  },
  {
   "cell_type": "markdown",
   "metadata": {},
   "source": [
    "$ T(\\vec{v}) = \\lambda \\vec{v} \\iff A \\ [v]_B = \\lambda [v]_B $"
   ]
  },
  {
   "cell_type": "markdown",
   "metadata": {},
   "source": [
    "proof......"
   ]
  },
  {
   "cell_type": "markdown",
   "metadata": {},
   "source": [
    "### Example\n",
    "\n",
    "Let $ T: \\mathcal{P}_2 \\to \\mathcal{P}_2 $ be defined by $ T\\Big( p(x) \\Big) = p(0) + 3p(1) \\ x + p(2) \\ x^2, \\forall p(x) \\in \\mathcal{P}_2 $  \n",
    "Then T is linear, and\n",
    "\n",
    "$ [T]_B = \\begin{bmatrix} 1&0&0 \\\\ 3&3&3 \\\\ 1&2&4 \\end{bmatrix} $\n",
    "\n",
    "where $ \\mathcal{B} = \\{ 1, x, x^2 \\} $ is a basis of $ \\mathcal{P}_2 $"
   ]
  },
  {
   "cell_type": "markdown",
   "metadata": {},
   "source": [
    "The characteristic polynomial of A is $ -(t-1)^2 \\ (t-6) $\n",
    "\n",
    "Span $ \\big \\{ \\begin{bmatrix} 0\\\\-3\\\\2 \\end{bmatrix} \\big \\} $ is the eigenspace of A corresponding to the eigenvalue 1\n",
    "\n",
    "$ \\to a p(x) $ with $ a \\ne 0 $ and $ p(x) = -3x + 2x^2 $ is an eigenvector of T corresponding to the eigenvalue 1.\n",
    "\n",
    "亦即將 eigenvector $ p(x) = -3x + 2x^2 $ 代入 $ T \\big( p(x) \\big) $ 中，可得到同樣的式子，因為 &lambda; = 1\n",
    "\n",
    "$ T \\big( p(x) \\big) = \\lambda \\ p(x)$"
   ]
  },
  {
   "cell_type": "markdown",
   "metadata": {},
   "source": [
    "Span $ \\big \\{ \\begin{bmatrix} 0\\\\1\\\\1 \\end{bmatrix} \\big \\} $ is the eigenspace of A corresponding to the eigenvalue 6\n",
    "\n",
    "$ \\to b q(x) $ with $ b \\ne 0 $ and $ q(x) = x + x^2 $ is an eigenvector of T corresponding to the eigenvalue 6.\n",
    "\n",
    "$ T \\big( q(x) \\big) = 6 \\ q(x)$"
   ]
  },
  {
   "cell_type": "markdown",
   "metadata": {},
   "source": [
    "### Example\n",
    "\n",
    "$ U: R^{2 \\times 2} \\to R^{2 \\times 2} $ defined by $ U(A) = A^T $ is an isomorphism and only has eigenvalues 1 and -1.\n",
    "\n",
    "Let a basis of $ R^{2 \\times 2} $ be\n",
    "\n",
    "$ \\mathcal{B} = \\Big \\{ $\n",
    "$ \\begin{bmatrix} 1&0\\\\0&0 \\end{bmatrix} $ , \n",
    "$ \\begin{bmatrix} 0&1\\\\0&0 \\end{bmatrix} $ , \n",
    "$ \\begin{bmatrix} 0&0\\\\1&0 \\end{bmatrix} $ , \n",
    "$ \\begin{bmatrix} 0&0\\\\0&1 \\end{bmatrix} \\Big \\} $\n",
    "\n",
    "$ U \\Big( \\begin{bmatrix} 1&0\\\\0&0 \\end{bmatrix} \\Big) = $\n",
    "$ \\begin{bmatrix} 1&0\\\\0&0 \\end{bmatrix} $\n",
    "\n",
    "$ \\Phi_B \\Big( c_1 \\begin{bmatrix} 1&0\\\\0&0 \\end{bmatrix} + $\n",
    "$ c_2 \\begin{bmatrix} 0&1\\\\0&0 \\end{bmatrix} + $\n",
    "$ c_3 \\begin{bmatrix} 0&0\\\\1&0 \\end{bmatrix} + $\n",
    "$ c_4 \\begin{bmatrix} 0&0\\\\0&1 \\end{bmatrix} $\n",
    "$ \\Big) = \\begin{bmatrix} c_1\\\\c_2\\\\c_3\\\\c_4 \\end{bmatrix} $\n",
    "\n",
    "$ U \\Big[ b_1 \\Big]_B = $\n",
    "$ U \\Big[ \\begin{bmatrix} 1&0\\\\0&0 \\end{bmatrix} \\Big]_B = $\n",
    "$ \\begin{bmatrix} 1\\\\0\\\\0\\\\0 \\end{bmatrix} $\n",
    "\n",
    "$ \\to [U]_B = \\begin{bmatrix} 1&0&0&0\\\\0&0&1&0\\\\0&1&0&0\\\\0&0&0&1 \\end{bmatrix} $\n",
    "\n",
    "The characteristic polynomial of $ [U]_B $ is $ (t - 1)^3(t+1) $, for which indeed the only roots are 1 and -1."
   ]
  }
 ],
 "metadata": {
  "kernelspec": {
   "display_name": "Python [default]",
   "language": "python",
   "name": "python3"
  },
  "language_info": {
   "codemirror_mode": {
    "name": "ipython",
    "version": 3
   },
   "file_extension": ".py",
   "mimetype": "text/x-python",
   "name": "python",
   "nbconvert_exporter": "python",
   "pygments_lexer": "ipython3",
   "version": "3.5.2"
  }
 },
 "nbformat": 4,
 "nbformat_minor": 2
}
