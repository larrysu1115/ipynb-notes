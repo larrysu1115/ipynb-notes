{
 "cells": [
  {
   "cell_type": "markdown",
   "metadata": {},
   "source": [
    "## Unit 4.2 Basis and Dimension\n",
    "\n",
    "### Definition: Basis\n",
    "\n",
    "Let V be a nonzero subspace of $ R^n $. A basis for V is a **linearly independent generating set** for V.\n",
    "\n",
    "Example: the **standard basis** $ \\{ e_1, e_2, \\cdots, e_n \\} \\ of \\ \\  R^n $.\n",
    "\n",
    "> The pivot columns of a matrix form a basis for its column space.\n",
    "\n",
    "Example:\n",
    "\n",
    "$ A = \\begin{bmatrix} 1 & 2 & -1 & 2 & 1 & 2 \\\\ -1 & -2 & 1 & 2 & 3 & 6 \\\\ 2 & 4 & -3 & 2 & 0 & 3 \\\\ -3 & -6 & 2 & 0 & 3 & 9 \\end{bmatrix} $\n",
    "\n",
    "$ A_{RREF} = \\begin{bmatrix} 1 & 2 & 0 & 0 & -1 & -5 \\\\ 0 & 0 & 1 & 0 & 0 & -3 \\\\ 0 & 0 & 0 & 1 & 1 & 2 \\\\ 0 & 0 & 0 & 0 & 0 & 0 \\end{bmatrix} $\n",
    "\n",
    "pivot columns = $ \\vec{a_1}, \\vec{a_3}, \\vec{a_4} $\n",
    "\n",
    "Col A = Span $ \\left \\{ \\ \\ \\begin{bmatrix} 1 \\\\ -1 \\\\ 2 \\\\ -3 \\end{bmatrix} \\ \\ \\begin{bmatrix} -1 \\\\ 1 \\\\ -3 \\\\ 2 \\end{bmatrix} \\ \\ \\begin{bmatrix} 2 \\\\ 2 \\\\ 2 \\\\ 0 \\end{bmatrix} \\ \\ \\right \\} $"
   ]
  },
  {
   "cell_type": "markdown",
   "metadata": {},
   "source": [
    "### Theorem 4.3 - Reduction Theorem\n",
    "\n",
    "Let _S_ be a finite generating set for a nonzero subspace _V_ of $ R^n $. Then _S_ can be reduced to a basis for _V_ by removing vectors from _S_.\n",
    "\n",
    "Corollary 1: If S is a finite generating set of $ R^n $, then S has a subset forming a basis of $ R^n $\n",
    "\n",
    "Corollary 2: Any generating set, and hence every basis, of $ R^n $ must **contains at least n vectors**.\n",
    "\n",
    "Every basis of $ R^n $ contains exactly n vectors.\n",
    "\n",
    "### Theorem 4.4 - Extension Theorem\n",
    "\n",
    "Let _S_ be a linearly independent subset of a nonzero subspace V of $ R^n $. Then _S_ can be extended to a basis of _V_ by inclusion of additional vectors. In particular, every nonzero subspace has a basis.\n",
    "\n",
    "### Theorem 4.5 -\n",
    "\n",
    "Let _V_ be a nonzero subspace of $ R^n $. Then any two basis of V contains the same number of vectors.\n",
    "\n",
    "### Definition : Dimension\n",
    "\n",
    "The number of vectors in a basis for a subspace _V_ of $ R^n $ is called the **dimension** of _V_ and is denoted **dim V**. Also, dim {0} = 0.\n",
    "\n",
    "> A basis is :\n",
    "\n",
    "> a generating set for a subspace with the fewest possible vectors.\n",
    "\n",
    "> a L.I. subset of a subspace that is as large as possible.\n"
   ]
  }
 ],
 "metadata": {
  "anaconda-cloud": {},
  "kernelspec": {
   "display_name": "Python [default]",
   "language": "python",
   "name": "python3"
  },
  "language_info": {
   "codemirror_mode": {
    "name": "ipython",
    "version": 3
   },
   "file_extension": ".py",
   "mimetype": "text/x-python",
   "name": "python",
   "nbconvert_exporter": "python",
   "pygments_lexer": "ipython3",
   "version": "3.5.2"
  }
 },
 "nbformat": 4,
 "nbformat_minor": 2
}
