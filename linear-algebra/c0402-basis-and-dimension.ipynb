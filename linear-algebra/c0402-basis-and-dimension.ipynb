{
 "cells": [
  {
   "cell_type": "markdown",
   "metadata": {},
   "source": [
    "## Unit 4.2 Basis and Dimension\n",
    "\n",
    "### Definition: Basis\n",
    "\n",
    "Let V be a nonzero subspace of $ R^n $. A basis for V is a **linearly independent generating set** for V.\n",
    "\n",
    "Example: the **standard basis** $ \\{ e_1, e_2, \\cdots, e_n \\} \\ of \\ \\  R^n $.\n",
    "\n",
    "> The pivot columns of a matrix form a basis for its column space.\n"
   ]
  }
 ],
 "metadata": {
  "anaconda-cloud": {},
  "kernelspec": {
   "display_name": "Python [default]",
   "language": "python",
   "name": "python3"
  },
  "language_info": {
   "codemirror_mode": {
    "name": "ipython",
    "version": 3
   },
   "file_extension": ".py",
   "mimetype": "text/x-python",
   "name": "python",
   "nbconvert_exporter": "python",
   "pygments_lexer": "ipython3",
   "version": "3.5.2"
  }
 },
 "nbformat": 4,
 "nbformat_minor": 2
}
