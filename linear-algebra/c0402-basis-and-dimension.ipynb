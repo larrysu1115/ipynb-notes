{
 "cells": [
  {
   "cell_type": "markdown",
   "metadata": {},
   "source": [
    "## Unit 4.2 Basis and Dimension\n",
    "\n",
    "### Definition: Basis\n",
    "\n",
    "Let V be a nonzero subspace of $ R^n $. A basis for V is a **linearly independent generating set** for V.\n",
    "\n",
    "Example: the **standard basis** $ \\{ e_1, e_2, \\cdots, e_n \\} \\ of \\ \\  R^n $.\n",
    "\n",
    "> The pivot columns of a matrix form a basis for its column space.\n",
    "\n",
    "Example:\n",
    "\n",
    "$ A = \\begin{bmatrix} 1 & 2 & -1 & 2 & 1 & 2 \\\\ -1 & -2 & 1 & 2 & 3 & 6 \\\\ 2 & 4 & -3 & 2 & 0 & 3 \\\\ -3 & -6 & 2 & 0 & 3 & 9 \\end{bmatrix} $\n",
    "\n",
    "$ A_{RREF} = \\begin{bmatrix} 1 & 2 & 0 & 0 & -1 & -5 \\\\ 0 & 0 & 1 & 0 & 0 & -3 \\\\ 0 & 0 & 0 & 1 & 1 & 2 \\\\ 0 & 0 & 0 & 0 & 0 & 0 \\end{bmatrix} $\n",
    "\n",
    "pivot columns = $ \\vec{a_1}, \\vec{a_3}, \\vec{a_4} $\n",
    "\n",
    "Col A = Span $ \\left \\{ \\ \\ \\begin{bmatrix} 1 \\\\ -1 \\\\ 2 \\\\ -3 \\end{bmatrix} \\ \\ \\begin{bmatrix} -1 \\\\ 1 \\\\ -3 \\\\ 2 \\end{bmatrix} \\ \\ \\begin{bmatrix} 2 \\\\ 2 \\\\ 2 \\\\ 0 \\end{bmatrix} \\ \\ \\right \\} $"
   ]
  }
 ],
 "metadata": {
  "anaconda-cloud": {},
  "kernelspec": {
   "display_name": "Python [default]",
   "language": "python",
   "name": "python3"
  },
  "language_info": {
   "codemirror_mode": {
    "name": "ipython",
    "version": 3
   },
   "file_extension": ".py",
   "mimetype": "text/x-python",
   "name": "python",
   "nbconvert_exporter": "python",
   "pygments_lexer": "ipython3",
   "version": "3.5.2"
  }
 },
 "nbformat": 4,
 "nbformat_minor": 2
}
