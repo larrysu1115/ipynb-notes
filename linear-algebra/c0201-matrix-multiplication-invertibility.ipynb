{
 "cells": [
  {
   "cell_type": "markdown",
   "metadata": {},
   "source": [
    "## Unit 2.1 : Matrix Multiplication\n",
    "\n",
    "Given:  \n",
    "A &in; R<sup>m&times;n</sup>, B &in; R<sup>n&times;p</sup>  \n",
    "v &in; R<sup>p</sup>, &nbsp; x &in; R<sup>n</sup>, &nbsp; y &in; R<sup>m</sup>\n",
    "\n",
    "Let:  \n",
    "y = A x  \n",
    "x = B v\n",
    "\n",
    "find C &in; R<sup>m&times;p</sup>, such that C v = y = A x = A ( B v )\n",
    "\n",
    "$ C = A \\times B = A \\times [ \\vec{b_1} \\ \\cdots \\ \\vec{b_p} ] = [ A\\vec{b_1} \\ A\\vec{b_2} \\ \\cdots \\ A\\vec{b_p} ] $\n",
    "\n",
    "1. $ B_{n \\times p} $ 將 $\\mathcal{R}^p $ 空間的向量 $ \\vec{v} $ 轉為 $\\mathcal{R}^n $ 空間的向量 $ \\vec{x} $\n",
    "2. $ A_{m \\times n} $ 將 $\\mathcal{R}^n $ 空間的向量 $ \\vec{x} $ 轉為 $\\mathcal{R}^m $ 空間的向量 $ \\vec{y} $\n",
    "3. $ C_{m \\times p} $ 將 $\\mathcal{R}^p $ 空間的向量 $ \\vec{v} $ 直接轉為 $\\mathcal{R}^m $ 空間的向量 $ \\vec{y} $, 直接 **結合了 AB 的空間轉換**"
   ]
  },
  {
   "cell_type": "markdown",
   "metadata": {},
   "source": [
    "### Theorem 2.1\n",
    "\n",
    "Let \n",
    "A and B &in; R<sup>k&times;m</sup>, \n",
    "C &in; R<sup>m&times;n</sup>, \n",
    "P and Q &in; R<sup>n&times;p</sup>. \n",
    "\n",
    "Then the following statements are true:\n",
    "\n",
    "- s ( AC ) = ( sA ) C = A (sC), for any scalar s.\n",
    "- A ( CP ) = ( AC ) P, (associative law of matrix multiplication)\n",
    "- ( A+B ) C = AC + BC, (right distributive law)\n",
    "- C ( P+Q ) = CP + CQ, (left distributive law)\n",
    "- I<sub>k</sub> A = A = I<sub>m</sub>\n",
    "- The product of any matrix and a ZERO matrix is a zero matrix\n",
    "- ( AC )<sup>T</sup> = C<sup>T</sup> A<sup>T</sup>"
   ]
  },
  {
   "cell_type": "markdown",
   "metadata": {},
   "source": [
    "### Properties\n",
    "\n",
    "- ( AB ) C = A ( BC )\n",
    "- Let $ A \\in \\mathcal{M}_{n \\times n},  A^k = A A \\cdots A $ (k times)\n",
    "- by convention, $ A^1 = A, A^0 = I_n $"
   ]
  },
  {
   "cell_type": "markdown",
   "metadata": {},
   "source": [
    "### Augmented matrix\n",
    "\n",
    "If A and B are matrices with the same number of rows, then the augmented matrix [ A B ] is the matrix composed by A's columns followed by B's columns.\n",
    "\n",
    "Given A and B matrices with n rows, $ \\forall P \\in \\mathcal{R}^{m \\times n}, P [A \\ B] = [PA \\ PB] $\n",
    "\n",
    "### Diagonal matrix\n",
    "\n",
    "$ A = [ a_{ij} ] \\in \\mathcal{M}_{n \\times n}, a_{ij}=0 \\ if \\ i \\ne j $ \n",
    "\n",
    "denoted by : $ A = diag[a_{11} \\cdots \\ a_{nn}] $\n",
    "\n",
    "### Symmetric matrix\n",
    "\n",
    "$ A = [ a_{ij} ] \\in \\mathcal{M}_{n \\times n}, a_{ij} = a_{ji} $ or $ A = A^T $\n",
    "\n",
    "$ ( A A^T )^T = A^{TT} A^T = A A^T $\n",
    "\n",
    "$ ( A^T A )^T =  A^T A^{TT} = A^T A $\n",
    "\n",
    "注意 矩陣相乘 的 Transpose 前後要調換！\n",
    "\n",
    "\n"
   ]
  },
  {
   "cell_type": "markdown",
   "metadata": {},
   "source": [
    "## Unit 2.3 : Invertibility and Elementary Matrices\n",
    "\n",
    "Given:\n",
    "\n",
    "A,B &in; R<sup>n&times;n</sup>\n",
    "\n",
    "v,x,y &in; R<sup>n</sup>\n",
    "\n",
    "Let:\n",
    "\n",
    "y = A x\n",
    "\n",
    "x = B v\n",
    "\n",
    "有沒有一個 A 矩陣 使得 y = v ?\n",
    "\n",
    "### Definition: Invertible Matrix\n",
    "\n",
    "Matrix A<sub>n&times;n</sub> is called **INVERTIBLE** if there exists a matrix B<sub>n&times;n</sub> such that AB = BA = I<sub>n</sub>. In such case, B is called the inverse of A. Denoted: A<sup>-1</sup>\n",
    "\n",
    "### Theorem 2.2\n",
    "\n",
    "1. If A is invertible, then $ A^{-1} $ is invertible and $ (A^{-1})^{-1} = A $\n",
    "2. If A and B are invertible, then AB is invertible and $ (AB)^{-1} = B^{-1} A^{-1} $\n",
    "3. If A is invertible, then $ A^T $ is invertible and $ (A^T)^{-1} = (A^{-1})^T $\n",
    "\n",
    "### Corollary\n",
    "\n",
    "Let $ A_1, A_2, \\cdots, A_k \\in \\mathcal{M}^{n \\times n} $ are all invertible matrices. Then the product $ A_1 \\ A_2 \\ \\cdots \\  A_k $ is also invertible.\n",
    "\n",
    "$ (A_1 \\ A_2 \\ \\cdots \\  A_k)^{-1} = (A_k)^{-1} \\  (A_{k-1})^{-1} \\ \\cdots \\ (A_1)^{-1} $\n",
    "\n",
    "### Using inverse of A to solve equation\n",
    "\n",
    "$ A x = b \\to \\  A^{-1} (A x) = A^{-1} b \\to \\  I_n x = A^{-1} b \\\\ \\to \\  x = A^{-1} b $\n",
    "\n",
    "但是這個方法在計算上效率差\n"
   ]
  },
  {
   "cell_type": "markdown",
   "metadata": {},
   "source": [
    "## Elementary Matrices\n",
    "\n",
    "`Def.` An n &times; n matrix E is called an elementary matrix if E can be obtained from I<sub>n</sub> by a SINGLE elementary row operation.\n",
    "\n",
    "若 E<sub>m&times;m</sub> 是從 I 進行 elementary row operation 獲得的，那麼 (E A<sub>m&times;n</sub>) 等同於 對 A 做相同的 elementary row operation 後得的到的結果。\n",
    "\n",
    "### Properties\n",
    "\n",
    "- Every Elementary Matrix is invertible, corresponding to the reverse elementary row operation.\n",
    "\n",
    "### Theorem 2.3\n",
    "\n",
    "Let A<sub>m&times;n</sub>  matrix with reduced row echelon form R. Then there exists an inverible P<sub>m&times;m</sub> matrix, such that P A = R\n",
    "\n",
    "### Corollary\n",
    "\n",
    "The matrix equation A x = b has the same solution set as R x = c, where [ R c ] is the reduced echelon form of [ A b ]"
   ]
  },
  {
   "cell_type": "markdown",
   "metadata": {},
   "source": [
    "### Theorem E.1 : Column Correspondence Theorem\n",
    "\n",
    "Let $ A = [ a_1 \\ a_2 \\ \\cdots \\ a_n ] $ be a m &times; n matrix with reduced row echelon for $ R = [ r_1 \\ r_2 \\ \\cdots \\ r_n ] $, then:\n",
    "\n",
    "- If $ a_j $ is a linear combination of other columns of A, then $ r_j $ is also a linear combination of the corresponding columns of R with the same coefficients.\n",
    "- If $ r_j $ is a linear combination of other columns of R, then $ a_j $ is also a linear combination of the corresponding columns of A with the same coefficients.\n",
    "\n",
    "### Properties of Matrix in RREF\n",
    "\n",
    "Let R be an m &times; n matrix in reduced row echelon form. Then the following statements are true:\n",
    "\n",
    "- A column of R in a pivot column iff. it is none zero an not a linear combination of its preceding columns of R.\n",
    "- The jth pivot column of R is $ e_j $, the jth standard vector of R<sup>m</sup>, and hence **the pivot columns of R are linearly independent**.\n",
    "- Every column of R is a linear combination of the pivot columns of R."
   ]
  },
  {
   "cell_type": "markdown",
   "metadata": {},
   "source": [
    "### Theorem 2.4\n",
    "\n",
    "For any matrix A:\n",
    "\n",
    "- The pivot columns of A are linearly independent.\n",
    "- 每個 non-pivot column 都是之前的 pivot columns 的線性組合，系數為 RREF 中，該 non-pivot column 的對應 entry"
   ]
  },
  {
   "cell_type": "markdown",
   "metadata": {},
   "source": [
    "## Unit 2.4 : The Inverse of a Matrix\n",
    "\n",
    "### Theorem 2.5\n",
    "\n",
    "Let A be an n &times; n matrix. Then A is invertible iff the RREF of A is I<sub>n</sub>\n",
    "\n",
    "### Algorithm to find Matrix Inversion\n",
    "\n",
    "Let A be an n &times; n matrix. Use elementary row operations to transform $ [ A \\ \\ I_n ] $ into the form $ [ R \\ \\ B ] $ where R is the RREF. Then:\n",
    "\n",
    "- if R = I<sub>n</sub>, A is invertible and B = A<sup>-1</sup>\n",
    "- if R &ne; I<sub>n</sub>, A is NOT invertible.\n",
    "\n",
    "proof: If R is Identity Matrix. $ P [ A \\ I_n ] = [ PA \\ P ] = [ R \\ B ] \\to P\\ A= R, P = B \\to B \\ A = R = I_n $"
   ]
  },
  {
   "cell_type": "code",
   "execution_count": 4,
   "metadata": {},
   "outputs": [
    {
     "name": "stdout",
     "output_type": "stream",
     "text": [
      "    x1  x2  x3\n",
      "r1   1   2   3\n",
      "r2   2   5   4\n",
      "r3   3   6   8\n",
      "(Matrix([\n",
      "[1.0,   0,   0],\n",
      "[  0, 1.0,   0],\n",
      "[  0,   0, 1.0]]), [0, 1, 2])\n",
      "       r1    r2    r3\n",
      "x1 -16.00 -2.00  7.00\n",
      "x2   4.00  1.00 -2.00\n",
      "x3   3.00 -0.00 -1.00\n",
      "     x1    x2    x3\n",
      "x1 1.00 -0.00  0.00\n",
      "x2 0.00  1.00 -0.00\n",
      "x3 0.00  0.00  1.00\n"
     ]
    }
   ],
   "source": [
    "import numpy as np\n",
    "import pandas as pd\n",
    "import sympy\n",
    "pd.set_option('display.float_format', lambda x: '%.2f' % x)\n",
    "A = pd.DataFrame({'x1': [ 1, 2, 3], \n",
    "                  'x2': [ 2, 5, 6],\n",
    "                  'x3': [ 3, 4, 8]\n",
    "                  }, index=['r1','r2','r3'])\n",
    "R = sympy.Matrix(A.as_matrix()).rref()\n",
    "print(A)\n",
    "print(R)\n",
    "A_inv = pd.DataFrame(np.linalg.pinv(A.values), A.columns, A.index)\n",
    "print(A_inv)\n",
    "print(A_inv.dot(A))"
   ]
  },
  {
   "cell_type": "markdown",
   "metadata": {},
   "source": [
    "### Algorithm for computing A<sup>-1</sup> B\n",
    "\n",
    "$ A^{-1} B $ can be found be transform [ A B ] into $ [ I_n \\ C ] $ with elementary row operations. Then $ C = A^{-1} B $\n",
    "\n",
    "proof: [ I<sub>n</sub> C ] = P [ A B ] = [ PA PB ] = [ A<sup>-1</sup>A &nbsp; A<sup>-1</sup>B ]\n",
    "\n",
    "Example:"
   ]
  },
  {
   "cell_type": "code",
   "execution_count": 5,
   "metadata": {},
   "outputs": [
    {
     "name": "stdout",
     "output_type": "stream",
     "text": [
      "Matrix A:\n",
      "    x1  x2  x3\n",
      "r1   1   2   1\n",
      "r2   2   5   1\n",
      "r3   2   4   1\n",
      "Matrix B:\n",
      "    x4  x5\n",
      "r1   2  -1\n",
      "r2   1   3\n",
      "r3   0   2\n",
      "Matrix [A B] :\n",
      "    x1  x2  x3  x4  x5\n",
      "r1   1   2   1   2  -1\n",
      "r2   2   5   1   1   3\n",
      "r3   2   4   1   0   2\n",
      "Matrix [I C] :\n",
      "    A  B  C  D  E\n",
      "r1  1  0  0 -4  1\n",
      "r2  0  1  0  1  1\n",
      "r3  0  0  1  4 -4\n",
      "Matrix [A^{-1} B] :\n",
      "    D  E\n",
      "r1 -4  1\n",
      "r2  1  1\n",
      "r3  4 -4\n"
     ]
    }
   ],
   "source": [
    "import numpy as np, pandas as pd, sympy\n",
    "pd.set_option('display.float_format', lambda x: '%.0f' % x)\n",
    "idx = ['r1','r2','r3']\n",
    "A = pd.DataFrame({'x1': [ 1, 2, 2], \n",
    "                  'x2': [ 2, 5, 4],\n",
    "                  'x3': [ 1, 1, 1]}, index=idx)\n",
    "\n",
    "B = pd.DataFrame({'x4': [ 2, 1, 0], \n",
    "                  'x5': [-1, 3, 2]}, index=idx)\n",
    "AB = A.join(B)\n",
    "\n",
    "print('Matrix A:\\n%s' % A)\n",
    "print('Matrix B:\\n%s' % B)\n",
    "print('Matrix [A B] :\\n%s' % AB)\n",
    "IC_raw = sympy.Matrix(AB.as_matrix()).rref()\n",
    "IC = pd.DataFrame(np.array(IC_raw[0].tolist()).astype(np.float64)\n",
    "                  , index=idx, columns = list('ABCDE'))\n",
    "print('Matrix [I C] :\\n%s' % IC)\n",
    "print('Matrix [A^{-1} B] :\\n%s' % IC.loc[:, list('DE')])"
   ]
  },
  {
   "cell_type": "markdown",
   "metadata": {},
   "source": [
    "### Theorem 2.6 : Invertible Matrix Theorem\n",
    "\n",
    "Let A be a n &times; n matrix. The following statements are equivalent:\n",
    "\n",
    "- a. A is invertible.\n",
    "- b. The RREF of A is I<sub>n</sub>.\n",
    "- c. The rank of A = n\n",
    "- d. The span of the columns of A is R<sup>n</sup>\n",
    "- e. The equation A x = b is consistent for every b &in; R<sup>n</sup>\n",
    "- f. The nullity of A = 0.\n",
    "- g. The columns of A are L.I.\n",
    "- h. The only solution of A x = 0 is 0 &in; R<sup>n</sup>\n",
    "- i. There exists a matrix B<sub>n &times; n</sub> such that B A = I\n",
    "- j. There exists a matrix C<sub>n &times; n</sub> such that A C = I\n",
    "- k. A is a product of elementary matrices."
   ]
  }
 ],
 "metadata": {
  "anaconda-cloud": {},
  "kernelspec": {
   "display_name": "Python 3",
   "language": "python",
   "name": "python3"
  },
  "language_info": {
   "codemirror_mode": {
    "name": "ipython",
    "version": 3
   },
   "file_extension": ".py",
   "mimetype": "text/x-python",
   "name": "python",
   "nbconvert_exporter": "python",
   "pygments_lexer": "ipython3",
   "version": "3.6.1"
  }
 },
 "nbformat": 4,
 "nbformat_minor": 1
}
