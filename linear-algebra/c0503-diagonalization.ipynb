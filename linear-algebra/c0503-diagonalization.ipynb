{
 "cells": [
  {
   "cell_type": "markdown",
   "metadata": {},
   "source": [
    "## Unit 5.3 : Diagonalization of Matrices"
   ]
  },
  {
   "cell_type": "markdown",
   "metadata": {},
   "source": [
    "### Definition\n",
    "\n",
    "An matrix $ A_{n \\times n} $ is called diagonalizable if $ A = PDP^{-1} $ for some diagonal matrix $ D_{n \\times n} $  \n",
    "and some invertible matrix $ P_{n \\times n} $ "
   ]
  },
  {
   "cell_type": "markdown",
   "metadata": {},
   "source": [
    "### Example: stochastic matrix\n",
    "\n",
    "每年城鄉人口流動率矩陣:\n",
    "\n",
    "|To\\From|City|Suburbs|\n",
    "|-      |-|-|\n",
    "|City   |.85|.03|\n",
    "|Suburb |.15|.97|\n",
    "\n",
    "$ A = \\begin{bmatrix} .85 & .03 \\\\ .15 & .97 \\end{bmatrix} $\n",
    "\n",
    "目前城鄉人口數 $ \\vec{p} = \\begin{bmatrix} 500 \\\\ 700 \\end{bmatrix} $\n",
    "\n",
    "下一年城鄉人口數 $ = A \\vec{p} = \\begin{bmatrix} .85 & .03 \\\\ .15 & .97 \\end{bmatrix} $\n",
    "$ \\begin{bmatrix} 500 \\\\ 700 \\end{bmatrix} $\n",
    "\n",
    "過了 m 年後的城鄉人口數 $ = A^m \\vec{p} $"
   ]
  },
  {
   "cell_type": "markdown",
   "metadata": {},
   "source": [
    "如果 A 是 diagonal matrix, 矩陣的次方只需要將 diagonal entry 次方即可\n",
    "\n",
    "$ A = PDP^{-1} $ where $ P = \\begin{bmatrix} -1&1 \\\\ 1&5 \\end{bmatrix} $,\n",
    "$ D = \\begin{bmatrix} .82 & 0 \\\\ 0 & 1 \\end{bmatrix} $\n",
    "\n",
    "$ A^3 = (PDP^{-1}) \\ (PDP^{-1}) \\ (PDP^{-1}) = P D^3 P^{-1}  $\n",
    "\n",
    "> 可對角化的矩陣可以方便的進行次方運算。\n",
    "\n",
    "- How to know A is diagonalizable or not ?\n",
    "- If yes, how to get D and P ?"
   ]
  },
  {
   "cell_type": "markdown",
   "metadata": {},
   "source": [
    "### Observation 1\n",
    "\n",
    "matrix $ B = \\begin{bmatrix} 2 & 1 \\\\ 0 & 1 \\end{bmatrix} $  \n",
    "Characteristic polynomial = (2-t) (1-t)  \n",
    "Eigenvalues, Eigenspaces:\n",
    "\n",
    "1 (mul:1), Span { $ \\begin{bmatrix} 1\\\\-1 \\end{bmatrix} $ }\n",
    "\n",
    "2 (mul:1), Span { $ \\begin{bmatrix} 1\\\\0 \\end{bmatrix} $ }\n",
    "\n",
    "將 B 矩陣 乘上 vectors in basis of eigenspaces, 然後接上由 eigenvalue 組成的對角矩陣\n",
    "\n",
    "$ \\begin{bmatrix} 2 & 1 \\\\ 0 & 1 \\end{bmatrix} $\n",
    "$ \\ \\begin{bmatrix} 1 & 1 \\\\ -1 & 0 \\end{bmatrix} $\n",
    "$ = \\begin{bmatrix} 1 & 2 \\\\ -1 & 0 \\end{bmatrix} $\n",
    "$ = \\begin{bmatrix} 1 & 1 \\\\ -1 & 0 \\end{bmatrix} $\n",
    "$ \\ \\begin{bmatrix} 1 & 0 \\\\ 0 & 2 \\end{bmatrix} $\n",
    "\n",
    "矩陣P 為 eigenspaces 中的 basis vector 組成，是 L.I., invertible。  \n",
    "矩陣D 為 eigenvalues 組成的 diagonal matrix。\n",
    "\n",
    "如此可得 $ BP = PD \\ \\ \\to \\ \\ B = PDP^{-1} $"
   ]
  },
  {
   "cell_type": "code",
   "execution_count": 2,
   "metadata": {
    "collapsed": false
   },
   "outputs": [
    {
     "name": "stdout",
     "output_type": "stream",
     "text": [
      "B matrix: \n",
      "[[2 1]\n",
      " [0 1]]\n",
      "eigen values: \n",
      "[ 2.  1.]\n",
      "eigen vectors: \n",
      "[[ 1.    -0.707]\n",
      " [ 0.     0.707]]\n",
      "P matrix : \n",
      "[[ 1.    -0.707]\n",
      " [ 0.     0.707]]\n",
      "D matrix : \n",
      "[[ 2.  0.]\n",
      " [ 0.  1.]]\n",
      "P inverse: \n",
      "[[ 1.     1.   ]\n",
      " [ 0.     1.414]]\n",
      "\n",
      " VERIFY B = P D P_inv: \n",
      "[[ 2.  1.]\n",
      " [ 0.  1.]]\n"
     ]
    }
   ],
   "source": [
    "import numpy as np\n",
    "from numpy import linalg as la\n",
    "np.set_printoptions(precision=3)\n",
    "B = np.array([[2, 1],\n",
    "              [0, 1]])\n",
    "\n",
    "e_vals, e_vecs = la.eig(B)\n",
    "print('B matrix: \\n%s' % B)\n",
    "print('eigen values: \\n%s' % e_vals)\n",
    "print('eigen vectors: \\n%s' % e_vecs)\n",
    "\n",
    "D = np.diag(e_vals)\n",
    "P = e_vecs\n",
    "P_inv = la.inv(P)\n",
    "# B = P D P_inv\n",
    "print('P matrix : \\n%s' % P)\n",
    "print('D matrix : \\n%s' % D)\n",
    "print('P inverse: \\n%s' % P_inv)\n",
    "B_verify = P.dot(D).dot(P_inv)\n",
    "print('\\n VERIFY B = P D P_inv: \\n%s' % B_verify)"
   ]
  },
  {
   "cell_type": "markdown",
   "metadata": {},
   "source": [
    "### Observation 2\n",
    "\n",
    "matrix $ A = \\begin{bmatrix} -1 & 0 & 0 \\\\ 0 & 1 & 2 \\\\ 0 & 2 & 1 \\end{bmatrix} $  \n",
    "Characteristic polynomial = $ -(t+1)^2 (t-3) $\n",
    "Eigenvalues, Eigenspaces:\n",
    "\n",
    "-1 (mul:2), Span { $ \\begin{bmatrix} 1\\\\0\\\\0 \\end{bmatrix} $ , $ \\begin{bmatrix} 0\\\\1\\\\-1 \\end{bmatrix} $ }\n",
    "\n",
    " 3 (mul:1), Span { $ \\begin{bmatrix} 0\\\\1\\\\1 \\end{bmatrix} $ }\n",
    "\n",
    "將 A 矩陣 乘上 vectors in basis of eigenspaces : P, 然後接上由 eigenvalue 組成的對角矩陣D\n",
    "\n",
    "得 $ AP = PD \\ \\ \\to \\ \\ A = PDP^{-1} $\n",
    "\n",
    "matrix $ P = \\begin{bmatrix} 1 & 0 & 0 \\\\ 0 & 1 & 1 \\\\ 0 & -1 & 1 \\end{bmatrix} $\n",
    "\n",
    "matrix $ D = \\begin{bmatrix} -1 & 0 & 0 \\\\ 0 & -1 & 0 \\\\ 0 & 0 & 3 \\end{bmatrix} $  \n",
    "\n",
    "矩陣P 為 eigenspaces 中的 basis vector 組成，是 L.I., invertible。  \n",
    "矩陣D 為 eigenvalues 組成的 diagonal matrix。"
   ]
  },
  {
   "cell_type": "code",
   "execution_count": 3,
   "metadata": {
    "collapsed": false
   },
   "outputs": [
    {
     "name": "stdout",
     "output_type": "stream",
     "text": [
      "A matrix: \n",
      "[[-1  0  0]\n",
      " [ 0  1  2]\n",
      " [ 0  2  1]]\n",
      "P matrix : \n",
      "[[ 0.     0.     1.   ]\n",
      " [ 0.707  0.707  0.   ]\n",
      " [ 0.707 -0.707  0.   ]]\n",
      "D matrix : \n",
      "[[ 3.  0.  0.]\n",
      " [ 0. -1.  0.]\n",
      " [ 0.  0. -1.]]\n",
      "P inverse: \n",
      "[[ 0.     0.707  0.707]\n",
      " [ 0.     0.707 -0.707]\n",
      " [ 1.     0.     0.   ]]\n",
      "\n",
      " VERIFY A = P D P_inv: \n",
      "[[-1.  0.  0.]\n",
      " [ 0.  1.  2.]\n",
      " [ 0.  2.  1.]]\n"
     ]
    }
   ],
   "source": [
    "import numpy as np\n",
    "from numpy import linalg as la\n",
    "np.set_printoptions(precision=3)\n",
    "A = np.array([-1,0,0,0,1,2,0,2,1]).reshape(3,3)\n",
    "\n",
    "e_vals, e_vecs = la.eig(A)\n",
    "print('A matrix: \\n%s' % A)\n",
    "D = np.diag(e_vals)\n",
    "P = e_vecs\n",
    "P_inv = la.inv(P)\n",
    "# B = P D P_inv\n",
    "print('P matrix : \\n%s' % P)\n",
    "print('D matrix : \\n%s' % D)\n",
    "print('P inverse: \\n%s' % P_inv)\n",
    "A_verify = P.dot(D).dot(P_inv)\n",
    "print('\\n VERIFY A = P D P_inv: \\n%s' % A_verify)"
   ]
  },
  {
   "cell_type": "markdown",
   "metadata": {},
   "source": [
    "### Theorem 5.2\n",
    "\n",
    "可以找到 n 個線性獨立的 eigen vector，就是 可對角化 的矩陣\n",
    "\n",
    "(a) An matrix $ A_{n \\times n} $ is **diagonalizable** iff. there is a basis of $ \\mathcal{R}^n $ consisting of eigenvectors of A.\n",
    "\n",
    "(b) If matrix $ P_{n \\times n} $ is an invertible and matrix $ D_{n \\times n} $ is a diagonal matrix,  \n",
    "then $ A = P D P^{-1} $ iff. the columns of P are a basis for $ \\mathcal{R}^n $ consisting of eigenvectors of A  \n",
    "and the diagonal entries of D are the eigenvalues corresponding to the respective columns of P."
   ]
  },
  {
   "cell_type": "markdown",
   "metadata": {},
   "source": [
    "### Theorem 5.3\n",
    "\n",
    "A set of eigenvectors of a square matrix that correspond to distinct eigenvalues is linearly independent.  \n",
    "來自不同的 eigenvalue 的 eigenvectors 彼此間是線性獨立。"
   ]
  },
  {
   "cell_type": "markdown",
   "metadata": {},
   "source": [
    "### Corollary 1\n",
    "\n",
    "Let $ S_1, S_2, \\cdots, S_p $ be subsets of p eigenspaces of a square matrix corresponding to p distinct eigenvalues.  \n",
    "If $ S_i $ is L.I. for all i = 1, 2, ..., p; then the set $ S_1 \\cup S_2 \\cup \\cdots \\cup S_p$ is L.I.  \n",
    "每一個 eigenvalue 對應的 eigenvectors 是 L.I.; 從不同的 eigenvalue 對應的 eigenvectors 為 S1, S2... 子集合 的 聯集 也是 線性獨立。"
   ]
  },
  {
   "cell_type": "markdown",
   "metadata": {},
   "source": [
    "### Corollary 2\n",
    "\n",
    "If $ A \\in \\mathcal{R}^{n \\times n} $ has n distinct eigenvalues,  \n",
    "then $ \\mathcal{R}^n $ has a basis consisting of eigenvectors of A.  \n",
    "i.e., A is diagonalizable."
   ]
  },
  {
   "cell_type": "markdown",
   "metadata": {},
   "source": [
    "### Definition: product of linear factors 線性因式\n",
    "\n",
    "For $ A \\in \\mathcal{R}^{n \\times n} $, the characteristic polynomial of A may be  \n",
    "factored into a **product of linear factors** if\n",
    "\n",
    "$ det(A - t \\ I_n) = (-1)^n \\ (t - \\lambda_1) \\ (t - \\lambda_2) \\ \\cdots \\ (t - \\lambda_n) $\n",
    "\n",
    "Here, $ \\lambda_i $ for i = 1, 2, ..., n; do not have to be distinct, but $ \\lambda_i \\in \\mathcal{R} $"
   ]
  },
  {
   "cell_type": "markdown",
   "metadata": {},
   "source": [
    "### Test for a diagonalizable Matrix\n",
    "\n",
    "An matrix $ A_{n \\times n} $ is diagonalizable iff. BOTH the following conditions are met:\n",
    "\n",
    "1. The characteristic polynomial of A factors into a product of linear factors.\n",
    "2. For each eigenvalue of A, its multiplicity equals the dimension of corresponding eigenspace. ( n - rank( $ A - \\lambda I_n $ ) )"
   ]
  }
 ],
 "metadata": {
  "kernelspec": {
   "display_name": "Python [default]",
   "language": "python",
   "name": "python3"
  },
  "language_info": {
   "codemirror_mode": {
    "name": "ipython",
    "version": 3
   },
   "file_extension": ".py",
   "mimetype": "text/x-python",
   "name": "python",
   "nbconvert_exporter": "python",
   "pygments_lexer": "ipython3",
   "version": "3.5.2"
  }
 },
 "nbformat": 4,
 "nbformat_minor": 2
}
