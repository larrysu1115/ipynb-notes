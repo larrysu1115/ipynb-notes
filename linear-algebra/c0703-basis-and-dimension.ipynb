{
 "cells": [
  {
   "cell_type": "markdown",
   "metadata": {},
   "source": [
    "## Unit 7.3 : Basis and Dimension"
   ]
  },
  {
   "cell_type": "markdown",
   "metadata": {},
   "source": [
    "### Definition : Linear Dependent\n",
    "\n",
    "An finite subset S = { $ v_1, v_2, \\cdots, v_n $ } of a vector space V is said to be **linearly dependent**  \n",
    "if there exist scalars $ c_1, c_2, \\cdots, c_n $, at least one of which is nonzero, such that\n",
    "\n",
    "$ c_1 v_1 + c_2 v_2 + \\cdots + c_n v_n = 0 $\n",
    "\n",
    "S is said to be **linearly independent** if S is not linearly dependent."
   ]
  },
  {
   "cell_type": "markdown",
   "metadata": {},
   "source": [
    "### Example\n",
    "\n",
    "$ S = \\Big \\{ x^2-3x_2, 3x^2-5x, 2x-3 \\Big \\} $, a subset of $ \\mathcal{P}_2 $ is L.D., since\n",
    "\n",
    "$ 3 \\times (x^2-3x_2) + (-1) \\times (3x^2-5x) + 2 \\times (2x-3) = 0 $"
   ]
  },
  {
   "cell_type": "markdown",
   "metadata": {},
   "source": [
    "### Example\n",
    "\n",
    "S = $ \\Big \\{ \\begin{bmatrix} 1&0\\\\0&-1 \\end{bmatrix} $ , \n",
    "$ \\begin{bmatrix} 0&1\\\\0&0 \\end{bmatrix} $ , \n",
    "$ \\begin{bmatrix} 0&0\\\\1&0 \\end{bmatrix} \\Big \\} $, a subset of $ \\mathcal{R}^{2 \\times 2} $ is L.I., since\n",
    "\n",
    "$ a \\begin{bmatrix} 1&0\\\\0&-1 \\end{bmatrix} $ \n",
    "$ + b \\begin{bmatrix} 0&1\\\\0&0 \\end{bmatrix} $ \n",
    "$ + c \\begin{bmatrix} 0&0\\\\1&0 \\end{bmatrix} $\n",
    "$ =   \\begin{bmatrix} a&b\\\\c&-a \\end{bmatrix} $\n",
    "$ =   \\begin{bmatrix} 0&0\\\\0&0 \\end{bmatrix} $\n",
    "\n",
    "implies that a = b = c = 0."
   ]
  },
  {
   "cell_type": "markdown",
   "metadata": {},
   "source": [
    "### Example\n",
    "\n",
    "S = { $ e^t, e^{2t}, e^{3t} $ } is a L.I. subset of $ \\mathcal{F}(R) $, since if\n",
    "\n",
    "$ h(t) = a e^t + b e^{2t} + c e^{3t} = 0 $\n",
    "\n",
    "$ \\forall t $, then \n",
    "\n",
    "h(0) = a + b + c = 0  \n",
    "h'(0) = a + 2b + 3c = 0\n",
    "h''(0) = a + 4b + 9c = 0\n",
    "\n",
    "together imply a = b = c = 0."
   ]
  },
  {
   "cell_type": "markdown",
   "metadata": {},
   "source": [
    "### Definition\n",
    "\n",
    "An infinite subset S of a vector space V is **linearly dependent** if some finite subset of S is **linearly dependent**.  \n",
    "An infinite set S is **linearly independent** if S is not linearly dependent;  \n",
    "that is, if every finite subset of S is linearly independent."
   ]
  },
  {
   "cell_type": "markdown",
   "metadata": {},
   "source": [
    "### Example\n",
    "\n",
    "The infinite subset { $ 1, x, x^2, \\cdots, x^n, \\cdots $ } of $ \\mathcal{P} $ is L.I.,  \n",
    "\n",
    "since given any nonempty index set I, $ \\sum_{i \\in I} \\ c_i \\ x^i = 0 $ implies $ c_i = 0, \\forall i \\in I $\n",
    "\n",
    "Thus its every nonempty finite subset is L.I."
   ]
  },
  {
   "cell_type": "markdown",
   "metadata": {},
   "source": [
    "### Example\n",
    "\n",
    "The infinite subset { $ 1+x, 1-x, 1+x^2, 1-x^2, \\cdots, 1+x^n, 1-x^n, \\cdots $ } of $ \\mathcal{P} $ is L.D.,  \n",
    "\n",
    "since it contains L.D. finite subsets like { $ 1+x, 1-x, 1+x^2, 1-x^2 $ }, in which\n",
    "\n",
    "$ 1 (1+x) + 1 (1-x) + (-1) (1+x^2) + (-1) (1-x^2) = 0 $\n"
   ]
  },
  {
   "cell_type": "markdown",
   "metadata": {},
   "source": [
    "### Theorem 7.8\n",
    "\n",
    "Let V and W be vector spaces. $ T: V \\to W $ be an isomorphism,\n",
    "\n",
    "and { $ v_1, v_2, \\cdots, v_k $ } be a linear independent subset of V.\n",
    "\n",
    "Then the set of images { $ T(v_1), T(v_2), \\cdots, T(v_k) $ } is also a linear independent subset of W."
   ]
  },
  {
   "cell_type": "markdown",
   "metadata": {},
   "source": [
    "Proof.\n",
    "\n",
    "$ c_1 T(v_1) + c_2 T(v_2) + \\cdots + c_k T(v_k) = 0 $\n",
    "\n",
    "$ \\to T(c_1 v_1 + T( c_2 v_2) + \\cdots + T(c_k v_k) = 0 $\n",
    "\n",
    "$ \\to c_1 v_1 + c_2 v_2 + \\cdots + c_k v_k = 0 $, 因為 T 是 one-to-one\n",
    "\n",
    "$ \\to c_1 = c_2 = \\cdots = c_k = 0 $"
   ]
  },
  {
   "cell_type": "markdown",
   "metadata": {},
   "source": [
    "### Definition\n",
    "\n",
    "A subset S of a vector space is a basis of V if S is a **linearly independent** set and a **generating set** of V."
   ]
  },
  {
   "cell_type": "markdown",
   "metadata": {},
   "source": [
    "### Example\n",
    "\n",
    "S = { $ 1, x, x^2, \\cdots, x^n, \\cdots $ } is a basis of $ \\mathcal{P} $"
   ]
  },
  {
   "cell_type": "markdown",
   "metadata": {},
   "source": [
    "### Theorem 7.9\n",
    "\n",
    "Let V be a vector space with finite basis.  \n",
    "Then every basis for V is finite and contains the same number of vectors."
   ]
  },
  {
   "cell_type": "markdown",
   "metadata": {},
   "source": [
    "Proof:\n",
    "\n",
    "Let $ \\mathcal{B} = \\{ v_1, v_2, \\cdots, v_n \\} $ be a basis of V.\n",
    "\n",
    "Consider a linear transformation $ \\Phi_{\\mathcal{B}} \\to R^n $ defined as\n",
    "\n",
    "$ \\Phi_{\\mathcal{B}} ( c_1 v_1 + c_2 v_2 + \\cdots + c_n v_n ) = \\begin{bmatrix} c_1 \\\\ c_2 \\\\ \\cdots \\\\ c_n \\end{bmatrix} $\n",
    "\n",
    "Suppose V has another basis A (finite of infinite) containing more vectors than B.\n",
    "\n",
    "$ \\to $ A has a subset S = { $ w_1, w_2, \\cdots, w_{n+1} $ }\n",
    "$ \\to $ S is L.I. since A is L.I.\n",
    "$ \\to \\Big \\{ \\Phi_{\\mathcal{B}}(w_1), \\Phi_{\\mathcal{B}}(w_2), \\cdots, \\Phi_{\\mathcal{B}}(w_n), \\Phi_{\\mathcal{B}}(w_{n+1}) \\Big \\} $ is L.I.\n",
    "in $ R^n $, since $ \\Phi_{\\mathcal{B}} $ is an isomorphism.\n",
    "\n",
    "! Contradiction !!! , since in $ R^n $ L.I. sets have at most n vectors,  \n",
    "Thus A can not contain more vectors than B."
   ]
  },
  {
   "cell_type": "markdown",
   "metadata": {},
   "source": [
    "### Definition\n",
    "\n",
    "The zero vector space and vector spaces having a finite basis are called **finite-dimensional**.  \n",
    "Other are called **infinite-dimensional**.  \n",
    "The dimension of a finite-dimensional vector space is equal to the number of vector(s) in any of its bases."
   ]
  },
  {
   "cell_type": "markdown",
   "metadata": {},
   "source": [
    "### Property\n",
    "\n",
    "If V is an infinite-dimensional vector space, then V contains an infinite L.I. set."
   ]
  },
  {
   "cell_type": "markdown",
   "metadata": {},
   "source": [
    "### Property\n",
    "\n",
    "Dimension is preserved under isomorphism.\n",
    "\n",
    "If the vector space V has a finite basis B,  \n",
    "and is isomorphic to the other vector space W through an isomorphism T,  \n",
    "then the image of B by T is a basis of W.\n",
    "\n",
    "dim. V = dim. W"
   ]
  },
  {
   "cell_type": "markdown",
   "metadata": {},
   "source": [
    "### Properties of finite-dimensional vector spaces\n",
    "\n",
    "Suppose V is an n-dimensional vector space.\n",
    "\n",
    "1. Any L.I. subset of V contains at most n vectors.\n",
    "2. Any L.I. subset of V that contains exactly n vectors is a basis of V.\n",
    "3. Any generating set of V contains at least n vectors.\n",
    "4. Any generating set of V that contains exactly n vectors is a basis for V."
   ]
  },
  {
   "cell_type": "markdown",
   "metadata": {},
   "source": [
    "### Example\n",
    "\n",
    "$ \\mathcal{B} = \\{ 1, x, x^2, \\cdots, x^n \\} $ be a basis of $ \\mathcal{P}_n $.\n",
    "\n",
    "$ \\to \\dim \\mathcal{P}_n = n + 1 $\n",
    "\n",
    "$ \\Phi_{\\mathcal{B}} ( a_0 + a_1 x + a_2 x^2 + \\cdots + a_n x^n ) = \\begin{bmatrix} a_0 \\\\ a_1 \\\\ a_2 \\\\ \\cdots \\\\ a_n \\end{bmatrix} $\n",
    "\n",
    "如上定義 $ \\\\Phi_{\\mathcal{B}} $ 後，B 的特質就 就與 R<sup>n+1</sup> 空間相同。"
   ]
  },
  {
   "cell_type": "markdown",
   "metadata": {},
   "source": [
    "### Example\n",
    "\n",
    "In $ \\mathcal{M}_{m \\times n} $, let $ E_{ij} $ be a matrix whose (i,j)-entry is 1 and other entries are 0.  \n",
    "And let S = { $ E_{ij} | 1 \\le i \\le m, 1 \\le j \\le m $ }.\n",
    "\n",
    "$ \\to $ S is a basis of $ \\mathcal{M}_{m \\times n} \\to \\dim \\mathcal{M}_{m \\times n} = m \\times n $.\n",
    "\n",
    "For m = n = 2,\n",
    "\n",
    "$ S = \\Big \\{ \\begin{bmatrix} 1&0\\\\0&0 \\end{bmatrix} $ , \n",
    "$ \\begin{bmatrix} 0&1\\\\0&0 \\end{bmatrix} $ , \n",
    "$ \\begin{bmatrix} 0&0\\\\1&0 \\end{bmatrix} $ , \n",
    "$ \\begin{bmatrix} 0&0\\\\0&1 \\end{bmatrix} \\Big \\} $\n",
    "\n",
    "and for all $ A \\in M_{2 \\times 2} $\n",
    "\n",
    "$ A = \\begin{bmatrix} a&b\\\\c&d \\end{bmatrix} = $\n",
    "$ a \\begin{bmatrix} 1&0\\\\0&0 \\end{bmatrix} + $ \n",
    "$ b \\begin{bmatrix} 0&1\\\\0&0 \\end{bmatrix} + $\n",
    "$ c \\begin{bmatrix} 0&0\\\\1&0 \\end{bmatrix} + $\n",
    "$ d \\begin{bmatrix} 0&0\\\\0&1 \\end{bmatrix} $\n",
    "\n"
   ]
  },
  {
   "cell_type": "markdown",
   "metadata": {},
   "source": [
    "### Example\n",
    "\n",
    "Define $ U: \\mathcal{M}_{m \\times n} \\to \\mathcal{L}(R^n, R^m) $ by $ U(A) = T_A $,  \n",
    "the matrix transformation induced by A.\n",
    "\n",
    "$ \\forall A,B \\in \\mathcal{M}_{m \\times n} $ and scalar c,\n",
    "\n",
    "$ U(cA) = T_{cA} = (cA) x = c (Ax) = c T_A = c U(A) $\n",
    "\n",
    "$ U(A+B) = T_{A+B} = T_A + T_B = U(A) + U(B) $\n",
    "\n",
    "$ \\to $ U is linear.\n",
    "\n",
    "Also U is isomorphism \n",
    "\n",
    "$ \\to \\dim \\mathcal{L}(R^n, R^m) = m n $"
   ]
  }
 ],
 "metadata": {
  "kernelspec": {
   "display_name": "Python [default]",
   "language": "python",
   "name": "python3"
  },
  "language_info": {
   "codemirror_mode": {
    "name": "ipython",
    "version": 3
   },
   "file_extension": ".py",
   "mimetype": "text/x-python",
   "name": "python",
   "nbconvert_exporter": "python",
   "pygments_lexer": "ipython3",
   "version": "3.5.2"
  }
 },
 "nbformat": 4,
 "nbformat_minor": 2
}
