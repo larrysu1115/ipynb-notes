{
 "cells": [
  {
   "cell_type": "markdown",
   "metadata": {},
   "source": [
    "## Unit 6.5 : Orthogonal Matrices and Operators"
   ]
  },
  {
   "cell_type": "markdown",
   "metadata": {},
   "source": [
    "### Definition : norm-preserving\n",
    "\n",
    "A linear operator on $ R^n, T: R^n \\to R^n $ is said to be norm-preserving if\n",
    "\n",
    "$ \\lVert T(u) \\rVert = \\lVert u \\rVert, \\ \\ \\exists u \\in R^n $"
   ]
  },
  {
   "cell_type": "markdown",
   "metadata": {},
   "source": [
    "### Example\n",
    "\n",
    "linear operator T on R<sup>n</sup> that rotates a vector by $ \\theta $, T is norm-preserving.\n",
    "\n",
    "$ A_{\\theta} = \\begin{bmatrix} \\cos\\theta & -\\sin\\theta \\\\ \\sin\\theta & \\cos\\theta \\end{bmatrix} $"
   ]
  },
  {
   "cell_type": "markdown",
   "metadata": {},
   "source": [
    "### Example\n",
    "\n",
    "Linear operator U on R<sup>n</sup> that has an eigenvalue $ \\lambda \\ne \\pm 1 $.\n",
    "\n",
    "U is NOT norm-preserving, since for the corresponding eigenvector v,  \n",
    "$ U(v) = \\lambda v, \\ \\ \\lVert U(v) \\rVert = \\lVert \\lambda v \\rVert = | \\lambda | \\lVert v \\rVert \\ne \\lVert v \\rVert $"
   ]
  },
  {
   "cell_type": "markdown",
   "metadata": {},
   "source": [
    "### Condition of norm-preserving\n",
    "\n",
    "Let $ Q = [ q_1, q_2, \\cdots, q_n ] $ be the standard matrix of a norm-preserving linear operator. Then\n",
    "\n",
    "$ \\lVert q_j \\rVert = \\lVert Q \\ e_j \\rVert = \\lVert e_j \\rVert = 1 $\n",
    "\n",
    "$ \\lVert q_i + q_j \\rVert^2 = \\lVert Q \\ e_i \\ + \\ Q \\ e_j \\rVert^2 = \\lVert Q \\ (e_i + e_j)\\rVert^2 = \\lVert e_i + e_j \\rVert^2 = 2 = \\lVert q_i \\rVert^2 + \\lVert q_j \\rVert^2$\n",
    "\n",
    "$ q_i, q_j $ 為 orthogonal 正交。\n",
    "\n",
    "每個 column vector 正交, 且 norm = 1, 所以 Q 為 orthonormal basis. "
   ]
  },
  {
   "cell_type": "markdown",
   "metadata": {},
   "source": [
    "### Definition\n",
    "\n",
    "1. An n x n matrix Q is called an Orthogonal Matrix ( or simply orthogonal ) if the columns of Q form an orthonormal basis for R<sup>n</sup>.\n",
    "2. A linear operator is call orthogonal operator if its standard matrix is an orthogonal matrix."
   ]
  },
  {
   "cell_type": "markdown",
   "metadata": {},
   "source": [
    "$ A_{\\theta} = \\begin{bmatrix} \\cos\\theta & -\\sin\\theta \\\\ \\sin\\theta & \\cos\\theta \\end{bmatrix} $\n",
    "$ = \\begin{bmatrix} a_1 & a_2 \\end{bmatrix} $\n",
    "\n",
    "$ A_{\\theta} \\ A_{\\theta}^T = $\n",
    "$ \\begin{bmatrix} 1&0 \\\\ 0&1 \\end{bmatrix} = I $"
   ]
  },
  {
   "cell_type": "markdown",
   "metadata": {},
   "source": [
    "### Theorem 6.9\n",
    "\n",
    "The following conditions about an $ n \\times n $ matrix Q are equivalent:\n",
    "\n",
    "- a. Q is orthogonal\n",
    "- b. $ Q^T Q = I_n $\n",
    "- c. Q is invertible and Q<sup>-1</sup> = Q<sup>T</sup>\n",
    "- d. $ Q u \\cdot Q v = u \\cdot v $ for any u and v in R<sup>n</sup>. (Q preserves dot products)\n",
    "- e. $ \\lVert Q u \\rVert = \\lVert u \\rVert $ for any u in R<sup>n</sup>. (Q preserves norms)\n",
    "\n",
    "Proof. (d)  \n",
    "$ \\forall u,v \\in R^n $  \n",
    "$ (Qu) \\cdot (Qv) = (Qu)^T \\ (Qv) = $  \n",
    "$ (u^T \\ Q^T) \\ (Q v) = $  \n",
    "$ u^T (Q^T \\ Q) v = $  \n",
    "$ u^T (Q^{-1} \\ Q) v = $  \n",
    "$ u^T \\ v = u \\cdot v $\n"
   ]
  },
  {
   "cell_type": "markdown",
   "metadata": {},
   "source": [
    "### Corollary\n",
    "\n",
    "- a. Q is orthogonal iff. the rows of Q form an orthonormal basis of R<sup>n</sup>, or equivalent, Q Q<sup>T</sup> = I<sub>n</sub>\n",
    "- b. Q is orthogonal iff. Q<sup>T</sup> is orthogonal."
   ]
  },
  {
   "cell_type": "markdown",
   "metadata": {},
   "source": [
    "### Theorem 6.10\n",
    "\n",
    "Let P and Q be orthogonal matrices.\n",
    "\n",
    "a. det Q = $ \\pm 1 $  \n",
    "b. PQ is an orthogonal matrix.  \n",
    "c. Q<sup>-1</sup> is an orthogonal matrix.  \n",
    "d. Q<sup>T</sup> is an orthogonal matrix.  "
   ]
  },
  {
   "cell_type": "markdown",
   "metadata": {},
   "source": [
    "Proof.  \n",
    "\n",
    "a. 1 = det(I) = det(Q Q<sup>T</sup>) = det Q det Q<sup>T</sup> = (det Q)<sup>2</sup> = 1  \n",
    "b. (PQ)<sup>T</sup> = Q<sup>T</sup> P<sup>T</sup> = Q<sup>-1</sup> P<sup>-1</sup> = (PQ)<sup>-1</sup>"
   ]
  },
  {
   "cell_type": "markdown",
   "metadata": {},
   "source": [
    "### in terms of linear operators\n",
    "\n",
    "If T is a linear operator on R<sup>n</sup>, then the following statements are equivalent.\n",
    "\n",
    "a. T is an orthogonal operator.  \n",
    "b. $ T(u) \\cdot T(v) = u \\cdot v $ for all u and v in R<sup>n</sup>. (T preserves dot products)\n",
    "c. $ \\lVert T(u) \\rVert = \\lVert u \\rVert $ for all u in R<sup>n</sup>. (T preserves norm)\n",
    "\n",
    "If T and U are orthogonal operators on R<sup>n</sup>, then TU and T<sup>-1</sup> are orthogonal operators on R<sup>n</sup>."
   ]
  },
  {
   "cell_type": "markdown",
   "metadata": {},
   "source": [
    "### Example\n",
    "\n",
    "Find an orthogonal operator T on R<sup>3</sup> such that\n",
    "\n",
    "$ T \\Big( \\begin{bmatrix} \\frac{1}{\\sqrt{2}} \\\\ 0 \\\\ \\frac{-1}{\\sqrt{2}} \\end{bmatrix} \\Big) = $\n",
    "$ \\begin{bmatrix} 0\\\\1\\\\0 \\end{bmatrix} = e_2 $\n",
    "\n",
    "let v = $ \\begin{bmatrix} \\frac{1}{\\sqrt{2}} \\\\ 0 \\\\ \\frac{-1}{\\sqrt{2}} \\end{bmatrix} $ and standard matrix of T be A.\n",
    "\n",
    "A is orthogonal and $ v = I_n v = A^T A v = A^T e_2 $. So the second row of A is v.\n",
    "\n",
    "The other 2 rows of A are orthogonal to v.\n",
    "\n",
    "$ \\{ v \\}^{\\perp} = \\Big \\{ x: v^T x = 0 \\Big \\} $,  \n",
    "\n",
    "which has an orthonormal basis\n",
    "$ \\Big \\{ $\n",
    "$ \\begin{bmatrix} \\frac{1}{\\sqrt{2}} \\\\ 0 \\\\ \\frac{1}{\\sqrt{2}} \\end{bmatrix} $, \n",
    "$ \\begin{bmatrix} 0 \\\\ 1 \\\\ 0 \\end{bmatrix} $\n",
    "$ \\Big \\} $\n",
    "\n",
    "An acceptable matrix A = \n",
    "$ \\begin{bmatrix} \\frac{1}{\\sqrt{2}} & 0 & \\frac{1}{\\sqrt{2}} \\\\ \\frac{1}{\\sqrt{2}} & 0 & \\frac{-1}{\\sqrt{2}} \\\\ 0 & 1 & 0 \\end{bmatrix} $, "
   ]
  }
 ],
 "metadata": {
  "kernelspec": {
   "display_name": "Python [default]",
   "language": "python",
   "name": "python3"
  },
  "language_info": {
   "codemirror_mode": {
    "name": "ipython",
    "version": 3
   },
   "file_extension": ".py",
   "mimetype": "text/x-python",
   "name": "python",
   "nbconvert_exporter": "python",
   "pygments_lexer": "ipython3",
   "version": "3.5.2"
  }
 },
 "nbformat": 4,
 "nbformat_minor": 2
}
