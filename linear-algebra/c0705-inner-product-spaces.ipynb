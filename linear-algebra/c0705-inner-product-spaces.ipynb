{
 "cells": [
  {
   "cell_type": "markdown",
   "metadata": {},
   "source": [
    "## Unit 7.5 : Inner Product Spaces"
   ]
  },
  {
   "cell_type": "markdown",
   "metadata": {},
   "source": [
    "With the DOT PRODUCT defined in unit 6, we were able to study the following properties of R<sup>n</sup>\n",
    "\n",
    "1. Length or norm. $ \\lVert u \\rVert = \\sqrt{ u \\cdot u } $\n",
    "2. Distance of 2 vectors. $ \\lVert u - v \\rVert $\n",
    "3. Orthogonality of 2 vectors. $ u \\cdot v = 0 $"
   ]
  },
  {
   "cell_type": "markdown",
   "metadata": {},
   "source": [
    "How to describe the same properties of vectors in other types of vector spaces?\n",
    "\n",
    "For example,\n",
    "\n",
    "1. How to define the norm of the function f(x) in C([a,b]) ?\n",
    "2. How to determine polynomials f(x) and g(x) are orthogonal ?\n",
    "3. How to calculate the distance between 2 matrices A and B $ \\in \\mathcal{M}_{4 \\times 3} $"
   ]
  },
  {
   "cell_type": "markdown",
   "metadata": {},
   "source": [
    "### Definition : Inner Product\n",
    "\n",
    "Let V be a vector space over a field F (which is either R or C).  \n",
    "An **Inner Product** on V is a function that assigns a scalar in F to any pair of vectors u and v, denoted $ \\langle u,v \\rangle $,  \n",
    "such that, for any vectors u, v and w in V and any scalar c, the following axioms hold.\n",
    "\n",
    "**Axioms of an Inner Product**, (這些 dot product 都符合)\n",
    "\n",
    "1. $ \\langle u, u \\rangle \\in R $ and $ \\langle u,u \\rangle \\gt 0 $ if $ u \\ne 0 $\n",
    "2. $ \\langle u,v \\rangle = \\langle v,u \\rangle^{*} $\n",
    "3. $ \\langle u+v, \\ w \\rangle = \\langle u,w \\rangle + \\langle v,w \\rangle$\n",
    "4. $ \\langle cu,v \\rangle = c \\ \\langle u,v \\rangle $"
   ]
  },
  {
   "cell_type": "markdown",
   "metadata": {},
   "source": [
    "### Definition : Inner Product Space\n",
    "\n",
    "A vector space endowed with a particular inner product is called an **Inner Product Space**."
   ]
  },
  {
   "cell_type": "markdown",
   "metadata": {},
   "source": [
    "### Example\n",
    "\n",
    "$ V = C([a,b]) = \\big\\{ \\ f \\ | \\ f: \\ [a,b] \\to R, $ f is continuous $ \\big\\} $ is a vector space,  \n",
    "and the function <.,.> : $ V \\times V \\ \\to \\ R $ defined by \n",
    "\n",
    "$ \\langle f, g \\rangle = \\int_a^b \\ f(t) \\ g(t) \\ d_t $\n",
    "\n",
    "$ \\forall f, g \\in V $ is an inner product on V."
   ]
  },
  {
   "cell_type": "markdown",
   "metadata": {},
   "source": [
    "Proof.\n",
    "\n",
    "Axiom 1.\n",
    "\n",
    "$ f^2 $ is continuous and non-negative.\n",
    "\n",
    "$ f \\ne 0 \\to $  \n",
    "\n",
    "$ f^2(t_0) \\gt 0 $ for some $ t_0 \\in [a, b] \\to $\n",
    "\n",
    "$ f^2(t) \\gt p \\gt 0 , \\ \\  \\forall \\ \\big[ \\ t_0 - r/2, \\ t_0+r/2 \\big] \\subseteq [a,b] \\to $\n",
    "\n",
    "$ \\langle f, f \\rangle = \\int_a^b f^2 (t) \\ d_t \\ge r \\cdot p \\gt 0 $"
   ]
  },
  {
   "cell_type": "markdown",
   "metadata": {},
   "source": [
    "### Example : Frobenius Inner Product\n",
    "\n",
    "$ \\langle A, B \\rangle $ = trace $ (A\\ B^T) $ is the Frobenius Inner Product on $ R^{n \\times n} $.\n",
    "\n",
    "trace : 對角線上的元素相加。"
   ]
  },
  {
   "cell_type": "markdown",
   "metadata": {},
   "source": [
    "### Definition\n",
    "\n",
    "For any vector v in an inner product space V,  \n",
    "the **norm** or length of v is denoted and defined as $ \\lVert v \\rVert = \\langle v, v \\rangle^{1/2} $\n",
    "\n",
    "The **distance** between $ u, v \\in V $ is defined as $ \\lVert u - v \\rVert $"
   ]
  },
  {
   "cell_type": "markdown",
   "metadata": {},
   "source": [
    "### Example\n",
    "\n",
    "The Frobenius norm in $ R^{n \\times n} $ is $ \\lVert A \\rVert = \\big( \\sum_{1 \\le i, j \\le n} (a_{ij})^2 \\big)^{1/2} $,\n",
    "\n",
    "since $ \\langle A, B \\rangle $ = trace $ (A\\ B^T) = \\sum_{1 \\le i,j \\le n} a_{ij} b_{ij} $"
   ]
  },
  {
   "cell_type": "markdown",
   "metadata": {},
   "source": [
    "### Property\n",
    "\n",
    "Inner products and norms satisfy the elementary properties  \n",
    "stated in Theorem 6.1, the Cauchy-Schewarz inequality,  \n",
    "and the triangle inequality in Unit 6.1."
   ]
  },
  {
   "cell_type": "markdown",
   "metadata": {},
   "source": [
    "- ( a ) $ \\vec{u} \\ \\cdot \\ \\vec{u} = \\lVert u \\rVert^2 $\n",
    "- ( b ) $ \\vec{u} \\ \\cdot \\ \\vec{u} = 0 $ iff. $ \\vec{u} = \\vec{0} $\n",
    "- ( c ) $ \\vec{u} \\ \\cdot \\ \\vec{v} = \\vec{v} \\ \\dot \\ \\vec{u} $\n",
    "- ( d ) $ \\vec{u} \\ \\cdot \\ ( \\vec{v} + \\vec{w} ) = \\vec{u} \\cdot \\vec{v} + \\vec{u} \\cdot \\vec{w} $\n",
    "- ( e ) $ ( \\vec{v} + \\vec{w} ) \\ \\cdot \\ \\vec{u} = \\vec{v} \\cdot \\vec{u} + \\vec{w} \\cdot \\vec{u} $\n",
    "- ( f ) $ ( c \\vec{u} ) \\ \\dot \\ \\vec{v} =  c ( \\vec{u} \\cdot \\vec{v} ) = \\vec{u} \\cdot ( c \\cdot \\vec{v} ) $\n",
    "- ( g ) $ \\lVert c u \\rVert = \\lvert c \\rvert \\ \\lVert u \\rVert $"
   ]
  },
  {
   "cell_type": "markdown",
   "metadata": {},
   "source": [
    "#### Pythagorean Theorem\n",
    "\n",
    "u and v are orthogonal iff\n",
    "\n",
    "$ \\lVert u + v \\rVert = \\lVert u \\rVert^2 + \\lVert u \\rVert^2 $"
   ]
  },
  {
   "cell_type": "markdown",
   "metadata": {},
   "source": [
    "#### Cauchy-Schwarz Inequality\n",
    "\n",
    "$ \\lvert \\langle u, v \\rangle \\lvert \\le \\lVert u \\rVert \\ \\cdot \\ \\lVert v \\rVert $"
   ]
  },
  {
   "cell_type": "markdown",
   "metadata": {},
   "source": [
    "#### Triangle Inequality\n",
    "\n",
    "$ \\lVert u + v \\lVert \\le \\lVert u \\rVert + \\lVert v \\rVert $"
   ]
  },
  {
   "cell_type": "markdown",
   "metadata": {},
   "source": [
    "### Example : A Cauchy-Schewarz inequality in C([a,b])\n",
    "\n",
    "$ \\big( \\int_a^b f(t) g(t) d_t \\big)^2 \\le \\big( \\int_a^b f^2(t) d_t \\big) \\ \\big( \\int_a^b g^2(t) d_t \\big) $"
   ]
  },
  {
   "cell_type": "markdown",
   "metadata": {},
   "source": [
    "### Definitions\n",
    "\n",
    "In an inner product space V, the vectors u,v are called **orthogonal** if $ \\langle u, v \\rangle = 0 $,\n",
    "\n",
    "a vector u is called a **unit vector** if $ \\lVert u \\rVert = 1 $,\n",
    "\n",
    "a subset S is called orthogonal if $ \\langle u, v \\rangle = 0$ for all distinct $ u,v \\in S $,\n",
    "\n",
    "and S is called **orthonormal** if S is orthogonal and $ \\lVert u \\rVert = 1, \\forall \\ u \\in S $"
   ]
  },
  {
   "cell_type": "markdown",
   "metadata": {},
   "source": [
    "### Properties\n",
    "\n",
    "1. Every nonzero vector v in an inner product space may be changed into a unit **normalized vector** : $ \\frac{v}{\\lVert v \\rVert} $\n",
    "2. An orthogonal set of nonzero vectors is L.I., no matter the set is finite or infinite."
   ]
  },
  {
   "cell_type": "markdown",
   "metadata": {},
   "source": [
    "### Example\n",
    "\n",
    "Note: 三角積化和差公式  \n",
    "$ \\sin(a+b) = \\sin(a) \\cos(b) + \\cos(a) \\sin(b) $  \n",
    "$ \\sin(a-b) = \\sin(a) \\cos(b) - \\cos(a) \\sin(b) $  \n",
    "$ \\to 2 \\times \\sin(a) \\cos(b) = \\sin(a+b) + \\sin(a-b) $  "
   ]
  },
  {
   "cell_type": "markdown",
   "metadata": {},
   "source": [
    "In the inner product space of $ C([0, 2\\pi]) $, the vectors: \n",
    "\n",
    "$ \\Big \\{ f(t) = \\sin(3t), g(t) = \\cos(2t) \\Big \\} $ are orthogonal, since,"
   ]
  },
  {
   "cell_type": "markdown",
   "metadata": {},
   "source": [
    "$$ \\langle f, g \\rangle = \\int_0^{2\\pi} \\sin(3t) \\cos(2t) d_t = \\frac{1}{2} \\int_0^{2\\pi} \\big[ \\sin(5t) + \\sin(t) \\big] d_t = 0 $$"
   ]
  },
  {
   "cell_type": "markdown",
   "metadata": {},
   "source": [
    "Note: $ \\int_0^{2\\pi} sin(x) = 0 $ 因為在一個週期($ 2 \\pi $) 中，sin 的積分互相抵消。"
   ]
  },
  {
   "cell_type": "markdown",
   "metadata": {},
   "source": [
    "### Example\n",
    "\n",
    "In the vector space of trigonometric polynomials\n",
    "\n",
    "$ \\mathcal{T}[0, 2 \\pi] $ = \n",
    "Span $ \\begin{Bmatrix} 1,& \\cos t,& \\sin t,& \\cos 2t,& \\sin 2t, & \\cdots,& \\cos nt,& \\sin nt, \\cdots \\end{Bmatrix} $  \n",
    "= Span S\n",
    "\n",
    "S is orthogonal, since:\n",
    "\n",
    "$$ \\langle \\cos nt, \\sin mt \\rangle = \\int_0^{2\\pi} \\big[ \\cos nt \\times \\sin mt \\big] d_t = 0, \\forall n,m \\ge 0 $$\n",
    "$$ \\langle \\cos nt, \\cos mt \\rangle = \\int_0^{2\\pi} \\big[ \\cos nt \\times \\cos mt \\big] d_t = 0, \\forall n \\ne m $$\n",
    "$$ \\langle \\sin nt, \\sin mt \\rangle = \\int_0^{2\\pi} \\big[ \\sin nt \\times \\sin mt \\big] d_t = 0, \\forall n \\ne m $$\n",
    "\n",
    "$ \\to \\mathcal{S} $ is a basis of $ \\mathcal{T}[0, 2 \\pi] $"
   ]
  },
  {
   "cell_type": "markdown",
   "metadata": {},
   "source": [
    "### Gram-Schmidt Process\n",
    "\n",
    "從一組 basis (線性獨立) 找到 orthogonal basis.\n",
    "\n",
    "Let { $ u_1, u_2, \\cdots, u_k $ } be a basis for a inner product space V. Define\n",
    "\n",
    "$ v_1 = u_1 $,\n",
    "\n",
    "$ v_2 = u_2 - \\frac{ \\langle u_2,v_1 \\rangle }{\\lVert v_1 \\rVert^2} \\vec{v_1} $\n",
    "\n",
    "...\n",
    "\n",
    "$ v_k = u_k - \\frac{ \\langle u_k,v_1 \\rangle }{\\lVert v_1 \\rVert^2} \\vec{v_1} - \n",
    "\\frac{ \\langle u_k,v_2 \\rangle }{\\lVert v_2 \\rVert^2} \\vec{v_2} - \n",
    "\\cdots - \n",
    "\\frac{ \\langle u_k,v_{k-1} \\rangle }{\\lVert v_{k-1} \\rVert^2} \\vec{v_{k-1}} $\n",
    "\n",
    "Then { $ v_1, v_2, \\cdots, v_i $ } is an orthogonal set of nonzero vectors such that\n",
    "\n",
    "Span { $ v_1, v_2, \\cdots, v_i $ } = Span { $ u_1, u_2, \\cdots, u_k $ }\n",
    "\n",
    "for each i. So { $ v_1, v_2, \\cdots, v_k $ } is an orthogonal basis for V."
   ]
  },
  {
   "cell_type": "markdown",
   "metadata": {},
   "source": [
    "### Corollary\n",
    "\n",
    "Every finite-dimensional inner product space has an orthonormal basis."
   ]
  },
  {
   "cell_type": "markdown",
   "metadata": {},
   "source": [
    "### Example\n",
    "\n",
    "$ \\mathcal{P}_2 $ is a inner product space with the following inner product:\n",
    "\n",
    "$$ \\langle f,g \\rangle = \\int_{-1}^1 \\big[ f(x) \\ g(x) \\big] d_x $$\n",
    "\n",
    "$ \\forall f,g \\in \\mathcal{P}_2 $, find the orthogonal basis { $ v_1, v_2, v_3 $ } from the basis B = { $ 1, x, x^2 $ } = { $ u_1, u_2, u_3 $ }"
   ]
  },
  {
   "cell_type": "markdown",
   "metadata": {},
   "source": [
    "> By the Gram-Schmidt Process\n",
    "\n",
    "$ v_1 = u_1 = 1 $\n",
    "\n",
    "$$ v_2 \n",
    "= u_2 - \\frac{\\langle u_2, v_1 \\rangle}{\\lVert v_1 \\rVert^2} v_1 \n",
    "= x - \\frac{ \\int_{-1}^1 [ x \\times 1 ] d_x }{ \\int_{-1}^1  1^2 d_x } v_1\n",
    "= x - 0 = x\n",
    "$$\n",
    "\n",
    "$$ v_3 \n",
    "= u_3 - \\frac{\\langle u_3, v_1 \\rangle}{\\lVert v_1 \\rVert^2} v_1 - \\frac{\\langle u_3, v_2 \\rangle}{\\lVert v_2 \\rVert^2} v_2 \n",
    "= x^2 - \\frac{ \\int_{-1}^1 [ x^2 \\times 1 ] d_x }{ \\int_{-1}^1  x^2 d_x } v_1\n",
    "= x^2 - \\frac{2/3}{2} = x^2 - \\frac{1}{3}\n",
    "$$"
   ]
  },
  {
   "cell_type": "markdown",
   "metadata": {},
   "source": [
    "So an orthogonal basis is $ \\Big \\{ 1, \\ \\ x, \\ \\ x^2 - \\frac{1}{3} \\Big \\} $,\n",
    "\n",
    "To find the orthonormal basis, devide by each vector's norm:\n",
    "\n",
    "$$ \\lVert v_1 \\rVert = \\sqrt{ \\int_{-1}^1 \\big[ 1 \\times 1 \\big] d_x } = \\sqrt{2} $$\n",
    "\n",
    "$$ \\lVert v_2 \\rVert = \\sqrt{ \\int_{-1}^1 \\big[ x \\times x \\big] d_x } = \\sqrt{\\frac{2}{3}} $$\n",
    "\n",
    "$$ \\lVert v_2 \\rVert = \\sqrt{ \\int_{-1}^1 \\big[ x^2 - \\frac{1}{3} \\big] d_x } = \\sqrt{\\frac{8}{45}} $$"
   ]
  },
  {
   "cell_type": "markdown",
   "metadata": {},
   "source": [
    "So the orthonormal basis is :\n",
    "\n",
    "$$ \\begin{Bmatrix} \\frac{1}{\\sqrt{2}}, & \\sqrt{\\frac{3}{2}} x, & \\sqrt{\\frac{45}{8}} (x^2 - \\frac{1}{3}) \\end{Bmatrix} $$"
   ]
  },
  {
   "cell_type": "markdown",
   "metadata": {},
   "source": [
    "### Normalized Legendre Polynomials\n",
    "\n",
    "For P with the same inner product and the basis B = { $ 1, x, x^2, \\cdots $ },  \n",
    "the same procedure may be applied to obtain an orthonormal basis { $ p_0(x), p_1(x), p_2(x), \\cdots $ },  \n",
    "called **Normalized Legendre Polynomials**.\n",
    "\n",
    "上面的例子，就是前三項。"
   ]
  },
  {
   "cell_type": "markdown",
   "metadata": {},
   "source": [
    "### Proposition : Orthogonal Projection of v onto W\n",
    "\n",
    "Suppose that V is an inner product space and W is a finite-dimensional subspace of V.  \n",
    "For every v in V, there exist unique $ w \\in W $ and $ z \\in W^{\\perp} $ such that v = w + z.\n",
    "\n",
    "The vector w is called the orthogonal projection of v onto W, and we have\n",
    "\n",
    "$$ w = \\langle v, v_1 \\rangle v_1 + \\langle v, v_2 \\rangle v_2 + \\cdots + \\langle v, v_n \\rangle v_n $$\n",
    "\n",
    "if { $ v_1, v_2, \\cdots, v_n $ } is an orthonormal basis of W."
   ]
  },
  {
   "cell_type": "markdown",
   "metadata": {},
   "source": [
    "### Corollary\n",
    "\n",
    "Under the notations in the above Proposition, among all vectors in W, the vectors closest to v is w."
   ]
  },
  {
   "cell_type": "markdown",
   "metadata": {},
   "source": [
    "### Least-Square Approximation\n",
    "\n",
    "Since the closeness is measured by the distance,  \n",
    "which involves the sum (integral) of a square of the difference vector (function),  \n",
    "the closest vector is called the **Least-Square Approximation**"
   ]
  },
  {
   "cell_type": "markdown",
   "metadata": {},
   "source": [
    "### Example\n",
    "\n",
    "$ \\mathcal{P}_2 $ with the inner product $ \\langle f,g \\rangle = \\int_{-1}^1 f(x) g(x) d_x, \\forall f, g \\in \\mathcal{P}_2 $ is a finite-dimensional subspace of C([-1, 1]).  \n",
    "\n",
    "To $ v = f(x) = \\sqrt[3]{x} \\in C([-1, 1]) $, the least-squares aproximation by a polynomial with degree &le; 2 is  \n",
    "the orthogonal projection of f onto $ \\mathcal{P}_2 $\n",
    "\n",
    "Thus take the **orthonormal basis** { $ v_1, v_2, v_3 $ } = $ \\begin{Bmatrix} \\frac{1}{\\sqrt{2}}, & \\sqrt{\\frac{3}{2}} x, & \\sqrt{\\frac{45}{8}} (x^2 - \\frac{1}{3}) \\end{Bmatrix} $"
   ]
  },
  {
   "cell_type": "markdown",
   "metadata": {},
   "source": [
    "Note: \n",
    "even function : $ v_1, v_3 $  \n",
    "odd function : $ v, v_2 $\n",
    "\n",
    "對 odd function 做 -1 到 1 的積分結果是 0；$ v \\cdot v_1 $ 是odd function， 所以 $ \\langle v, v_1 \\rangle = 0 $。同理 $ \\langle v, v_3 \\rangle = 0 $"
   ]
  },
  {
   "cell_type": "markdown",
   "metadata": {},
   "source": [
    "and get\n",
    "\n",
    "$ w = \\langle v, v_1 \\rangle v_1 + \\langle v, v_2 \\rangle v_2 + \\langle v, v_3 \\rangle v_3 $\n",
    "\n",
    "$$ = \\Big( \\int_{-1}^1 \\sqrt[3]{x} \\cdot \\sqrt{\\frac{3}{2}} x \\ d_x \\Big) \\sqrt{\\frac{3}{2}} x = \\frac{9}{7} x $$"
   ]
  }
 ],
 "metadata": {
  "celltoolbar": "Raw Cell Format",
  "kernelspec": {
   "display_name": "Python [default]",
   "language": "python",
   "name": "python3"
  },
  "language_info": {
   "codemirror_mode": {
    "name": "ipython",
    "version": 3
   },
   "file_extension": ".py",
   "mimetype": "text/x-python",
   "name": "python",
   "nbconvert_exporter": "python",
   "pygments_lexer": "ipython3",
   "version": "3.5.2"
  }
 },
 "nbformat": 4,
 "nbformat_minor": 2
}
