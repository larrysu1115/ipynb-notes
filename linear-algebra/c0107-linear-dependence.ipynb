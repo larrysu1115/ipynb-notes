{
 "cells": [
  {
   "cell_type": "markdown",
   "metadata": {},
   "source": [
    "## Unit 1.7 : Linear Dependence & Independence\n",
    "\n",
    "Given a set of vectors, 如何判斷其中有任何 vector 為其他 vector 的 線性組合 ?\n",
    "\n",
    "### Def. Linear Dependence (L.D.)\n",
    "\n",
    "A set of k vectors $ \\{ u_1, u_2, \\cdots, u_k \\} $ in $ \\mathcal{R}^n $ is called **Linearly Dependent** if exists scalars $ c_1, c_2, \\cdots, c_k $, **NOT ALL ZERO**, such that:\n",
    "\n",
    "$ c_1 u_1 + c_2 u_2 + \\cdots + c_k u_k = 0 $\n",
    "\n",
    "上述情況，如果該方程式成立的唯一解為:  scalars 都是零 c1 = c2 = ... = ck = 0, 則稱為 the vectors u1, ..., uk are **Linearly Independent**"
   ]
  },
  {
   "cell_type": "markdown",
   "metadata": {},
   "source": [
    "### Property\n",
    "\n",
    "- 任何包含 0 向量 的集合 為 L.D. , 因為 $ 1 \\times \\vec{0} + 0 \\times u_1 + \\cdots + 0 \\times u_k = 0 $\n",
    "\n",
    "### Property\n",
    "\n",
    "- The set $ \\{ u_1, u_2, \\cdots, u_k \\} $ is L.D. iff. A x = 0 has a NON-ZERO solution, where A = $ [ u_1, u_2, \\cdots, u_k ] $\n",
    "\n",
    "### Example\n",
    "\n",
    "$ \\mathcal{S}_4 $ = $ \\begin{Bmatrix}\n",
    "\\begin{bmatrix} 2 \\\\ 0 \\\\ 1 \\end{bmatrix}, \n",
    "\\begin{bmatrix}-1 \\\\ 3 \\\\ 2 \\end{bmatrix}, \n",
    "\\begin{bmatrix} 1 \\\\ 1 \\\\ 1 \\end{bmatrix}, \n",
    "\\begin{bmatrix} 4 \\\\ -2 \\\\ 3 \\end{bmatrix} \\end{Bmatrix} $ \n",
    "\n",
    "是否為 L.D. ?\n",
    "\n",
    "從下面的計算中, $ \\mathcal{A} \\vec{x} = \\vec{b} $ 有 free variable $ x_4 $, 可產生多組非零的解，其中任一取一組解: [-7, -2 ,8, 1]\n",
    "\n",
    "即可說明 為 L.D. 線性依賴\n",
    "\n",
    "如果將 $ \\vec{v_4} = [4, -2, 3]^T $ 移除，就會變成 線性獨立 L.I. (下面計算中的 A2)\n",
    "\n",
    "因為 $ \\vec{v_4} $ 是其他 $ \\vec{v_1}, \\vec{v_2}, \\vec{v_3} $ 的線性組合"
   ]
  },
  {
   "cell_type": "code",
   "execution_count": 21,
   "metadata": {
    "collapsed": false,
    "scrolled": true
   },
   "outputs": [
    {
     "name": "stdout",
     "output_type": "stream",
     "text": [
      "array A: \n",
      "    x1  x2  x3  x4\n",
      "r1   2  -1   1   4\n",
      "r2   0   3   1  -2\n",
      "r3   1   2   1   3\n",
      "-----------------------\n",
      "array R: (Reduced Echelon Form) \n",
      "(Matrix([\n",
      "[1.0,   0,   0,  7.0],\n",
      "[  0, 1.0,   0,  2.0],\n",
      "[  0,   0, 1.0, -8.0]]), [0, 1, 2])\n",
      "-----------------------\n",
      "vector x (Non Zero Solution): \n",
      "x1   -7\n",
      "x2   -2\n",
      "x3    8\n",
      "x4    1\n",
      "dtype: int64\n",
      "-----------------------\n",
      "result vector b of \"Ax = b\":\n",
      "r1    0\n",
      "r2    0\n",
      "r3    0\n",
      "dtype: int64\n",
      "\n",
      "-----------------------\n",
      "將 v4 移除，變成線性獨立的例子 Linear Independent\n",
      "array A2 (L.I.): \n",
      "    x1  x2  x3\n",
      "r1   2  -1   1\n",
      "r2   0   3   1\n",
      "r3   1   2   1\n",
      "-----------------------\n",
      "array R2: (Reduced Echelon Form) \n",
      "(Matrix([\n",
      "[1.0,   0,   0],\n",
      "[  0, 1.0,   0],\n",
      "[  0,   0, 1.0]]), [0, 1, 2])\n"
     ]
    }
   ],
   "source": [
    "import pandas as pd\n",
    "import sympy\n",
    "\n",
    "A = pd.DataFrame({'x1': [ 2, 0, 1], \n",
    "                  'x2': [-1, 3, 2],\n",
    "                  'x3': [ 1, 1, 1],\n",
    "                  'x4': [ 4,-2, 3]\n",
    "                  }, index=['r1','r2','r3'])\n",
    "R = sympy.Matrix(A.as_matrix()).rref()\n",
    "x = pd.Series([-7, -2, 8, 1], index=['x1', 'x2', 'x3', 'x4'])\n",
    "b = A.dot(x)\n",
    "print('array A: \\n%s' % A)\n",
    "print('-----------------------')\n",
    "print('array R: (Reduced Echelon Form) \\n%s' % repr(R))\n",
    "print('-----------------------')\n",
    "print('vector x (Non Zero Solution): \\n%s' % x)\n",
    "print('-----------------------')\n",
    "print('result vector b of \"Ax = b\":\\n%s' % b)\n",
    "\n",
    "# remove v_4, A_2 will be L.I.\n",
    "A2 = pd.DataFrame({'x1': [ 2, 0, 1], \n",
    "                   'x2': [-1, 3, 2],\n",
    "                   'x3': [ 1, 1, 1]\n",
    "                  }, index=['r1','r2','r3'])\n",
    "R2 = sympy.Matrix(A2.as_matrix()).rref()\n",
    "print('\\n-----------------------')\n",
    "print('將 v4 移除，變成線性獨立的例子 Linear Independent')\n",
    "print('array A2 (L.I.): \\n%s' % A2)\n",
    "print('-----------------------')\n",
    "print('array R2: (Reduced Echelon Form) \\n%s' % repr(R2))"
   ]
  },
  {
   "cell_type": "markdown",
   "metadata": {},
   "source": [
    "### Theorem 1.8 : L.I. conditions\n",
    "\n",
    "The following statements are equivalent for an matrix A of size m &times; n\n",
    "\n",
    "1. The columns of A are Linearly Independent.\n",
    "1. The equation A x = b has at most one solution for each $ \\vec{b} $ in $ \\mathcal{R}^m $\n",
    "1. The NULLITY of A is ZERO\n",
    "1. The RANK of A is **n**, the number of columns of A.\n",
    "1. The columns of the Reduced Row Echelon Form of A are distinct standard vectors in $ \\mathcal{R}^m $\n",
    "1. The only solution of A x = 0 is $ \\vec{0} $\n",
    "1. There is a pivot position in each column of A"
   ]
  },
  {
   "cell_type": "markdown",
   "metadata": {},
   "source": [
    "### Def. Homogeneous sys. of linear equations\n",
    "\n",
    "A system of linear equations Ax=b is called homogeneous is b = $ \\vec{0} $\n",
    "\n",
    "### Properties\n",
    "\n",
    "Properties of a homogeneous system of linear equation: Ax=0\n",
    "\n",
    "1. 總是有解 Consistent: x=0\n",
    "2. 如果有非零解, Columns of A are L.D.\n",
    "3. 如果 variables 數量 &gt; equations 數量，則存在 free variable，就有非零解\n"
   ]
  },
  {
   "cell_type": "markdown",
   "metadata": {},
   "source": [
    "### Property: parametric representation\n",
    "\n",
    "當由 Ax=0 獲得 Parametric Representation of the general solution, 該表示法中的 Vectors 為 L.I 線性獨立。\n",
    "\n",
    "Example:\n",
    "\n",
    "A x = 0 with A = $ \\begin{bmatrix} \n",
    "1 & -4 & 2 & -1 & 2 \\\\\n",
    "2 & -8 & 3 &  2 & 1\n",
    "\\end{bmatrix} $\n",
    "\n",
    "RREF. of [ A 0 ] = $ \\begin{bmatrix} \n",
    "1 & -4 & 0 &  7 & -8 & 0 \\\\\n",
    "0 &  0 & 1 & -4 &  5 & 0\n",
    "\\end{bmatrix} $\n",
    "\n",
    "the general solution: $ \\begin{cases}\n",
    "x_1 = & 4 x_2 & -7 x_4 & +8 x_5 \\\\\n",
    "x_2 : & free \\\\\n",
    "X_3 = &       &  4 x_4 & -5 x_5 \\\\\n",
    "x_4 : & free \\\\\n",
    "x_5 : & free\n",
    "\\end{cases} $\n",
    "\n",
    "**Parametric representation of the general solution** :\n",
    "$ \\begin{bmatrix} x_1 \\\\ x_2 \\\\ x_3 \\\\ x_4 \\\\ x_5 \\end{bmatrix} $ =\n",
    "$ \\begin{bmatrix} \n",
    "4 x_2 & -7 x_4 & +8 x_5 \\\\\n",
    "  x_2                   \\\\\n",
    "      &  4 x_4 & -5 x_5 \\\\\n",
    "      &    x_4          \\\\\n",
    "      &        & x_5\n",
    "\\end{bmatrix} $ = \n",
    "$ x_2 \\begin{bmatrix}  4 \\\\ 1 \\\\  0 \\\\ 0 \\\\ 0 \\end{bmatrix} $ +\n",
    "$ x_4 \\begin{bmatrix} -7 \\\\ 0 \\\\  4 \\\\ 0 \\\\ 1 \\end{bmatrix} $ +\n",
    "$ x_5 \\begin{bmatrix}  8 \\\\ 0 \\\\ -5 \\\\ 0 \\\\ 1 \\end{bmatrix} $\n",
    "\n",
    "令 $ \\mathcal{S} $ = 最終參數解的三個向量 $ \\in \\mathcal{R}^5 $, S 是線性獨立 Linear Independent，因為 其中的 pivot position = 1 皆不可被另外兩個向量的非零線性組合產生。\n"
   ]
  },
  {
   "cell_type": "markdown",
   "metadata": {},
   "source": [
    "### Theorem 1.9\n",
    "\n",
    "Vectors $ u_1, u_2, \\cdots, u_k $ in $ \\mathcal{R}^n $ 是 線性獨立 L.D. \n",
    "\n",
    "iif. $ u_1 = 0 $ or 存在 i &ge; 2 使得 $ u_i $ 是在它之前的向量 $ u_1, u_2, \\cdots, u_{i-1} $ 的線性組合"
   ]
  },
  {
   "cell_type": "markdown",
   "metadata": {},
   "source": [
    "### Properties of L.D. and L.I. Sets\n",
    "\n",
    "1. For a 1-vector set: {u} is L.I. as long as u &ne; 0. The set {0} is L.D.\n",
    "1. For a 2-vector set: $ \\{ u_1, u_2 \\} $ is L.D iff. $ u_1 = 0 $ or one vector is multiple of the other.\n",
    "1. Let $ \\mathcal{S} = \\{ u_1, u_2, \\cdots, u_k \\} $ be a L.I. subset of $ \\mathcal{R}^n $, and $ v \\in \\mathcal{R}^n $. Then: $ v \\notin Span \\mathcal{S} \\iff \\mathcal{S} \\cup \\{ v \\} $ is L.I.\n",
    "1. Every subset of $ \\mathcal{R}^n $ containing more than n vectors must be L.D.\n",
    "1. No vector can be removed from a set $ \\mathcal{S} \\subset \\mathcal{R}^n $ without changing its span &Implies; S is L.I."
   ]
  }
 ],
 "metadata": {
  "anaconda-cloud": {},
  "kernelspec": {
   "display_name": "Python [default]",
   "language": "python",
   "name": "python3"
  },
  "language_info": {
   "codemirror_mode": {
    "name": "ipython",
    "version": 3
   },
   "file_extension": ".py",
   "mimetype": "text/x-python",
   "name": "python",
   "nbconvert_exporter": "python",
   "pygments_lexer": "ipython3",
   "version": "3.5.2"
  }
 },
 "nbformat": 4,
 "nbformat_minor": 1
}
