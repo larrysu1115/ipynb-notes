{
 "cells": [
  {
   "cell_type": "markdown",
   "metadata": {},
   "source": [
    "## Unit 4 Subspaces\n",
    "\n",
    "### Definition: Subspace\n",
    "\n",
    "A subset W of $ mathcal{R}^n $ is called a **subspace** of $ mathcal{R}^n $ if W has the following properties:\n",
    "\n",
    "1. The _zero vector_ &in; W (通過原點)\n",
    "1. When u and v are belong to W, then u+v also belongs to W. (W is closed under vector addition)\n",
    "1. if u &in; W and c is a scalar, then c &times; u &in; W (W is closed under scalar multiplication)\n",
    "\n",
    "### Example: NOT subspace\n",
    "\n",
    "$ S_1 = \\left \\{ \\begin{bmatrix} w_1 \\\\ w_2 \\end{bmatrix} \\in R^2 : w_1 \\ge 0, w_2 \\ge 0 \\right \\} $\n",
    "\n",
    "不是 subspace, 因為 [1, 1] &in; S1, but (-1) [1, 1] &notin; S1\n",
    "\n",
    "### Example: YES is subspace\n",
    "\n",
    "$ W = \\left \\{ \\begin{bmatrix} w_1 \\\\ w_2 \\\\ w_3 \\end{bmatrix} \\in R^3 : 6 w_1 - 5 w_2 + 4 w_3 = 0 \\right \\} $\n",
    "\n",
    "### Theorem 4.1\n",
    "\n",
    "The span of a finite nonempty subset of $ R^n $ is a subspace of $ R^n $\n",
    "\n",
    "### Example:\n",
    "\n",
    "$ W = \\left \\{ \\begin{bmatrix} 2a - 3b \\\\ b \\\\ -a + 4b \\end{bmatrix} \\in R^3 : a \\in R \\ \\ and \\ \\ b \\in R = 0 \\right \\} $\n",
    "= Span $ \\{ \\begin{bmatrix} 2 \\\\ 0 \\\\ -1 \\end{bmatrix} $ , $ \\begin{bmatrix} -3 \\\\ 1 \\\\ 4 \\end{bmatrix} \\in R^3 \\} $\n",
    "\n",
    "W is a subspace of $ R^3 $"
   ]
  },
  {
   "cell_type": "markdown",
   "metadata": {},
   "source": [
    "### Definition: Null A\n",
    "\n",
    "NULL Space of a matrix A, denoted \"Null A\".  \n",
    "A $ \\in R^{m \\times n} \\implies Null \\  A = { \\vec{v} \\in R^n : A \\vec{v} = 0 } $,  \n",
    "the solution set of the homogeneous system of linear equation.\n",
    "\n",
    "### Theorem 4.2\n",
    "\n",
    "If A is an m &times; n matrix, then Null A is a subspace of $ R^n $.\n",
    "\n",
    "Proof  \n",
    "\n",
    "- $ \\vec{0} \\in Null  \\ \\ A, \\because \\ \\ A \\cdot \\vec{0} = \\vec{0} $\n",
    "- $ \\vec{u}, \\vec{v} \\in Null \\ \\ A, A \\vec{u} = A \\vec{v} = \\vec{0} = A ( \\vec{u} + \\vec{v} ) $\n",
    "- $ c \\times \\vec{u} \\cdots $"
   ]
  },
  {
   "cell_type": "markdown",
   "metadata": {},
   "source": [
    "### Example\n",
    "\n",
    "$ A = \\begin{bmatrix} 1 & 2 & 1 & -1 \\\\ 2 & 4 & 0 & -8 \\\\ 0 & 0 & 2 & 6 \\end{bmatrix} $\n",
    "\n",
    "Is $ \\vec{u} = \\begin{bmatrix} 2 \\\\ -3 \\\\ 3 \\\\ 1 \\end{bmatrix} \\in Null \\ \\ A $ ?\n",
    "\n",
    "Is $ \\vec{u} = \\begin{bmatrix} 5 \\\\ -3 \\\\ 2 \\\\ 1 \\end{bmatrix} \\in Null \\ \\ A $ ?\n",
    "\n",
    "Parametric form of the general solution to $ A \\vec{x} = \\vec{0} : \\ \\ \n",
    "\\begin{bmatrix} x_1 \\\\ x_2 \\\\ x_3 \\\\ x_4 \\end{bmatrix} =\n",
    "\\begin{bmatrix} -2 x_2 + 4 x_4 \\\\ x_2 \\\\ -3 x_4 \\\\ x_4 \\end{bmatrix} =\n",
    "x_2 \\ \\ \\begin{bmatrix} -2 \\\\ 1 \\\\ 0 \\\\ 0 \\end{bmatrix} +\n",
    "x_4 \\ \\ \\begin{bmatrix} 4 \\\\ 0 \\\\ -3 \\\\ 1 \\end{bmatrix} $\n",
    "\n",
    "**Null A** = Span $ \\left \\{ \\ \\begin{bmatrix} -2 \\\\ 1 \\\\ 0 \\\\ 0 \\end{bmatrix}, \\ \\begin{bmatrix} 4 \\\\ 0 \\\\ -3 \\\\ 1 \\end{bmatrix}\\right \\} $\n",
    "\n",
    "A u=[0   0  0] $ \\to \\ \\ u \\ \\ \\in $ Null A  \n",
    "A v=[0 -10 10] $ \\to \\ \\ v \\ \\ \\notin $ Null A  \n",
    "See below python calculation:"
   ]
  },
  {
   "cell_type": "code",
   "execution_count": 1,
   "metadata": {
    "collapsed": false
   },
   "outputs": [
    {
     "name": "stdout",
     "output_type": "stream",
     "text": [
      "\n",
      "product of A v : [0, 0, 0]\n",
      "product of A u : [0, -10, 10]\n"
     ]
    }
   ],
   "source": [
    "import sympy\n",
    "A = sympy.Matrix(3, 4, [1,2,1,-1,\n",
    "                        2,4,0,-8,\n",
    "                        0,0,2, 6])\n",
    "u = [2,-3,3,-1]\n",
    "v = [5,-3,2, 1]\n",
    "print()\n",
    "print('product of A v : %s' % A.dot(u))\n",
    "print('product of A u : %s' % A.dot(v))"
   ]
  },
  {
   "cell_type": "markdown",
   "metadata": {},
   "source": [
    "### Definition: Column Space\n",
    "\n",
    "The column space of a matrix A is the span of its columns. It is denoted Col A.\n",
    "\n",
    "$ A \\in R^{m \\times n} \\implies Col \\ \\ A = \\{ A \\vec{v} : \\vec{v} \\in R^n \\}, \\ \\ Col \\ \\ A \\subset R^m $\n",
    "\n",
    "### Definition: Row Space\n",
    "\n",
    "The row space of a matrix A, denoted as \"Row A\", is the subspace of $ R^m $ spanned by the rows of A\n",
    "\n",
    "$ Row \\ \\ A = Col \\ \\ A^T, \\ \\ Row \\ \\ A \\subset R^n $\n",
    "\n",
    "note: $ Null \\ A \\subset R^n $\n",
    "\n",
    "### Example\n",
    "\n",
    "$ A = \\begin{bmatrix} 1 & 2 & 1 & -1 \\\\ 2 & 4 & 0 & -8 \\\\ 0 & 0 & 2 & 6 \\end{bmatrix} $\n",
    "\n",
    "$ \\vec{u} = \\begin{bmatrix} 2 \\\\ 1 \\\\ 1 \\end{bmatrix} \\in Col \\ \\ A ? $\n",
    "\n",
    "$ \\vec{v} = \\begin{bmatrix} 2 \\\\ 1 \\\\ 3 \\end{bmatrix} \\in Col \\ \\ A ? $\n",
    "\n",
    "see calculation below,  \n",
    "u $ \\notin $ Col A, &because; [A u] is inconsistant  \n",
    "v $ \\in $ Col A, &because; [A v] is consistant with solution such as: [2.5, 1, -1.5, 1]\n"
   ]
  },
  {
   "cell_type": "code",
   "execution_count": 2,
   "metadata": {
    "collapsed": false
   },
   "outputs": [
    {
     "name": "stdout",
     "output_type": "stream",
     "text": [
      "\n",
      "[A u] is inconsistent (Matrix([\n",
      "[1, 2, 0, -4, 0],\n",
      "[0, 0, 1,  3, 0],\n",
      "[0, 0, 0,  0, 1]]), [0, 2, 4])\n",
      "[A v] is inconsistent (Matrix([\n",
      "[1, 2, 0, -4, 1/2],\n",
      "[0, 0, 1,  3, 3/2],\n",
      "[0, 0, 0,  0,   0]]), [0, 2])\n"
     ]
    }
   ],
   "source": [
    "from sympy import Matrix\n",
    "A = Matrix(3, 4, [1,2,1,-1,\n",
    "                  2,4,0,-8,\n",
    "                  0,0,2, 6])\n",
    "u = [2,1,1]\n",
    "v = [2,1,3]\n",
    "print()\n",
    "print('[A u] is inconsistent %s' % repr(A.col_insert(4, Matrix(u)).rref()) )\n",
    "print('[A v] is inconsistent %s' % repr(A.col_insert(4, Matrix(v)).rref()) )"
   ]
  },
  {
   "cell_type": "markdown",
   "metadata": {},
   "source": [
    "### Property\n",
    "\n",
    "> The range of a linear transformation is the same as the column space of its standard matrix.\n",
    "\n",
    "$ T \\left( \\begin{bmatrix} x_1 \\\\ x_2 \\\\ x_3 \\\\ x_4 \\end{bmatrix} \\right) = \n",
    "\\begin{bmatrix} x_1 + 2 x_2 + x_3 - x_4 \\\\\n",
    "2 x_1 + 4 x_2 - 8 x_4 \\\\ 2 x_3 + 6 x_4 \\end{bmatrix}$ has the standard matrix:\n",
    "\n",
    "A = $ \\begin{bmatrix} 1 & 2 & 1 & -1 \\\\ 2 & 4 & 0 & -8 \\\\ 0 & 0 & 2 & 6 \\end{bmatrix} $\n",
    "\n",
    "$ \\implies $ Range of T = Span $ \\left \\{ \\begin{bmatrix} 1 \\\\ 2 \\\\ 0 \\end{bmatrix} \\ \\ \\begin{bmatrix} 2 \\\\ 4 \\\\ 0 \\end{bmatrix} \\ \\ \\begin{bmatrix} 1 \\\\ 0 \\\\ 2 \\end{bmatrix} \\ \\ \\begin{bmatrix} -1 \\\\ -8 \\\\ 6 \\end{bmatrix} \\right \\} $\n",
    "\n",
    "> The Null Space of a linear transformation is the null space of its standard matrix."
   ]
  }
 ],
 "metadata": {
  "kernelspec": {
   "display_name": "Python [default]",
   "language": "python",
   "name": "python3"
  },
  "language_info": {
   "codemirror_mode": {
    "name": "ipython",
    "version": 3
   },
   "file_extension": ".py",
   "mimetype": "text/x-python",
   "name": "python",
   "nbconvert_exporter": "python",
   "pygments_lexer": "ipython3",
   "version": "3.5.2"
  }
 },
 "nbformat": 4,
 "nbformat_minor": 2
}
