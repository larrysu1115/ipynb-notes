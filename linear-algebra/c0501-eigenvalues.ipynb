{
 "cells": [
  {
   "cell_type": "markdown",
   "metadata": {},
   "source": [
    "## Unit 5 : Eigenvalues, Eigenvectors and Diagonalization\n",
    "\n",
    "### Definition\n",
    "\n",
    "Let T be a linear operator on $ \\mathcal{R}_n $.  \n",
    "A nonzero vector v in $ \\mathcal{R}_n $ is call an **eigenvector** of T if T(v) is a multiple of v,  \n",
    "that is, **T(v) = &lambda; v** for some scalar &lambda;.  \n",
    "The scalar &lambda; is called the **eigenvalue** of T that corresponds to v.\n",
    "\n",
    "Let A be an n &times; n matrix.  \n",
    "A nonzero vector v in $ \\mathcal{R}_n $ is call an **eigenvector** of A if **A v = &lambda; v** for some scalar &lambda;.  \n",
    "The scalar &lambda; is called the **eigenvalue** of A that corresponds to v.\n",
    "\n",
    "> An eigenvector of A corresponds to a unique eigenvalue.\n",
    "\n",
    "> An eigenvalue of A has infinitely many eigenvectors."
   ]
  },
  {
   "cell_type": "code",
   "execution_count": 2,
   "metadata": {
    "collapsed": false
   },
   "outputs": [
    {
     "data": {
      "image/png": "[encoded data removed]",
      "text/plain": [
       "<matplotlib.figure.Figure at 0x1046dbac8>"
      ]
     },
     "metadata": {},
     "output_type": "display_data"
    }
   ],
   "source": [
    "%matplotlib inline\n",
    "import numpy as np\n",
    "import matplotlib.pyplot as plt\n",
    "import matplotlib.patches as patches\n",
    "import seaborn\n",
    "seaborn.set(style='ticks')\n",
    "\n",
    "x = np.linspace(0.2,10,100)\n",
    "fig, ax = plt.subplots()\n",
    "\n",
    "plt.xlim(-5, 15)\n",
    "plt.ylim(-5, 15)\n",
    "ax.set_aspect('equal')\n",
    "ax.grid(True, which='both')\n",
    "seaborn.despine(ax=ax, offset=0) # the important part here\n",
    "ax.spines['bottom'].set_position('zero')\n",
    "ax.spines['left'].set_position('zero')\n",
    "\n",
    "plt.plot([-6,12], [-3,6], alpha=0.4, color='B')\n",
    "plt.plot([15,2], [-15,11], alpha=0.4, color='Y')\n",
    "ax.add_patch(patches.FancyArrow(0,0,  9.5, -4, width=0.1, color='R', head_width=0.5, head_length=0.5, alpha=0.4))\n",
    "ax.add_patch(patches.FancyArrow(0,0,2.5, 10, width=0.1, color='R', head_width=0.5, head_length=0.5, alpha=0.4))\n",
    "ax.add_patch(patches.FancyArrow(0,0,2, 1, width=0.1, color='R', head_width=0.5, head_length=0.5, alpha=0.6))\n",
    "ax.add_patch(patches.FancyArrow(0,0,-1, 2, width=0.1, color='R', head_width=0.5, head_length=0.5, alpha=0.6))\n",
    "plt.text(12,7, r\"$ \\mathcal{L} $\", fontsize=28, color='B', alpha=0.7)\n",
    "plt.text(2,9, r\"P\", fontsize=18)\n",
    "plt.text(8.5,-3.5, r\"P'\", fontsize=18)\n",
    "plt.text(1,9, r\"$ \\vec{v} $\", fontsize=18, color='R', alpha=0.6)\n",
    "plt.text(6,-4, r\"$ T(\\vec{v}) $\", fontsize=18, color='R', alpha=0.6)\n",
    "plt.text(2,2, r\"$ \\vec{b}_1 $\", fontsize=16, color='R', alpha=0.6)\n",
    "plt.text(-2.6,2, r\"$ \\vec{b}_2 $\", fontsize=16, color='R', alpha=0.6)\n",
    "plt.text(5.2,3.5, r\"F\", fontsize=18);"
   ]
  },
  {
   "cell_type": "markdown",
   "metadata": {},
   "source": [
    "### Example\n",
    "\n",
    "reflection operator T about the line $ y = \\frac{1}{2} x $\n",
    "\n",
    "$ b_1 = \\begin{bmatrix} 2 \\\\ 1 \\end{bmatrix} $ is an eigenvector of T corresponding to the eigenvalue 1.\n",
    "\n",
    "$ b_2 = \\begin{bmatrix} -1 \\\\ 2 \\end{bmatrix} $ is an eigenvector of T corresponding to the eigenvalue -1.\n",
    "\n",
    "A = $ \\begin{bmatrix} 0.6 & 0.8 \\\\ 0.8 & -0.6 \\end{bmatrix} $\n",
    "\n",
    "以下哪些是 eigenvector, 如果是，其 eigenvalue 為何?\n",
    "\n",
    "$ [-5, 5]^T, \\ \\ [7, 6]^T, \\ \\ [2, 1]^T, \\ \\ [-1, 2]^T $"
   ]
  },
  {
   "cell_type": "code",
   "execution_count": 3,
   "metadata": {
    "collapsed": false
   },
   "outputs": [
    {
     "name": "stdout",
     "output_type": "stream",
     "text": [
      "\n",
      "A x  [-5, 5] = [ 1. -7.] \n",
      "A x   [7, 6] = [ 9.  2.] \n",
      "A x   [2, 1] = [ 2.  1.]   -> YES 1\n",
      "A x  [-1, 2] = [ 1. -2.]   -> YES -1\n",
      "\n"
     ]
    }
   ],
   "source": [
    "import numpy as np\n",
    "from scipy import linalg\n",
    "A = np.array([[ 0.6, 0.8],\n",
    "              [ 0.8,-0.6]])\n",
    "v1 = [-5, 5]\n",
    "v2 = [ 7, 6]\n",
    "v3 = [ 2, 1]\n",
    "v4 = [-1, 2]\n",
    "Av1 = A.dot(v1)\n",
    "Av2 = A.dot(v2)\n",
    "Av3 = A.dot(v3)\n",
    "Av4 = A.dot(v4)\n",
    "\n",
    "print('\\nA x %8s = %-10s' % (v1, Av1))\n",
    "print('A x %8s = %-10s' % (v2, Av2))\n",
    "print('A x %8s = %-10s  -> YES 1' % (v3, Av3))\n",
    "print('A x %8s = %-10s  -> YES -1\\n' % (v4, Av4))"
   ]
  },
  {
   "cell_type": "markdown",
   "metadata": {},
   "source": [
    "### Property\n",
    "\n",
    "The eigenvectors and corresponding eigenvalues of a linear operator are the same as those of its standard matrix.\n",
    "\n",
    "$ T(\\vec{v}) = A \\vec{v}, \\ \\ T(\\vec{v}) = \\lambda \\vec{v} $"
   ]
  },
  {
   "cell_type": "markdown",
   "metadata": {},
   "source": [
    "### Property\n",
    "\n",
    "Let A be an n &times; n matrix with eigenvalue &lambda;.  \n",
    "The eigenvectors of A corresponding to &lambda; are the nonzero solutions of $ (A - \\lambda I_n) \\vec{v} = \\vec{0} $"
   ]
  },
  {
   "cell_type": "markdown",
   "metadata": {},
   "source": [
    "### Definition\n",
    "\n",
    "For $ A \\in R^{n \\times n} $, if &lambda; is an eigenvalue of A,  \n",
    "then the null space of $ A - \\lambda I_n $ is called the **eigenspace** of A corresponding to eigenvalue &lambda;\n",
    "\n",
    "If &lambda; is an eigenvalue of a linear operator T on $ R^n $,  \n",
    "then the set of vectors v in $ R^n $ such that T(v) = &lambda; v is called the  **eigenspace** of T corresponding to eigenvalue &lambda;.\n"
   ]
  },
  {
   "cell_type": "markdown",
   "metadata": {},
   "source": [
    "### Example\n",
    "\n",
    "Check if 3 is an eigenvalue of B and find a basis for the corresponding eigenspace, where\n",
    "\n",
    "$ B = \\begin{bmatrix} 3&0&0 \\\\ 0&1&2 \\\\ 0&2&1 \\end{bmatrix} $\n"
   ]
  },
  {
   "cell_type": "markdown",
   "metadata": {},
   "source": [
    "find the RREF of B - 3I = $ \\begin{bmatrix} 0&1&-1 \\\\ 0&0&0 \\\\ 0&0&0 \\end{bmatrix} $\n",
    "\n",
    "$ \\begin{bmatrix} x_1 \\\\ x_2 \\\\ x_3 \\end{bmatrix} $ = $ \\begin{bmatrix} x_1 \\\\ x_3 \\\\ x_3 \\end{bmatrix} $ =\n",
    "$ x_1 \\begin{bmatrix} 1 \\\\ 0 \\\\ 0 \\end{bmatrix} $ + $ x_3 \\begin{bmatrix} 0 \\\\ 1 \\\\ 1 \\end{bmatrix} $\n",
    "\n",
    "Thus $ \\left\\{ \\begin{bmatrix} 1\\\\0\\\\0 \\end{bmatrix} , \\begin{bmatrix} 0\\\\1\\\\1 \\end{bmatrix} \\right\\} $ is the basis of the eigenspace of B corresponding to the eigenvalue 3."
   ]
  },
  {
   "cell_type": "markdown",
   "metadata": {},
   "source": [
    "### Example\n",
    "\n",
    "Some square matrices and linear operators on $ R^n $ have no real eigenvalues, like the 90-degree-rotation matrix $ \\begin{bmatrix} 0&-1 \\\\ 1&0 \\end{bmatrix} $"
   ]
  },
  {
   "cell_type": "markdown",
   "metadata": {},
   "source": [
    "### Summary\n",
    "\n",
    "$ T(\\vec{x}) = A \\vec{x} = \\lambda \\vec{x} $\n",
    "\n",
    "The set of all eig. vectors corr. to &lambda; is:\n",
    "\n",
    "$ \\{ \\vec{x} \\in \\mathcal{R}^n : ( A - \\lambda I_n ) \\ \\vec{x} = \\vec{0} \\} \\backslash \\{ \\vec{0} \\} $ "
   ]
  }
 ],
 "metadata": {
  "anaconda-cloud": {},
  "kernelspec": {
   "display_name": "Python [default]",
   "language": "python",
   "name": "python3"
  },
  "language_info": {
   "codemirror_mode": {
    "name": "ipython",
    "version": 3
   },
   "file_extension": ".py",
   "mimetype": "text/x-python",
   "name": "python",
   "nbconvert_exporter": "python",
   "pygments_lexer": "ipython3",
   "version": "3.5.2"
  }
 },
 "nbformat": 4,
 "nbformat_minor": 2
}
