{
 "cells": [
  {
   "cell_type": "markdown",
   "metadata": {},
   "source": [
    "## System of linear equations\n",
    "\n",
    "$ \\begin{cases} a_{11} x_1 + a_{12} x_2 + \\dots + a_{1n} x_n = b_1 \\\\\n",
    "  a_{21} x_1 + a_{22} x_2 + \\dots + a_{2n} x_n = b_2 \\\\\n",
    "  \\cdots \\\\\n",
    "  a_{m1} x_1 + a_{m2} x_2 + \\dots + a_{mn} x_n = b_m \\end{cases} $\n",
    "\n",
    "the system above have: m equations, n variables, 也可以寫成: $ A \\vec{x} = \\vec{b} $\n",
    "\n",
    "A 稱為 coefficient matrix\n",
    "\n",
    "x 稱為 variable vector\n",
    "\n",
    "**AUGMENTED MATRIX** : $ [ A | b ] $, size: m x (n+1)\n",
    "\n",
    "**SOLUTION** : A solution is a vector $ [ s_1, s_2, \\cdots, s_n ]^T $ in $ R^n $ such that every equation in the system is satisfied when each $ x_i $ replaced by $ s_i $\n",
    "\n",
    "**SOLUTION SET** : The set of __ALL__ solutions.\n",
    "\n",
    "**CONSISTENT** : 若線性系統有一個以上的解\n",
    "\n",
    "**INCONSISTENT** : 若線性系統無解，solution set = $ \\emptyset $\n",
    "\n",
    "**EQUIVALENT** : 若兩個線性系統的 Solution Set 完全一樣\n",
    "\n",
    "**RANK** : 大小為 m x n 的 A矩陣, 轉換為 Reduced Row Echelon Form 後, nonzero rows 的數量。= # of basic variable\n",
    "\n",
    "**NULLITY** : n - rank(A)。= # of free variable"
   ]
  },
  {
   "cell_type": "markdown",
   "metadata": {},
   "source": [
    "## Elementary Row Operations\n",
    "\n",
    "不會改變線性系統 Solution Set 的操作。有三種:\n",
    "\n",
    "- Interchange : 兩 row 互換\n",
    "- Scaling : 某一 row 乘以一個不為零的 scalar\n",
    "- Row addition : 一 row 加到另一 row 上"
   ]
  },
  {
   "cell_type": "markdown",
   "metadata": {},
   "source": [
    "### Row Echelon Form\n",
    "\n",
    "`Def`. Matrix 滿足以下條件:\n",
    "\n",
    "1. 每個 nonzero row 在 zero row 之上\n",
    "1. nonzero row 的 leading entry 位於 上方row的leading entry 右邊\n",
    "1. leading entry 所在的 column, 該 column 下方的所有 entry 都為 0\n",
    "\n",
    "### Reduced Row Echelon Form\n",
    "\n",
    "`Def`. Matrix 滿足以下條件:\n",
    "\n",
    "1. 該 Matrix 為 Row Echelon Form\n",
    "1. leading entry 所在的 column, 除了 leading entry 以外，該 column 上下所有的 entry 都為 0\n",
    "1. 每個 nonzero row 的 leading entry 都為 1\n",
    "\n",
    "$\n",
    "\\begin{cases}\n",
    "x_1 & - 3 x_2 &     & + 2 x_4 &     & = 7 \\\\\n",
    "    &         & x_3 & + 6 x_4 &     & = 9 \\\\\n",
    "    &         &     &         & x_5 & = 2\n",
    "\\end{cases}\n",
    "\\to [ A | b ] =\n",
    "\\begin{bmatrix}\n",
    "1 & -3 &  0 &  2 &  0 & 7 \\\\\n",
    "0 &  0 &  1 &  6 &  0 & 9 \\\\\n",
    "0 &  0 &  0 &  0 &  1 & 2 \\\\\n",
    "0 &  0 &  0 &  0 &  0 & 0\n",
    "\\end{bmatrix}\n",
    "$"
   ]
  },
  {
   "cell_type": "markdown",
   "metadata": {},
   "source": [
    "$\n",
    "\\begin{cases}\n",
    "x_1 = 7 + 3 x_2 - 2 x_4 \\\\\n",
    "x_2 = x_2 : \\text{free} \\\\\n",
    "x_3 = 9 - 6 x_4 \\\\\n",
    "x_4 = x_4 : \\text{free} \\\\\n",
    "x_5 = 2\n",
    "\\end{cases}\n",
    "$"
   ]
  },
  {
   "cell_type": "markdown",
   "metadata": {},
   "source": [
    "General Solution:\n",
    "$ \\begin{bmatrix}\n",
    "x_1 \\\\ x_2 \\\\ x_3 \\\\ x_4 \\\\ x5\n",
    "\\end{bmatrix} $ = $ \\begin{bmatrix}\n",
    "7 \\\\ 0 \\\\ 9 \\\\ 0 \\\\ 2\n",
    "\\end{bmatrix} $ + $ x_2 \\begin{bmatrix}\n",
    "3 \\\\ 1 \\\\ 0 \\\\ 0 \\\\ 0\n",
    "\\end{bmatrix} $ + $ x_4 \\begin{bmatrix}\n",
    "-2 \\\\ 0 \\\\ -6 \\\\ 1 \\\\ 0\n",
    "\\end{bmatrix} $\n"
   ]
  },
  {
   "cell_type": "markdown",
   "metadata": {},
   "source": [
    "### Theorem : \n",
    "\n",
    "> 每個 matrix 都可經過一系列的 elementary row operation 轉換成 **唯一的** 一個 Reduced Row Echelon Form\n",
    "\n",
    "### Gaussian Elimination\n",
    "\n",
    "透過 **高斯消元法** 可以求得 這個唯一的 Reduced Row Echelon Form Matrix\n",
    "\n",
    "在 Ax = b 為有解 的 consistent system of linear equations 情況下:\n",
    "\n",
    "- \\# basic variables = rank of A\n",
    "- \\# free  variables = nullity of A\n",
    "\n",
    "### Theorem 1.5 : Test of Consistency\n",
    "\n",
    "Let $ A \\in \\mathcal{M}_{m \\times n} $ and $ \\vec{b} \\in R^m $, 以下敘述互證:\n",
    "\n",
    "- a. The matrix equation A x = b is **consistent**.\n",
    "- b. The vector $ \\vec{b} $ is **linear combination** of the columns of A.\n",
    "- c. The reduced row echelon form of the augmented matrix [A|b] has NO row of the form [ 0 0 ... 0 d ] where d &ne; 0\n",
    "- d. The rank of **coefficient matrix A** is equal to the **rank of the augmented matrix**. rank A = rank [A|b].\n"
   ]
  }
 ],
 "metadata": {
  "kernelspec": {
   "display_name": "Python [default]",
   "language": "python",
   "name": "python3"
  },
  "language_info": {
   "codemirror_mode": {
    "name": "ipython",
    "version": 3
   },
   "file_extension": ".py",
   "mimetype": "text/x-python",
   "name": "python",
   "nbconvert_exporter": "python",
   "pygments_lexer": "ipython3",
   "version": "3.5.2"
  }
 },
 "nbformat": 4,
 "nbformat_minor": 1
}
