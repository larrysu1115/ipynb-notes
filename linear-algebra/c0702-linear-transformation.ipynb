{
 "cells": [
  {
   "cell_type": "markdown",
   "metadata": {},
   "source": [
    "## Unit 7.2 : Linear Transformation"
   ]
  },
  {
   "cell_type": "markdown",
   "metadata": {},
   "source": [
    "### Definition : Linear Transformation\n",
    "\n",
    "Let V and W be vector spaces over the same field $ \\mathcal{F} $.  \n",
    "A mapping T : V $ \\to $ W is called a linear transformation ( or simply **linear** ) if, for  \n",
    "all vectors u and v in V and all scalars c, both of the following conditions hold:\n",
    "\n",
    "(i) T(u + v) = T(u) + T(v).  ...T preserves vector addition.\n",
    "(ii) T(cu) = cT(u). ...T preserves scalar multiplication.\n",
    "\n",
    "The vector spaces V and W are called the domain and codomain of the linear transformation T, respectively."
   ]
  },
  {
   "cell_type": "markdown",
   "metadata": {},
   "source": [
    "### Example\n",
    "\n",
    "$ U: \\mathcal{M}_{m \\times n} \\to \\mathcal{M}_{n \\times m} $ is defined by $ U(A) = A^T) $\n",
    "\n",
    "Then, U is a **linear transformation** since\n",
    "\n",
    "$ U(X + Y) = (X + Y)^T = X^T + Y^T = U(X) + U(Y) $\n",
    "\n",
    "$ U(cX) = c X^T = c U(X) $"
   ]
  },
  {
   "cell_type": "markdown",
   "metadata": {},
   "source": [
    "### Definition : Linear Operator\n",
    "\n",
    "Given a vector space V over a field $ \\mathcal{F} $,  \n",
    "a function $ T: V \\to V $ is called **linear operator** if for all $ u, v \\in V $ and any scalar $ c \\in \\mathcal{F} $,\n",
    "\n",
    "T(u + v) = T(u) = T(v)\n",
    "\n",
    "T(cu) = c T(u)"
   ]
  },
  {
   "cell_type": "markdown",
   "metadata": {},
   "source": [
    "### Example\n",
    "\n",
    "$ C^{\\infty} = \\Big \\{ f \\ | \\ f: \\ R \\ \\to \\ R, \\ f $ has derivatives of all order $ \\Big \\} \\subset \\mathcal{F}(R) $\n",
    "\n",
    "$ C^{\\infty} $ is a subspace of $ \\mathcal{F}(R) $, and is therefore a vector.\n",
    "\n",
    "Then, D is a linear operator on $ C^{\\infty} $, since for all f, g $ \\in C^{\\infty} $.\n",
    "\n",
    "$ D(f+g) = (f+g)' = f' + g' = D(f) + D(g) $\n",
    "\n",
    "$ D(cf) = (cf)' = c . f' = c . D(f)"
   ]
  },
  {
   "cell_type": "markdown",
   "metadata": {},
   "source": [
    "### Example\n",
    "\n",
    "$ C([a,b]) = \\Big \\{ f \\ | \\ f:[a,b] \\ \\to \\ R, \\ f $ is continuous $ \\Big \\} \\subset F([a,b]) $\n",
    "\n",
    "Let the function $ T:\\ C([a,b]) \\ \\to \\ R $ be defined by $ T(f) = \\int_a^b \\ f(t) \\ d_t $\n",
    "\n",
    "Then, T is a **linear transformation** on C([a,b]), since $ \\forall \\ g,h \\in C([a,b]), $\n",
    "\n",
    "$ T(g + h) = \\int_a^b \\ (g+h) \\ (t) \\ d_t = \\int_a^b \\Big( g(t) \\ + \\ h(t) \\Big) \\ d_t = \\int_a^b g(t) d_t +  \\int_a^b h(t) d_t = T(g) + T(h) $\n",
    "\n",
    "$ T(cg) = ... = c \\ T(g) $"
   ]
  },
  {
   "cell_type": "markdown",
   "metadata": {},
   "source": [
    "### Theorem 7.4\n",
    "\n",
    "Let V and W be vector spaces and $ T: V \\ \\to \\ W $ be a linear transformation.  \n",
    "For any vectors u and v in V and any scalar a and b, the following statements are true:\n",
    "\n",
    "- (a). T(0) = 0\n",
    "- (b). T(-u) = - T(u)\n",
    "- (c). T(u - v) = T(u) - T(v)\n",
    "- (d). T(au + bv) = a T(u) + b T(v)"
   ]
  },
  {
   "cell_type": "markdown",
   "metadata": {},
   "source": [
    "### Corollary\n",
    "\n",
    "$ T(a_1 u_1 + a_2 u_2 + \\cdots + a_k u_k ) = a_1 T(u_1) + a_2 T(u_2) + \\cdots + a_k T(u_k)$"
   ]
  },
  {
   "cell_type": "markdown",
   "metadata": {},
   "source": [
    "### Definition : Null Space\n",
    "\n",
    "Let $ T: V \\to W $ be a linear transformation, where V and W are vector spaces.  \n",
    "The NULL SPACE of T is the set of all vectors v in V such that T(v) = 0.  \n",
    "\n",
    "The RANGE of T is the set of all images of T, that is the set of all vecctors T(v) for v in V."
   ]
  },
  {
   "cell_type": "markdown",
   "metadata": {},
   "source": [
    "### Example\n",
    "\n",
    "The null space of $ U: \\ \\mathcal{R}^{m \\times n} \\to \\mathcal{R}^{n \\times m} $ defined by $ U(A) = A^T $ is\n",
    "\n",
    "Null U = $ \\Big \\{ A \\in R^{m \\times n} \\Big | \\ U(A)=0_{n \\times m} \\Big \\} $\n",
    "\n",
    "Null U = $ \\Big \\{ 0_{m \\times n} \\Big \\} $\n",
    "\n",
    "The range space of U is $ R^{n \\times m} $"
   ]
  },
  {
   "cell_type": "markdown",
   "metadata": {},
   "source": [
    "### Definition : Onto, One-to-One\n",
    "\n",
    "A linear transformation $ T:V \\ \\to \\ W $ is **onto** if the range space of T is W,  \n",
    "and is **one-to-one** if every pair of distinct vectors in V has distinct images in W."
   ]
  },
  {
   "cell_type": "markdown",
   "metadata": {},
   "source": [
    "### Example\n",
    "\n",
    "$ U: \\mathcal{R}^{m \\times n} \\to \\mathcal{R}^{n \\times m} $ defined by $ U(A) = A^T $. Is U onto ? YES\n",
    "\n",
    "$ D: \\mathcal{C}^{\\infty} \\to \\mathcal{C}^{\\infty} $ defined by $ D(f) = f' $. Is D onto ? YES\n",
    "\n",
    "$ D: \\mathcal{P}_3 \\to \\mathcal{P}_3 $ defined by $ D(f) = f' $. Is D onto ? NO"
   ]
  },
  {
   "cell_type": "markdown",
   "metadata": {},
   "source": [
    "### Example\n",
    "\n",
    "if $ T:V \\to W $ is not ONE-TO-ONE.  \n",
    "$ 0 \\in \\ Null \\ (T) $\n",
    "\n",
    "$ \\exists x \\in Null(T) s.t. x \\ne 0 $  \n",
    "$ x = u - v \\in V $  \n",
    "$ T(x) = T(u) - T(v) = w - w = 0 $\n",
    "\n",
    "如果T不是 ONE-TO-ONE, 那就有 u, v 不在 NULL T 中，但 (u-v) 在 NULL T 中。\n",
    "\n",
    "所以如果**不是 ONE-TO-ONE, null space 中除了 0, 還會有其他元素**。"
   ]
  },
  {
   "cell_type": "markdown",
   "metadata": {},
   "source": [
    "### Theorem 7.5\n",
    "\n",
    "A linear transformation is ONE-TO-ONE iff. its null space contains only the zero vector."
   ]
  },
  {
   "cell_type": "markdown",
   "metadata": {},
   "source": [
    "### Example\n",
    "\n",
    "$ U: \\mathcal{R}^{m \\times n} \\to \\mathcal{R}^{n \\times m} $ defined by $ U(A) = A^T $. Is U one-to-one ? YES\n",
    "\n",
    "$ D: \\mathcal{C}^{\\infty} \\to \\mathcal{C}^{\\infty} $ defined by $ D(f) = f' $. Is D one-to-one ? NO  \n",
    "Null(D) = { f | f is constant }\n",
    "\n",
    "$ D: \\mathcal{P}_3 \\to \\mathcal{P}_3 $ defined by $ D(f) = f' $. Is D one-to-one ? NO  \n",
    "Null(D) = { f | f is constant polynomial }"
   ]
  },
  {
   "cell_type": "markdown",
   "metadata": {},
   "source": [
    "### Definition : Isomorphism\n",
    "\n",
    "Let V and W be vector spaces. A linear transformation $ T: V \\to W $ is called an **isomorphism**  \n",
    "if it is BOTH One-to-One and ONTO.  \n",
    "In this case, we say that V is **isomorphic** to W."
   ]
  },
  {
   "cell_type": "markdown",
   "metadata": {},
   "source": [
    "### Example\n",
    "\n",
    "$ U: \\mathcal{M}_{m \\times n} \\to \\mathcal{M}_{n \\times m} $ defined by $ U(A) = A^T $ is One-to-One and alse ONTO.  \n",
    "Thus U is an isomorphism, and $ \\mathcal{M}_{m \\times n} $ is isomorphic to $ \\mathcal{M}_{n \\times m} $"
   ]
  },
  {
   "cell_type": "markdown",
   "metadata": {},
   "source": [
    "If $ T: V \\to W $ is an isomorphism, then for every $ w \\in W $,  \n",
    "there is an unique $ v \\in V $ such that T(v)=w.  \n",
    "Thus T has an inverse $ T^{-1}: W \\to V $ with $ T^{-1}(w)=v $, and T is called an **invertible linear transformation**."
   ]
  },
  {
   "cell_type": "markdown",
   "metadata": {},
   "source": [
    "### Theorem 7.6\n",
    "\n",
    "Let V and W be vector spaces and $ T: V \\to W $ be an isomorphism.  \n",
    "Then $ T^{-1}: W \\to V $ is linear, and hence is also an isomorphism."
   ]
  },
  {
   "cell_type": "markdown",
   "metadata": {},
   "source": [
    "### Definition\n",
    "\n",
    "Let V, W and Z be vector spaces, and $ T: V \\to W, \\ \\ U: W \\to Z $ be linear transformations.  \n",
    "Then composition $ UT: V \\to Z $ of U and T is defined as UT(v) = U( T(v) ), $ \\forall v \\in V $."
   ]
  },
  {
   "cell_type": "markdown",
   "metadata": {},
   "source": [
    "### Theorem 7.7\n",
    "\n",
    "Let V, W and Z be vector spaces, and $ T: V \\to W, \\ \\ U: W \\to Z $ be linear transformations.  \n",
    "Then the composition $ UT: V \\to Z $ is also a linear transformation."
   ]
  },
  {
   "cell_type": "markdown",
   "metadata": {},
   "source": [
    "### Example\n",
    "\n",
    "Let $ T: \\mathcal{P}_2 \\to \\mathcal{R}^3 $ be defined as $ T \\Big( f(x) \\Big) = \\begin{bmatrix} f(0) \\\\ f(1) \\\\ 2 f(1) \\end{bmatrix} $\n",
    "for all f(x) in $ \\mathcal{P}_2 $ \n",
    "\n",
    "and $ U: \\mathcal{R}^3 \\to \\mathcal{R}^{2 \\times 2} $ be defined as $ U \\Big( \\begin{bmatrix} s \\\\ t \\\\ u \\end{bmatrix} \\Big) $ = $ \\begin{bmatrix} s&t \\\\ t&u \\end{bmatrix} $"
   ]
  },
  {
   "cell_type": "markdown",
   "metadata": {},
   "source": [
    "Then $ UT: \\mathcal{P}_2 \\to \\mathcal{R}^{2 \\times 2} $ is linear, and for all $ a + b x + c x^2 $ in $ \\mathcal{P}_2 $\n",
    "\n",
    "$ UT(a + b x + c x^2) = U \\Big( \\begin{bmatrix} a \\\\ a + b + c \\\\ 2(a+b+c) \\end{bmatrix} \\Big) $ = \n",
    "$ \\begin{bmatrix} a & a+b+c \\\\ a+b+c & 2(a+b+c) \\end{bmatrix} $"
   ]
  },
  {
   "cell_type": "markdown",
   "metadata": {},
   "source": [
    "### Theorem 7.7\n",
    "\n",
    "Let V, W, and Z be linear spaces and $ T: V \\to W $ and $ U: W \\to Z $ be isomorphisms. Then,\n",
    "\n",
    "- (a). $ UT: V \\to Z $ is an isomorphism.\n",
    "- (b). $ (UT)^{-1} = T^{-1} U^{-1} $"
   ]
  }
 ],
 "metadata": {
  "kernelspec": {
   "display_name": "Python [default]",
   "language": "python",
   "name": "python3"
  },
  "language_info": {
   "codemirror_mode": {
    "name": "ipython",
    "version": 3
   },
   "file_extension": ".py",
   "mimetype": "text/x-python",
   "name": "python",
   "nbconvert_exporter": "python",
   "pygments_lexer": "ipython3",
   "version": "3.5.2"
  }
 },
 "nbformat": 4,
 "nbformat_minor": 2
}
