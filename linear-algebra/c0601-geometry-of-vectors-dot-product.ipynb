{
 "cells": [
  {
   "cell_type": "markdown",
   "metadata": {},
   "source": [
    "## Unit 6.1 : Geometry of Vectors"
   ]
  },
  {
   "cell_type": "markdown",
   "metadata": {},
   "source": [
    "### Definition\n",
    "\n",
    "Let $ \\vec{v} \\in R^n $. Then norm (length) of v, denoted $ \\lVert v \\rVert $, is defined by\n",
    "\n",
    "$ \\lVert v \\rVert = \\sqrt{v_1^2 + v_2^2 + \\cdots + v_n^2} $\n",
    "\n",
    "The DISTANCE between two vectors $ \\vec{u} $ and $ \\vec{v} $ is defined by $ \\lVert u - v \\rVert $"
   ]
  },
  {
   "cell_type": "code",
   "execution_count": 1,
   "metadata": {
    "collapsed": false
   },
   "outputs": [
    {
     "data": {
      "image/png": "[encoded data removed]",
      "text/plain": [
       "<matplotlib.figure.Figure at 0x104391908>"
      ]
     },
     "metadata": {},
     "output_type": "display_data"
    }
   ],
   "source": [
    "%matplotlib inline\n",
    "import numpy as np\n",
    "import matplotlib.pyplot as plt\n",
    "import seaborn\n",
    "from matplotlib import patches\n",
    "seaborn.set(style='ticks')\n",
    "x = np.linspace(0.2,10,100)\n",
    "fig, ax = plt.subplots()\n",
    "plt.xlim(-10, 10)\n",
    "plt.ylim(-5, 15)\n",
    "ax.set_aspect('equal')\n",
    "ax.grid(True, which='both')\n",
    "seaborn.despine(ax=ax, offset=0)\n",
    "ax.spines['bottom'].set_position('zero')\n",
    "ax.spines['left'].set_position('zero')\n",
    "\n",
    "u = np.array([6, 8])\n",
    "v = np.array([8, 2])\n",
    "x = u - v\n",
    "\n",
    "def draw_vec(vec, color='B', p_from=[0,0]):\n",
    "    ax.add_patch(patches.FancyArrow(p_from[0],p_from[1],vec[0],vec[1], width=0.1, color=color, head_width=0.5, head_length=0.5, alpha=0.6))\n",
    "\n",
    "def write_txt(p, txt):\n",
    "    plt.text(p[0], p[1], txt, fontsize=20, alpha=0.7)\n",
    "    \n",
    "draw_vec(u)\n",
    "draw_vec(v)\n",
    "draw_vec(x, color='R')\n",
    "draw_vec(x, p_from = v, color='Y')\n",
    "\n",
    "write_txt(u+0.7, r'$ \\vec{u} $')\n",
    "write_txt(v+0.7, r'$ \\vec{v} $')\n",
    "write_txt(x-2.7, r'$ \\vec{u} - \\vec{v} $')\n",
    "write_txt([7,5], '||u-v||')"
   ]
  },
  {
   "cell_type": "markdown",
   "metadata": {},
   "source": [
    "Geometric condition of perpendicularity in R<sup>2</sup>\n",
    "\n",
    "$ \\lVert u - v \\rVert^2 = \\lVert u \\rVert^2 + \\lVert v \\rVert^2 $\n",
    "\n",
    "Algebraic condition of perpendicularity in R<sup>2</sup>\n",
    "\n",
    "$ u_1 v_1 + u_2 v_2 = 0 $"
   ]
  },
  {
   "cell_type": "markdown",
   "metadata": {},
   "source": [
    "### Definition : Dot Product\n",
    "\n",
    "Let u and v be vectors in R<sup>n</sup>. The dot product of u and v is defined by:\n",
    "\n",
    "$ \\vec{u} \\ \\dot \\ \\vec{v} = u_1 v_1 + u_2 v_2 + \\cdots + u_n v_n $\n",
    "\n",
    "We say u and v are **orthogonal (perpendicular)** if $ \\vec{u} \\ \\dot \\ \\vec{v} = 0 $\n",
    "\n",
    "orthogonal 正交: 代数上的定义，不限空间维度  \n",
    "perpendicular 垂直: 几何上的定义，限于 二度 与 三度 空间。\n",
    "\n",
    "零向量 $ \\vec{0} $ 與所有向量都是 orthogonal."
   ]
  },
  {
   "cell_type": "markdown",
   "metadata": {},
   "source": [
    "Can also be represented by the matrix product.\n",
    "\n",
    "$ u^T v = \\begin{bmatrix} u_1 & u_2 & \\cdots & u_n \\end{bmatrix} $\n",
    "$ \\begin{bmatrix} v_1 \\\\ v_2 \\\\ \\vdots \\\\ u_n \\end{bmatrix} $"
   ]
  },
  {
   "cell_type": "markdown",
   "metadata": {},
   "source": [
    "### Theorem 6.1\n",
    "\n",
    "Let c and v be vectors in R<sup>n</sup>, and c be a scalar in R.\n",
    "\n",
    "- ( a ) $ \\vec{u} \\ \\cdot \\ \\vec{u} = \\lVert u \\rVert^2 $\n",
    "- ( b ) $ \\vec{u} \\ \\cdot \\ \\vec{u} = 0 $ iff. $ \\vec{u} = \\vec{0} $\n",
    "- ( c ) $ \\vec{u} \\ \\cdot \\ \\vec{v} = \\vec{v} \\ \\dot \\ \\vec{u} $\n",
    "- ( d ) $ \\vec{u} \\ \\cdot \\ ( \\vec{v} + \\vec{w} ) = \\vec{u} \\cdot \\vec{v} + \\vec{u} \\cdot \\vec{w} $\n",
    "- ( e ) $ ( \\vec{v} + \\vec{w} ) \\ \\cdot \\ \\vec{u} = \\vec{v} \\cdot \\vec{u} + \\vec{w} \\cdot \\vec{u} $\n",
    "- ( f ) $ ( c \\vec{u} ) \\ \\dot \\ \\vec{v} =  c ( \\vec{u} \\cdot \\vec{v} ) = \\vec{u} \\cdot ( c \\cdot \\vec{v} ) $\n",
    "- ( g ) $ \\lVert c u \\rVert = \\lvert c \\rvert \\ \\lVert u \\rVert $"
   ]
  },
  {
   "cell_type": "markdown",
   "metadata": {},
   "source": [
    "### Example\n",
    "\n",
    "Show that : $ \\lVert 2u + 3v \\rVert^2 = 4 \\lVert u \\rVert^2 + 12 ( u \\cdot v ) + 9 \\lVert v \\rVert^2 $\n",
    "\n",
    "$ \\lVert 2u + 3v \\rVert^2 $  \n",
    "$ = (2u + 3v) \\cdot (2u + 3v) $  \n",
    "$ = 2u \\cdot (2u + 3v) + 3v \\cdot (2u + 3v) $  \n",
    "$ = 4 (u \\cdot u) + 6 (u \\cdot v) + 6 (v \\cdot u) + 9 (v \\cdot v) $  \n",
    "$ = 4 \\lVert u \\rVert^2 + 12 ( u \\cdot v ) + 9 \\lVert v \\rVert^2  $\n",
    "\n"
   ]
  },
  {
   "cell_type": "markdown",
   "metadata": {},
   "source": [
    "### Orthogonal Projection\n",
    "\n",
    "v: any vector in R<sup>2</sup>  \n",
    "u: any nonzero vector on L  \n",
    "w: orthogonal projection of v onto L, w = cu.  \n",
    "z: v - w.\n",
    "\n",
    "$ 0 = z \\cdot u = (v - w) \\cdot u = (v - cu) \\cdot u $  \n",
    "$ = v \\cdot u - c u \\cdot u = v \\cdot u - c \\lVert u \\rVert^2 $  \n",
    "\n",
    "$ c = \\frac{v \\cdot u}{\\lVert u \\rVert^2} $\n",
    "\n",
    "$ \\vec{w} = ( \\frac{v \\cdot u}{\\lVert u \\rVert^2} ) \\vec{u} $\n",
    "\n",
    "Distance from P(tip of v) to L = $ \\lVert \\vec{v} - ( \\frac{v \\cdot u}{\\lVert u \\rVert^2} ) \\vec{u} \\rVert $\n",
    "\n",
    "See below for illustration:"
   ]
  },
  {
   "cell_type": "code",
   "execution_count": 1,
   "metadata": {
    "collapsed": false
   },
   "outputs": [
    {
     "data": {
      "image/png": "[encoded data removed]",
      "text/plain": [
       "<matplotlib.figure.Figure at 0x10ab71748>"
      ]
     },
     "metadata": {},
     "output_type": "display_data"
    }
   ],
   "source": [
    "%matplotlib inline\n",
    "import matplotlib.pyplot as plt\n",
    "import math, seaborn, numpy as np\n",
    "from matplotlib import patches\n",
    "seaborn.set(style='ticks')\n",
    "\n",
    "x = np.linspace(0.2,10,100)\n",
    "fig, ax = plt.subplots()\n",
    "\n",
    "plt.xlim(-5, 15)\n",
    "plt.ylim(-5, 15)\n",
    "ax.set_aspect('equal')\n",
    "ax.grid(True, which='both')\n",
    "seaborn.despine(ax=ax, offset=0)\n",
    "ax.spines['bottom'].set_position('zero')\n",
    "ax.spines['left'].set_position('zero')\n",
    "\n",
    "v = np.array([6, 8])\n",
    "u = np.array([12, 3])\n",
    "c = v.dot(u) / u.dot(u)\n",
    "w = c * u\n",
    "z = v - w\n",
    "\n",
    "def draw_vec(vec, color='B', p_from=[0,0], alpha=0.6):\n",
    "    ax.add_patch(patches.FancyArrow(p_from[0],p_from[1],vec[0],vec[1], width=0.1, color=color, head_width=0.5, head_length=0.5, alpha=alpha))\n",
    "\n",
    "def write_txt(p, txt):\n",
    "    plt.text(p[0], p[1], txt, fontsize=20, alpha=0.7)\n",
    "    \n",
    "draw_vec([16,4], color='G', alpha=0.2)\n",
    "draw_vec(u, color='B', alpha=0.4)\n",
    "draw_vec(v)\n",
    "draw_vec(w, color='R')\n",
    "draw_vec(z, color='Y', alpha=0.3)\n",
    "draw_vec(z, p_from = w, color='Y')\n",
    "\n",
    "write_txt(u+0.5, r'$ \\vec{u} $')\n",
    "write_txt(v+0.5, r'$ \\vec{v} $')\n",
    "write_txt(z+0.2, r'$ \\vec{z} $')\n",
    "write_txt([6.5, 0.5], r'$ \\vec{w} = c \\vec{u} $')\n",
    "write_txt([13.8,2.1], '$ \\mathcal{L} $')"
   ]
  },
  {
   "cell_type": "markdown",
   "metadata": {},
   "source": [
    "### Example\n",
    "\n",
    "$ \\mathcal{L} = \\left \\{ \\begin{bmatrix} x\\\\y \\end{bmatrix} \\in R^2 \\ | \\ y = (1/2)x \\right \\} $\n",
    "\n",
    "$ v = \\begin{bmatrix} 4\\\\1 \\end{bmatrix} $\n",
    "\n",
    "Let u = (2,1) then\n",
    "\n",
    "$ \\vec{w} = \\frac{9}{5} \\begin{bmatrix} 2\\\\1 \\end{bmatrix} $\n",
    "\n",
    "Distance from P to Line:L $ = \\frac{2}{5} \\sqrt{5} $"
   ]
  },
  {
   "cell_type": "markdown",
   "metadata": {},
   "source": [
    "### Theorem 6.3 : Cauchy-Schwarz Inequality\n",
    "\n",
    "For any vectors u and v in R<sup>n</sup>, we have:\n",
    "\n",
    "$ \\lvert u \\cdot v \\rvert \\le \\lVert u \\rVert \\cdot \\lVert v \\rVert $"
   ]
  },
  {
   "cell_type": "markdown",
   "metadata": {},
   "source": [
    "### Example\n",
    "\n",
    "For any real numbers $ a_1, a_2, a_3, b_1, b_2, b_3 $,\n",
    "\n",
    "$ \\lvert a_1 b_1 + a_2 b_2 + a_3 b_3 \\rvert \\le \\sqrt{a_1^2 + a_2^2 + a_3^2} \\sqrt{b_1^2 + b_2^2 + b_3^2}  $"
   ]
  },
  {
   "cell_type": "markdown",
   "metadata": {},
   "source": [
    "### Theorem 6.4 : Triangle Inequality\n",
    "\n",
    "For any vectors u and v in R<sup>n</sup>, we have:\n",
    "\n",
    "$ \\lVert u + v \\rVert \\le \\lVert u \\rVert \\cdot \\lVert v \\rVert $\n"
   ]
  },
  {
   "cell_type": "markdown",
   "metadata": {},
   "source": [
    "### Definition : Complex Dot Product\n",
    "\n",
    "For vectors u, v in C<sup>n</sup>, the dot product of u and v is defined by\n",
    "\n",
    "$ \\vec{u} \\cdot vec{v} = u_1^* v_1 + u_2^* v_2 + \\cdots + u_n^* v_n $\n",
    "\n",
    "We say that u and v are orthogonal if $ u \\cdot v = 0 $\n",
    "\n",
    "> \\* : conjugate of complex number a+ib"
   ]
  },
  {
   "cell_type": "markdown",
   "metadata": {},
   "source": [
    "### Definition : Complex Norm\n",
    "\n",
    "Let v be any vector in C<sup>n</sup>. Then norm (length) of v is\n",
    "\n",
    "$ \\lVert v \\rVert = \\sqrt{\\lvert v_1 \\rvert^2 + \\lvert v_2 \\rvert^2 + \\cdots + \\lvert v_n \\rvert^2} $\n",
    "\n",
    "The distance between vectors: u and v is $ \\lVert u - v \\rVert $"
   ]
  },
  {
   "cell_type": "markdown",
   "metadata": {},
   "source": [
    "### Theorem 6.1\n",
    "\n",
    "Let u and v be vectors in C<sup>n</sup> and c be a scalar in C.\n",
    "\n",
    "- (a). $ u \\cdot u = \\lVert u \\rVert^2 $\n",
    "- (b). $ u \\cdot u = 0  \\iff u = 0 $\n",
    "- (c). $ u \\cdot v = (v \\cdot u)^* $\n",
    "- (d). $ u \\cdot ( v + w ) = u \\cdot v + u \\cdot w $\n",
    "- (e). $ (v \\cdot w) + u = v \\cdot u + w \\cdot u $\n",
    "- (f). $ (cu) \\cdot v = c^* (u \\cdot v) = u \\cdot (c^* v) $\n",
    "- (g). $ \\lVert c u \\rVert = \\lvert c \\rvert \\ \\ \\lVert u \\rVert $"
   ]
  }
 ],
 "metadata": {
  "anaconda-cloud": {},
  "kernelspec": {
   "display_name": "Python [default]",
   "language": "python",
   "name": "python3"
  },
  "language_info": {
   "codemirror_mode": {
    "name": "ipython",
    "version": 3
   },
   "file_extension": ".py",
   "mimetype": "text/x-python",
   "name": "python",
   "nbconvert_exporter": "python",
   "pygments_lexer": "ipython3",
   "version": "3.5.2"
  }
 },
 "nbformat": 4,
 "nbformat_minor": 2
}
