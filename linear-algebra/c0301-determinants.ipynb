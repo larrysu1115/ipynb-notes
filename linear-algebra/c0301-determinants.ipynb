{
 "cells": [
  {
   "cell_type": "markdown",
   "metadata": {},
   "source": [
    "### Definition: Submatrix for cofactor\n",
    "\n",
    "Having $ A = [ a_{ij} ] \\in \\mathcal{M}_{n \\times n} $,  \n",
    "matrix $ A_{ij} $ 是去除 A 的 *j*th row 和 *i*th column 之後，  \n",
    "大小為 $ \\mathcal{M}_{(n-1) \\times (n-1)} $ 的 matrix.\n",
    "\n",
    "### Definition: Determinants and Cofactors\n",
    "\n",
    "Having $ A = [ a_{ij} ] \\in \\mathcal{M}_{n \\times n} $,  \n",
    "The determinant of A, denoted by \"det A\" of \"\\|A\\|\", is defined as det A = $ a_{11} $ for n = 1 and\n",
    "\n",
    "$$ det \\ A = a_{11} det \\ A_{11} - a_{12} det \\ A_{12} + \\cdots + (-1)^{1+n} a_{1n} det \\ A_{1n} $$\n",
    "\n",
    "for n &gt; 1, the **(i,j)-cofactor** $ c_{ij} $ of A is defined as $ (-1)^{i+j} det A_{ij} $\n",
    "\n",
    "### Example\n",
    "\n",
    "$ A = \\begin{bmatrix} a & b \\\\ c & d \\end{bmatrix} \\Rightarrow A_{11} = [d] $, and $ A_{12} = [c] $\n",
    "\n",
    "$ det \\ \\ A = a \\ \\dot \\ det \\ \\ A_{11} - b \\ \\dot \\ det \\ \\ A_{12} = ad - bc $\n",
    "\n",
    "A is NOT invertible $ \\iff [ a \\ \\ c ]^T $ and $ [ b \\ \\ d ]^T $ are L.D.\n",
    "\n",
    "$ \\iff a = c = 0 \\ or \\ [a \\ \\ c]^T = k [ b \\ \\ d ]^T $ for some k\n",
    "\n",
    "$ \\iff det \\ \\ A = ad - bc = 0$ "
   ]
  },
  {
   "cell_type": "markdown",
   "metadata": {},
   "source": [
    "### Cofactor expansion along different rows:\n",
    "\n",
    "$ \\begin{bmatrix} a_{11} & a_{12} & a_{13} \\\\ a_{21} & a_{22} & a_{23} \\\\ a_{31} & a_{32} & a_{33} \\end{bmatrix}  = a_{11} c_{11}  + a_{12} c_{12} + a_{13} c_{13} $\n",
    "\n",
    "Cofactor expansion along the 1st row:\n",
    "\n",
    "$ (-1)^{1+1} a_{11} \\begin{bmatrix} a_{22} & a_{23} \\\\ a_{32} & a_{33} \\end{bmatrix}\n",
    " + (-1)^{1+2} a_{12} \\begin{bmatrix} a_{21} & a_{23} \\\\ a_{31} & a_{33} \\end{bmatrix} \n",
    " + (-1)^{1+3} a_{13} \\begin{bmatrix} a_{21} & a_{22} \\\\ a_{31} & a_{32} \\end{bmatrix} \n",
    "$\n",
    "\n",
    "Cofactor expansion along the 3rd row:\n",
    "\n",
    "$ (-1)^{3+1} a_{31} \\begin{bmatrix} a_{12} & a_{13} \\\\ a_{22} & a_{23} \\end{bmatrix}\n",
    " + (-1)^{3+2} a_{32} \\begin{bmatrix} a_{11} & a_{13} \\\\ a_{21} & a_{23} \\end{bmatrix} \n",
    " + (-1)^{3+3} a_{33} \\begin{bmatrix} a_{11} & a_{12} \\\\ a_{21} & a_{22} \\end{bmatrix} \n",
    "$\n",
    "\n",
    "> 對任一 row 來做 cofactor expansion 求 determinant 結果都相同。\n",
    "\n",
    "### Example\n",
    "\n",
    "find det M, M = $ \\begin{bmatrix} 1 & 2 & 3 & 8 \\\\ 4 & 5 & 6 & 9 \\\\ 0 & 0 & 1 & 0 \\\\ 0 & 0 & 0 & 1 \\end{bmatrix} $\n",
    "\n",
    "det M = $ (-1)^{4+1} \\times 0 \\times M_{41} \n",
    "+ (-1)^{4+2} \\times 0 \\times M_{42} \n",
    "+ (-1)^{4+3} \\times 0 \\times M_{43}\n",
    "+ (-1)^{4+4} \\times 1 \\times M_{44} = -3 $\n",
    "\n",
    "觀察發現如果 $ A \\in R^{m \\times m}, B \\in R^{m \\times n} $,\n",
    "\n",
    "$ det \\ \\ \\begin{bmatrix} A & B \\\\ O & I_n \\end{bmatrix}  = det \\ \\ A $"
   ]
  },
  {
   "cell_type": "code",
   "execution_count": 2,
   "metadata": {
    "collapsed": false
   },
   "outputs": [
    {
     "name": "stdout",
     "output_type": "stream",
     "text": [
      "\n",
      "det M = -3 \n",
      "matrix M: Matrix([\n",
      "[1, 2, 3, 8],\n",
      "[4, 5, 6, 9],\n",
      "[0, 0, 1, 0],\n",
      "[0, 0, 0, 1]]) \n"
     ]
    }
   ],
   "source": [
    "import sympy\n",
    "M = sympy.Matrix(4, 4, [1,2,3,8,\n",
    "                        4,5,6,9,\n",
    "                        0,0,1,0,\n",
    "                        0,0,0,1])\n",
    "print('\\ndet M = %s ' % M.det())\n",
    "print('matrix M: %s ' % repr(M))"
   ]
  },
  {
   "cell_type": "markdown",
   "metadata": {},
   "source": [
    "### Computational Complexity\n",
    "\n",
    "若沒有 zero entries, 對任意 n &times; n 的 Matrix 進行 cofactor expansion 需要至少 n! 的 單位運算。\n",
    "\n",
    "### Definitions\n",
    "\n",
    "matrix $ A_{n \\times n} $ is said **lower triangular** if $ a_{ij} = 0 $ for all i,j that i &lt; j.\n",
    "\n",
    "matrix $ A_{n \\times n} $ is said **upper triangular** if $ a_{ij} = 0 $ for all i,j that i &gt; j.\n",
    "\n",
    "### Theorem 3.2\n",
    "\n",
    "The determinant of an **upper triangular** or **lower triangular** $ A_{n \\times n} $ equals the product of its diagonal entries.\n",
    "\n",
    "### Corollaries\n",
    "\n",
    "- a. det $ I_n = 1 $\n",
    "- b. For any upper or lower triangular $ A_{n \\times n} $, det A = 0 &iff; at least one diagonal entry of A is zero."
   ]
  },
  {
   "cell_type": "markdown",
   "metadata": {},
   "source": [
    "### Theorem 3.3 (a)\n",
    "\n",
    "Let A be a n &times; n matrix. If B is a matrix obtained by interchanging 2 rows of A; Then det A = - det B.\n",
    "\n",
    "如果 A 包含相鄰的兩 row: s,r. 交換 s, r row 後得到 B。則 $ A_{rj} = B_{sj} $  \n",
    "對A的 rth row 進行 cofactor expansion 獲得的 det A, 正好等於 - det B.\n",
    "\n",
    "如果 s, r 行相距超過一行，仍然需要做 奇數次 的 interchanging row operation。  \n",
    "\n",
    "det A = - det B, 如果 B 是 A矩陣 某兩行交換的結果。\n",
    "\n",
    "如果 E 是 Identity Matrix:I 進行 row interchange 後的結果。則 det E = - det I = -1\n",
    "\n",
    "### Theorem 3.3 (b)\n",
    "\n",
    "如果 B 是對 A 的 rth row 的每個 entry 乘以 scalar k 後的結果。則 det B = k &times; det A\n",
    "\n",
    "對 A 的 rth row 進行 cofactor expansion 即可得證。\n",
    "\n",
    "### Theorem 3.3 (c)\n",
    "\n",
    "如果 B 是 A 的 rth row 乘以 k 倍後加到 sth row 的結果。則 det B = det A。\n",
    "\n",
    "證明過程利用: 如果C陣列包含相同的兩rows，則 det C = - det C = 0。 det B = det A + k &times; det C\n",
    "\n",
    "### Theorem 3.3 (d)\n",
    "\n",
    "for any x &times; n elementary matrix E, we have det EA = (det E) &times; (det A)"
   ]
  },
  {
   "cell_type": "markdown",
   "metadata": {},
   "source": [
    "### Calculating Determinant\n",
    "\n",
    "If an n &times; n matrix A is transformed into an upper triangular matrix U by elementary row operations other than scaling operation, then  \n",
    "det A = $ (-1)^r u_{11} \\times u_{22} \\times \\cdots u_{nn}  $  \n",
    "Where r is the number of row interchanging operation performed.\n",
    "\n",
    "### Property : A is not invertible iff det A = 0"
   ]
  },
  {
   "cell_type": "markdown",
   "metadata": {},
   "source": [
    "### Theorem 3.4\n",
    "\n",
    "Let A, B be square matrices of the same size, the following statements are true:\n",
    "\n",
    "- a. A is invertible iff. det A &ne; 0\n",
    "- b. det AB = det A &times; det B\n",
    "- c. det A = det $ A^T $\n",
    "- d. if A is invertible, $ det \\ \\  A^{-1} = \\frac{1}{det \\ \\ A} $\n",
    "\n",
    "Proof.  \n",
    "\n",
    "If A is invertible, 可以找到 elementary matrices  Ek ... E2 E1 = A  \n",
    "det A = det(Ek (... (E2 (E1) ) ) ) = det Ek &times; ... &times; det E2 &times; det E1  \n",
    "det A &times; det B = det Ek &times; ... &times; det E2 &times; det E1 &times; det B  \n",
    " = det Ek &times; ... &times; det E2 &times; det(E1 B)  \n",
    " = det (Ek ... E2 E1 B) = det (AB)\n",
    " \n",
    "If A is NOT invertible, 存在 P 矩陣(invertible) 使得 P A = R  \n",
    "R 是 reduced echelon form, P 是獲得 reduced echlon form 的 可逆 elementary row operations 矩陣；  \n",
    "因為 A is NOT invertible, 所以 R 中必定有 zero bottom row.  \n",
    "det P det AB = det PAB      (因為P是elementary operations matrix)  \n",
    "= det RB = 0   (因為 R 有 zero bottom row, 所以為零)  \n",
    "而 det P 不為零(因為 invertible) ，所以 det AB = 0 = det A &times; det B (det A是零)\n",
    "\n",
    "det A &times; A<sup>-1</sup> = det I = 1 = det A &times; det A<sup>-1</sup>\n",
    "\n",
    "### Example\n",
    "\n",
    "When A is invertible?\n",
    "\n",
    "A = $ \\begin{bmatrix} 1 & -1 & 2 \\\\ -1 & 0 & c \\\\ 2 & 1 & 7 \\end{bmatrix} $\n",
    "\n",
    "in row echelon form: $ \\begin{bmatrix} 1 & -1 & 2 \\\\ 0 & -1 & c+2 \\\\ 0 & 0 & 3c+9 \\end{bmatrix} $\n",
    "\n",
    "A is invertible only when c &ne; -3\n",
    "\n",
    "### Example\n",
    "\n",
    "A, B, C are sub-matrices of M,  \n",
    "\n",
    "$ M = \\begin{bmatrix} A & B \\\\ 0 & C \\end{bmatrix} = \\begin{bmatrix} I_m & 0_n \\\\ 0_m & C \\end{bmatrix} \\ \\ \\begin{bmatrix} A & B \\\\ 0_m & I_n \\end{bmatrix} $\n",
    "\n",
    "det M = det C &times; det A"
   ]
  }
 ],
 "metadata": {
  "anaconda-cloud": {},
  "kernelspec": {
   "display_name": "Python [default]",
   "language": "python",
   "name": "python3"
  },
  "language_info": {
   "codemirror_mode": {
    "name": "ipython",
    "version": 3
   },
   "file_extension": ".py",
   "mimetype": "text/x-python",
   "name": "python",
   "nbconvert_exporter": "python",
   "pygments_lexer": "ipython3",
   "version": "3.5.2"
  }
 },
 "nbformat": 4,
 "nbformat_minor": 2
}
