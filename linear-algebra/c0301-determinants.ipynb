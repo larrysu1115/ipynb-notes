{
 "cells": [
  {
   "cell_type": "markdown",
   "metadata": {},
   "source": [
    "### Definition: Submatrix for cofactor\n",
    "\n",
    "Having $ A = [ a_{ij} ] \\in \\mathcal{M}_{n \\times n} $,  \n",
    "matrix $ A_{ij} $ 是去除 A 的 *j*th row 和 *i*th column 之後，  \n",
    "大小為 $ \\mathcal{M}_{(n-1) \\times (n-1)} $ 的 matrix.\n",
    "\n",
    "### Definition: Determinants and Cofactors\n",
    "\n",
    "Having $ A = [ a_{ij} ] \\in \\mathcal{M}_{n \\times n} $,  \n",
    "The determinant of A, denoted by \"det A\" of \"\\|A\\|\", is defined as det A = $ a_{11} $ for n = 1 and\n",
    "\n",
    "$$ det \\ A = a_{11} det \\ A_{11} - a_{12} det \\ A_{12} + \\cdots + (-1)^{1+n} a_{1n} det \\ A_{1n} $$\n",
    "\n",
    "for n &gt; 1, the **(i,j)-cofactor** $ c_{ij} $ of A is defined as $ (-1)^{i+j} det A_{ij} $\n",
    "\n",
    "### Example\n",
    "\n",
    "$ A = \\begin{bmatrix} a & b \\\\ c & d \\end{bmatrix} \\Rightarrow A_{11} = [d] $, and $ A_{12} = [c] $\n",
    "\n",
    "$ det \\ \\ A = a \\ \\dot \\ det \\ \\ A_{11} - b \\ \\dot \\ det \\ \\ A_{12} = ad - bc $\n",
    "\n",
    "A is NOT invertible $ \\iff [ a \\ \\ c ]^T $ and $ [ b \\ \\ d ]^T $ are L.D.\n",
    "\n",
    "$ \\iff a = c = 0 \\ or \\ [a \\ \\ c]^T = k [ b \\ \\ d ]^T $ for some k\n",
    "\n",
    "$ \\iff det \\ \\ A = ad - bc = 0$ "
   ]
  },
  {
   "cell_type": "markdown",
   "metadata": {},
   "source": [
    "### Cofactor expansion along different rows:\n",
    "\n",
    "$ \\begin{bmatrix} a_{11} & a_{12} & a_{13} \\\\ a_{21} & a_{22} & a_{23} \\\\ a_{31} & a_{32} & a_{33} \\end{bmatrix}  = a_{11} c_{11}  + a_{12} c_{12} + a_{13} c_{13} $\n",
    "\n",
    "Cofactor expansion along the 1st row:\n",
    "\n",
    "$ (-1)^{1+1} a_{11} \\begin{bmatrix} a_{22} & a_{23} \\\\ a_{32} & a_{33} \\end{bmatrix}\n",
    " + (-1)^{1+2} a_{12} \\begin{bmatrix} a_{21} & a_{23} \\\\ a_{31} & a_{33} \\end{bmatrix} \n",
    " + (-1)^{1+3} a_{13} \\begin{bmatrix} a_{21} & a_{22} \\\\ a_{31} & a_{32} \\end{bmatrix} \n",
    "$\n",
    "\n",
    "Cofactor expansion along the 3rd row:\n",
    "\n",
    "$ (-1)^{3+1} a_{31} \\begin{bmatrix} a_{12} & a_{13} \\\\ a_{22} & a_{23} \\end{bmatrix}\n",
    " + (-1)^{3+2} a_{32} \\begin{bmatrix} a_{11} & a_{13} \\\\ a_{21} & a_{23} \\end{bmatrix} \n",
    " + (-1)^{3+3} a_{33} \\begin{bmatrix} a_{11} & a_{12} \\\\ a_{21} & a_{22} \\end{bmatrix} \n",
    "$\n",
    "\n",
    "> 對任一 row 來做 cofactor expansion 求 determinant 結果都相同。\n",
    "\n",
    "### Example\n",
    "\n",
    "find det M, M = $ \\begin{bmatrix} 1 & 2 & 3 & 8 \\\\ 4 & 5 & 6 & 9 \\\\ 0 & 0 & 1 & 0 \\\\ 0 & 0 & 0 & 1 \\end{bmatrix} $\n",
    "\n",
    "det M = $ (-1)^{4+1} \\times 0 \\times M_{41} \n",
    "+ (-1)^{4+2} \\times 0 \\times M_{42} \n",
    "+ (-1)^{4+3} \\times 0 \\times M_{43}\n",
    "+ (-1)^{4+4} \\times 1 \\times M_{44} = -3 $\n",
    "\n",
    "觀察發現如果 $ A \\in R^{m \\times m}, B \\in R^{m \\times n} $,\n",
    "\n",
    "$ det \\ \\ \\begin{bmatrix} A & B \\\\ O & I_n \\end{bmatrix}  = det \\ \\ A $"
   ]
  },
  {
   "cell_type": "markdown",
   "metadata": {},
   "source": [
    "### Computational Complexity\n",
    "\n",
    "若沒有 zero entries, 對任意 n &times; n 的 Matrix 進行 cofactor expansion 需要至少 n! 的 單位運算。\n",
    "\n",
    "### Definitions\n",
    "\n",
    "matrix $ A_{n \\times n} $ is said **lower triangular** if $ a_{ij} = 0 $ for all i,j that i &lt; j.\n",
    "\n",
    "matrix $ A_{n \\times n} $ is said **upper triangular** if $ a_{ij} = 0 $ for all i,j that i &gt; j.\n",
    "\n",
    "### Theorem 3.2\n",
    "\n",
    "The determinant of an **upper triangular** or **lower triangular** $ A_{n \\times n} $ equals the product of its diagonal entries.\n",
    "\n",
    "### Corollaries\n",
    "\n",
    "- a. det $ I_n = 1 $\n",
    "- b. For any upper or lower triangular $ A_{n \\times n} $, det A = 0 &iff; at least one diagonal entry of A is zero."
   ]
  }
 ],
 "metadata": {
  "anaconda-cloud": {},
  "kernelspec": {
   "display_name": "Python [default]",
   "language": "python",
   "name": "python3"
  },
  "language_info": {
   "codemirror_mode": {
    "name": "ipython",
    "version": 3
   },
   "file_extension": ".py",
   "mimetype": "text/x-python",
   "name": "python",
   "nbconvert_exporter": "python",
   "pygments_lexer": "ipython3",
   "version": "3.5.2"
  }
 },
 "nbformat": 4,
 "nbformat_minor": 2
}
