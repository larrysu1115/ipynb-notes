{
 "cells": [
  {
   "cell_type": "markdown",
   "metadata": {},
   "source": [
    "## List"
   ]
  },
  {
   "cell_type": "code",
   "execution_count": 2,
   "metadata": {},
   "outputs": [
    {
     "name": "stdout",
     "output_type": "stream",
     "text": [
      "Step 1: [3, 4, 5, 6, 7]\n",
      "Got item: 7\n",
      "Step 2: [3, 4, 5, 6]\n",
      "Second item:  4\n"
     ]
    }
   ],
   "source": [
    "stack = [3, 4, 5]\n",
    "stack.append(6)\n",
    "stack.append(7)\n",
    "print('Step 1:', stack)\n",
    "got_item = stack.pop()\n",
    "print('Got item:', got_item)\n",
    "print('Step 2:', stack)\n",
    "\n",
    "print('Second item: ', stack[1])"
   ]
  },
  {
   "cell_type": "markdown",
   "metadata": {},
   "source": [
    "## List Comprehensions\n",
    "\n",
    "使用比較精簡的方式產生 list."
   ]
  },
  {
   "cell_type": "code",
   "execution_count": 5,
   "metadata": {},
   "outputs": [
    {
     "name": "stdout",
     "output_type": "stream",
     "text": [
      "產生 0 的平方: 0\n",
      "產生 1 的平方: 1\n",
      "產生 2 的平方: 4\n",
      "產生 3 的平方: 9\n",
      "產生 4 的平方: 16\n",
      "產生 5 的平方: 25\n",
      "產生 6 的平方: 36\n",
      "產生 7 的平方: 49\n",
      "產生 8 的平方: 64\n",
      "產生 9 的平方: 81\n",
      "平方列表:  [0, 1, 4, 9, 16, 25, 36, 49, 64, 81]\n"
     ]
    }
   ],
   "source": [
    "squares = []\n",
    "for x in range(10):\n",
    "    p = x**2\n",
    "    print('產生 %d 的平方: %d' % (x, p))\n",
    "    # 加入到 list\n",
    "    squares.append(p)\n",
    "\n",
    "print(\"平方列表: \", squares)"
   ]
  },
  {
   "cell_type": "code",
   "execution_count": 14,
   "metadata": {},
   "outputs": [
    {
     "name": "stdout",
     "output_type": "stream",
     "text": [
      "[0, 1, 4, 9, 16, 25, 36, 49, 64, 81]\n"
     ]
    }
   ],
   "source": [
    "squares = [x**2 for x in range(10)]\n",
    "print(squares)"
   ]
  },
  {
   "cell_type": "markdown",
   "metadata": {},
   "source": [
    "## Tuple\n"
   ]
  },
  {
   "cell_type": "code",
   "execution_count": 17,
   "metadata": {},
   "outputs": [
    {
     "name": "stdout",
     "output_type": "stream",
     "text": [
      "t: ('a', 'b')\n",
      "t[0]: a\n",
      "item_1: a\n",
      "item_2: b\n"
     ]
    }
   ],
   "source": [
    "t = 'a', 'b'\n",
    "print('t:', t)\n",
    "print('t[0]:', t[0])\n",
    "\n",
    "item_1, item_2 = t\n",
    "print('item_1:', item_1)\n",
    "print('item_2:', item_2)"
   ]
  },
  {
   "cell_type": "markdown",
   "metadata": {},
   "source": [
    "## Set"
   ]
  },
  {
   "cell_type": "code",
   "execution_count": 24,
   "metadata": {},
   "outputs": [
    {
     "name": "stdout",
     "output_type": "stream",
     "text": [
      "length:  3  - content: {'apple', 'orange', 'banana'}\n",
      "length:  3  - content: {'apple', 'orange', 'banana'}\n",
      "pear in basket?  False\n",
      "apple in basket?  True\n"
     ]
    }
   ],
   "source": [
    "basket = {'apple', 'banana', 'orange'}\n",
    "print('length: ', len(basket), ' - content:', basket)\n",
    "\n",
    "# 不會有重複的元素。重複的自動忽略掉。\n",
    "basket = {'apple', 'banana', 'orange', 'banana'}\n",
    "print('length: ', len(basket), ' - content:', basket)\n",
    "\n",
    "# 檢查是否存在\n",
    "print('pear in basket? ',  'pear'  in basket)\n",
    "print('apple in basket? ', 'apple' in basket)"
   ]
  },
  {
   "cell_type": "markdown",
   "metadata": {},
   "source": [
    "## Dictionary\n",
    "\n",
    "key - value 的組"
   ]
  },
  {
   "cell_type": "code",
   "execution_count": 31,
   "metadata": {},
   "outputs": [
    {
     "name": "stdout",
     "output_type": "stream",
     "text": [
      "tel: {'jack': 4098, 'sape': 4139, 'guido': 4127}\n",
      "tel: {'jack': 9999, 'sape': 4139, 'guido': 4127}\n",
      "\n",
      "jack owns number: 9999\n",
      "sape owns number: 4139\n",
      "guido owns number: 4127\n"
     ]
    }
   ],
   "source": [
    "tel = {'jack': 4098, 'sape': 4139}\n",
    "\n",
    "# 再加一個 key-value pair\n",
    "tel['guido'] = 4127\n",
    "\n",
    "print('tel:', tel)\n",
    "\n",
    "# 取代掉 key:jack 的 value\n",
    "tel['jack'] = 9999\n",
    "\n",
    "print('tel:', tel)\n",
    "\n",
    "print()\n",
    "# loop through\n",
    "for k,v in tel.items():\n",
    "    print('%s owns number: %d' % (k, v))\n"
   ]
  },
  {
   "cell_type": "markdown",
   "metadata": {},
   "source": [
    "## 使用時機\n",
    "\n",
    "- list : 存放許多元素，如果要確認某個元素存在與否，需要從第一個元素 遍歷 到最後一個元素。\n",
    "- set : 不可以重複的 list\n",
    "- dictionary : 可以快速方便的利用 key 取得某個元素 value, 又叫做 hash map."
   ]
  },
  {
   "cell_type": "markdown",
   "metadata": {},
   "source": [
    "## 題外話 : 矩陣運算 Vectorization 要比 loop 快。\n",
    "\n",
    "例如進行 dot product 計算\n",
    "$$\n",
    "\\begin{bmatrix}\n",
    "1 & 2 & 3 & 4 & 5\n",
    "\\end{bmatrix} \\ \\ \\times  \\ \\ \n",
    "\\begin{bmatrix}\n",
    "1 \\\\ 2 \\\\ 3 \\\\ 4 \\\\ 5\n",
    "\\end{bmatrix}\n",
    "$$\n",
    "\n",
    "## 可以用 loop 做到\n",
    "## 也可以用 numpy.dot 做到\n",
    "## 但是 numpy.dot 會較有效率。"
   ]
  },
  {
   "cell_type": "code",
   "execution_count": 95,
   "metadata": {},
   "outputs": [
    {
     "name": "stdout",
     "output_type": "stream",
     "text": [
      "Loop       version answer 2499022.141, time used:    4474.6039 ms\n",
      "Vectorized version answer 2499022.141, time used:       9.7709 ms\n"
     ]
    }
   ],
   "source": [
    "import time\n",
    "import numpy as np\n",
    "\n",
    "# 1千萬元素的隨機 vector \n",
    "NUM = 10000000\n",
    "a = np.random.rand(NUM)\n",
    "b = np.random.rand(NUM)\n",
    "\n",
    "tic = time.time()\n",
    "c_loop = .0\n",
    "for i in range(NUM):\n",
    "    c_loop += a[i] * b[i]\n",
    "toc = time.time()    \n",
    "\n",
    "print(\"Loop       version answer %.3f, time used: %12.4f ms\" % (c_loop, float(1000*(toc-tic))))\n",
    "\n",
    "tic = time.time()\n",
    "c_vec = np.dot(a, b)\n",
    "toc = time.time()\n",
    "\n",
    "print(\"Vectorized version answer %.3f, time used: %12.4f ms\" % (c_vec, float(1000*(toc-tic))))"
   ]
  },
  {
   "cell_type": "markdown",
   "metadata": {},
   "source": [
    "## Error - Try Catch"
   ]
  },
  {
   "cell_type": "code",
   "execution_count": 101,
   "metadata": {},
   "outputs": [],
   "source": [
    "def divide(x, y):\n",
    "    try:\n",
    "        result = x / y\n",
    "    except ZeroDivisionError:\n",
    "        print(\"division by zero!\")\n",
    "    else:\n",
    "        print(\"result is\", result)\n",
    "    finally:\n",
    "        print(\"executing finally clause\")"
   ]
  },
  {
   "cell_type": "code",
   "execution_count": 102,
   "metadata": {
    "scrolled": true
   },
   "outputs": [
    {
     "name": "stdout",
     "output_type": "stream",
     "text": [
      "result is 2.0\n",
      "executing finally clause\n",
      "devide(2,1) : None\n"
     ]
    }
   ],
   "source": [
    "print('devide(2,1) :', divide(2,1))"
   ]
  },
  {
   "cell_type": "code",
   "execution_count": 103,
   "metadata": {},
   "outputs": [
    {
     "name": "stdout",
     "output_type": "stream",
     "text": [
      "division by zero!\n",
      "executing finally clause\n",
      "devide(2,1) : None\n"
     ]
    }
   ],
   "source": [
    "print('devide(2,1) :', divide(2,0))"
   ]
  }
 ],
 "metadata": {
  "kernelspec": {
   "display_name": "p3lab",
   "language": "python",
   "name": "p3lab"
  },
  "language_info": {
   "codemirror_mode": {
    "name": "ipython",
    "version": 3
   },
   "file_extension": ".py",
   "mimetype": "text/x-python",
   "name": "python",
   "nbconvert_exporter": "python",
   "pygments_lexer": "ipython3",
   "version": "3.6.1"
  }
 },
 "nbformat": 4,
 "nbformat_minor": 2
}
