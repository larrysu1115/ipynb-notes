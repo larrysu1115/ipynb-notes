{
 "cells": [
  {
   "cell_type": "markdown",
   "metadata": {},
   "source": [
    "# 3. An Informal Introduction to Python\n",
    "\n",
    "[3. An Informal Introduction to Python](https://docs.python.org/3/tutorial/introduction.html)"
   ]
  },
  {
   "cell_type": "markdown",
   "metadata": {},
   "source": [
    "## String"
   ]
  },
  {
   "cell_type": "code",
   "execution_count": 12,
   "metadata": {},
   "outputs": [
    {
     "name": "stdout",
     "output_type": "stream",
     "text": [
      "s1: spam eggs\n"
     ]
    }
   ],
   "source": [
    "# 用單引號把 字串 包起來\n",
    "s1 = 'spam eggs'\n",
    "print('s1:', s1)"
   ]
  },
  {
   "cell_type": "code",
   "execution_count": 11,
   "metadata": {},
   "outputs": [
    {
     "name": "stdout",
     "output_type": "stream",
     "text": [
      "s1: doesn't\n",
      "s1: doesn't\n"
     ]
    }
   ],
   "source": [
    "# 跳脫字符 escape character\n",
    "s1 = 'doesn\\'t'\n",
    "print('s1:', s1)\n",
    "\n",
    "# 也可以用雙引號\n",
    "s1 = \"doesn't\"\n",
    "print('s1:', s1)"
   ]
  },
  {
   "cell_type": "code",
   "execution_count": 15,
   "metadata": {},
   "outputs": [
    {
     "name": "stdout",
     "output_type": "stream",
     "text": [
      "s1: spam\n",
      "eggs\n",
      "s1: spam\teggs\n"
     ]
    }
   ],
   "source": [
    "# 斷行\n",
    "s1 = 'spam\\neggs'\n",
    "print('s1:', s1)\n",
    "\n",
    "# tab\n",
    "s1 = 'spam\\teggs'\n",
    "print('s1:', s1)"
   ]
  },
  {
   "cell_type": "code",
   "execution_count": 20,
   "metadata": {},
   "outputs": [
    {
     "name": "stdout",
     "output_type": "stream",
     "text": [
      "s1[0:2] : ab\n",
      "s1[4:]  : ef\n",
      "s1[-2]  : e\n"
     ]
    }
   ],
   "source": [
    "# 把字串當成 list 選 字符\n",
    "s1 = 'abcdef'\n",
    "print('s1[0:2] :', s1[0:2])\n",
    "print('s1[4:]  :', s1[4:])\n",
    "print('s1[-2]  :', s1[-2])"
   ]
  },
  {
   "cell_type": "code",
   "execution_count": 23,
   "metadata": {},
   "outputs": [
    {
     "name": "stdout",
     "output_type": "stream",
     "text": [
      "John weighted 12.345670 kilograms.\n",
      "a       cake cost 12.346 USD\n",
      "a watermelon cost 1.300 USD\n"
     ]
    }
   ],
   "source": [
    "# 控制輸出格式\n",
    "# %s: 代表 string\n",
    "# %f: 代表 float\n",
    "print('%s weighted %f kilograms.' % ('John', 12.34567))\n",
    "\n",
    "# %10s: 代表 string, 預留10個字符位置\n",
    "# %.3f: 代表 float, 只顯示到小數點後 3 位\n",
    "print('a %10s cost %.3f USD' % ('cake', 12.34567))\n",
    "print('a %10s cost %.3f USD' % ('watermelon', 1.3))"
   ]
  },
  {
   "cell_type": "markdown",
   "metadata": {},
   "source": [
    "# List"
   ]
  },
  {
   "cell_type": "code",
   "execution_count": 26,
   "metadata": {},
   "outputs": [
    {
     "name": "stdout",
     "output_type": "stream",
     "text": [
      "[1, 8, 27]\n",
      "27\n"
     ]
    }
   ],
   "source": [
    "cubes = [1, 8, 27]\n",
    "print(cubes)\n",
    "\n",
    "print(cubes[2])"
   ]
  },
  {
   "cell_type": "code",
   "execution_count": 28,
   "metadata": {},
   "outputs": [
    {
     "name": "stdout",
     "output_type": "stream",
     "text": [
      "[1, 8, 27, 64]\n"
     ]
    }
   ],
   "source": [
    "cubes = [1, 8, 27]\n",
    "cubes.append(4**3)\n",
    "print(cubes)"
   ]
  },
  {
   "cell_type": "code",
   "execution_count": 30,
   "metadata": {},
   "outputs": [
    {
     "name": "stdout",
     "output_type": "stream",
     "text": [
      "1\n",
      "1\n",
      "2\n",
      "3\n",
      "5\n",
      "8\n"
     ]
    }
   ],
   "source": [
    "# loop\n",
    "a, b = 0, 1\n",
    "while b < 10:\n",
    "    print(b)\n",
    "    a, b = b, a+b"
   ]
  },
  {
   "cell_type": "code",
   "execution_count": 31,
   "metadata": {},
   "outputs": [
    {
     "name": "stdout",
     "output_type": "stream",
     "text": [
      "1,1,2,3,5,8,"
     ]
    }
   ],
   "source": [
    "# loop\n",
    "a, b = 0, 1\n",
    "while b < 10:\n",
    "    print(b, end=',')\n",
    "    a, b = b, a+b"
   ]
  }
 ],
 "metadata": {
  "kernelspec": {
   "display_name": "p3lab",
   "language": "python",
   "name": "p3lab"
  },
  "language_info": {
   "codemirror_mode": {
    "name": "ipython",
    "version": 3
   },
   "file_extension": ".py",
   "mimetype": "text/x-python",
   "name": "python",
   "nbconvert_exporter": "python",
   "pygments_lexer": "ipython3",
   "version": "3.6.1"
  }
 },
 "nbformat": 4,
 "nbformat_minor": 2
}
