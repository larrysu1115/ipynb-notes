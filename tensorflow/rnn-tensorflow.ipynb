{
 "cells": [
  {
   "cell_type": "markdown",
   "metadata": {},
   "source": [
    "# 01 20"
   ]
  },
  {
   "cell_type": "code",
   "execution_count": 1,
   "metadata": {
    "collapsed": true
   },
   "outputs": [],
   "source": [
    "import numpy as np\n",
    "from random import shuffle\n"
   ]
  },
  {
   "cell_type": "code",
   "execution_count": 2,
   "metadata": {},
   "outputs": [
    {
     "name": "stdout",
     "output_type": "stream",
     "text": [
      "65536\n",
      "[0. 0. 0. 0. 0. 0. 1. 0. 0. 0. 0. 0. 0. 0. 0. 0. 0. 0. 0. 0. 0.] \n",
      " (20, 1)\n",
      "[0. 0. 0. 0. 0. 0. 1. 0. 0. 0. 0. 0. 0. 0. 0. 0. 0. 0. 0. 0. 0.] \n",
      " (20, 1)\n",
      "[0. 0. 0. 0. 0. 0. 1. 0. 0. 0. 0. 0. 0. 0. 0. 0. 0. 0. 0. 0. 0.] \n",
      " (20, 1)\n"
     ]
    }
   ],
   "source": [
    "data_input = ['{0:020b}'.format(i) for i in range(2**16)]\n",
    "shuffle(data_input)\n",
    "data_input = [map(int,i) for i in data_input]\n",
    "ti = []\n",
    "to = []\n",
    "for i in data_input:\n",
    "    temp_o = np.zeros((21))\n",
    "    temp_list = []\n",
    "    for j in i:\n",
    "            temp_list.append([j])\n",
    "    temp_list = np.array(temp_list)\n",
    "    temp_o[np.sum(temp_list)] = 1\n",
    "    ti.append(temp_list)\n",
    "    to.append(temp_o)\n",
    "data_input = ti\n",
    "data_output = to\n",
    "\n",
    "print(len(data_input))\n",
    "[print(data_output[i], '\\n',data_input[i].shape) for i in range(0,3)];"
   ]
  },
  {
   "cell_type": "code",
   "execution_count": 3,
   "metadata": {
    "collapsed": true
   },
   "outputs": [],
   "source": [
    "NUM_EXAMPLES = 10000\n",
    "dev_input = data_input[NUM_EXAMPLES:]\n",
    "dev_output = data_output[NUM_EXAMPLES:]\n",
    "\n",
    "train_input = data_input[:NUM_EXAMPLES]\n",
    "train_output = data_output[:NUM_EXAMPLES]"
   ]
  },
  {
   "cell_type": "code",
   "execution_count": 4,
   "metadata": {
    "collapsed": true
   },
   "outputs": [],
   "source": [
    "def variable_summaries(var):\n",
    "  \"\"\"Attach a lot of summaries to a Tensor (for TensorBoard visualization).\"\"\"\n",
    "  pass\n",
    "  with tf.name_scope('summaries'):\n",
    "    mean = tf.reduce_mean(var)\n",
    "    tf.summary.scalar('mean', mean)\n",
    "    #with tf.name_scope('stddev'):\n",
    "    #  stddev = tf.sqrt(tf.reduce_mean(tf.square(var - mean)))\n",
    "    # tf.summary.scalar('stddev', stddev)\n",
    "    tf.summary.scalar('max', tf.reduce_max(var))\n",
    "    tf.summary.scalar('min', tf.reduce_min(var))\n",
    "    tf.summary.histogram('histogram', var)"
   ]
  },
  {
   "cell_type": "code",
   "execution_count": 6,
   "metadata": {},
   "outputs": [
    {
     "name": "stderr",
     "output_type": "stream",
     "text": [
      "/Users/larrysu/.pyenv/versions/p3lab/lib/python3.6/site-packages/tensorflow/python/ops/gradients_impl.py:98: UserWarning: Converting sparse IndexedSlices to a dense Tensor of unknown shape. This may consume a large amount of memory.\n",
      "  \"Converting sparse IndexedSlices to a dense Tensor of unknown shape. \"\n"
     ]
    },
    {
     "name": "stdout",
     "output_type": "stream",
     "text": [
      "Epoch 0 : train error=0.804688   -  dev error=0.798833\n",
      "Epoch 1 : train error=0.636719   -  dev error=0.631608\n",
      "Epoch 2 : train error=0.544922   -  dev error=0.631878\n",
      "Epoch 3 : train error=0.216797   -  dev error=0.345866\n",
      "Epoch 4 : train error=0.271484   -  dev error=0.244850\n",
      "Epoch 5 : train error=0.187500   -  dev error=0.211286\n",
      "Epoch 6 : train error=0.113281   -  dev error=0.116879\n",
      "Epoch 7 : train error=0.054688   -  dev error=0.089041\n",
      "Epoch 8 : train error=0.037109   -  dev error=0.218759\n",
      "Epoch 9 : train error=0.027344   -  dev error=0.036643\n",
      "[[0.   0.   0.   0.   0.   0.   0.   0.   0.   0.   0.03 0.65 0.26 0.05\n",
      "  0.01 0.   0.   0.   0.   0.   0.  ]]\n"
     ]
    }
   ],
   "source": [
    "import tensorflow as tf\n",
    "tf.reset_default_graph()\n",
    "\n",
    "LOGDIR = '/tmp/rnn1'\n",
    "if tf.gfile.Exists(LOGDIR):\n",
    "    tf.gfile.DeleteRecursively(LOGDIR)\n",
    "tf.gfile.MakeDirs(LOGDIR)\n",
    "\n",
    "with tf.name_scope('input'):\n",
    "    data = tf.placeholder(tf.float32, shape=(None, 20, 1), name='x-input')\n",
    "    target = tf.placeholder(tf.float32, shape=(None, 21), name='y-input')\n",
    "\n",
    "num_hidden = 24\n",
    "\n",
    "with tf.name_scope('rnn'):\n",
    "    cell = tf.nn.rnn_cell.LSTMCell(num_units=num_hidden, state_is_tuple=True)\n",
    "    val, state = tf.nn.dynamic_rnn(cell=cell, inputs=data, dtype=tf.float32)\n",
    "    val = tf.transpose(val, [1,0,2])\n",
    "    with tf.name_scope('lstm-last'):\n",
    "        last = tf.gather(val, int(val.get_shape()[0]) - 1)\n",
    "        variable_summaries(val)\n",
    "        variable_summaries(last)\n",
    "\n",
    "with tf.name_scope('fc'):\n",
    "    with tf.name_scope('w'):\n",
    "        weight = tf.Variable(tf.truncated_normal([num_hidden, int(target.get_shape()[1])]), name='weight')\n",
    "        variable_summaries(weight)\n",
    "    \n",
    "    with tf.name_scope('b'):\n",
    "        bias = tf.Variable(tf.constant(.1, shape=[target.get_shape()[1]]), name='bias')\n",
    "        variable_summaries(bias)\n",
    "        \n",
    "    prediction = tf.nn.softmax(tf.matmul(last, weight) + bias)\n",
    "    \n",
    "with tf.name_scope('cross_entropy'):    \n",
    "    cross_entropy = -tf.reduce_sum(target * tf.log(tf.clip_by_value(prediction,1e-10,1.0)))\n",
    "    tf.summary.scalar('cross_entropy', cross_entropy)\n",
    "\n",
    "with tf.name_scope('train'):\n",
    "    optimizer = tf.train.AdamOptimizer(learning_rate=0.02)\n",
    "    minimize = optimizer.minimize(cross_entropy)\n",
    "\n",
    "with tf.name_scope('accuracy'):\n",
    "    mistakes = tf.not_equal(tf.argmax(target, 1), tf.argmax(prediction, 1))\n",
    "    error = tf.reduce_mean(tf.cast(mistakes, tf.float32))\n",
    "    tf.summary.scalar('error', error)\n",
    "\n",
    "sess = tf.Session()\n",
    "\n",
    "np.set_printoptions(precision=2)\n",
    "np.set_printoptions(suppress=True)\n",
    "\n",
    "\n",
    "merged = tf.summary.merge_all()\n",
    "train_writer = tf.summary.FileWriter(LOGDIR + '/train', sess.graph)\n",
    "test_writer  = tf.summary.FileWriter(LOGDIR + '/test', sess.graph)\n",
    "init_op = tf.global_variables_initializer()\n",
    "sess.run(init_op)\n",
    "\n",
    "batch_size = 512\n",
    "no_of_batches = int(len(train_input)/batch_size)\n",
    "epoch = 10\n",
    "for i in range(epoch):\n",
    "    ptr = 0\n",
    "    run_options = tf.RunOptions(trace_level=tf.RunOptions.FULL_TRACE)\n",
    "    run_metadata = tf.RunMetadata()\n",
    "    for j in range(no_of_batches):\n",
    "        inp, out = train_input[ptr:ptr+batch_size], train_output[ptr:ptr+batch_size]\n",
    "        ptr+=batch_size\n",
    "        summary, _, error_train = sess.run([merged, minimize, error],{data: inp, target: out})\n",
    "#         sess.run(minimize,{data: inp, target: out})\n",
    "#                 options=run_options,\n",
    "#                 run_metadata=run_metadata)\n",
    "    error_dev = sess.run(error,{data: dev_input, target: dev_output})\n",
    "    # error_train = sess.run(error,{data: train_input, target: train_output})\n",
    "    # train_writer.add_run_metadata(run_metadata, 'epoch%03d' % i)\n",
    "    train_writer.add_summary(summary, i)\n",
    "    print(\"Epoch %d : train error=%.6f   -  dev error=%.6f\" % (i, error_train, error_dev))\n",
    "# print('Epoch {:2d} error {:3.1f}%'.format(i + 1, 100 * incorrect))\n",
    "print(sess.run(prediction,{data: [[[1],[0],[0],[1],[1],[0],[1],[1],[1],[0],[1],[0],[0],[1],[1],[0],[1],[1],[1],[0]]]}))\n",
    "sess.close()\n",
    "train_writer.close()\n",
    "test_writer.close()"
   ]
  }
 ],
 "metadata": {
  "kernelspec": {
   "display_name": "p3lab",
   "language": "python",
   "name": "p3lab"
  },
  "language_info": {
   "codemirror_mode": {
    "name": "ipython",
    "version": 3
   },
   "file_extension": ".py",
   "mimetype": "text/x-python",
   "name": "python",
   "nbconvert_exporter": "python",
   "pygments_lexer": "ipython3",
   "version": "3.6.1"
  }
 },
 "nbformat": 4,
 "nbformat_minor": 2
}
