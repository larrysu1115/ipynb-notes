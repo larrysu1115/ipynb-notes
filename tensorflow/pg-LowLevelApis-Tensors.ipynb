{
 "cells": [
  {
   "cell_type": "markdown",
   "metadata": {},
   "source": [
    "# Tensors : PG - Low Level APIs"
   ]
  },
  {
   "cell_type": "code",
   "execution_count": 2,
   "metadata": {},
   "outputs": [],
   "source": [
    "# surpress warning\n",
    "import os\n",
    "os.environ[\"TF_CPP_MIN_LOG_LEVEL\"]=\"3\"\n",
    "\n",
    "from __future__ import absolute_import\n",
    "from __future__ import division\n",
    "from __future__ import print_function\n",
    "\n",
    "import numpy as np\n",
    "import tensorflow as tf\n",
    "\n",
    "sess = tf.Session()"
   ]
  },
  {
   "cell_type": "code",
   "execution_count": 8,
   "metadata": {},
   "outputs": [
    {
     "name": "stdout",
     "output_type": "stream",
     "text": [
      "Tensor(\"Rank_5:0\", shape=(), dtype=int32)\n",
      "rank is 4\n"
     ]
    }
   ],
   "source": [
    "my_image = tf.zeros([10,299,299,3])\n",
    "r = tf.rank(my_image)\n",
    "print(r)\n",
    "print(\"rank is\", sess.run(r))"
   ]
  },
  {
   "cell_type": "code",
   "execution_count": 23,
   "metadata": {},
   "outputs": [
    {
     "name": "stdout",
     "output_type": "stream",
     "text": [
      "<tf.Variable 'Variable_5:0' shape=(4, 3) dtype=int32_ref>\n",
      "(4, 3)\n",
      "Tensor(\"strided_slice_5:0\", shape=(), dtype=int32)\n",
      "mat[1,0] = 4\n",
      "mat =  [[ 1  2  3]\n",
      " [ 4  5  6]\n",
      " [ 7  8  9]\n",
      " [10 11 12]]\n"
     ]
    }
   ],
   "source": [
    "a_mat = tf.Variable([[1,2,3],[4,5,6],[7,8,9],[10,11,12]])\n",
    "a_scalar = a_mat[1,0]\n",
    "\n",
    "init = tf.global_variables_initializer()\n",
    "sess.run(init)\n",
    "\n",
    "print(a_mat)\n",
    "print(a_mat.shape)\n",
    "print(a_scalar)\n",
    "print(\"mat[1,0] =\", sess.run(a_scalar))\n",
    "print(\"mat = \", sess.run(a_mat))"
   ]
  },
  {
   "cell_type": "markdown",
   "metadata": {},
   "source": [
    "## Reshape"
   ]
  },
  {
   "cell_type": "code",
   "execution_count": 17,
   "metadata": {},
   "outputs": [
    {
     "name": "stdout",
     "output_type": "stream",
     "text": [
      "Tensor(\"Reshape_4:0\", shape=(2, 3, 2), dtype=int32)\n",
      "[[[ 1  2]\n",
      "  [ 3  4]\n",
      "  [ 5  6]]\n",
      "\n",
      " [[ 7  8]\n",
      "  [ 9 10]\n",
      "  [11 12]]]\n",
      "Tensor(\"Reshape_5:0\", shape=(4, 3), dtype=int32)\n",
      "[[ 1  2  3]\n",
      " [ 4  5  6]\n",
      " [ 7  8  9]\n",
      " [10 11 12]]\n",
      "Tensor(\"Reshape_6:0\", shape=(12,), dtype=int32)\n",
      "[ 1  2  3  4  5  6  7  8  9 10 11 12]\n"
     ]
    }
   ],
   "source": [
    "b = tf.reshape(a_mat, [2,3,2])\n",
    "print(b)\n",
    "print(sess.run(b))\n",
    "\n",
    "b = tf.reshape(a_mat, [4,-1])\n",
    "print(b)\n",
    "print(sess.run(b))\n",
    "\n",
    "b = tf.reshape(a_mat, [-1])\n",
    "print(b)\n",
    "print(sess.run(b))"
   ]
  },
  {
   "cell_type": "markdown",
   "metadata": {},
   "source": [
    "## Data types, eval, print"
   ]
  },
  {
   "cell_type": "code",
   "execution_count": 25,
   "metadata": {},
   "outputs": [
    {
     "name": "stdout",
     "output_type": "stream",
     "text": [
      "Tensor(\"Const_6:0\", shape=(3,), dtype=int16)\n",
      "Tensor(\"Cast_4:0\", shape=(3,), dtype=float32)\n",
      "Tensor(\"mul_3:0\", shape=(3,), dtype=int16)\n",
      "[1 4 9]\n"
     ]
    }
   ],
   "source": [
    "tf_int = tf.constant([1, 2, 3], dtype=tf.int16)\n",
    "tf_float = tf.cast(tf_int, dtype=tf.float32)\n",
    "mul = tf_int * tf_int\n",
    "print(str(tf_int))\n",
    "print(str(tf_float))\n",
    "\n",
    "print(str(mul))\n",
    "\n",
    "print(str(mul.eval(session=sess)))"
   ]
  },
  {
   "cell_type": "code",
   "execution_count": 30,
   "metadata": {},
   "outputs": [
    {
     "name": "stdout",
     "output_type": "stream",
     "text": [
      "r = 5.0\n"
     ]
    }
   ],
   "source": [
    "p = tf.placeholder(tf.float32)\n",
    "t = p + 3.\n",
    "\n",
    "with sess.as_default():\n",
    "    r = t.eval(feed_dict={p: 2.})\n",
    "\n",
    "print(\"r =\", r)"
   ]
  },
  {
   "cell_type": "code",
   "execution_count": 35,
   "metadata": {},
   "outputs": [
    {
     "name": "stdout",
     "output_type": "stream",
     "text": [
      "Tensor(\"Print_4:0\", shape=(3,), dtype=int16)\n",
      "Tensor(\"add_8:0\", shape=(3,), dtype=int16)\n"
     ]
    }
   ],
   "source": [
    "tf_int = tf.constant([1, 2, 3], dtype=tf.int16)\n",
    "mul = tf_int * tf_int\n",
    "\n",
    "mul = tf.Print(mul, [mul])\n",
    "result = mul + 1\n",
    "print(mul)\n",
    "print(result)"
   ]
  }
 ],
 "metadata": {
  "kernelspec": {
   "display_name": "p3lab",
   "language": "python",
   "name": "p3lab"
  },
  "language_info": {
   "codemirror_mode": {
    "name": "ipython",
    "version": 3
   },
   "file_extension": ".py",
   "mimetype": "text/x-python",
   "name": "python",
   "nbconvert_exporter": "python",
   "pygments_lexer": "ipython3",
   "version": "3.6.1"
  }
 },
 "nbformat": 4,
 "nbformat_minor": 2
}
