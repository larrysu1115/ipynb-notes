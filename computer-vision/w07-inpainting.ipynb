{
 "cells": [
  {
   "cell_type": "markdown",
   "metadata": {},
   "source": [
    "# Inpainting\n",
    "\n",
    "圖片缺失一部份，如何補上？"
   ]
  },
  {
   "cell_type": "markdown",
   "metadata": {},
   "source": [
    "isophotes : 等亮度的線條\n",
    "\n",
    "Algorithm of Bertalmio et al. 利用變化量的梯度。逐步填補。\n",
    "\n",
    "## Algorithm : Isophote-Driven Image Sampling\n",
    "\n",
    "p : 某個點  \n",
    "q : 已知區域  \n",
    "$ n_p $ : 邊界的單位法向量  \n",
    "$ \\Psi_p $ : 某個正方形區塊  \n",
    "$ \\Omega $ : target region  \n",
    "$ \\partial \\ \\Omega $ : 邊界，區隔 已知 和 未知  \n",
    "$ \\nabla I_p^{\\perp} $ : 亮度變化最大的向量 的 法向量 (平行亮度變化線)\n",
    "\n",
    "要找到合適的 p 點開始補\n",
    "\n",
    "Best-first : Patches which are on the continuation of strong edges and which are surrounded by high-confidence pixels.\n",
    "\n",
    "$\n",
    "P\\big(p\\big) = C\\big(p\\big) \\ \\ D\\big(p\\big)\n",
    "\\\\\n",
    "p \\in \\partial \\ \\Omega\n",
    "$"
   ]
  },
  {
   "cell_type": "markdown",
   "metadata": {},
   "source": [
    "### C : Confidence Term\n",
    "\n",
    "$$\n",
    "C\\big(p\\big) = \\frac{\\sum_{q\\in\\Psi_p \\cap \\overline{\\Omega}} C\\big( q \\big) }{ \\big| \\Psi_p \\big| }\n",
    "$$\n",
    "\n",
    "分子 C(q) 是在想要挑選先填補的區塊中，已知的面積；分母是區塊整個的面積。\n",
    "\n",
    "### D : Data Term\n",
    "\n",
    "$$\n",
    "D\\big(p\\big) = \\frac{\\big| \\nabla I_p^{\\perp} \\cdot n_p \\big|}{\\alpha}\n",
    "$$\n",
    "\n",
    "D(p) 邊界和 亮度差異最大的線 是否垂直。邊界法向量 類似 亮度差異最大的線，兩個向量越平行，相乘應該越大。  \n",
    "$ \\alpha = 255 $"
   ]
  },
  {
   "cell_type": "markdown",
   "metadata": {},
   "source": [
    "### Initialization\n",
    "\n",
    "初始值，已知點的 C(p) = 1 in Omega  \n",
    "未知點 C(p) = 0 outside Omega\n",
    "\n",
    "找到最像的點 $ \\hat{q} $, 貼到選定的 p 上。\n",
    "\n",
    "Update 剛填補上的點的 C(p), 直接用 $ \\Psi_{\\hat{q}} $ 的對應點的值。\n",
    "\n",
    "Further reading: Image Completion using Planar Structure Guidance (Jia-Bin Huang,...)"
   ]
  },
  {
   "cell_type": "markdown",
   "metadata": {},
   "source": [
    "## Sparse Representation for Color Image Restoration\n",
    "\n",
    "Principal Component Analysis (PCA)"
   ]
  },
  {
   "cell_type": "markdown",
   "metadata": {},
   "source": [
    "$$\n",
    "\\min_D \\sum \\Vert x_i - D \\ D^T x_i \\Vert_2^2 \\\\\n",
    "D^T x_i = \\alpha_i \\\\\n",
    "D^T \\ D = I\n",
    "$$"
   ]
  },
  {
   "cell_type": "markdown",
   "metadata": {},
   "source": [
    "Sparse Representation\n",
    "\n",
    "- dictionary learning\n",
    "\n",
    "$$\n",
    "\\min_{\\alpha \\in R^{p \\times n},\\ D \\in C} \\min \\sum_{i=1}^n \\frac{1}{2}\n",
    "\\Vert x_i - D \\alpha_i\n",
    "\\Vert_2^2 + \\lambda \\Vert \\alpha_i \\Vert_1 \\\\\n",
    "C \\triangleq \\Big\\{ D \\in R^{m \\times p} \\ \\ s.t. \\ \\ \n",
    "\\forall j = 1, \\cdots, p, \\ \\ \\Vert d_j \\Vert_2 \\le 1\n",
    "\\Big\\}\n",
    "$$"
   ]
  },
  {
   "cell_type": "markdown",
   "metadata": {},
   "source": [
    "$ x_i $ : vector in $ R^m $  \n",
    "$ n $ : data size  \n",
    "$ \\alpha_i $ : number of \"words\" in dictionary  \n",
    "$ \\Vert ? \\Vert_k $ : L-k norm."
   ]
  },
  {
   "cell_type": "markdown",
   "metadata": {},
   "source": [
    "#### Further reading\n",
    "\n",
    "[Sparse Coding tutorial](http://lear.inrialpes.fr/people/mairal/tutorial_iccv09/)\n",
    "\n",
    "compressive sensing"
   ]
  }
 ],
 "metadata": {
  "kernelspec": {
   "display_name": "p3cv",
   "language": "python",
   "name": "p3cv"
  },
  "language_info": {
   "codemirror_mode": {
    "name": "ipython",
    "version": 3
   },
   "file_extension": ".py",
   "mimetype": "text/x-python",
   "name": "python",
   "nbconvert_exporter": "python",
   "pygments_lexer": "ipython3",
   "version": "3.6.2"
  }
 },
 "nbformat": 4,
 "nbformat_minor": 2
}
