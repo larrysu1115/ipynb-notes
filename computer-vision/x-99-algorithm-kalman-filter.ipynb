{
 "cells": [
  {
   "cell_type": "markdown",
   "metadata": {},
   "source": [
    "## Kalman Filter\n",
    "\n",
    "$\n",
    "\\hat{x}_k : \\text{k 時間的 x 估算值} \\\\\n",
    "z_k : \\text{k 時間的觀察值, observation value} \\\\\n",
    "p_k : \\text{k 時間的 prediction error} \\\\\n",
    "r : \\text{variance of noise signal} \\\\\n",
    "g_k : \\text{the Gain}\n",
    "$\n",
    "\n",
    "預測:\n",
    "\n",
    "$$\n",
    "\\hat{x}_k = a \\hat{x}_{k-1} \\\\\n",
    "p_k = a p_{k-1} a\n",
    "$$"
   ]
  },
  {
   "cell_type": "markdown",
   "metadata": {},
   "source": [
    "更新:\n",
    "\n",
    "$$\n",
    "g_k = \\frac{p_k}{p_k + r} \\\\\n",
    "\\hat{x}_k \\leftarrow \\hat{x}_k + g_k \\big( z_k - \\hat{x}_k \\big) \\\\\n",
    "p_k \\leftarrow \\big( 1 - g_k \\big) p_k\n",
    "$$"
   ]
  },
  {
   "cell_type": "markdown",
   "metadata": {},
   "source": [
    "$\n",
    "z_k = x_k + v_k : \\text{觀察值是 x 加上 observation noise } v_k \\\\\n",
    "x_k = a \\ x_{k-1} + b \\ u_k : \\text{加上 control signal } u_k \\text{ 的影響 }\n",
    "$\n",
    "\n",
    "除了 noise 以外的 signal 都可用某個常數 scale:\n",
    "\n",
    "$\n",
    "z_k = c \\ x_k + v_k\n",
    "$"
   ]
  },
  {
   "cell_type": "markdown",
   "metadata": {},
   "source": [
    "### More Realistic Equation\n",
    "\n",
    "Prediction part:\n",
    "\n",
    "$\n",
    "\\hat{x}_k = a \\ \\hat{x}_{k-1} + b \\ u_k \\\\\n",
    "p_k = a \\ p_{k-1} \\ a\n",
    "$"
   ]
  },
  {
   "cell_type": "markdown",
   "metadata": {},
   "source": [
    "Update part:\n",
    "\n",
    "$$\n",
    "g_k = \\frac{p_k \\ c}{c \\ p_k \\ c + r} \\\\\n",
    "\\hat{x}_k \\leftarrow \\hat{x}_k + g_k \\big( z_k - c \\ \\hat{x}_k \\big) \\\\\n",
    "p_k \\leftarrow \\big( 1 - g_k \\ c \\big) p_k\n",
    "$$"
   ]
  },
  {
   "cell_type": "markdown",
   "metadata": {},
   "source": [
    "### Introduce Linear Algebra representation\n",
    "\n",
    "x : current system status (using d,v,a)  \n",
    "t : timestep  \n",
    "d : distance  \n",
    "v : velocity  \n",
    "a : acceleration\n",
    "\n",
    "$$\n",
    "\\vec{x}_k \\equiv \\begin{bmatrix}\n",
    "d_k \\text{ : distance} \\\\\n",
    "v_k \\text{ : velocity} \\\\\n",
    "a_k \\text{ : acceleration}\n",
    "\\end{bmatrix}\n",
    "= \n",
    "\\underbrace{\n",
    "\\begin{bmatrix}\n",
    "1 & t & 0 \\\\\n",
    "0 & 1 & t \\\\\n",
    "0 & 0 & 1\n",
    "\\end{bmatrix}\n",
    "}_{\\text{ matrix A }}\n",
    "\\ \\ \n",
    "\\underbrace{\n",
    "\\begin{bmatrix}\n",
    "d_{k-1} \\\\ v_{k-1} \\\\ a_{k-1}\n",
    "\\end{bmatrix}\n",
    "}_{x_{k-1}}\n",
    "$$\n",
    "\n",
    "Equations become:\n",
    "\n",
    "### Model :\n",
    "\n",
    "$\n",
    "x_k = A \\ x_{k-1} + B \\ u_k \\\\\n",
    "z_k = C \\ x_k + v_k\n",
    "$"
   ]
  },
  {
   "cell_type": "markdown",
   "metadata": {},
   "source": [
    "### Predict :\n",
    "\n",
    "$$\n",
    "x_k = A \\ x_{k-1} + B \\ u_k \\\\\n",
    "P_k = A \\ P_{k-1} \\ A^T\n",
    "$$\n",
    "\n",
    "### Update :\n",
    "\n",
    "$$\n",
    "G_k = P_k \\ C^T \\ \\big( C P_k C^T + R \\big)^{-1} \\\\\n",
    "x_k \\leftarrow x_k + G_k \\ \\big( z_k - C \\ x_k \\big) \\\\\n",
    "P_k \\leftarrow \\big( I - G_k C \\big) \\ P_k\n",
    "$$"
   ]
  }
 ],
 "metadata": {
  "kernelspec": {
   "display_name": "p3lab",
   "language": "python",
   "name": "p3lab"
  },
  "language_info": {
   "codemirror_mode": {
    "name": "ipython",
    "version": 3
   },
   "file_extension": ".py",
   "mimetype": "text/x-python",
   "name": "python",
   "nbconvert_exporter": "python",
   "pygments_lexer": "ipython3",
   "version": "3.6.1"
  }
 },
 "nbformat": 4,
 "nbformat_minor": 2
}
