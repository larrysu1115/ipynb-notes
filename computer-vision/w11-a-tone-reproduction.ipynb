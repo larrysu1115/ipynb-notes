{
 "cells": [
  {
   "cell_type": "markdown",
   "metadata": {},
   "source": [
    "# Tone Reproduction\n",
    "\n",
    "將HDR呈現到 monitor 時候，如何保留各種亮度的細節。\n",
    "\n",
    "Hermann Grid Illusion"
   ]
  },
  {
   "cell_type": "markdown",
   "metadata": {},
   "source": [
    "## Space Varying Tone Mapping\n",
    "\n",
    "L : HDR  \n",
    "V : local averaging  \n",
    "H : detail LDR\n",
    "\n",
    "$\n",
    "L = V \\times H \\\\\n",
    "\\begin{align}\n",
    "L' & = H \\times V' \\\\\n",
    "   & = \\big( \\frac{L}{V} \\big) \\times \\big( \\frac{V}{1+V} \\big) \\\\\n",
    "   & = \\frac{L}{1+V}\n",
    "\\end{align}\n",
    "$\n",
    "\n",
    "原本是每個像素只看自己的亮度做壓縮。變動後變成每個像素對 附近像素亮度平均值 做壓縮。"
   ]
  },
  {
   "cell_type": "markdown",
   "metadata": {},
   "source": [
    "### Halo 光暈\n",
    "\n",
    "在 暗與亮 交接的地方，會出現一圈亮的光暈。\n",
    "\n",
    "讓 local averaging 可以保留 edge, 是一種解法: multi-scale center surround\n",
    "\n",
    "### Photographic Tone Reproduction\n",
    "\n",
    "Reinhard et al., 2002"
   ]
  },
  {
   "cell_type": "markdown",
   "metadata": {},
   "source": [
    "### Dodging and Burning\n",
    "\n",
    "在利用底片 沖洗相片的過程，利用局部遮光，遮光時間長短，來調整每個部位的亮度，與細節呈現。\n",
    "\n",
    "Circular Symmetric Gaussian : 調整 Gaussian 平均的半徑\n",
    "\n",
    "Convolution"
   ]
  }
 ],
 "metadata": {
  "kernelspec": {
   "display_name": "p3cv",
   "language": "python",
   "name": "p3cv"
  },
  "language_info": {
   "codemirror_mode": {
    "name": "ipython",
    "version": 3
   },
   "file_extension": ".py",
   "mimetype": "text/x-python",
   "name": "python",
   "nbconvert_exporter": "python",
   "pygments_lexer": "ipython3",
   "version": "3.6.2"
  }
 },
 "nbformat": 4,
 "nbformat_minor": 2
}
