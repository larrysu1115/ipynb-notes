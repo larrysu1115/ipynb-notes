{
 "cells": [
  {
   "cell_type": "markdown",
   "metadata": {},
   "source": [
    "# Colorization"
   ]
  },
  {
   "cell_type": "markdown",
   "metadata": {},
   "source": [
    "Paper: Colorization using optimization\n",
    "\n",
    "- Levin, Lischinski, and Weiss\n",
    "- SIGGRAPH 2004\n",
    "- Useful skills of linear algebra"
   ]
  },
  {
   "cell_type": "markdown",
   "metadata": {},
   "source": [
    "RGB to NTSC - YUV color space.\n",
    "\n",
    "Y: Lumia, UV: channel chrominince.\n",
    "\n",
    "YIQ color space.\n",
    "\n",
    "input: Y  \n",
    "output: UV\n",
    "\n",
    "假設在一個範圍內，如 5x5 的區塊 $ \\Omega_k $ 中，下面的式子成立: \n",
    "\n",
    "$ U_i \\simeq a_k Y_i + b_k $\n",
    "\n",
    "目標是不斷調整 $ a_k, b_k $ 的值，獲得最小的差異:\n",
    "\n",
    "$$\n",
    "J \\big( U \\big) = \\sum_k \\Big( min_{a_k, b_k} \\sum_{i \\in \\Omega_k} \\big( U_i - a_k Y_i - b_k \\big) \\Big)\n",
    "$$\n",
    "\n",
    "k 是一共切分了多少個 $ \\Omega_k $ 的小區塊  \n",
    "i 是在一個小區塊中，有多少個像素\n",
    "\n",
    "限制是塗定的小塊顏色: \n",
    "\n",
    "$$\n",
    "U_i = u_i\n",
    "$$\n"
   ]
  },
  {
   "cell_type": "markdown",
   "metadata": {},
   "source": [
    "將上式用 5x5 的例子來看，就是:\n",
    "\n",
    "$$\n",
    "\\Big\\Vert \\ \n",
    "\\begin{bmatrix}\n",
    "Y_1 & 1 \\\\ Y_2 & 1 \\\\ \\vdots & \\\\ Y_{25} & 1\n",
    "\\end{bmatrix} \\ \\ \n",
    "\\begin{bmatrix}\n",
    "a_k \\\\ b_k\n",
    "\\end{bmatrix} \\ \n",
    "- \\ \n",
    "\\begin{bmatrix}\n",
    "U_1 \\\\ U_2 \\\\ \\vdots \\\\ U_{25}\n",
    "\\end{bmatrix}\n",
    "\\ \\Big\\Vert^2\n",
    "$$\n",
    "\n",
    "note: 向量的平方 2-Norm 是:\n",
    "$ \\Vert \\vec{x} \\Vert = \\sqrt{ x_1^2 + x_2^2 + \\cdots x_{25}^2 } $\n",
    "\n",
    "Let: \n",
    "\n",
    "$$\n",
    "P_k = \\begin{bmatrix} Y_1 & 1 \\\\ Y_2 & 1 \\\\ \\vdots & \\\\ Y_{25} & 1 \\end{bmatrix}\n",
    "\\ \\ \\ \n",
    "\\bar{U_k} = \\begin{bmatrix} U_1 \\\\ U_2 \\\\ \\vdots \\\\ U_{25}\\end{bmatrix}\n",
    "$$\n",
    "\n",
    "to minimize\n",
    "\n",
    "$$\n",
    "Q_k \\big( a_k, b_k \\big) =\n",
    "\\Big\\Vert \\ \\ \n",
    "P_k \\begin{bmatrix} a_k \\\\ b_k \\end{bmatrix} - \\bar{U_k}\n",
    "\\ \\ \\Big\\Vert^2\n",
    "$$\n",
    "\n",
    "is equivalent to solve:\n",
    "\n",
    "$ \n",
    "P_k^T \\ P_k \\ \\begin{bmatrix} a_k \\\\ b_k \\end{bmatrix}\n",
    "= P_k^T \\bar{U_k} \n",
    "$\n",
    "\n",
    "the least square solution:  \n",
    "*: optimized\n",
    "\n",
    "$ \n",
    "\\begin{bmatrix} a_k^* \\\\ b_k^* \\end{bmatrix} = \n",
    "\\underbrace{\n",
    "\\big( P_k^T \\ P_k \\big)^{-1} \\ P_k^T\n",
    "}_{\\text{pseudo-inverse}}\n",
    "\\bar{U_k}\n",
    "$"
   ]
  },
  {
   "cell_type": "markdown",
   "metadata": {},
   "source": [
    "利用:  \n",
    "$ (AB)^T = B^T A^T $  \n",
    "$ \\Vert \\ g \\  \\Vert^2 = g^T \\ g $\n",
    "\n",
    "展開:\n",
    "\n",
    "$\n",
    "\\begin{bmatrix} a_k^* \\\\ b_k^* \\end{bmatrix} = \n",
    "\\big( P_k^T \\ P_k \\big)^{-1} \\ P_k^T\n",
    "\\bar{U_k} \\\\\n",
    "Q_k \\big( a_k, b_k \\big) =\n",
    "\\Big\\Vert \\ \\ \n",
    "P_k \\big( P_k^T \\ P_k \\big)^{-1} \\ P_k^T \\bar{U_k} - \\bar{U_k}\n",
    "\\ \\ \\Big\\Vert^2 \\\\\n",
    "Q_k \\big( a_k, b_k \\big) =\n",
    "\\Big\\Vert \\ \\ \n",
    "\\Big( P_k \\big( P_k^T \\ P_k \\big)^{-1} \\ P_k^T - I \\Big) \\bar{U_k}\n",
    "\\ \\ \\Big\\Vert^2\n",
    "$"
   ]
  },
  {
   "cell_type": "markdown",
   "metadata": {},
   "source": [
    "$\n",
    "Q_k \\big( a_k, b_k \\big) =\n",
    "\\bar{U_k}^T \n",
    "\\Big( P_k \\big( P_k^T \\ P_k \\big)^{-1} \\ P_k^T - I \\Big)^T \\ \n",
    "\\Big( P_k \\big( P_k^T \\ P_k \\big)^{-1} \\ P_k^T - I \\Big) \\ \n",
    "\\bar{U_k} \\\\\n",
    "\\to P_k \\big( P_k^T \\ P_k \\big)^{-1} \\ P_k^T \\ \\ P_k \\big( P_k^T \\ P_k \\big)^{-1} \\ P_k^T\n",
    "- 2 P_k \\big( P_k^T \\ P_k \\big)^{-1} \\ P_k^T + I \\\\\n",
    "= I - P_k \\big( P_k^T \\ P_k \\big)^{-1} \\ P_k^T \\\\\n",
    "\\\\\n",
    "Q_k \\big( a_k, b_k \\big) \\\\\n",
    "= \\bar{U_k}^T \\Big( I - P_k \\big( P_k^T \\ P_k \\big)^{-1} \\ P_k^T \\Big) \\bar{U_k} \\\\\n",
    "= \\bar{U_k}^T L_k \\bar{U_k}\n",
    "$"
   ]
  },
  {
   "cell_type": "markdown",
   "metadata": {},
   "source": [
    "Rewrite the sub-cost\n",
    "\n",
    "$ L_k = \\Big( I - P_k \\big( P_k^T \\ P_k \\big)^{-1} \\ P_k^T \\Big) $ is a matrix of size $ \\vert \\Omega \\vert_k $ by $ \\vert \\Omega \\vert_k $"
   ]
  },
  {
   "cell_type": "markdown",
   "metadata": {},
   "source": [
    "$$\n",
    "A x = b\n",
    "$$\n",
    "\n",
    "$$\n",
    "\\begin{bmatrix}\n",
    "L & c \\\\\n",
    "c^T & 0 \n",
    "\\end{bmatrix}\n",
    "U = \\begin{bmatrix}\n",
    "0 \\\\ u_i\n",
    "\\end{bmatrix}\n",
    "$$"
   ]
  }
 ],
 "metadata": {
  "kernelspec": {
   "display_name": "p3cv",
   "language": "python",
   "name": "p3cv"
  },
  "language_info": {
   "codemirror_mode": {
    "name": "ipython",
    "version": 3
   },
   "file_extension": ".py",
   "mimetype": "text/x-python",
   "name": "python",
   "nbconvert_exporter": "python",
   "pygments_lexer": "ipython3",
   "version": "3.6.2"
  }
 },
 "nbformat": 4,
 "nbformat_minor": 2
}
