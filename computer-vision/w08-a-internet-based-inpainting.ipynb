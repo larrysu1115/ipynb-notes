{
 "cells": [
  {
   "cell_type": "markdown",
   "metadata": {},
   "source": [
    "# Internet Based Inpainting"
   ]
  },
  {
   "cell_type": "markdown",
   "metadata": {},
   "source": [
    "## Homography\n",
    "\n",
    "視角，平面轉換\n",
    "\n",
    "亮度校正\n",
    "\n",
    "- RANSAC\n",
    "- HarrisAffine, SIFT\n",
    "\n",
    "- Gradient Domain Editing \n",
    "- Poisson Blending\n",
    "\n",
    "### Well Registered Pixels\n",
    "\n",
    "- Normalized Cross-Correlation (NCC)\n",
    "- Potts potential (相鄰像素)\n",
    "\n",
    "MRF using NCC, Potts potential\n",
    "\n",
    "solved by graph-cuts"
   ]
  }
 ],
 "metadata": {
  "kernelspec": {
   "display_name": "p3lab",
   "language": "python",
   "name": "p3lab"
  },
  "language_info": {
   "codemirror_mode": {
    "name": "ipython",
    "version": 3
   },
   "file_extension": ".py",
   "mimetype": "text/x-python",
   "name": "python",
   "nbconvert_exporter": "python",
   "pygments_lexer": "ipython3",
   "version": "3.6.1"
  }
 },
 "nbformat": 4,
 "nbformat_minor": 2
}
